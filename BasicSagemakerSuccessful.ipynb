{
 "cells": [
  {
   "cell_type": "code",
   "execution_count": 1,
   "metadata": {},
   "outputs": [],
   "source": [
    "import pandas as pd\n",
    "import sagemaker\n",
    "from sklearn.model_selection import train_test_split\n",
    "import numpy as np\n",
    "import boto3\n",
    "from sagemaker.estimator import Estimator\n",
    "# from sagemaker.amazon.amazon_estimator import get_image_uri"
   ]
  },
  {
   "cell_type": "code",
   "execution_count": 2,
   "metadata": {},
   "outputs": [],
   "source": [
    "from sagemaker import image_uris"
   ]
  },
  {
   "cell_type": "code",
   "execution_count": 3,
   "metadata": {},
   "outputs": [
    {
     "data": {
      "text/html": [
       "<div>\n",
       "<style scoped>\n",
       "    .dataframe tbody tr th:only-of-type {\n",
       "        vertical-align: middle;\n",
       "    }\n",
       "\n",
       "    .dataframe tbody tr th {\n",
       "        vertical-align: top;\n",
       "    }\n",
       "\n",
       "    .dataframe thead th {\n",
       "        text-align: right;\n",
       "    }\n",
       "</style>\n",
       "<table border=\"1\" class=\"dataframe\">\n",
       "  <thead>\n",
       "    <tr style=\"text-align: right;\">\n",
       "      <th></th>\n",
       "      <th>YearsExperience</th>\n",
       "      <th>Salary</th>\n",
       "    </tr>\n",
       "  </thead>\n",
       "  <tbody>\n",
       "    <tr>\n",
       "      <th>0</th>\n",
       "      <td>1.1</td>\n",
       "      <td>39343</td>\n",
       "    </tr>\n",
       "    <tr>\n",
       "      <th>1</th>\n",
       "      <td>1.3</td>\n",
       "      <td>46205</td>\n",
       "    </tr>\n",
       "    <tr>\n",
       "      <th>2</th>\n",
       "      <td>1.5</td>\n",
       "      <td>37731</td>\n",
       "    </tr>\n",
       "    <tr>\n",
       "      <th>3</th>\n",
       "      <td>2.0</td>\n",
       "      <td>43525</td>\n",
       "    </tr>\n",
       "    <tr>\n",
       "      <th>4</th>\n",
       "      <td>2.2</td>\n",
       "      <td>39891</td>\n",
       "    </tr>\n",
       "  </tbody>\n",
       "</table>\n",
       "</div>"
      ],
      "text/plain": [
       "   YearsExperience  Salary\n",
       "0              1.1   39343\n",
       "1              1.3   46205\n",
       "2              1.5   37731\n",
       "3              2.0   43525\n",
       "4              2.2   39891"
      ]
     },
     "execution_count": 3,
     "metadata": {},
     "output_type": "execute_result"
    }
   ],
   "source": [
    "df=pd.read_csv('salary.csv')\n",
    "df.head()"
   ]
  },
  {
   "cell_type": "code",
   "execution_count": 4,
   "metadata": {},
   "outputs": [],
   "source": [
    "X,y=df['YearsExperience'],df['Salary']"
   ]
  },
  {
   "cell_type": "code",
   "execution_count": 5,
   "metadata": {},
   "outputs": [],
   "source": [
    "X=np.array(X).astype('float32')\n",
    "y=np.array(y).astype('float32')"
   ]
  },
  {
   "cell_type": "code",
   "execution_count": 6,
   "metadata": {},
   "outputs": [],
   "source": [
    "X,y=X.reshape(35,1),y.reshape(35,1)"
   ]
  },
  {
   "cell_type": "code",
   "execution_count": 7,
   "metadata": {},
   "outputs": [],
   "source": [
    "X_train,X_test,y_train,y_test=train_test_split(X,y,test_size=0.3)"
   ]
  },
  {
   "cell_type": "code",
   "execution_count": 8,
   "metadata": {},
   "outputs": [],
   "source": [
    "container=image_uris.retrieve('tensorflow',\n",
    "                             boto3.Session().region_name,\n",
    "                              version='2.1',\n",
    "                              py_version='py3',\n",
    "                              instance_type='ml.t3.medium',\n",
    "                          \n",
    "                              image_scope='training')"
   ]
  },
  {
   "cell_type": "code",
   "execution_count": 51,
   "metadata": {},
   "outputs": [],
   "source": [
    "linear=Estimator(linearimageuri,sagemaker.get_execution_role(),1,instance_type='ml.c5.2xlarge',sagemaker_session=sagemaker.Session())"
   ]
  },
  {
   "cell_type": "code",
   "execution_count": 54,
   "metadata": {},
   "outputs": [],
   "source": [
    "linear.set_hyperparameters(feature_dim=1,\n",
    "                          predictor_type='regressor',\n",
    "                          mini_batch_size=5,\n",
    "                          epochs=3,\n",
    "                          num_models=10,\n",
    "                          loss='squared_loss')"
   ]
  },
  {
   "cell_type": "code",
   "execution_count": 33,
   "metadata": {},
   "outputs": [],
   "source": [
    "linearimageuri='382416733822.dkr.ecr.us-east-1.amazonaws.com/linear-learner:latest'"
   ]
  },
  {
   "cell_type": "code",
   "execution_count": 36,
   "metadata": {},
   "outputs": [],
   "source": [
    "import io\n",
    "import sagemaker.amazon.common as smac"
   ]
  },
  {
   "cell_type": "code",
   "execution_count": 47,
   "metadata": {},
   "outputs": [
    {
     "data": {
      "text/plain": [
       "0"
      ]
     },
     "execution_count": 47,
     "metadata": {},
     "output_type": "execute_result"
    }
   ],
   "source": [
    "buf=io.BytesIO()\n",
    "smac.write_numpy_to_dense_tensor(buf,X_train,y_train.reshape(-1))\n",
    "buf.seek(0)"
   ]
  },
  {
   "cell_type": "code",
   "execution_count": 48,
   "metadata": {},
   "outputs": [],
   "source": [
    "boto3.resource('s3').Bucket('salaryestimator').Object(os.path.join('traindata','linearlearner')).upload_fileobj(buf)"
   ]
  },
  {
   "cell_type": "code",
   "execution_count": 44,
   "metadata": {},
   "outputs": [],
   "source": [
    "import os"
   ]
  },
  {
   "cell_type": "code",
   "execution_count": 55,
   "metadata": {},
   "outputs": [
    {
     "name": "stdout",
     "output_type": "stream",
     "text": [
      "2020-10-15 03:01:05 Starting - Starting the training job...\n",
      "2020-10-15 03:01:08 Starting - Launching requested ML instances......\n",
      "2020-10-15 03:02:31 Starting - Preparing the instances for training.........\n",
      "2020-10-15 03:03:54 Downloading - Downloading input data\n",
      "2020-10-15 03:03:54 Training - Downloading the training image..\u001b[34mDocker entrypoint called with argument(s): train\u001b[0m\n",
      "\u001b[34mRunning default environment configuration script\u001b[0m\n",
      "\u001b[34m[10/15/2020 03:04:12 INFO 140026608404288] Reading default configuration from /opt/amazon/lib/python2.7/site-packages/algorithm/resources/default-input.json: {u'loss_insensitivity': u'0.01', u'epochs': u'15', u'feature_dim': u'auto', u'init_bias': u'0.0', u'lr_scheduler_factor': u'auto', u'num_calibration_samples': u'10000000', u'accuracy_top_k': u'3', u'_num_kv_servers': u'auto', u'use_bias': u'true', u'num_point_for_scaler': u'10000', u'_log_level': u'info', u'quantile': u'0.5', u'bias_lr_mult': u'auto', u'lr_scheduler_step': u'auto', u'init_method': u'uniform', u'init_sigma': u'0.01', u'lr_scheduler_minimum_lr': u'auto', u'target_recall': u'0.8', u'num_models': u'auto', u'early_stopping_patience': u'3', u'momentum': u'auto', u'unbias_label': u'auto', u'wd': u'auto', u'optimizer': u'auto', u'_tuning_objective_metric': u'', u'early_stopping_tolerance': u'0.001', u'learning_rate': u'auto', u'_kvstore': u'auto', u'normalize_data': u'true', u'binary_classifier_model_selection_criteria': u'accuracy', u'use_lr_scheduler': u'true', u'target_precision': u'0.8', u'unbias_data': u'auto', u'init_scale': u'0.07', u'bias_wd_mult': u'auto', u'f_beta': u'1.0', u'mini_batch_size': u'1000', u'huber_delta': u'1.0', u'num_classes': u'1', u'beta_1': u'auto', u'loss': u'auto', u'beta_2': u'auto', u'_enable_profiler': u'false', u'normalize_label': u'auto', u'_num_gpus': u'auto', u'balance_multiclass_weights': u'false', u'positive_example_weight_mult': u'1.0', u'l1': u'auto', u'margin': u'1.0'}\u001b[0m\n",
      "\u001b[34m[10/15/2020 03:04:12 INFO 140026608404288] Merging with provided configuration from /opt/ml/input/config/hyperparameters.json: {u'loss': u'squared_loss', u'mini_batch_size': u'5', u'predictor_type': u'regressor', u'epochs': u'3', u'feature_dim': u'1', u'num_models': u'10'}\u001b[0m\n",
      "\u001b[34m[10/15/2020 03:04:12 INFO 140026608404288] Final configuration: {u'loss_insensitivity': u'0.01', u'epochs': u'3', u'feature_dim': u'1', u'init_bias': u'0.0', u'lr_scheduler_factor': u'auto', u'num_calibration_samples': u'10000000', u'accuracy_top_k': u'3', u'_num_kv_servers': u'auto', u'use_bias': u'true', u'num_point_for_scaler': u'10000', u'_log_level': u'info', u'quantile': u'0.5', u'bias_lr_mult': u'auto', u'lr_scheduler_step': u'auto', u'init_method': u'uniform', u'init_sigma': u'0.01', u'lr_scheduler_minimum_lr': u'auto', u'target_recall': u'0.8', u'num_models': u'10', u'early_stopping_patience': u'3', u'momentum': u'auto', u'unbias_label': u'auto', u'wd': u'auto', u'optimizer': u'auto', u'_tuning_objective_metric': u'', u'early_stopping_tolerance': u'0.001', u'learning_rate': u'auto', u'_kvstore': u'auto', u'normalize_data': u'true', u'binary_classifier_model_selection_criteria': u'accuracy', u'use_lr_scheduler': u'true', u'target_precision': u'0.8', u'unbias_data': u'auto', u'init_scale': u'0.07', u'bias_wd_mult': u'auto', u'f_beta': u'1.0', u'mini_batch_size': u'5', u'huber_delta': u'1.0', u'num_classes': u'1', u'predictor_type': u'regressor', u'beta_1': u'auto', u'loss': u'squared_loss', u'beta_2': u'auto', u'_enable_profiler': u'false', u'normalize_label': u'auto', u'_num_gpus': u'auto', u'balance_multiclass_weights': u'false', u'positive_example_weight_mult': u'1.0', u'l1': u'auto', u'margin': u'1.0'}\u001b[0m\n",
      "\u001b[34m[10/15/2020 03:04:12 WARNING 140026608404288] Loggers have already been setup.\u001b[0m\n",
      "\u001b[34mProcess 1 is a worker.\u001b[0m\n",
      "\u001b[34m[10/15/2020 03:04:12 INFO 140026608404288] Using default worker.\u001b[0m\n",
      "\u001b[34m[10/15/2020 03:04:13 INFO 140026608404288] Checkpoint loading and saving are disabled.\u001b[0m\n",
      "\u001b[34m[2020-10-15 03:04:13.195] [tensorio] [info] epoch_stats={\"data_pipeline\": \"/opt/ml/input/data/train\", \"epoch\": 0, \"duration\": 11, \"num_examples\": 1, \"num_bytes\": 240}\u001b[0m\n",
      "\u001b[34m[10/15/2020 03:04:13 INFO 140026608404288] Create Store: local\u001b[0m\n",
      "\u001b[34m[2020-10-15 03:04:13.229] [tensorio] [info] epoch_stats={\"data_pipeline\": \"/opt/ml/input/data/train\", \"epoch\": 1, \"duration\": 33, \"num_examples\": 5, \"num_bytes\": 1152}\u001b[0m\n",
      "\u001b[34m[10/15/2020 03:04:13 INFO 140026608404288] Scaler algorithm parameters\n",
      " <algorithm.scaler.ScalerAlgorithmStable object at 0x7f5a24166150>\u001b[0m\n",
      "\u001b[34m[10/15/2020 03:04:13 INFO 140026608404288] Scaling model computed with parameters:\n",
      " {'stdev_weight': \u001b[0m\n",
      "\u001b[34m[3.1703746]\u001b[0m\n",
      "\u001b[34m<NDArray 1 @cpu(0)>, 'stdev_label': \u001b[0m\n",
      "\u001b[34m[29346.895]\u001b[0m\n",
      "\u001b[34m<NDArray 1 @cpu(0)>, 'mean_label': \u001b[0m\n",
      "\u001b[34m[77777.55]\u001b[0m\n",
      "\u001b[34m<NDArray 1 @cpu(0)>, 'mean_weight': \u001b[0m\n",
      "\u001b[34m[5.735]\u001b[0m\n",
      "\u001b[34m<NDArray 1 @cpu(0)>}\u001b[0m\n",
      "\u001b[34m[10/15/2020 03:04:13 INFO 140026608404288] nvidia-smi took: 0.0251288414001 secs to identify 0 gpus\u001b[0m\n",
      "\u001b[34m[10/15/2020 03:04:13 INFO 140026608404288] Number of GPUs being used: 0\u001b[0m\n",
      "\u001b[34m#metrics {\"Metrics\": {\"Max Batches Seen Between Resets\": {\"count\": 1, \"max\": 5, \"sum\": 5.0, \"min\": 5}, \"Number of Batches Since Last Reset\": {\"count\": 1, \"max\": 0, \"sum\": 0.0, \"min\": 0}, \"Number of Records Since Last Reset\": {\"count\": 1, \"max\": 0, \"sum\": 0.0, \"min\": 0}, \"Total Batches Seen\": {\"count\": 1, \"max\": 6, \"sum\": 6.0, \"min\": 6}, \"Total Records Seen\": {\"count\": 1, \"max\": 29, \"sum\": 29.0, \"min\": 29}, \"Max Records Seen Between Resets\": {\"count\": 1, \"max\": 24, \"sum\": 24.0, \"min\": 24}, \"Reset Count\": {\"count\": 1, \"max\": 2, \"sum\": 2.0, \"min\": 2}}, \"EndTime\": 1602731053.278464, \"Dimensions\": {\"Host\": \"algo-1\", \"Meta\": \"init_train_data_iter\", \"Operation\": \"training\", \"Algorithm\": \"Linear Learner\"}, \"StartTime\": 1602731053.278427}\n",
      "\u001b[0m\n",
      "\u001b[34m[2020-10-15 03:04:13.312] [tensorio] [info] epoch_stats={\"data_pipeline\": \"/opt/ml/input/data/train\", \"epoch\": 4, \"duration\": 33, \"num_examples\": 5, \"num_bytes\": 1152}\u001b[0m\n",
      "\u001b[34m#metrics {\"Metrics\": {\"train_mse_objective\": {\"count\": 1, \"max\": 0.9913844347000123, \"sum\": 0.9913844347000123, \"min\": 0.9913844347000123}}, \"EndTime\": 1602731053.31208, \"Dimensions\": {\"model\": 0, \"Host\": \"algo-1\", \"Operation\": \"training\", \"Algorithm\": \"Linear Learner\", \"epoch\": 0}, \"StartTime\": 1602731053.312037}\n",
      "\u001b[0m\n",
      "\u001b[34m#metrics {\"Metrics\": {\"train_mse_objective\": {\"count\": 1, \"max\": 0.9793632745742797, \"sum\": 0.9793632745742797, \"min\": 0.9793632745742797}}, \"EndTime\": 1602731053.31215, \"Dimensions\": {\"model\": 1, \"Host\": \"algo-1\", \"Operation\": \"training\", \"Algorithm\": \"Linear Learner\", \"epoch\": 0}, \"StartTime\": 1602731053.312141}\n",
      "\u001b[0m\n",
      "\u001b[34m#metrics {\"Metrics\": {\"train_mse_objective\": {\"count\": 1, \"max\": 0.9463602900505066, \"sum\": 0.9463602900505066, \"min\": 0.9463602900505066}}, \"EndTime\": 1602731053.312181, \"Dimensions\": {\"model\": 2, \"Host\": \"algo-1\", \"Operation\": \"training\", \"Algorithm\": \"Linear Learner\", \"epoch\": 0}, \"StartTime\": 1602731053.312174}\n",
      "\u001b[0m\n",
      "\u001b[34m#metrics {\"Metrics\": {\"train_mse_objective\": {\"count\": 1, \"max\": 0.9121774196624756, \"sum\": 0.9121774196624756, \"min\": 0.9121774196624756}}, \"EndTime\": 1602731053.31221, \"Dimensions\": {\"model\": 3, \"Host\": \"algo-1\", \"Operation\": \"training\", \"Algorithm\": \"Linear Learner\", \"epoch\": 0}, \"StartTime\": 1602731053.312204}\n",
      "\u001b[0m\n",
      "\u001b[34m#metrics {\"Metrics\": {\"train_mse_objective\": {\"count\": 1, \"max\": 1.3476798057556152, \"sum\": 1.3476798057556152, \"min\": 1.3476798057556152}}, \"EndTime\": 1602731053.312237, \"Dimensions\": {\"model\": 4, \"Host\": \"algo-1\", \"Operation\": \"training\", \"Algorithm\": \"Linear Learner\", \"epoch\": 0}, \"StartTime\": 1602731053.31223}\n",
      "\u001b[0m\n",
      "\u001b[34m#metrics {\"Metrics\": {\"train_mse_objective\": {\"count\": 1, \"max\": 1.2760334610939026, \"sum\": 1.2760334610939026, \"min\": 1.2760334610939026}}, \"EndTime\": 1602731053.312264, \"Dimensions\": {\"model\": 5, \"Host\": \"algo-1\", \"Operation\": \"training\", \"Algorithm\": \"Linear Learner\", \"epoch\": 0}, \"StartTime\": 1602731053.312258}\n",
      "\u001b[0m\n",
      "\u001b[34m#metrics {\"Metrics\": {\"train_mse_objective\": {\"count\": 1, \"max\": 1.3642950177192688, \"sum\": 1.3642950177192688, \"min\": 1.3642950177192688}}, \"EndTime\": 1602731053.312292, \"Dimensions\": {\"model\": 6, \"Host\": \"algo-1\", \"Operation\": \"training\", \"Algorithm\": \"Linear Learner\", \"epoch\": 0}, \"StartTime\": 1602731053.312286}\n",
      "\u001b[0m\n",
      "\u001b[34m#metrics {\"Metrics\": {\"train_mse_objective\": {\"count\": 1, \"max\": 1.278983223438263, \"sum\": 1.278983223438263, \"min\": 1.278983223438263}}, \"EndTime\": 1602731053.312323, \"Dimensions\": {\"model\": 7, \"Host\": \"algo-1\", \"Operation\": \"training\", \"Algorithm\": \"Linear Learner\", \"epoch\": 0}, \"StartTime\": 1602731053.312315}\n",
      "\u001b[0m\n",
      "\u001b[34m#metrics {\"Metrics\": {\"train_mse_objective\": {\"count\": 1, \"max\": 1.0259695887565612, \"sum\": 1.0259695887565612, \"min\": 1.0259695887565612}}, \"EndTime\": 1602731053.312353, \"Dimensions\": {\"model\": 8, \"Host\": \"algo-1\", \"Operation\": \"training\", \"Algorithm\": \"Linear Learner\", \"epoch\": 0}, \"StartTime\": 1602731053.312346}\n",
      "\u001b[0m\n",
      "\u001b[34m#metrics {\"Metrics\": {\"train_mse_objective\": {\"count\": 1, \"max\": 0.9710215568542481, \"sum\": 0.9710215568542481, \"min\": 0.9710215568542481}}, \"EndTime\": 1602731053.31238, \"Dimensions\": {\"model\": 9, \"Host\": \"algo-1\", \"Operation\": \"training\", \"Algorithm\": \"Linear Learner\", \"epoch\": 0}, \"StartTime\": 1602731053.312374}\n",
      "\u001b[0m\n",
      "\u001b[34m[10/15/2020 03:04:13 INFO 140026608404288] #quality_metric: host=algo-1, epoch=0, train mse_objective <loss>=0.9913844347\u001b[0m\n",
      "\u001b[34m[10/15/2020 03:04:13 INFO 140026608404288] #early_stopping_criteria_metric: host=algo-1, epoch=0, criteria=mse_objective, value=0.912177419662\u001b[0m\n",
      "\u001b[34m[10/15/2020 03:04:13 INFO 140026608404288] Epoch 0: Loss improved. Updating best model\u001b[0m\n",
      "\u001b[34m[10/15/2020 03:04:13 INFO 140026608404288] Saving model for epoch: 0\u001b[0m\n",
      "\u001b[34m[10/15/2020 03:04:13 INFO 140026608404288] Saved checkpoint to \"/tmp/tmpQn3_AF/mx-mod-0000.params\"\u001b[0m\n",
      "\u001b[34m[10/15/2020 03:04:13 INFO 140026608404288] #progress_metric: host=algo-1, completed 33 % of epochs\u001b[0m\n",
      "\u001b[34m#metrics {\"Metrics\": {\"Max Batches Seen Between Resets\": {\"count\": 1, \"max\": 5, \"sum\": 5.0, \"min\": 5}, \"Number of Batches Since Last Reset\": {\"count\": 1, \"max\": 5, \"sum\": 5.0, \"min\": 5}, \"Number of Records Since Last Reset\": {\"count\": 1, \"max\": 24, \"sum\": 24.0, \"min\": 24}, \"Total Batches Seen\": {\"count\": 1, \"max\": 11, \"sum\": 11.0, \"min\": 11}, \"Total Records Seen\": {\"count\": 1, \"max\": 53, \"sum\": 53.0, \"min\": 53}, \"Max Records Seen Between Resets\": {\"count\": 1, \"max\": 24, \"sum\": 24.0, \"min\": 24}, \"Reset Count\": {\"count\": 1, \"max\": 3, \"sum\": 3.0, \"min\": 3}}, \"EndTime\": 1602731053.321473, \"Dimensions\": {\"Host\": \"algo-1\", \"Meta\": \"training_data_iter\", \"Operation\": \"training\", \"Algorithm\": \"Linear Learner\", \"epoch\": 0}, \"StartTime\": 1602731053.2787}\n",
      "\u001b[0m\n",
      "\u001b[34m[10/15/2020 03:04:13 INFO 140026608404288] #throughput_metric: host=algo-1, train throughput=559.962262472 records/second\u001b[0m\n",
      "\u001b[34m[2020-10-15 03:04:13.339] [tensorio] [info] epoch_stats={\"data_pipeline\": \"/opt/ml/input/data/train\", \"epoch\": 6, \"duration\": 17, \"num_examples\": 5, \"num_bytes\": 1152}\u001b[0m\n",
      "\u001b[34m#metrics {\"Metrics\": {\"train_mse_objective\": {\"count\": 1, \"max\": 0.9415527701377868, \"sum\": 0.9415527701377868, \"min\": 0.9415527701377868}}, \"EndTime\": 1602731053.339422, \"Dimensions\": {\"model\": 0, \"Host\": \"algo-1\", \"Operation\": \"training\", \"Algorithm\": \"Linear Learner\", \"epoch\": 1}, \"StartTime\": 1602731053.339383}\n",
      "\u001b[0m\n",
      "\u001b[34m#metrics {\"Metrics\": {\"train_mse_objective\": {\"count\": 1, \"max\": 0.9298243522644043, \"sum\": 0.9298243522644043, \"min\": 0.9298243522644043}}, \"EndTime\": 1602731053.339482, \"Dimensions\": {\"model\": 1, \"Host\": \"algo-1\", \"Operation\": \"training\", \"Algorithm\": \"Linear Learner\", \"epoch\": 1}, \"StartTime\": 1602731053.339473}\n",
      "\u001b[0m\n",
      "\u001b[34m#metrics {\"Metrics\": {\"train_mse_objective\": {\"count\": 1, \"max\": 0.8976345658302307, \"sum\": 0.8976345658302307, \"min\": 0.8976345658302307}}, \"EndTime\": 1602731053.339514, \"Dimensions\": {\"model\": 2, \"Host\": \"algo-1\", \"Operation\": \"training\", \"Algorithm\": \"Linear Learner\", \"epoch\": 1}, \"StartTime\": 1602731053.339507}\n",
      "\u001b[0m\n",
      "\u001b[34m#metrics {\"Metrics\": {\"train_mse_objective\": {\"count\": 1, \"max\": 0.8643094301223755, \"sum\": 0.8643094301223755, \"min\": 0.8643094301223755}}, \"EndTime\": 1602731053.339543, \"Dimensions\": {\"model\": 3, \"Host\": \"algo-1\", \"Operation\": \"training\", \"Algorithm\": \"Linear Learner\", \"epoch\": 1}, \"StartTime\": 1602731053.339537}\n",
      "\u001b[0m\n",
      "\u001b[34m#metrics {\"Metrics\": {\"train_mse_objective\": {\"count\": 1, \"max\": 0.45461314618587495, \"sum\": 0.45461314618587495, \"min\": 0.45461314618587495}}, \"EndTime\": 1602731053.339572, \"Dimensions\": {\"model\": 4, \"Host\": \"algo-1\", \"Operation\": \"training\", \"Algorithm\": \"Linear Learner\", \"epoch\": 1}, \"StartTime\": 1602731053.339565}\n",
      "\u001b[0m\n",
      "\u001b[34m#metrics {\"Metrics\": {\"train_mse_objective\": {\"count\": 1, \"max\": 0.4329245090484619, \"sum\": 0.4329245090484619, \"min\": 0.4329245090484619}}, \"EndTime\": 1602731053.339597, \"Dimensions\": {\"model\": 5, \"Host\": \"algo-1\", \"Operation\": \"training\", \"Algorithm\": \"Linear Learner\", \"epoch\": 1}, \"StartTime\": 1602731053.339592}\n",
      "\u001b[0m\n",
      "\u001b[34m#metrics {\"Metrics\": {\"train_mse_objective\": {\"count\": 1, \"max\": 0.4598814696073532, \"sum\": 0.4598814696073532, \"min\": 0.4598814696073532}}, \"EndTime\": 1602731053.339622, \"Dimensions\": {\"model\": 6, \"Host\": \"algo-1\", \"Operation\": \"training\", \"Algorithm\": \"Linear Learner\", \"epoch\": 1}, \"StartTime\": 1602731053.339616}\n",
      "\u001b[0m\n",
      "\u001b[34m#metrics {\"Metrics\": {\"train_mse_objective\": {\"count\": 1, \"max\": 0.4337833672761917, \"sum\": 0.4337833672761917, \"min\": 0.4337833672761917}}, \"EndTime\": 1602731053.339647, \"Dimensions\": {\"model\": 7, \"Host\": \"algo-1\", \"Operation\": \"training\", \"Algorithm\": \"Linear Learner\", \"epoch\": 1}, \"StartTime\": 1602731053.339641}\n",
      "\u001b[0m\n",
      "\u001b[34m#metrics {\"Metrics\": {\"train_mse_objective\": {\"count\": 1, \"max\": 0.9753056645393372, \"sum\": 0.9753056645393372, \"min\": 0.9753056645393372}}, \"EndTime\": 1602731053.339672, \"Dimensions\": {\"model\": 8, \"Host\": \"algo-1\", \"Operation\": \"training\", \"Algorithm\": \"Linear Learner\", \"epoch\": 1}, \"StartTime\": 1602731053.339666}\n",
      "\u001b[0m\n",
      "\u001b[34m#metrics {\"Metrics\": {\"train_mse_objective\": {\"count\": 1, \"max\": 0.9216885924339294, \"sum\": 0.9216885924339294, \"min\": 0.9216885924339294}}, \"EndTime\": 1602731053.339698, \"Dimensions\": {\"model\": 9, \"Host\": \"algo-1\", \"Operation\": \"training\", \"Algorithm\": \"Linear Learner\", \"epoch\": 1}, \"StartTime\": 1602731053.339692}\n",
      "\u001b[0m\n",
      "\u001b[34m[10/15/2020 03:04:13 INFO 140026608404288] #quality_metric: host=algo-1, epoch=1, train mse_objective <loss>=0.941552770138\u001b[0m\n",
      "\u001b[34m[10/15/2020 03:04:13 INFO 140026608404288] #early_stopping_criteria_metric: host=algo-1, epoch=1, criteria=mse_objective, value=0.432924509048\u001b[0m\n",
      "\u001b[34m[10/15/2020 03:04:13 INFO 140026608404288] Epoch 1: Loss improved. Updating best model\u001b[0m\n",
      "\u001b[34m[10/15/2020 03:04:13 INFO 140026608404288] Saving model for epoch: 1\u001b[0m\n",
      "\u001b[34m[10/15/2020 03:04:13 INFO 140026608404288] Saved checkpoint to \"/tmp/tmp2EcFsb/mx-mod-0000.params\"\u001b[0m\n",
      "\u001b[34m[10/15/2020 03:04:13 INFO 140026608404288] #progress_metric: host=algo-1, completed 66 % of epochs\u001b[0m\n",
      "\u001b[34m#metrics {\"Metrics\": {\"Max Batches Seen Between Resets\": {\"count\": 1, \"max\": 5, \"sum\": 5.0, \"min\": 5}, \"Number of Batches Since Last Reset\": {\"count\": 1, \"max\": 5, \"sum\": 5.0, \"min\": 5}, \"Number of Records Since Last Reset\": {\"count\": 1, \"max\": 24, \"sum\": 24.0, \"min\": 24}, \"Total Batches Seen\": {\"count\": 1, \"max\": 16, \"sum\": 16.0, \"min\": 16}, \"Total Records Seen\": {\"count\": 1, \"max\": 77, \"sum\": 77.0, \"min\": 77}, \"Max Records Seen Between Resets\": {\"count\": 1, \"max\": 24, \"sum\": 24.0, \"min\": 24}, \"Reset Count\": {\"count\": 1, \"max\": 4, \"sum\": 4.0, \"min\": 4}}, \"EndTime\": 1602731053.344501, \"Dimensions\": {\"Host\": \"algo-1\", \"Meta\": \"training_data_iter\", \"Operation\": \"training\", \"Algorithm\": \"Linear Learner\", \"epoch\": 1}, \"StartTime\": 1602731053.321658}\n",
      "\u001b[0m\n",
      "\u001b[34m[10/15/2020 03:04:13 INFO 140026608404288] #throughput_metric: host=algo-1, train throughput=1046.79862317 records/second\u001b[0m\n",
      "\u001b[34m[2020-10-15 03:04:13.362] [tensorio] [info] epoch_stats={\"data_pipeline\": \"/opt/ml/input/data/train\", \"epoch\": 8, \"duration\": 17, \"num_examples\": 5, \"num_bytes\": 1152}\u001b[0m\n",
      "\u001b[34m#metrics {\"Metrics\": {\"train_mse_objective\": {\"count\": 1, \"max\": 0.9050477147102356, \"sum\": 0.9050477147102356, \"min\": 0.9050477147102356}}, \"EndTime\": 1602731053.362589, \"Dimensions\": {\"model\": 0, \"Host\": \"algo-1\", \"Operation\": \"training\", \"Algorithm\": \"Linear Learner\", \"epoch\": 2}, \"StartTime\": 1602731053.362557}\n",
      "\u001b[0m\n",
      "\u001b[34m#metrics {\"Metrics\": {\"train_mse_objective\": {\"count\": 1, \"max\": 0.8935255527496337, \"sum\": 0.8935255527496337, \"min\": 0.8935255527496337}}, \"EndTime\": 1602731053.362644, \"Dimensions\": {\"model\": 1, \"Host\": \"algo-1\", \"Operation\": \"training\", \"Algorithm\": \"Linear Learner\", \"epoch\": 2}, \"StartTime\": 1602731053.362635}\n",
      "\u001b[0m\n",
      "\u001b[34m#metrics {\"Metrics\": {\"train_mse_objective\": {\"count\": 1, \"max\": 0.8619711875915528, \"sum\": 0.8619711875915528, \"min\": 0.8619711875915528}}, \"EndTime\": 1602731053.362674, \"Dimensions\": {\"model\": 2, \"Host\": \"algo-1\", \"Operation\": \"training\", \"Algorithm\": \"Linear Learner\", \"epoch\": 2}, \"StartTime\": 1602731053.362667}\n",
      "\u001b[0m\n",
      "\u001b[34m#metrics {\"Metrics\": {\"train_mse_objective\": {\"count\": 1, \"max\": 0.8292834997177124, \"sum\": 0.8292834997177124, \"min\": 0.8292834997177124}}, \"EndTime\": 1602731053.362701, \"Dimensions\": {\"model\": 3, \"Host\": \"algo-1\", \"Operation\": \"training\", \"Algorithm\": \"Linear Learner\", \"epoch\": 2}, \"StartTime\": 1602731053.362694}\n",
      "\u001b[0m\n",
      "\u001b[34m#metrics {\"Metrics\": {\"train_mse_objective\": {\"count\": 1, \"max\": 0.15182202458381652, \"sum\": 0.15182202458381652, \"min\": 0.15182202458381652}}, \"EndTime\": 1602731053.362726, \"Dimensions\": {\"model\": 4, \"Host\": \"algo-1\", \"Operation\": \"training\", \"Algorithm\": \"Linear Learner\", \"epoch\": 2}, \"StartTime\": 1602731053.36272}\n",
      "\u001b[0m\n",
      "\u001b[34m#metrics {\"Metrics\": {\"train_mse_objective\": {\"count\": 1, \"max\": 0.14080896005034446, \"sum\": 0.14080896005034446, \"min\": 0.14080896005034446}}, \"EndTime\": 1602731053.362752, \"Dimensions\": {\"model\": 5, \"Host\": \"algo-1\", \"Operation\": \"training\", \"Algorithm\": \"Linear Learner\", \"epoch\": 2}, \"StartTime\": 1602731053.362746}\n",
      "\u001b[0m\n",
      "\u001b[34m#metrics {\"Metrics\": {\"train_mse_objective\": {\"count\": 1, \"max\": 0.1547439530491829, \"sum\": 0.1547439530491829, \"min\": 0.1547439530491829}}, \"EndTime\": 1602731053.362777, \"Dimensions\": {\"model\": 6, \"Host\": \"algo-1\", \"Operation\": \"training\", \"Algorithm\": \"Linear Learner\", \"epoch\": 2}, \"StartTime\": 1602731053.362771}\n",
      "\u001b[0m\n",
      "\u001b[34m#metrics {\"Metrics\": {\"train_mse_objective\": {\"count\": 1, \"max\": 0.1412303142249584, \"sum\": 0.1412303142249584, \"min\": 0.1412303142249584}}, \"EndTime\": 1602731053.362804, \"Dimensions\": {\"model\": 7, \"Host\": \"algo-1\", \"Operation\": \"training\", \"Algorithm\": \"Linear Learner\", \"epoch\": 2}, \"StartTime\": 1602731053.362798}\n",
      "\u001b[0m\n",
      "\u001b[34m#metrics {\"Metrics\": {\"train_mse_objective\": {\"count\": 1, \"max\": 0.9381691575050354, \"sum\": 0.9381691575050354, \"min\": 0.9381691575050354}}, \"EndTime\": 1602731053.362831, \"Dimensions\": {\"model\": 8, \"Host\": \"algo-1\", \"Operation\": \"training\", \"Algorithm\": \"Linear Learner\", \"epoch\": 2}, \"StartTime\": 1602731053.362825}\n",
      "\u001b[0m\n",
      "\u001b[34m#metrics {\"Metrics\": {\"train_mse_objective\": {\"count\": 1, \"max\": 0.8855485558509827, \"sum\": 0.8855485558509827, \"min\": 0.8855485558509827}}, \"EndTime\": 1602731053.362858, \"Dimensions\": {\"model\": 9, \"Host\": \"algo-1\", \"Operation\": \"training\", \"Algorithm\": \"Linear Learner\", \"epoch\": 2}, \"StartTime\": 1602731053.362852}\n",
      "\u001b[0m\n",
      "\u001b[34m[10/15/2020 03:04:13 INFO 140026608404288] #quality_metric: host=algo-1, epoch=2, train mse_objective <loss>=0.90504771471\u001b[0m\n",
      "\u001b[34m[10/15/2020 03:04:13 INFO 140026608404288] #early_stopping_criteria_metric: host=algo-1, epoch=2, criteria=mse_objective, value=0.14080896005\u001b[0m\n",
      "\u001b[34m[10/15/2020 03:04:13 INFO 140026608404288] Epoch 2: Loss improved. Updating best model\u001b[0m\n",
      "\u001b[34m[10/15/2020 03:04:13 INFO 140026608404288] Saving model for epoch: 2\u001b[0m\n",
      "\u001b[34m[10/15/2020 03:04:13 INFO 140026608404288] Saved checkpoint to \"/tmp/tmpy068XB/mx-mod-0000.params\"\u001b[0m\n",
      "\u001b[34m[10/15/2020 03:04:13 INFO 140026608404288] #progress_metric: host=algo-1, completed 100 % of epochs\u001b[0m\n",
      "\u001b[34m#metrics {\"Metrics\": {\"Max Batches Seen Between Resets\": {\"count\": 1, \"max\": 5, \"sum\": 5.0, \"min\": 5}, \"Number of Batches Since Last Reset\": {\"count\": 1, \"max\": 5, \"sum\": 5.0, \"min\": 5}, \"Number of Records Since Last Reset\": {\"count\": 1, \"max\": 24, \"sum\": 24.0, \"min\": 24}, \"Total Batches Seen\": {\"count\": 1, \"max\": 21, \"sum\": 21.0, \"min\": 21}, \"Total Records Seen\": {\"count\": 1, \"max\": 101, \"sum\": 101.0, \"min\": 101}, \"Max Records Seen Between Resets\": {\"count\": 1, \"max\": 24, \"sum\": 24.0, \"min\": 24}, \"Reset Count\": {\"count\": 1, \"max\": 5, \"sum\": 5.0, \"min\": 5}}, \"EndTime\": 1602731053.367577, \"Dimensions\": {\"Host\": \"algo-1\", \"Meta\": \"training_data_iter\", \"Operation\": \"training\", \"Algorithm\": \"Linear Learner\", \"epoch\": 2}, \"StartTime\": 1602731053.344657}\n",
      "\u001b[0m\n",
      "\u001b[34m[10/15/2020 03:04:13 INFO 140026608404288] #throughput_metric: host=algo-1, train throughput=1043.5755339 records/second\u001b[0m\n",
      "\u001b[34m[10/15/2020 03:04:13 WARNING 140026608404288] wait_for_all_workers will not sync workers since the kv store is not running distributed\u001b[0m\n",
      "\u001b[34m[10/15/2020 03:04:13 WARNING 140026608404288] wait_for_all_workers will not sync workers since the kv store is not running distributed\u001b[0m\n",
      "\u001b[34m[2020-10-15 03:04:13.368] [tensorio] [info] epoch_stats={\"data_pipeline\": \"/opt/ml/input/data/train\", \"epoch\": 10, \"duration\": 0, \"num_examples\": 1, \"num_bytes\": 240}\u001b[0m\n",
      "\u001b[34m[2020-10-15 03:04:13.373] [tensorio] [info] epoch_stats={\"data_pipeline\": \"/opt/ml/input/data/train\", \"epoch\": 12, \"duration\": 3, \"num_examples\": 5, \"num_bytes\": 1152}\u001b[0m\n",
      "\u001b[34m[10/15/2020 03:04:13 INFO 140026608404288] #train_score (algo-1) : ('mse_objective', 171564370.66666666)\u001b[0m\n",
      "\u001b[34m[10/15/2020 03:04:13 INFO 140026608404288] #train_score (algo-1) : ('mse', 171564370.66666666)\u001b[0m\n",
      "\u001b[34m[10/15/2020 03:04:13 INFO 140026608404288] #train_score (algo-1) : ('absolute_loss', 11638.7001953125)\u001b[0m\n",
      "\u001b[34m[10/15/2020 03:04:13 INFO 140026608404288] #quality_metric: host=algo-1, train mse_objective <loss>=171564370.667\u001b[0m\n",
      "\u001b[34m[10/15/2020 03:04:13 INFO 140026608404288] #quality_metric: host=algo-1, train mse <loss>=171564370.667\u001b[0m\n",
      "\u001b[34m[10/15/2020 03:04:13 INFO 140026608404288] #quality_metric: host=algo-1, train absolute_loss <loss>=11638.7001953\u001b[0m\n",
      "\u001b[34m[10/15/2020 03:04:13 INFO 140026608404288] Best model found for hyperparameters: {\"lr_scheduler_step\": 100, \"wd\": 0.0001, \"optimizer\": \"adam\", \"lr_scheduler_factor\": 0.99, \"l1\": 0.0, \"learning_rate\": 0.1, \"lr_scheduler_minimum_lr\": 1e-05}\u001b[0m\n",
      "\u001b[34m[10/15/2020 03:04:13 INFO 140026608404288] Saved checkpoint to \"/tmp/tmpUY1rnz/mx-mod-0000.params\"\u001b[0m\n",
      "\u001b[34m[10/15/2020 03:04:13 INFO 140026608404288] Test data is not provided.\u001b[0m\n",
      "\u001b[34m#metrics {\"Metrics\": {\"totaltime\": {\"count\": 1, \"max\": 406.41212463378906, \"sum\": 406.41212463378906, \"min\": 406.41212463378906}, \"finalize.time\": {\"count\": 1, \"max\": 5.856037139892578, \"sum\": 5.856037139892578, \"min\": 5.856037139892578}, \"initialize.time\": {\"count\": 1, \"max\": 94.36392784118652, \"sum\": 94.36392784118652, \"min\": 94.36392784118652}, \"check_early_stopping.time\": {\"count\": 3, \"max\": 0.6759166717529297, \"sum\": 1.9278526306152344, \"min\": 0.6189346313476562}, \"setuptime\": {\"count\": 1, \"max\": 21.912097930908203, \"sum\": 21.912097930908203, \"min\": 21.912097930908203}, \"update.time\": {\"count\": 3, \"max\": 37.65296936035156, \"sum\": 79.86879348754883, \"min\": 21.016836166381836}, \"epochs\": {\"count\": 1, \"max\": 3, \"sum\": 3.0, \"min\": 3}}, \"EndTime\": 1602731053.376087, \"Dimensions\": {\"Host\": \"algo-1\", \"Operation\": \"training\", \"Algorithm\": \"Linear Learner\"}, \"StartTime\": 1602731053.182611}\n",
      "\u001b[0m\n",
      "\n",
      "2020-10-15 03:04:22 Uploading - Uploading generated training model\n",
      "2020-10-15 03:04:22 Completed - Training job completed\n",
      "Training seconds: 34\n",
      "Billable seconds: 34\n"
     ]
    }
   ],
   "source": [
    "linear.fit({'train':'s3://salaryestimator/traindata/linearlearner'})"
   ]
  },
  {
   "cell_type": "code",
   "execution_count": null,
   "metadata": {},
   "outputs": [],
   "source": []
  }
 ],
 "metadata": {
  "instance_type": "ml.t3.medium",
  "kernelspec": {
   "display_name": "python (localsm)",
   "language": "python",
   "name": "localsm"
  },
  "language_info": {
   "codemirror_mode": {
    "name": "ipython",
    "version": 3
   },
   "file_extension": ".py",
   "mimetype": "text/x-python",
   "name": "python",
   "nbconvert_exporter": "python",
   "pygments_lexer": "ipython3",
   "version": "3.7.0"
  }
 },
 "nbformat": 4,
 "nbformat_minor": 4
}
