{
 "cells": [
  {
   "cell_type": "markdown",
   "metadata": {},
   "source": [
    "## Sparse, Categorical and Binary Cross Entropy Examples"
   ]
  },
  {
   "cell_type": "markdown",
   "metadata": {},
   "source": [
    "#### Important Things\n",
    "1. Output Shape (How many neurons in the last layer that has softmax)\n",
    "2. Loss in model.compile \n",
    "        a.sparse_categorical_crossentropy - y should be a flattened vector in the shape (n,) or (n,1)\n",
    "        b.categorical_crossentropy - y should be one hot encoded vector (encoder.fit_transform(y).toarray()) .. shape should be (n,noofclasses)\n",
    "        c.binary_crossentrpy - if y is flattened vector and output softmax neurons =1\n",
    "        d.binary_crossentrpy - if y is one hot encoded , ouput neurons =2 "
   ]
  },
  {
   "cell_type": "code",
   "execution_count": 1,
   "metadata": {},
   "outputs": [],
   "source": [
    "import tensorflow as tf\n",
    "import numpy as np\n",
    "from sklearn.preprocessing import OneHotEncoder\n",
    "enc = OneHotEncoder(handle_unknown='ignore')"
   ]
  },
  {
   "cell_type": "markdown",
   "metadata": {},
   "source": [
    "## Sparse Categorical CrossEntropy"
   ]
  },
  {
   "cell_type": "code",
   "execution_count": 2,
   "metadata": {},
   "outputs": [
    {
     "name": "stdout",
     "output_type": "stream",
     "text": [
      "Model: \"sequential\"\n",
      "_________________________________________________________________\n",
      "Layer (type)                 Output Shape              Param #   \n",
      "=================================================================\n",
      "dense (Dense)                (None, 10)                1010      \n",
      "_________________________________________________________________\n",
      "dense_1 (Dense)              (None, 5)                 55        \n",
      "=================================================================\n",
      "Total params: 1,065\n",
      "Trainable params: 1,065\n",
      "Non-trainable params: 0\n",
      "_________________________________________________________________\n"
     ]
    }
   ],
   "source": [
    "model=tf.keras.Sequential()\n",
    "model.add(tf.keras.layers.Dense(10,input_shape=(100,)))\n",
    "model.add(tf.keras.layers.Dense(5,activation='softmax'))\n",
    "model.compile(loss='sparse_categorical_crossentropy',metrics=['accuracy'])\n",
    "model.summary()\n"
   ]
  },
  {
   "cell_type": "code",
   "execution_count": 3,
   "metadata": {},
   "outputs": [
    {
     "data": {
      "text/plain": [
       "((500, 100), (500, 1))"
      ]
     },
     "execution_count": 3,
     "metadata": {},
     "output_type": "execute_result"
    }
   ],
   "source": [
    "X=np.random.random([500,100])\n",
    "y=np.concatenate([np.array([1]*100),np.array([0]*100),np.array([3]*100),np.array([2]*100),np.array([4]*100)])\n",
    "y=y.reshape(-1,)   # both work\n",
    "y=y.reshape(-1,1)  # both work\n",
    "X.shape,y.shape"
   ]
  },
  {
   "cell_type": "code",
   "execution_count": 4,
   "metadata": {},
   "outputs": [
    {
     "name": "stdout",
     "output_type": "stream",
     "text": [
      "Train on 500 samples\n",
      "Epoch 1/3\n",
      "500/500 [==============================] - 1s 1ms/sample - loss: 1.6774 - accuracy: 0.2040\n",
      "Epoch 2/3\n",
      "500/500 [==============================] - 0s 49us/sample - loss: 1.6618 - accuracy: 0.2000\n",
      "Epoch 3/3\n",
      "500/500 [==============================] - 0s 51us/sample - loss: 1.6534 - accuracy: 0.2260\n"
     ]
    },
    {
     "data": {
      "text/plain": [
       "<tensorflow.python.keras.callbacks.History at 0x172c946a0>"
      ]
     },
     "execution_count": 4,
     "metadata": {},
     "output_type": "execute_result"
    }
   ],
   "source": [
    "model.fit(X,y,epochs=3) "
   ]
  },
  {
   "cell_type": "code",
   "execution_count": 5,
   "metadata": {},
   "outputs": [],
   "source": [
    "onehot_y=enc.fit_transform(y).toarray()"
   ]
  },
  {
   "cell_type": "code",
   "execution_count": 6,
   "metadata": {},
   "outputs": [
    {
     "data": {
      "text/plain": [
       "(500, 5)"
      ]
     },
     "execution_count": 6,
     "metadata": {},
     "output_type": "execute_result"
    }
   ],
   "source": [
    "onehot_y.shape"
   ]
  },
  {
   "cell_type": "markdown",
   "metadata": {},
   "source": [
    "## Categorical CrossEntropy"
   ]
  },
  {
   "cell_type": "code",
   "execution_count": 7,
   "metadata": {},
   "outputs": [
    {
     "name": "stdout",
     "output_type": "stream",
     "text": [
      "Model: \"sequential_1\"\n",
      "_________________________________________________________________\n",
      "Layer (type)                 Output Shape              Param #   \n",
      "=================================================================\n",
      "dense_2 (Dense)              (None, 10)                1010      \n",
      "_________________________________________________________________\n",
      "dense_3 (Dense)              (None, 5)                 55        \n",
      "=================================================================\n",
      "Total params: 1,065\n",
      "Trainable params: 1,065\n",
      "Non-trainable params: 0\n",
      "_________________________________________________________________\n"
     ]
    }
   ],
   "source": [
    "model=tf.keras.Sequential()\n",
    "model.add(tf.keras.layers.Dense(10,input_shape=(100,)))\n",
    "model.add(tf.keras.layers.Dense(5,activation='softmax'))\n",
    "model.compile(loss='categorical_crossentropy',metrics=['accuracy'])\n",
    "model.summary()\n"
   ]
  },
  {
   "cell_type": "code",
   "execution_count": 8,
   "metadata": {},
   "outputs": [
    {
     "data": {
      "text/plain": [
       "((500, 100), (500, 1), (500, 5))"
      ]
     },
     "execution_count": 8,
     "metadata": {},
     "output_type": "execute_result"
    }
   ],
   "source": [
    "X=np.random.random([500,100])\n",
    "y=np.concatenate([np.array([1]*100),np.array([0]*100),np.array([3]*100),np.array([2]*100),np.array([4]*100)])\n",
    "y=y.reshape(-1,1)  # Has to be reshaped for one hot encoder.. only accepts 2-D shape (n,1)\n",
    "onehot_y=enc.fit_transform(y).toarray()\n",
    "X.shape,y.shape,onehot_y.shape"
   ]
  },
  {
   "cell_type": "code",
   "execution_count": 9,
   "metadata": {},
   "outputs": [
    {
     "name": "stdout",
     "output_type": "stream",
     "text": [
      "Train on 500 samples\n",
      "Epoch 1/3\n",
      "500/500 [==============================] - 1s 1ms/sample - loss: 1.7048 - accuracy: 0.1940\n",
      "Epoch 2/3\n",
      "500/500 [==============================] - 0s 46us/sample - loss: 1.6657 - accuracy: 0.2120\n",
      "Epoch 3/3\n",
      "500/500 [==============================] - 0s 45us/sample - loss: 1.6538 - accuracy: 0.2020\n"
     ]
    },
    {
     "data": {
      "text/plain": [
       "<tensorflow.python.keras.callbacks.History at 0x172f23c18>"
      ]
     },
     "execution_count": 9,
     "metadata": {},
     "output_type": "execute_result"
    }
   ],
   "source": [
    "model.fit(X,onehot_y,epochs=3) "
   ]
  },
  {
   "cell_type": "markdown",
   "metadata": {},
   "source": [
    "## Binary CrossEntropy"
   ]
  },
  {
   "cell_type": "markdown",
   "metadata": {},
   "source": [
    "### Since we are using 2 output neurons, y has to be one hot encoded"
   ]
  },
  {
   "cell_type": "code",
   "execution_count": 10,
   "metadata": {},
   "outputs": [
    {
     "name": "stdout",
     "output_type": "stream",
     "text": [
      "Model: \"sequential_2\"\n",
      "_________________________________________________________________\n",
      "Layer (type)                 Output Shape              Param #   \n",
      "=================================================================\n",
      "dense_4 (Dense)              (None, 10)                1010      \n",
      "_________________________________________________________________\n",
      "dense_5 (Dense)              (None, 2)                 22        \n",
      "=================================================================\n",
      "Total params: 1,032\n",
      "Trainable params: 1,032\n",
      "Non-trainable params: 0\n",
      "_________________________________________________________________\n"
     ]
    }
   ],
   "source": [
    "model=tf.keras.Sequential()\n",
    "model.add(tf.keras.layers.Dense(10,input_shape=(100,)))\n",
    "model.add(tf.keras.layers.Dense(2,activation='softmax'))\n",
    "model.compile(loss='binary_crossentropy',metrics=['accuracy'])\n",
    "model.summary()"
   ]
  },
  {
   "cell_type": "code",
   "execution_count": 11,
   "metadata": {},
   "outputs": [
    {
     "data": {
      "text/plain": [
       "((500, 100), (500, 1), (500, 2))"
      ]
     },
     "execution_count": 11,
     "metadata": {},
     "output_type": "execute_result"
    }
   ],
   "source": [
    "X=np.random.random([500,100])\n",
    "y=np.concatenate([np.array([1]*250),np.array([0]*250)])\n",
    "y=y.reshape(-1,1)  # Has to be reshaped for one hot encoder.. only accepts 2-D shape (n,1)\n",
    "onehot_y=enc.fit_transform(y).toarray()\n",
    "X.shape,y.shape,onehot_y.shape"
   ]
  },
  {
   "cell_type": "code",
   "execution_count": 12,
   "metadata": {},
   "outputs": [
    {
     "name": "stdout",
     "output_type": "stream",
     "text": [
      "Train on 500 samples\n",
      "Epoch 1/3\n",
      "500/500 [==============================] - 1s 2ms/sample - loss: 0.7565 - accuracy: 0.4720\n",
      "Epoch 2/3\n",
      "500/500 [==============================] - 0s 60us/sample - loss: 0.7390 - accuracy: 0.5020\n",
      "Epoch 3/3\n",
      "500/500 [==============================] - 0s 58us/sample - loss: 0.7344 - accuracy: 0.4900\n"
     ]
    },
    {
     "data": {
      "text/plain": [
       "<tensorflow.python.keras.callbacks.History at 0x173bad6d8>"
      ]
     },
     "execution_count": 12,
     "metadata": {},
     "output_type": "execute_result"
    }
   ],
   "source": [
    "model.fit(X,onehot_y,epochs=3) "
   ]
  },
  {
   "cell_type": "markdown",
   "metadata": {},
   "source": [
    "### Since we are using 1 output neuron, y has to be flat not one hot encoded"
   ]
  },
  {
   "cell_type": "code",
   "execution_count": 13,
   "metadata": {},
   "outputs": [
    {
     "name": "stdout",
     "output_type": "stream",
     "text": [
      "Model: \"sequential_3\"\n",
      "_________________________________________________________________\n",
      "Layer (type)                 Output Shape              Param #   \n",
      "=================================================================\n",
      "dense_6 (Dense)              (None, 10)                1010      \n",
      "_________________________________________________________________\n",
      "dense_7 (Dense)              (None, 1)                 11        \n",
      "=================================================================\n",
      "Total params: 1,021\n",
      "Trainable params: 1,021\n",
      "Non-trainable params: 0\n",
      "_________________________________________________________________\n"
     ]
    }
   ],
   "source": [
    "model=tf.keras.Sequential()\n",
    "model.add(tf.keras.layers.Dense(10,input_shape=(100,)))\n",
    "model.add(tf.keras.layers.Dense(1,activation='softmax'))\n",
    "model.compile(loss='binary_crossentropy',metrics=['accuracy'])\n",
    "model.summary()"
   ]
  },
  {
   "cell_type": "code",
   "execution_count": 14,
   "metadata": {},
   "outputs": [
    {
     "data": {
      "text/plain": [
       "((500, 100), (500, 1))"
      ]
     },
     "execution_count": 14,
     "metadata": {},
     "output_type": "execute_result"
    }
   ],
   "source": [
    "X=np.random.random([500,100])\n",
    "y=np.concatenate([np.array([1]*250),np.array([0]*250)])\n",
    "y=y.reshape(-1,1)  # Has to be reshaped for one hot encoder.. only accepts 2-D shape (n,1)\n",
    "X.shape,y.shape"
   ]
  },
  {
   "cell_type": "code",
   "execution_count": 15,
   "metadata": {},
   "outputs": [
    {
     "name": "stdout",
     "output_type": "stream",
     "text": [
      "Train on 500 samples\n",
      "Epoch 1/3\n",
      "500/500 [==============================] - 1s 2ms/sample - loss: 7.6666 - accuracy: 0.5000\n",
      "Epoch 2/3\n",
      "500/500 [==============================] - 0s 61us/sample - loss: 7.6666 - accuracy: 0.5000\n",
      "Epoch 3/3\n",
      "500/500 [==============================] - 0s 61us/sample - loss: 7.6666 - accuracy: 0.5000\n"
     ]
    },
    {
     "data": {
      "text/plain": [
       "<tensorflow.python.keras.callbacks.History at 0x174319128>"
      ]
     },
     "execution_count": 15,
     "metadata": {},
     "output_type": "execute_result"
    }
   ],
   "source": [
    "model.fit(X,y,epochs=3) "
   ]
  },
  {
   "cell_type": "code",
   "execution_count": null,
   "metadata": {},
   "outputs": [],
   "source": []
  }
 ],
 "metadata": {
  "kernelspec": {
   "display_name": "python (localsm)",
   "language": "python",
   "name": "localsm"
  },
  "language_info": {
   "codemirror_mode": {
    "name": "ipython",
    "version": 3
   },
   "file_extension": ".py",
   "mimetype": "text/x-python",
   "name": "python",
   "nbconvert_exporter": "python",
   "pygments_lexer": "ipython3",
   "version": "3.7.0"
  }
 },
 "nbformat": 4,
 "nbformat_minor": 5
}
