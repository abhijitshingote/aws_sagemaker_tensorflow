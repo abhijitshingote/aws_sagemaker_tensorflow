{
 "cells": [
  {
   "cell_type": "code",
   "execution_count": 2,
   "metadata": {
    "ExecuteTime": {
     "end_time": "2020-10-27T21:05:22.518809Z",
     "start_time": "2020-10-27T21:05:22.516207Z"
    }
   },
   "outputs": [],
   "source": [
    "import sagemaker\n",
    "from sagemaker.tensorflow import TensorFlow\n",
    "import numpy as np\n",
    "import pandas as pd\n",
    "import matplotlib.pyplot as plt\n",
    "import tensorflow as tf"
   ]
  },
  {
   "cell_type": "code",
   "execution_count": null,
   "metadata": {
    "ExecuteTime": {
     "end_time": "2020-10-27T21:01:11.149708Z",
     "start_time": "2020-10-27T21:01:11.145004Z"
    }
   },
   "outputs": [],
   "source": [
    "def get_train_data(location):\n",
    "    print(location)\n",
    "#         X = np.load(os.path.join(location, 'training.npz'))['xtrain']\n",
    "#         y=np.load(os.path.join(location, 'training.npz'))['ytrain']\n",
    "    df=pd.read_csv( 'salary.csv')\n",
    "    X,y=df.iloc[:,0],df.iloc[:,1]\n",
    "    X=np.array(X).astype('float32').reshape(-1,1)\n",
    "    y=np.array(y/100000).astype('float32').reshape(-1,1)\n",
    "    return X,y"
   ]
  },
  {
   "cell_type": "code",
   "execution_count": null,
   "metadata": {
    "ExecuteTime": {
     "end_time": "2020-10-27T21:01:11.260534Z",
     "start_time": "2020-10-27T21:01:11.152089Z"
    }
   },
   "outputs": [],
   "source": [
    "sess=sagemaker.Session()\n"
   ]
  },
  {
   "cell_type": "code",
   "execution_count": null,
   "metadata": {
    "ExecuteTime": {
     "end_time": "2020-10-27T21:01:11.264703Z",
     "start_time": "2020-10-27T21:01:11.261937Z"
    }
   },
   "outputs": [],
   "source": [
    "import boto3"
   ]
  },
  {
   "cell_type": "code",
   "execution_count": 5,
   "metadata": {},
   "outputs": [],
   "source": [
    "model=tf.keras.applications.mobilenet_v2.MobileNetV2(include_top=False,pooling='avg',weights='imagenet',input_shape=(128,128,3))"
   ]
  },
  {
   "cell_type": "code",
   "execution_count": 3,
   "metadata": {
    "ExecuteTime": {
     "end_time": "2020-10-27T21:01:11.270964Z",
     "start_time": "2020-10-27T21:01:11.266183Z"
    }
   },
   "outputs": [
    {
     "data": {
      "text/plain": [
       "'2.3.1'"
      ]
     },
     "execution_count": 3,
     "metadata": {},
     "output_type": "execute_result"
    }
   ],
   "source": [
    "tf.__version__"
   ]
  },
  {
   "cell_type": "code",
   "execution_count": null,
   "metadata": {
    "ExecuteTime": {
     "end_time": "2020-10-27T21:01:11.274563Z",
     "start_time": "2020-10-27T21:01:11.272372Z"
    }
   },
   "outputs": [],
   "source": [
    "role='arn:aws:iam::032934527328:role/service-role/AmazonSageMaker-ExecutionRole-20201014T214516'"
   ]
  },
  {
   "cell_type": "code",
   "execution_count": null,
   "metadata": {
    "ExecuteTime": {
     "end_time": "2020-10-27T21:01:11.279568Z",
     "start_time": "2020-10-27T21:01:11.277353Z"
    }
   },
   "outputs": [],
   "source": [
    "hyperparameters={'epochs':300}"
   ]
  },
  {
   "cell_type": "code",
   "execution_count": null,
   "metadata": {
    "ExecuteTime": {
     "end_time": "2020-10-27T21:01:11.302278Z",
     "start_time": "2020-10-27T21:01:11.281336Z"
    }
   },
   "outputs": [],
   "source": [
    "estimator=TensorFlow(\n",
    "    entry_point= \"custom_train.py\",             # Your entry script\n",
    "    role=role,\n",
    "    framework_version=\"2.0.0\",               # TensorFlow's version\n",
    "    py_version='py3',\n",
    "    train_instance_count=1,                   # \"The number of GPUs instances to use\"\n",
    "#     train_instance_type='ml.c5.2xlarge',\n",
    "    train_instance_type='local',\n",
    "    hyperparameters=hyperparameters,\n",
    ")"
   ]
  },
  {
   "cell_type": "code",
   "execution_count": null,
   "metadata": {
    "ExecuteTime": {
     "end_time": "2020-10-27T21:01:11.310778Z",
     "start_time": "2020-10-27T21:01:11.305924Z"
    }
   },
   "outputs": [],
   "source": [
    "prefix = 'salaryestimator'"
   ]
  },
  {
   "cell_type": "code",
   "execution_count": null,
   "metadata": {},
   "outputs": [],
   "source": [
    "# !pip install 'sagemaker[local]'"
   ]
  },
  {
   "cell_type": "code",
   "execution_count": null,
   "metadata": {
    "ExecuteTime": {
     "end_time": "2020-10-27T21:01:23.067078Z",
     "start_time": "2020-10-27T21:01:11.313380Z"
    }
   },
   "outputs": [],
   "source": [
    "training_input_path   = sess.upload_data('salary.csv', key_prefix=prefix+'/training_csv')\n",
    "# training_input_path='file://salary.csv'\n",
    "estimator.fit({'train':training_input_path})"
   ]
  },
  {
   "cell_type": "code",
   "execution_count": null,
   "metadata": {
    "ExecuteTime": {
     "end_time": "2020-10-27T21:01:23.377815Z",
     "start_time": "2020-10-27T21:01:23.069306Z"
    }
   },
   "outputs": [],
   "source": [
    "predictor=estimator.deploy(initial_instance_count=1,instance_type='local')"
   ]
  },
  {
   "cell_type": "code",
   "execution_count": null,
   "metadata": {
    "ExecuteTime": {
     "end_time": "2020-10-27T21:03:07.195010Z",
     "start_time": "2020-10-27T21:03:07.184614Z"
    },
    "scrolled": true
   },
   "outputs": [],
   "source": [
    "yhat=predictor.predict(get_train_data('salary.csv')[0])\n",
    "yhat=np.array(yhat['predictions'])"
   ]
  },
  {
   "cell_type": "code",
   "execution_count": null,
   "metadata": {
    "ExecuteTime": {
     "end_time": "2020-10-27T21:03:12.939863Z",
     "start_time": "2020-10-27T21:03:12.801782Z"
    }
   },
   "outputs": [],
   "source": [
    "plt.plot(*get_train_data('salary.csv'))\n",
    "plt.plot(get_train_data('salary.csv')[0],yhat)"
   ]
  },
  {
   "cell_type": "markdown",
   "metadata": {
    "ExecuteTime": {
     "end_time": "2020-10-27T21:03:54.717685Z",
     "start_time": "2020-10-27T21:03:54.714469Z"
    }
   },
   "source": [
    "Able to verify weights are correct, not sure why predictions are off from the deployed sagemkaer model\n",
    "predictions work when using local keras model below"
   ]
  },
  {
   "cell_type": "code",
   "execution_count": null,
   "metadata": {
    "ExecuteTime": {
     "end_time": "2020-10-27T21:05:25.940132Z",
     "start_time": "2020-10-27T21:05:25.740240Z"
    }
   },
   "outputs": [],
   "source": [
    "# download model from s3 and unzip\n",
    "downloadedmodel=tf.keras.models.load_model(\n",
    "    '/Users/ashingote/Downloads/000000001', custom_objects=None, compile=True\n",
    ")"
   ]
  },
  {
   "cell_type": "code",
   "execution_count": null,
   "metadata": {
    "ExecuteTime": {
     "end_time": "2020-10-27T21:06:16.616394Z",
     "start_time": "2020-10-27T21:06:16.541567Z"
    }
   },
   "outputs": [],
   "source": [
    "yhat=downloadedmodel.predict(get_train_data('salary.csv')[0])"
   ]
  },
  {
   "cell_type": "code",
   "execution_count": null,
   "metadata": {
    "ExecuteTime": {
     "end_time": "2020-10-27T21:06:27.468269Z",
     "start_time": "2020-10-27T21:06:27.341769Z"
    }
   },
   "outputs": [],
   "source": [
    "plt.plot(*get_train_data('salary.csv'))\n",
    "plt.plot(get_train_data('salary.csv')[0],yhat)"
   ]
  },
  {
   "cell_type": "code",
   "execution_count": null,
   "metadata": {},
   "outputs": [],
   "source": []
  }
 ],
 "metadata": {
  "kernelspec": {
   "display_name": "Python 3",
   "language": "python",
   "name": "python3"
  },
  "language_info": {
   "codemirror_mode": {
    "name": "ipython",
    "version": 3
   },
   "file_extension": ".py",
   "mimetype": "text/x-python",
   "name": "python",
   "nbconvert_exporter": "python",
   "pygments_lexer": "ipython3",
   "version": "3.7.4"
  }
 },
 "nbformat": 4,
 "nbformat_minor": 4
}
