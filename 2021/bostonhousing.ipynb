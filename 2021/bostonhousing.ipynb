{
 "cells": [
  {
   "cell_type": "code",
   "execution_count": 11,
   "id": "vanilla-flour",
   "metadata": {},
   "outputs": [],
   "source": [
    "import sagemaker\n",
    "from sagemaker import get_execution_role\n",
    "from sagemaker.amazon.amazon_estimator import get_image_uri\n",
    "from sagemaker.predictor import csv_serializer\n",
    "session=sagemaker.Session()\n",
    "role=get_execution_role()"
   ]
  },
  {
   "cell_type": "code",
   "execution_count": 12,
   "id": "perfect-colorado",
   "metadata": {},
   "outputs": [],
   "source": [
    "from sklearn.datasets import load_boston\n",
    "from sklearn.model_selection import train_test_split\n",
    "import pandas as pd\n",
    "import numpy as np\n",
    "import matplotlib.pyplot as plt"
   ]
  },
  {
   "cell_type": "code",
   "execution_count": 13,
   "id": "adopted-angola",
   "metadata": {},
   "outputs": [],
   "source": [
    "bostondata = load_boston()\n",
    "X,y=pd.DataFrame(bostondata.data,columns=bostondata.feature_names),pd.DataFrame(bostondata.target)"
   ]
  },
  {
   "cell_type": "code",
   "execution_count": 14,
   "id": "backed-aggregate",
   "metadata": {},
   "outputs": [],
   "source": [
    "# !mkdir data"
   ]
  },
  {
   "cell_type": "code",
   "execution_count": 15,
   "id": "toxic-polish",
   "metadata": {},
   "outputs": [],
   "source": [
    "# Convert data to make it kosher for sagemaker\n",
    "X_train,X_test,y_train,y_test=train_test_split(X,y,test_size=0.33)\n",
    "X_train,X_val,y_train,y_val=train_test_split(X_train,y_train,test_size=0.33)\n",
    "pd.concat([y_train,X_train],axis=1).to_csv('data/train.csv',header=False,index=False)\n",
    "pd.concat([y_val,X_val],axis=1).to_csv('data/validation.csv',header=False,index=False)\n",
    "X_test.to_csv('data/test.csv',header=False,index=False)"
   ]
  },
  {
   "cell_type": "code",
   "execution_count": 16,
   "id": "annual-fellow",
   "metadata": {},
   "outputs": [
    {
     "data": {
      "text/plain": [
       "'s3://sagemaker-us-east-1-032934527328/boston-xgboost-HL'"
      ]
     },
     "execution_count": 16,
     "metadata": {},
     "output_type": "execute_result"
    }
   ],
   "source": [
    "# upload to S3\n",
    "prefix='boston-xgboost-HL'\n",
    "session.upload_data('data',key_prefix=prefix)"
   ]
  },
  {
   "cell_type": "code",
   "execution_count": 17,
   "id": "compound-worcester",
   "metadata": {},
   "outputs": [],
   "source": [
    "# !pip uninstall -f sagemaker\n",
    "# !pip install sagemaker==1.72.0\n",
    "# sagemaker.__version__"
   ]
  },
  {
   "cell_type": "code",
   "execution_count": 18,
   "id": "liable-reform",
   "metadata": {},
   "outputs": [
    {
     "name": "stderr",
     "output_type": "stream",
     "text": [
      "'get_image_uri' method will be deprecated in favor of 'ImageURIProvider' class in SageMaker Python SDK v2.\n",
      "There is a more up to date SageMaker XGBoost image. To use the newer image, please set 'repo_version'='1.0-1'. For example:\n",
      "\tget_image_uri(region, 'xgboost', '1.0-1').\n"
     ]
    }
   ],
   "source": [
    "# for latest sagemaker >2 \n",
    "# container=sagemaker.image_uris.retrieve('xgboost',session.boto_region_name)\n",
    "container=get_image_uri(session.boto_region_name,'xgboost')"
   ]
  },
  {
   "cell_type": "code",
   "execution_count": 19,
   "id": "naked-domestic",
   "metadata": {},
   "outputs": [
    {
     "name": "stderr",
     "output_type": "stream",
     "text": [
      "Parameter image_name will be renamed to image_uri in SageMaker Python SDK v2.\n"
     ]
    }
   ],
   "source": [
    "xgb=sagemaker.estimator.Estimator(container,\n",
    "                                  get_execution_role(),\n",
    "                                 train_instance_count=1,\n",
    "                                 train_instance_type='ml.m5.large',\n",
    "                                 output_path='s3://sagemaker-us-east-1-032934527328/boston-xgboost-HL/output',\n",
    "                                 sagemaker_session=session,\n",
    "                                train_use_spot_instances=True,\n",
    "                                  train_max_wait=3600,train_max_run=3600\n",
    "                                 )"
   ]
  },
  {
   "cell_type": "code",
   "execution_count": 20,
   "id": "future-james",
   "metadata": {},
   "outputs": [],
   "source": [
    "xgb.set_hyperparameters(max_depth=5,\n",
    "                       eta=0.2,\n",
    "                       gamma=4,\n",
    "                       min_child_weight=6,\n",
    "                       subsample=0.8,\n",
    "                       objective='reg:linear',\n",
    "                       early_stopping_rounds=10,\n",
    "                       num_round=200)"
   ]
  },
  {
   "cell_type": "code",
   "execution_count": 21,
   "id": "stone-audio",
   "metadata": {},
   "outputs": [
    {
     "name": "stderr",
     "output_type": "stream",
     "text": [
      "'s3_input' class will be renamed to 'TrainingInput' in SageMaker Python SDK v2.\n",
      "'s3_input' class will be renamed to 'TrainingInput' in SageMaker Python SDK v2.\n"
     ]
    }
   ],
   "source": [
    "# Wrapper so sagemaker knows data is in csv\n",
    "s3_input_train=sagemaker.s3_input(s3_data='s3://sagemaker-us-east-1-032934527328/boston-xgboost-HL/train.csv',\n",
    "                                  content_type='csv')\n",
    "s3_input_validation=sagemaker.s3_input(s3_data='s3://sagemaker-us-east-1-032934527328/boston-xgboost-HL/validation.csv',\n",
    "                                  content_type='csv')"
   ]
  },
  {
   "cell_type": "code",
   "execution_count": null,
   "id": "altered-parade",
   "metadata": {},
   "outputs": [
    {
     "name": "stdout",
     "output_type": "stream",
     "text": [
      "2021-04-08 21:45:46 Starting - Starting the training job...\n",
      "2021-04-08 21:45:47 Starting - Launching requested ML instances......\n",
      "2021-04-08 21:47:06 Starting - Preparing the instances for training...."
     ]
    }
   ],
   "source": [
    "xgb.fit({'train':s3_input_train,'validation':s3_input_validation})"
   ]
  },
  {
   "cell_type": "code",
   "execution_count": null,
   "id": "electoral-personal",
   "metadata": {},
   "outputs": [],
   "source": [
    "xgb_transformer=xgb.transformer(instance_count=1,instance_type='ml.m5.large')"
   ]
  },
  {
   "cell_type": "code",
   "execution_count": null,
   "id": "sapphire-lighter",
   "metadata": {},
   "outputs": [],
   "source": [
    "xgb_transformer.transform('s3://sagemaker-us-east-1-032934527328/boston-xgboost-HL/test.csv',\n",
    "                          content_type='text/csv',\n",
    "                          split_type='Line')`"
   ]
  },
  {
   "cell_type": "code",
   "execution_count": null,
   "id": "contrary-finish",
   "metadata": {},
   "outputs": [],
   "source": [
    "xgb_transformer.wait()"
   ]
  },
  {
   "cell_type": "code",
   "execution_count": null,
   "id": "polyphonic-express",
   "metadata": {},
   "outputs": [],
   "source": [
    "!aws s3 cp --recursive $xgb_transformer.output_path data/"
   ]
  },
  {
   "cell_type": "code",
   "execution_count": null,
   "id": "median-august",
   "metadata": {},
   "outputs": [],
   "source": [
    "y_pred=pd.read_csv('data/test.csv.out',header=None)"
   ]
  },
  {
   "cell_type": "code",
   "execution_count": null,
   "id": "alleged-typing",
   "metadata": {},
   "outputs": [],
   "source": [
    "plt.scatter(y_test,y_pred)"
   ]
  },
  {
   "cell_type": "code",
   "execution_count": null,
   "id": "universal-orange",
   "metadata": {},
   "outputs": [],
   "source": [
    "xgb_transformer.output_path"
   ]
  }
 ],
 "metadata": {
  "kernelspec": {
   "display_name": "conda_tensorflow_p36",
   "language": "python",
   "name": "conda_tensorflow_p36"
  },
  "language_info": {
   "codemirror_mode": {
    "name": "ipython",
    "version": 3
   },
   "file_extension": ".py",
   "mimetype": "text/x-python",
   "name": "python",
   "nbconvert_exporter": "python",
   "pygments_lexer": "ipython3",
   "version": "3.6.13"
  }
 },
 "nbformat": 4,
 "nbformat_minor": 5
}
