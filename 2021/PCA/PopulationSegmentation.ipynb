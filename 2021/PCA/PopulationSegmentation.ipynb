{
 "cells": [
  {
   "cell_type": "code",
   "execution_count": 275,
   "id": "later-outside",
   "metadata": {},
   "outputs": [],
   "source": [
    "import boto3\n",
    "import sagemaker\n",
    "import pandas as pd\n",
    "import numpy as np\n",
    "import io\n",
    "from sklearn.preprocessing import StandardScaler,MinMaxScaler"
   ]
  },
  {
   "cell_type": "code",
   "execution_count": 273,
   "id": "false-exposure",
   "metadata": {},
   "outputs": [],
   "source": [
    "s3_client = boto3.client('s3')\n",
    "bucket_name='aws-ml-blog-sagemaker-census-segmentation'"
   ]
  },
  {
   "cell_type": "code",
   "execution_count": 274,
   "id": "visible-fruit",
   "metadata": {},
   "outputs": [
    {
     "data": {
      "text/plain": [
       "{'ResponseMetadata': {'RequestId': 'BY15R4MS5FTDWN3C',\n",
       "  'HostId': 'Ak5l3lO+gGvWkC1NkY5DpUKD9oIJLkz8CQyJf2PYrVACV+fdk0fcEO1GfRbyuT939qYUTDENURE=',\n",
       "  'HTTPStatusCode': 200,\n",
       "  'HTTPHeaders': {'x-amz-id-2': 'Ak5l3lO+gGvWkC1NkY5DpUKD9oIJLkz8CQyJf2PYrVACV+fdk0fcEO1GfRbyuT939qYUTDENURE=',\n",
       "   'x-amz-request-id': 'BY15R4MS5FTDWN3C',\n",
       "   'date': 'Mon, 26 Apr 2021 23:15:55 GMT',\n",
       "   'x-amz-bucket-region': 'us-east-1',\n",
       "   'content-type': 'application/xml',\n",
       "   'transfer-encoding': 'chunked',\n",
       "   'server': 'AmazonS3'},\n",
       "  'RetryAttempts': 0},\n",
       " 'IsTruncated': False,\n",
       " 'Marker': '',\n",
       " 'Contents': [{'Key': 'Census_Data_for_SageMaker.csv',\n",
       "   'LastModified': datetime.datetime(2018, 9, 12, 15, 13, 37, tzinfo=tzlocal()),\n",
       "   'ETag': '\"066d37f43f7762f1eb409b1660fe9763\"',\n",
       "   'Size': 613237,\n",
       "   'StorageClass': 'STANDARD'}],\n",
       " 'Name': 'aws-ml-blog-sagemaker-census-segmentation',\n",
       " 'Prefix': '',\n",
       " 'MaxKeys': 1000,\n",
       " 'EncodingType': 'url'}"
      ]
     },
     "execution_count": 274,
     "metadata": {},
     "output_type": "execute_result"
    }
   ],
   "source": [
    "s3_client.list_objects(Bucket=bucket_name)"
   ]
  },
  {
   "cell_type": "code",
   "execution_count": 276,
   "id": "treated-pearl",
   "metadata": {},
   "outputs": [],
   "source": [
    "s3object=s3_client.get_object(Bucket=bucket_name,Key='Census_Data_for_SageMaker.csv')"
   ]
  },
  {
   "cell_type": "code",
   "execution_count": 277,
   "id": "electoral-knock",
   "metadata": {},
   "outputs": [],
   "source": [
    "#s3object['Body'] is a streaming object. Lets read it and pass it to BytesIO\n",
    "csvdata=io.BytesIO(s3object['Body'].read())"
   ]
  },
  {
   "cell_type": "code",
   "execution_count": 278,
   "id": "beneficial-wildlife",
   "metadata": {},
   "outputs": [],
   "source": [
    "df=pd.read_csv(csvdata)"
   ]
  },
  {
   "cell_type": "code",
   "execution_count": 126,
   "id": "comfortable-person",
   "metadata": {},
   "outputs": [
    {
     "name": "stdout",
     "output_type": "stream",
     "text": [
      "<class 'pandas.core.frame.DataFrame'>\n",
      "RangeIndex: 3220 entries, 0 to 3219\n",
      "Data columns (total 37 columns):\n",
      " #   Column           Non-Null Count  Dtype  \n",
      "---  ------           --------------  -----  \n",
      " 0   CensusId         3220 non-null   int64  \n",
      " 1   State            3220 non-null   object \n",
      " 2   County           3220 non-null   object \n",
      " 3   TotalPop         3220 non-null   int64  \n",
      " 4   Men              3220 non-null   int64  \n",
      " 5   Women            3220 non-null   int64  \n",
      " 6   Hispanic         3220 non-null   float64\n",
      " 7   White            3220 non-null   float64\n",
      " 8   Black            3220 non-null   float64\n",
      " 9   Native           3220 non-null   float64\n",
      " 10  Asian            3220 non-null   float64\n",
      " 11  Pacific          3220 non-null   float64\n",
      " 12  Citizen          3220 non-null   int64  \n",
      " 13  Income           3219 non-null   float64\n",
      " 14  IncomeErr        3219 non-null   float64\n",
      " 15  IncomePerCap     3220 non-null   int64  \n",
      " 16  IncomePerCapErr  3220 non-null   int64  \n",
      " 17  Poverty          3220 non-null   float64\n",
      " 18  ChildPoverty     3219 non-null   float64\n",
      " 19  Professional     3220 non-null   float64\n",
      " 20  Service          3220 non-null   float64\n",
      " 21  Office           3220 non-null   float64\n",
      " 22  Construction     3220 non-null   float64\n",
      " 23  Production       3220 non-null   float64\n",
      " 24  Drive            3220 non-null   float64\n",
      " 25  Carpool          3220 non-null   float64\n",
      " 26  Transit          3220 non-null   float64\n",
      " 27  Walk             3220 non-null   float64\n",
      " 28  OtherTransp      3220 non-null   float64\n",
      " 29  WorkAtHome       3220 non-null   float64\n",
      " 30  MeanCommute      3220 non-null   float64\n",
      " 31  Employed         3220 non-null   int64  \n",
      " 32  PrivateWork      3220 non-null   float64\n",
      " 33  PublicWork       3220 non-null   float64\n",
      " 34  SelfEmployed     3220 non-null   float64\n",
      " 35  FamilyWork       3220 non-null   float64\n",
      " 36  Unemployment     3220 non-null   float64\n",
      "dtypes: float64(27), int64(8), object(2)\n",
      "memory usage: 930.9+ KB\n",
      "None\n"
     ]
    }
   ],
   "source": [
    "# Clean Data\n",
    "df.describe().T\n",
    "print(df.info())"
   ]
  },
  {
   "cell_type": "code",
   "execution_count": 279,
   "id": "right-ecology",
   "metadata": {},
   "outputs": [],
   "source": [
    "# State County can be made into a index since they are unique\n",
    "df['State-County']=df.apply(lambda row: row['State']+'-'+row['County'],axis=1)\n",
    "df=df.drop(['State','County'],axis=1)\n",
    "df_before_normalize=df.set_index('State-County')\n",
    "# df.T"
   ]
  },
  {
   "cell_type": "code",
   "execution_count": 280,
   "id": "retired-glance",
   "metadata": {},
   "outputs": [],
   "source": [
    "# Remove NaN\n",
    "df=df_before_normalize[~df_before_normalize.isna().any(axis=1)]"
   ]
  },
  {
   "cell_type": "code",
   "execution_count": 129,
   "id": "technical-philadelphia",
   "metadata": {},
   "outputs": [],
   "source": [
    "# normalize the numeric fields.. big ranges seen in min max in df.info\n",
    "scaler=MinMaxScaler()\n",
    "df=pd.DataFrame(scaler.fit_transform(df),columns=df.columns,index=df.index)"
   ]
  },
  {
   "cell_type": "code",
   "execution_count": 130,
   "id": "standard-reservation",
   "metadata": {},
   "outputs": [
    {
     "name": "stderr",
     "output_type": "stream",
     "text": [
      "Defaulting to the only supported framework/algorithm version: 1. Ignoring framework/algorithm version: latest.\n"
     ]
    }
   ],
   "source": [
    "from sagemaker import get_execution_role\n",
    "role=get_execution_role()\n",
    "session=sagemaker.Session()\n",
    "container=sagemaker.image_uris.retrieve('pca',session.boto_region_name,version='latest')"
   ]
  },
  {
   "cell_type": "code",
   "execution_count": 131,
   "id": "faced-edwards",
   "metadata": {},
   "outputs": [],
   "source": [
    "# PCA \n",
    "bucket=session.default_bucket()\n",
    "prefix='pca_popsegmentation'\n",
    "output_path=f's3://{bucket}/{prefix}/output'\n",
    "# pca=sagemaker.estimator.Estimator(image_uri=container,\n",
    "#                                   role=role,\n",
    "#                                   instance_count=1,\n",
    "#                                   instance_type='local',\n",
    "#                                   output_path=output_path,\n",
    "#                                  session=session)\n",
    "\n",
    "pca=sagemaker.PCA(role,instance_count=1,\n",
    "                                  instance_type= 'ml.m5.large',\n",
    "                                  output_path=output_path,\n",
    "                                 session=session,\n",
    "                  num_components=len(df.columns)-1, use_spot_instances=True,\n",
    "                                      max_run=3600,\n",
    "                                      max_wait=3600  )"
   ]
  },
  {
   "cell_type": "code",
   "execution_count": 132,
   "id": "moral-configuration",
   "metadata": {},
   "outputs": [],
   "source": [
    "train_data=pca.record_set(df.to_numpy())"
   ]
  },
  {
   "cell_type": "code",
   "execution_count": 133,
   "id": "approximate-married",
   "metadata": {},
   "outputs": [
    {
     "name": "stderr",
     "output_type": "stream",
     "text": [
      "Defaulting to the only supported framework/algorithm version: 1. Ignoring framework/algorithm version: 1.\n",
      "Defaulting to the only supported framework/algorithm version: 1. Ignoring framework/algorithm version: 1.\n"
     ]
    },
    {
     "name": "stdout",
     "output_type": "stream",
     "text": [
      "2021-04-26 19:22:43 Starting - Starting the training job...\n",
      "2021-04-26 19:23:06 Starting - Launching requested ML instancesProfilerReport-1619464963: InProgress\n",
      ".........\n",
      "2021-04-26 19:24:27 Starting - Preparing the instances for training......\n",
      "2021-04-26 19:25:27 Downloading - Downloading input data...\n",
      "2021-04-26 19:26:12 Training - Training image download completed. Training in progress.\n",
      "2021-04-26 19:26:12 Uploading - Uploading generated training model\u001b[34mDocker entrypoint called with argument(s): train\u001b[0m\n",
      "\u001b[34mRunning default environment configuration script\u001b[0m\n",
      "\u001b[34m[04/26/2021 19:26:09 INFO 139959299233600] Reading default configuration from /opt/amazon/lib/python3.7/site-packages/algorithm/resources/default-conf.json: {'algorithm_mode': 'regular', 'subtract_mean': 'true', 'extra_components': '-1', 'force_dense': 'true', 'epochs': 1, '_log_level': 'info', '_kvstore': 'dist_sync', '_num_kv_servers': 'auto', '_num_gpus': 'auto'}\u001b[0m\n",
      "\u001b[34m[04/26/2021 19:26:09 INFO 139959299233600] Merging with provided configuration from /opt/ml/input/config/hyperparameters.json: {'feature_dim': '35', 'num_components': '34', 'mini_batch_size': '500'}\u001b[0m\n",
      "\u001b[34m[04/26/2021 19:26:09 INFO 139959299233600] Final configuration: {'algorithm_mode': 'regular', 'subtract_mean': 'true', 'extra_components': '-1', 'force_dense': 'true', 'epochs': 1, '_log_level': 'info', '_kvstore': 'dist_sync', '_num_kv_servers': 'auto', '_num_gpus': 'auto', 'feature_dim': '35', 'num_components': '34', 'mini_batch_size': '500'}\u001b[0m\n",
      "\u001b[34m[04/26/2021 19:26:09 WARNING 139959299233600] Loggers have already been setup.\u001b[0m\n",
      "\u001b[34m[04/26/2021 19:26:09 INFO 139959299233600] Launching parameter server for role scheduler\u001b[0m\n",
      "\u001b[34m[04/26/2021 19:26:09 INFO 139959299233600] {'ENVROOT': '/opt/amazon', 'PROTOCOL_BUFFERS_PYTHON_IMPLEMENTATION': 'cpp', 'HOSTNAME': 'ip-10-0-75-73.ec2.internal', 'TRAINING_JOB_NAME': 'pca-2021-04-26-19-22-43-330', 'NVIDIA_REQUIRE_CUDA': 'cuda>=9.0', 'TRAINING_JOB_ARN': 'arn:aws:sagemaker:us-east-1:032934527328:training-job/pca-2021-04-26-19-22-43-330', 'AWS_CONTAINER_CREDENTIALS_RELATIVE_URI': '/v2/credentials/01a350fd-ab20-4eed-9a49-3fcf56032069', 'CANONICAL_ENVROOT': '/opt/amazon', 'PYTHONUNBUFFERED': 'TRUE', 'NVIDIA_VISIBLE_DEVICES': 'void', 'LD_LIBRARY_PATH': '/opt/amazon/lib/python3.7/site-packages/cv2/../../../../lib:/usr/local/nvidia/lib64:/opt/amazon/lib', 'NVIDIA_DRIVER_CAPABILITIES': 'compute,utility', 'AWS_EXECUTION_ENV': 'AWS_ECS_EC2', 'PATH': '/opt/amazon/bin:/usr/local/nvidia/bin:/usr/local/sbin:/usr/local/bin:/usr/sbin:/usr/bin:/sbin:/bin:/opt/amazon/bin:/opt/amazon/bin', 'PWD': '/', 'LANG': 'en_US.utf8', 'AWS_REGION': 'us-east-1', 'HOME': '/root', 'SHLVL': '1', 'PROTOCOL_BUFFERS_PYTHON_IMPLEMENTATION_VERSION': '2', 'OMP_NUM_THREADS': '1', 'DMLC_INTERFACE': 'eth0', 'ECS_CONTAINER_METADATA_URI': 'http://169.254.170.2/v3/5bea5fbd-d1e9-40fd-a2ce-970bc6c57c2a', 'ECS_CONTAINER_METADATA_URI_V4': 'http://169.254.170.2/v4/5bea5fbd-d1e9-40fd-a2ce-970bc6c57c2a', 'SAGEMAKER_HTTP_PORT': '8080', 'SAGEMAKER_DATA_PATH': '/opt/ml'}\u001b[0m\n",
      "\u001b[34m[04/26/2021 19:26:09 INFO 139959299233600] envs={'ENVROOT': '/opt/amazon', 'PROTOCOL_BUFFERS_PYTHON_IMPLEMENTATION': 'cpp', 'HOSTNAME': 'ip-10-0-75-73.ec2.internal', 'TRAINING_JOB_NAME': 'pca-2021-04-26-19-22-43-330', 'NVIDIA_REQUIRE_CUDA': 'cuda>=9.0', 'TRAINING_JOB_ARN': 'arn:aws:sagemaker:us-east-1:032934527328:training-job/pca-2021-04-26-19-22-43-330', 'AWS_CONTAINER_CREDENTIALS_RELATIVE_URI': '/v2/credentials/01a350fd-ab20-4eed-9a49-3fcf56032069', 'CANONICAL_ENVROOT': '/opt/amazon', 'PYTHONUNBUFFERED': 'TRUE', 'NVIDIA_VISIBLE_DEVICES': 'void', 'LD_LIBRARY_PATH': '/opt/amazon/lib/python3.7/site-packages/cv2/../../../../lib:/usr/local/nvidia/lib64:/opt/amazon/lib', 'NVIDIA_DRIVER_CAPABILITIES': 'compute,utility', 'AWS_EXECUTION_ENV': 'AWS_ECS_EC2', 'PATH': '/opt/amazon/bin:/usr/local/nvidia/bin:/usr/local/sbin:/usr/local/bin:/usr/sbin:/usr/bin:/sbin:/bin:/opt/amazon/bin:/opt/amazon/bin', 'PWD': '/', 'LANG': 'en_US.utf8', 'AWS_REGION': 'us-east-1', 'HOME': '/root', 'SHLVL': '1', 'PROTOCOL_BUFFERS_PYTHON_IMPLEMENTATION_VERSION': '2', 'OMP_NUM_THREADS': '1', 'DMLC_INTERFACE': 'eth0', 'ECS_CONTAINER_METADATA_URI': 'http://169.254.170.2/v3/5bea5fbd-d1e9-40fd-a2ce-970bc6c57c2a', 'ECS_CONTAINER_METADATA_URI_V4': 'http://169.254.170.2/v4/5bea5fbd-d1e9-40fd-a2ce-970bc6c57c2a', 'SAGEMAKER_HTTP_PORT': '8080', 'SAGEMAKER_DATA_PATH': '/opt/ml', 'DMLC_ROLE': 'scheduler', 'DMLC_PS_ROOT_URI': '10.0.75.73', 'DMLC_PS_ROOT_PORT': '9000', 'DMLC_NUM_SERVER': '1', 'DMLC_NUM_WORKER': '1'}\u001b[0m\n",
      "\u001b[34m[04/26/2021 19:26:09 INFO 139959299233600] Launching parameter server for role server\u001b[0m\n",
      "\u001b[34m[04/26/2021 19:26:09 INFO 139959299233600] {'ENVROOT': '/opt/amazon', 'PROTOCOL_BUFFERS_PYTHON_IMPLEMENTATION': 'cpp', 'HOSTNAME': 'ip-10-0-75-73.ec2.internal', 'TRAINING_JOB_NAME': 'pca-2021-04-26-19-22-43-330', 'NVIDIA_REQUIRE_CUDA': 'cuda>=9.0', 'TRAINING_JOB_ARN': 'arn:aws:sagemaker:us-east-1:032934527328:training-job/pca-2021-04-26-19-22-43-330', 'AWS_CONTAINER_CREDENTIALS_RELATIVE_URI': '/v2/credentials/01a350fd-ab20-4eed-9a49-3fcf56032069', 'CANONICAL_ENVROOT': '/opt/amazon', 'PYTHONUNBUFFERED': 'TRUE', 'NVIDIA_VISIBLE_DEVICES': 'void', 'LD_LIBRARY_PATH': '/opt/amazon/lib/python3.7/site-packages/cv2/../../../../lib:/usr/local/nvidia/lib64:/opt/amazon/lib', 'NVIDIA_DRIVER_CAPABILITIES': 'compute,utility', 'AWS_EXECUTION_ENV': 'AWS_ECS_EC2', 'PATH': '/opt/amazon/bin:/usr/local/nvidia/bin:/usr/local/sbin:/usr/local/bin:/usr/sbin:/usr/bin:/sbin:/bin:/opt/amazon/bin:/opt/amazon/bin', 'PWD': '/', 'LANG': 'en_US.utf8', 'AWS_REGION': 'us-east-1', 'HOME': '/root', 'SHLVL': '1', 'PROTOCOL_BUFFERS_PYTHON_IMPLEMENTATION_VERSION': '2', 'OMP_NUM_THREADS': '1', 'DMLC_INTERFACE': 'eth0', 'ECS_CONTAINER_METADATA_URI': 'http://169.254.170.2/v3/5bea5fbd-d1e9-40fd-a2ce-970bc6c57c2a', 'ECS_CONTAINER_METADATA_URI_V4': 'http://169.254.170.2/v4/5bea5fbd-d1e9-40fd-a2ce-970bc6c57c2a', 'SAGEMAKER_HTTP_PORT': '8080', 'SAGEMAKER_DATA_PATH': '/opt/ml'}\u001b[0m\n",
      "\u001b[34m[04/26/2021 19:26:09 INFO 139959299233600] envs={'ENVROOT': '/opt/amazon', 'PROTOCOL_BUFFERS_PYTHON_IMPLEMENTATION': 'cpp', 'HOSTNAME': 'ip-10-0-75-73.ec2.internal', 'TRAINING_JOB_NAME': 'pca-2021-04-26-19-22-43-330', 'NVIDIA_REQUIRE_CUDA': 'cuda>=9.0', 'TRAINING_JOB_ARN': 'arn:aws:sagemaker:us-east-1:032934527328:training-job/pca-2021-04-26-19-22-43-330', 'AWS_CONTAINER_CREDENTIALS_RELATIVE_URI': '/v2/credentials/01a350fd-ab20-4eed-9a49-3fcf56032069', 'CANONICAL_ENVROOT': '/opt/amazon', 'PYTHONUNBUFFERED': 'TRUE', 'NVIDIA_VISIBLE_DEVICES': 'void', 'LD_LIBRARY_PATH': '/opt/amazon/lib/python3.7/site-packages/cv2/../../../../lib:/usr/local/nvidia/lib64:/opt/amazon/lib', 'NVIDIA_DRIVER_CAPABILITIES': 'compute,utility', 'AWS_EXECUTION_ENV': 'AWS_ECS_EC2', 'PATH': '/opt/amazon/bin:/usr/local/nvidia/bin:/usr/local/sbin:/usr/local/bin:/usr/sbin:/usr/bin:/sbin:/bin:/opt/amazon/bin:/opt/amazon/bin', 'PWD': '/', 'LANG': 'en_US.utf8', 'AWS_REGION': 'us-east-1', 'HOME': '/root', 'SHLVL': '1', 'PROTOCOL_BUFFERS_PYTHON_IMPLEMENTATION_VERSION': '2', 'OMP_NUM_THREADS': '1', 'DMLC_INTERFACE': 'eth0', 'ECS_CONTAINER_METADATA_URI': 'http://169.254.170.2/v3/5bea5fbd-d1e9-40fd-a2ce-970bc6c57c2a', 'ECS_CONTAINER_METADATA_URI_V4': 'http://169.254.170.2/v4/5bea5fbd-d1e9-40fd-a2ce-970bc6c57c2a', 'SAGEMAKER_HTTP_PORT': '8080', 'SAGEMAKER_DATA_PATH': '/opt/ml', 'DMLC_ROLE': 'server', 'DMLC_PS_ROOT_URI': '10.0.75.73', 'DMLC_PS_ROOT_PORT': '9000', 'DMLC_NUM_SERVER': '1', 'DMLC_NUM_WORKER': '1'}\u001b[0m\n",
      "\u001b[34m[04/26/2021 19:26:09 INFO 139959299233600] Environment: {'ENVROOT': '/opt/amazon', 'PROTOCOL_BUFFERS_PYTHON_IMPLEMENTATION': 'cpp', 'HOSTNAME': 'ip-10-0-75-73.ec2.internal', 'TRAINING_JOB_NAME': 'pca-2021-04-26-19-22-43-330', 'NVIDIA_REQUIRE_CUDA': 'cuda>=9.0', 'TRAINING_JOB_ARN': 'arn:aws:sagemaker:us-east-1:032934527328:training-job/pca-2021-04-26-19-22-43-330', 'AWS_CONTAINER_CREDENTIALS_RELATIVE_URI': '/v2/credentials/01a350fd-ab20-4eed-9a49-3fcf56032069', 'CANONICAL_ENVROOT': '/opt/amazon', 'PYTHONUNBUFFERED': 'TRUE', 'NVIDIA_VISIBLE_DEVICES': 'void', 'LD_LIBRARY_PATH': '/opt/amazon/lib/python3.7/site-packages/cv2/../../../../lib:/usr/local/nvidia/lib64:/opt/amazon/lib', 'NVIDIA_DRIVER_CAPABILITIES': 'compute,utility', 'AWS_EXECUTION_ENV': 'AWS_ECS_EC2', 'PATH': '/opt/amazon/bin:/usr/local/nvidia/bin:/usr/local/sbin:/usr/local/bin:/usr/sbin:/usr/bin:/sbin:/bin:/opt/amazon/bin:/opt/amazon/bin', 'PWD': '/', 'LANG': 'en_US.utf8', 'AWS_REGION': 'us-east-1', 'HOME': '/root', 'SHLVL': '1', 'PROTOCOL_BUFFERS_PYTHON_IMPLEMENTATION_VERSION': '2', 'OMP_NUM_THREADS': '1', 'DMLC_INTERFACE': 'eth0', 'ECS_CONTAINER_METADATA_URI': 'http://169.254.170.2/v3/5bea5fbd-d1e9-40fd-a2ce-970bc6c57c2a', 'ECS_CONTAINER_METADATA_URI_V4': 'http://169.254.170.2/v4/5bea5fbd-d1e9-40fd-a2ce-970bc6c57c2a', 'SAGEMAKER_HTTP_PORT': '8080', 'SAGEMAKER_DATA_PATH': '/opt/ml', 'DMLC_ROLE': 'worker', 'DMLC_PS_ROOT_URI': '10.0.75.73', 'DMLC_PS_ROOT_PORT': '9000', 'DMLC_NUM_SERVER': '1', 'DMLC_NUM_WORKER': '1'}\u001b[0m\n",
      "\u001b[34mProcess 31 is a shell:scheduler.\u001b[0m\n",
      "\u001b[34mProcess 40 is a shell:server.\u001b[0m\n",
      "\u001b[34mProcess 1 is a worker.\u001b[0m\n",
      "\u001b[34m[04/26/2021 19:26:09 INFO 139959299233600] Using default worker.\u001b[0m\n",
      "\u001b[34m[04/26/2021 19:26:09 INFO 139959299233600] Loaded iterator creator application/x-labeled-vector-protobuf for content type ('application/x-labeled-vector-protobuf', '1.0')\u001b[0m\n",
      "\u001b[34m[04/26/2021 19:26:09 INFO 139959299233600] Loaded iterator creator application/x-recordio-protobuf for content type ('application/x-recordio-protobuf', '1.0')\u001b[0m\n",
      "\u001b[34m[04/26/2021 19:26:09 INFO 139959299233600] Loaded iterator creator protobuf for content type ('protobuf', '1.0')\u001b[0m\n",
      "\u001b[34m[04/26/2021 19:26:09 INFO 139959299233600] Checkpoint loading and saving are disabled.\u001b[0m\n",
      "\u001b[34m[04/26/2021 19:26:09 INFO 139959299233600] Create Store: dist_sync\u001b[0m\n"
     ]
    },
    {
     "name": "stdout",
     "output_type": "stream",
     "text": [
      "\u001b[34m[04/26/2021 19:26:10 INFO 139959299233600] nvidia-smi: took 0.080 seconds to run.\u001b[0m\n",
      "\u001b[34m[04/26/2021 19:26:10 INFO 139959299233600] nvidia-smi identified 0 GPUs.\u001b[0m\n",
      "\u001b[34m[04/26/2021 19:26:10 INFO 139959299233600] Number of GPUs being used: 0\u001b[0m\n",
      "\u001b[34m[04/26/2021 19:26:10 INFO 139959299233600] The default executor is <PCAExecutor on cpu(0)>.\u001b[0m\n",
      "\u001b[34m[04/26/2021 19:26:10 INFO 139959299233600] 35 feature(s) found in 'data'.\u001b[0m\n",
      "\u001b[34m[04/26/2021 19:26:10 INFO 139959299233600] <PCAExecutor on cpu(0)> is assigned to batch slice from 0 to 499.\u001b[0m\n",
      "\u001b[34m#metrics {\"StartTime\": 1619465169.5788536, \"EndTime\": 1619465170.5885084, \"Dimensions\": {\"Algorithm\": \"PCA\", \"Host\": \"algo-1\", \"Operation\": \"training\"}, \"Metrics\": {\"initialize.time\": {\"sum\": 994.7359561920166, \"count\": 1, \"min\": 994.7359561920166, \"max\": 994.7359561920166}}}\n",
      "\u001b[0m\n",
      "\u001b[34m#metrics {\"StartTime\": 1619465170.588752, \"EndTime\": 1619465170.5888026, \"Dimensions\": {\"Algorithm\": \"PCA\", \"Host\": \"algo-1\", \"Operation\": \"training\", \"Meta\": \"init_train_data_iter\"}, \"Metrics\": {\"Total Records Seen\": {\"sum\": 0.0, \"count\": 1, \"min\": 0, \"max\": 0}, \"Total Batches Seen\": {\"sum\": 0.0, \"count\": 1, \"min\": 0, \"max\": 0}, \"Max Records Seen Between Resets\": {\"sum\": 0.0, \"count\": 1, \"min\": 0, \"max\": 0}, \"Max Batches Seen Between Resets\": {\"sum\": 0.0, \"count\": 1, \"min\": 0, \"max\": 0}, \"Reset Count\": {\"sum\": 0.0, \"count\": 1, \"min\": 0, \"max\": 0}, \"Number of Records Since Last Reset\": {\"sum\": 0.0, \"count\": 1, \"min\": 0, \"max\": 0}, \"Number of Batches Since Last Reset\": {\"sum\": 0.0, \"count\": 1, \"min\": 0, \"max\": 0}}}\n",
      "\u001b[0m\n",
      "\u001b[34m[2021-04-26 19:26:10.589] [tensorio] [info] epoch_stats={\"data_pipeline\": \"/opt/ml/input/data/train\", \"epoch\": 0, \"duration\": 1009, \"num_examples\": 1, \"num_bytes\": 154000}\u001b[0m\n",
      "\u001b[34m[2021-04-26 19:26:10.640] [tensorio] [info] epoch_stats={\"data_pipeline\": \"/opt/ml/input/data/train\", \"epoch\": 1, \"duration\": 44, \"num_examples\": 7, \"num_bytes\": 991144}\u001b[0m\n",
      "\u001b[34m#metrics {\"StartTime\": 1619465170.5886178, \"EndTime\": 1619465170.6404762, \"Dimensions\": {\"Algorithm\": \"PCA\", \"Host\": \"algo-1\", \"Operation\": \"training\"}, \"Metrics\": {\"epochs\": {\"sum\": 1.0, \"count\": 1, \"min\": 1, \"max\": 1}, \"update.time\": {\"sum\": 51.15509033203125, \"count\": 1, \"min\": 51.15509033203125, \"max\": 51.15509033203125}}}\n",
      "\u001b[0m\n",
      "\u001b[34m[04/26/2021 19:26:10 INFO 139959299233600] #progress_metric: host=algo-1, completed 100.0 % of epochs\u001b[0m\n",
      "\u001b[34m#metrics {\"StartTime\": 1619465170.5892859, \"EndTime\": 1619465170.6418152, \"Dimensions\": {\"Algorithm\": \"PCA\", \"Host\": \"algo-1\", \"Operation\": \"training\", \"epoch\": 0, \"Meta\": \"training_data_iter\"}, \"Metrics\": {\"Total Records Seen\": {\"sum\": 3218.0, \"count\": 1, \"min\": 3218, \"max\": 3218}, \"Total Batches Seen\": {\"sum\": 7.0, \"count\": 1, \"min\": 7, \"max\": 7}, \"Max Records Seen Between Resets\": {\"sum\": 3218.0, \"count\": 1, \"min\": 3218, \"max\": 3218}, \"Max Batches Seen Between Resets\": {\"sum\": 7.0, \"count\": 1, \"min\": 7, \"max\": 7}, \"Reset Count\": {\"sum\": 1.0, \"count\": 1, \"min\": 1, \"max\": 1}, \"Number of Records Since Last Reset\": {\"sum\": 3218.0, \"count\": 1, \"min\": 3218, \"max\": 3218}, \"Number of Batches Since Last Reset\": {\"sum\": 7.0, \"count\": 1, \"min\": 7, \"max\": 7}}}\n",
      "\u001b[0m\n",
      "\u001b[34m[04/26/2021 19:26:10 INFO 139959299233600] #throughput_metric: host=algo-1, train throughput=61105.69471758932 records/second\u001b[0m\n",
      "\u001b[34m#metrics {\"StartTime\": 1619465170.6412022, \"EndTime\": 1619465170.6525908, \"Dimensions\": {\"Algorithm\": \"PCA\", \"Host\": \"algo-1\", \"Operation\": \"training\"}, \"Metrics\": {\"finalize.time\": {\"sum\": 10.310649871826172, \"count\": 1, \"min\": 10.310649871826172, \"max\": 10.310649871826172}}}\n",
      "\u001b[0m\n",
      "\u001b[34m[04/26/2021 19:26:10 INFO 139959299233600] Test data is not provided.\u001b[0m\n",
      "\u001b[34m#metrics {\"StartTime\": 1619465170.6526477, \"EndTime\": 1619465170.6536648, \"Dimensions\": {\"Algorithm\": \"PCA\", \"Host\": \"algo-1\", \"Operation\": \"training\"}, \"Metrics\": {\"setuptime\": {\"sum\": 23.004770278930664, \"count\": 1, \"min\": 23.004770278930664, \"max\": 23.004770278930664}, \"totaltime\": {\"sum\": 1329.075813293457, \"count\": 1, \"min\": 1329.075813293457, \"max\": 1329.075813293457}}}\n",
      "\u001b[0m\n",
      "\n",
      "2021-04-26 19:26:27 Completed - Training job completed\n",
      "Training seconds: 53\n",
      "Billable seconds: 24\n",
      "Managed Spot Training savings: 54.7%\n"
     ]
    }
   ],
   "source": [
    "pca.fit(train_data)"
   ]
  },
  {
   "cell_type": "code",
   "execution_count": 136,
   "id": "homeless-moses",
   "metadata": {},
   "outputs": [],
   "source": [
    "# modelartefacts='s3://sagemaker-us-east-1-032934527328/pca_popsegmentation/output/pca-2021-04-26-19-22-43-330/output/model.tar.gz'\n",
    "session.download_data('.',bucket,prefix)"
   ]
  },
  {
   "cell_type": "code",
   "execution_count": 137,
   "id": "cleared-timber",
   "metadata": {},
   "outputs": [],
   "source": [
    "import os"
   ]
  },
  {
   "cell_type": "code",
   "execution_count": 138,
   "id": "different-charleston",
   "metadata": {},
   "outputs": [
    {
     "data": {
      "text/plain": [
       "0"
      ]
     },
     "execution_count": 138,
     "metadata": {},
     "output_type": "execute_result"
    }
   ],
   "source": [
    "os.system('tar -zxvf output/pca-2021-04-26-19-22-43-330/output/model.tar.gz')"
   ]
  },
  {
   "cell_type": "code",
   "execution_count": 139,
   "id": "caroline-forge",
   "metadata": {},
   "outputs": [],
   "source": [
    "import mxnet as mx\n",
    "\n",
    "# loading the unzipped artifacts\n",
    "pca_model_params = mx.ndarray.load('model_algo-1')"
   ]
  },
  {
   "cell_type": "code",
   "execution_count": 149,
   "id": "mature-arena",
   "metadata": {
    "scrolled": true
   },
   "outputs": [
    {
     "name": "stdout",
     "output_type": "stream",
     "text": [
      "\n",
      "[1.8879069e-02 3.0862935e-02 3.2307226e-02 3.6436137e-02 9.4506517e-02\n",
      " 1.2697606e-01 4.0285927e-01 1.4084677e+00 1.5070882e+00 1.5955406e+00\n",
      " 1.7701308e+00 2.1626899e+00 2.2944586e+00 2.3853483e+00 2.6943908e+00\n",
      " 2.8023958e+00 3.0124876e+00 3.3771589e+00 3.5494158e+00 3.6944907e+00\n",
      " 4.1888704e+00 4.3453588e+00 4.5345011e+00 4.9961367e+00 5.5717435e+00\n",
      " 5.9102077e+00 6.3113518e+00 7.5891728e+00 7.9830227e+00 9.4362059e+00\n",
      " 1.1524720e+01 1.2467290e+01 1.4016885e+01 1.9851097e+01]\n",
      "<NDArray 34 @cpu(0)>\n"
     ]
    }
   ],
   "source": [
    "print(pca_model_params['s'])"
   ]
  },
  {
   "cell_type": "code",
   "execution_count": 150,
   "id": "parental-dividend",
   "metadata": {},
   "outputs": [
    {
     "name": "stderr",
     "output_type": "stream",
     "text": [
      "Defaulting to the only supported framework/algorithm version: 1. Ignoring framework/algorithm version: 1.\n"
     ]
    }
   ],
   "source": [
    "pca_transformer=pca.transformer(instance_count=1,\n",
    "                                instance_type='ml.m5.large',\n",
    "                               output_path=f's3://{bucket}/{prefix}/transformed_result')"
   ]
  },
  {
   "cell_type": "code",
   "execution_count": 157,
   "id": "prescription-pregnancy",
   "metadata": {},
   "outputs": [],
   "source": [
    "df.to_csv('cleaned_train_data.csv',header=None,index=None)"
   ]
  },
  {
   "cell_type": "code",
   "execution_count": 159,
   "id": "lesser-mozambique",
   "metadata": {},
   "outputs": [],
   "source": [
    "cleaned_train_data=session.upload_data('cleaned_train_data.csv',\n",
    "                    bucket=bucket,\n",
    "                    key_prefix=prefix)"
   ]
  },
  {
   "cell_type": "code",
   "execution_count": 160,
   "id": "starting-biography",
   "metadata": {
    "scrolled": true
   },
   "outputs": [
    {
     "name": "stdout",
     "output_type": "stream",
     "text": [
      "............................\u001b[34mDocker entrypoint called with argument(s): serve\u001b[0m\n",
      "\u001b[34mRunning default environment configuration script\u001b[0m\n",
      "\u001b[34m[04/26/2021 20:58:35 INFO 140427457681216] loaded entry point class algorithm.serve.server_config:config_api\u001b[0m\n",
      "\u001b[34m[04/26/2021 20:58:35 INFO 140427457681216] nvidia-smi: took 0.032 seconds to run.\u001b[0m\n",
      "\u001b[34m[04/26/2021 20:58:35 INFO 140427457681216] nvidia-smi identified 0 GPUs.\u001b[0m\n",
      "\u001b[34m[04/26/2021 20:58:35 INFO 140427457681216] loading entry points\u001b[0m\n",
      "\u001b[34m[04/26/2021 20:58:35 INFO 140427457681216] Loaded iterator creator application/x-labeled-vector-protobuf for content type ('application/x-labeled-vector-protobuf', '1.0')\u001b[0m\n",
      "\u001b[34m[04/26/2021 20:58:35 INFO 140427457681216] Loaded iterator creator application/x-recordio-protobuf for content type ('application/x-recordio-protobuf', '1.0')\u001b[0m\n",
      "\u001b[34m[04/26/2021 20:58:35 INFO 140427457681216] Loaded iterator creator protobuf for content type ('protobuf', '1.0')\u001b[0m\n",
      "\u001b[34m[04/26/2021 20:58:35 INFO 140427457681216] loaded request iterator application/json\u001b[0m\n",
      "\u001b[34m[04/26/2021 20:58:35 INFO 140427457681216] loaded request iterator application/jsonlines\u001b[0m\n",
      "\u001b[34m[04/26/2021 20:58:35 INFO 140427457681216] loaded request iterator application/x-recordio-protobuf\u001b[0m\n",
      "\u001b[34m[04/26/2021 20:58:35 INFO 140427457681216] loaded request iterator text/csv\u001b[0m\n",
      "\u001b[34m[04/26/2021 20:58:35 INFO 140427457681216] loaded response encoder application/json\u001b[0m\n",
      "\u001b[34m[04/26/2021 20:58:35 INFO 140427457681216] loaded response encoder application/jsonlines\u001b[0m\n",
      "\u001b[34m[04/26/2021 20:58:35 INFO 140427457681216] loaded response encoder application/x-recordio-protobuf\u001b[0m\n",
      "\u001b[34m[04/26/2021 20:58:35 INFO 140427457681216] loaded entry point class algorithm:model\u001b[0m\n",
      "\u001b[34m[04/26/2021 20:58:35 INFO 140427457681216] Loaded iterator creator application/x-labeled-vector-protobuf for content type ('application/x-labeled-vector-protobuf', '1.0')\u001b[0m\n",
      "\u001b[34m[04/26/2021 20:58:35 INFO 140427457681216] Loaded iterator creator application/x-recordio-protobuf for content type ('application/x-recordio-protobuf', '1.0')\u001b[0m\n",
      "\u001b[34m[04/26/2021 20:58:35 INFO 140427457681216] Loaded iterator creator protobuf for content type ('protobuf', '1.0')\u001b[0m\n",
      "\u001b[34m[04/26/2021 20:58:35 INFO 140427457681216] Number of server workers: 2\u001b[0m\n",
      "\u001b[34m[2021-04-26 20:58:35 +0000] [1] [INFO] Starting gunicorn 20.0.4\u001b[0m\n",
      "\u001b[34m[2021-04-26 20:58:35 +0000] [1] [INFO] Listening at: http://0.0.0.0:8080 (1)\u001b[0m\n",
      "\u001b[34m[2021-04-26 20:58:35 +0000] [1] [INFO] Using worker: sync\u001b[0m\n",
      "\u001b[34m[2021-04-26 20:58:35 +0000] [53] [INFO] Booting worker with pid: 53\u001b[0m\n",
      "\u001b[34m[04/26/2021 20:58:35 INFO 140427457681216] loading model...\u001b[0m\n",
      "\u001b[34m[04/26/2021 20:58:35 INFO 140427457681216] ...model loaded.\u001b[0m\n",
      "\u001b[34m[2021-04-26 20:58:35 +0000] [63] [INFO] Booting worker with pid: 63\u001b[0m\n",
      "\u001b[34m[04/26/2021 20:58:35 INFO 140427457681216] loading model...\u001b[0m\n",
      "\u001b[34m[04/26/2021 20:58:35 INFO 140427457681216] ...model loaded.\u001b[0m\n",
      "\u001b[34m#metrics {\"StartTime\": 1619470715.2944856, \"EndTime\": 1619470719.19104, \"Dimensions\": {\"Algorithm\": \"AlgorithmModel\", \"Host\": \"UNKNOWN\", \"Operation\": \"scoring\"}, \"Metrics\": {\"execution_parameters.count\": {\"sum\": 1.0, \"count\": 1, \"min\": 1, \"max\": 1}}}\n",
      "\u001b[0m\n",
      "\u001b[34m[04/26/2021 20:58:39 WARNING 140427457681216] Requesting context without setting the requested num of gpus. Using 'auto'\u001b[0m\n",
      "\u001b[34m[04/26/2021 20:58:39 INFO 140427457681216] Number of GPUs being used: 0\u001b[0m\n",
      "\u001b[34m[04/26/2021 20:58:39 INFO 140427457681216] The default executor is <PCAModel on cpu(0)>.\u001b[0m\n",
      "\u001b[34m[04/26/2021 20:58:39 INFO 140427457681216] <PCAModel on cpu(0)> is assigned to batch slice from 0 to 3217.\u001b[0m\n",
      "\u001b[34m#metrics {\"StartTime\": 1619470719.1911738, \"EndTime\": 1619470719.7950048, \"Dimensions\": {\"Algorithm\": \"AlgorithmModel\", \"Host\": \"UNKNOWN\", \"Operation\": \"scoring\"}, \"Metrics\": {\"invocations.count\": {\"sum\": 1.0, \"count\": 1, \"min\": 1, \"max\": 1}}}\n",
      "\u001b[0m\n",
      "\u001b[32m2021-04-26T20:58:39.203:[sagemaker logs]: MaxConcurrentTransforms=2, MaxPayloadInMB=6, BatchStrategy=MULTI_RECORD\u001b[0m\n",
      "\n"
     ]
    }
   ],
   "source": [
    "pca_transformer.transform(cleaned_train_data,\n",
    "                          content_type='text/csv; label_size=0',\n",
    "                          split_type='Line'\n",
    "                 )"
   ]
  },
  {
   "cell_type": "code",
   "execution_count": 163,
   "id": "german-familiar",
   "metadata": {},
   "outputs": [
    {
     "name": "stdout",
     "output_type": "stream",
     "text": [
      "download: s3://sagemaker-us-east-1-032934527328/pca_popsegmentation/transformed_result/cleaned_train_data.csv.out to ./cleaned_train_data.csv.out\n"
     ]
    }
   ],
   "source": [
    "!aws s3 cp  $pca_transformer.output_path/cleaned_train_data.csv.out ."
   ]
  },
  {
   "cell_type": "code",
   "execution_count": 202,
   "id": "undefined-heritage",
   "metadata": {},
   "outputs": [],
   "source": [
    "with open('cleaned_train_data.csv.out','r') as f:\n",
    "    transformedoutput=f.readlines()\n",
    "    newtransformedoutput=map(json.loads,transformedoutput)"
   ]
  },
  {
   "cell_type": "code",
   "execution_count": 203,
   "id": "collectible-cincinnati",
   "metadata": {},
   "outputs": [],
   "source": [
    "counties_transformed=pd.DataFrame([x['projection'] for x in list(newtransformedoutput)])"
   ]
  },
  {
   "cell_type": "code",
   "execution_count": 213,
   "id": "referenced-infection",
   "metadata": {},
   "outputs": [],
   "source": [
    "# we decide to select last 7 components of the  PCA components.. \n",
    "# because they explain about 80 percent of the variance\n",
    "# Importance is in descending order thats why last 7 components\n",
    "counties_transformed=counties_transformed.iloc[:,-7:]"
   ]
  },
  {
   "cell_type": "code",
   "execution_count": 209,
   "id": "distinct-context",
   "metadata": {},
   "outputs": [],
   "source": [
    "counties_transformed.columns=['c_'+str(x) for x in range(1,8)]"
   ]
  },
  {
   "cell_type": "code",
   "execution_count": 211,
   "id": "informed-bangkok",
   "metadata": {},
   "outputs": [],
   "source": [
    "counties_transformed.index=df.index"
   ]
  },
  {
   "cell_type": "code",
   "execution_count": 212,
   "id": "extra-antenna",
   "metadata": {},
   "outputs": [
    {
     "data": {
      "text/html": [
       "<div>\n",
       "<style scoped>\n",
       "    .dataframe tbody tr th:only-of-type {\n",
       "        vertical-align: middle;\n",
       "    }\n",
       "\n",
       "    .dataframe tbody tr th {\n",
       "        vertical-align: top;\n",
       "    }\n",
       "\n",
       "    .dataframe thead th {\n",
       "        text-align: right;\n",
       "    }\n",
       "</style>\n",
       "<table border=\"1\" class=\"dataframe\">\n",
       "  <thead>\n",
       "    <tr style=\"text-align: right;\">\n",
       "      <th></th>\n",
       "      <th>c_1</th>\n",
       "      <th>c_2</th>\n",
       "      <th>c_3</th>\n",
       "      <th>c_4</th>\n",
       "      <th>c_5</th>\n",
       "      <th>c_6</th>\n",
       "      <th>c_7</th>\n",
       "    </tr>\n",
       "    <tr>\n",
       "      <th>State-County</th>\n",
       "      <th></th>\n",
       "      <th></th>\n",
       "      <th></th>\n",
       "      <th></th>\n",
       "      <th></th>\n",
       "      <th></th>\n",
       "      <th></th>\n",
       "    </tr>\n",
       "  </thead>\n",
       "  <tbody>\n",
       "    <tr>\n",
       "      <th>Alabama-Autauga</th>\n",
       "      <td>0.072915</td>\n",
       "      <td>-0.015703</td>\n",
       "      <td>0.033533</td>\n",
       "      <td>-0.190956</td>\n",
       "      <td>0.058183</td>\n",
       "      <td>-0.388894</td>\n",
       "      <td>0.153362</td>\n",
       "    </tr>\n",
       "    <tr>\n",
       "      <th>Alabama-Baldwin</th>\n",
       "      <td>0.106279</td>\n",
       "      <td>-0.077228</td>\n",
       "      <td>0.160212</td>\n",
       "      <td>-0.193508</td>\n",
       "      <td>-0.028395</td>\n",
       "      <td>-0.347913</td>\n",
       "      <td>0.237643</td>\n",
       "    </tr>\n",
       "    <tr>\n",
       "      <th>Alabama-Barbour</th>\n",
       "      <td>-0.048456</td>\n",
       "      <td>0.081486</td>\n",
       "      <td>-0.098688</td>\n",
       "      <td>-0.046531</td>\n",
       "      <td>0.160499</td>\n",
       "      <td>-0.671719</td>\n",
       "      <td>-0.387702</td>\n",
       "    </tr>\n",
       "    <tr>\n",
       "      <th>Alabama-Bibb</th>\n",
       "      <td>0.047214</td>\n",
       "      <td>0.270519</td>\n",
       "      <td>0.132384</td>\n",
       "      <td>0.109231</td>\n",
       "      <td>0.150770</td>\n",
       "      <td>-0.476888</td>\n",
       "      <td>0.031153</td>\n",
       "    </tr>\n",
       "    <tr>\n",
       "      <th>Alabama-Blount</th>\n",
       "      <td>0.262847</td>\n",
       "      <td>0.101598</td>\n",
       "      <td>0.272871</td>\n",
       "      <td>0.019787</td>\n",
       "      <td>-0.062181</td>\n",
       "      <td>-0.385699</td>\n",
       "      <td>0.179444</td>\n",
       "    </tr>\n",
       "    <tr>\n",
       "      <th>...</th>\n",
       "      <td>...</td>\n",
       "      <td>...</td>\n",
       "      <td>...</td>\n",
       "      <td>...</td>\n",
       "      <td>...</td>\n",
       "      <td>...</td>\n",
       "      <td>...</td>\n",
       "    </tr>\n",
       "    <tr>\n",
       "      <th>Puerto Rico-Vega Baja</th>\n",
       "      <td>0.077570</td>\n",
       "      <td>-0.089944</td>\n",
       "      <td>0.300820</td>\n",
       "      <td>0.026268</td>\n",
       "      <td>-0.413248</td>\n",
       "      <td>0.373019</td>\n",
       "      <td>-1.341685</td>\n",
       "    </tr>\n",
       "    <tr>\n",
       "      <th>Puerto Rico-Vieques</th>\n",
       "      <td>-0.066717</td>\n",
       "      <td>-0.140418</td>\n",
       "      <td>0.132614</td>\n",
       "      <td>0.139680</td>\n",
       "      <td>0.418233</td>\n",
       "      <td>0.653648</td>\n",
       "      <td>-1.449128</td>\n",
       "    </tr>\n",
       "    <tr>\n",
       "      <th>Puerto Rico-Villalba</th>\n",
       "      <td>0.144229</td>\n",
       "      <td>-0.051206</td>\n",
       "      <td>0.250212</td>\n",
       "      <td>0.193490</td>\n",
       "      <td>-0.028249</td>\n",
       "      <td>0.436355</td>\n",
       "      <td>-1.556741</td>\n",
       "    </tr>\n",
       "    <tr>\n",
       "      <th>Puerto Rico-Yabucoa</th>\n",
       "      <td>0.168605</td>\n",
       "      <td>-0.115449</td>\n",
       "      <td>0.233989</td>\n",
       "      <td>0.128835</td>\n",
       "      <td>-0.139306</td>\n",
       "      <td>0.410299</td>\n",
       "      <td>-1.536947</td>\n",
       "    </tr>\n",
       "    <tr>\n",
       "      <th>Puerto Rico-Yauco</th>\n",
       "      <td>0.099524</td>\n",
       "      <td>-0.171880</td>\n",
       "      <td>0.258570</td>\n",
       "      <td>0.054389</td>\n",
       "      <td>-0.182786</td>\n",
       "      <td>0.417922</td>\n",
       "      <td>-1.498165</td>\n",
       "    </tr>\n",
       "  </tbody>\n",
       "</table>\n",
       "<p>3218 rows × 7 columns</p>\n",
       "</div>"
      ],
      "text/plain": [
       "                            c_1       c_2       c_3       c_4       c_5  \\\n",
       "State-County                                                              \n",
       "Alabama-Autauga        0.072915 -0.015703  0.033533 -0.190956  0.058183   \n",
       "Alabama-Baldwin        0.106279 -0.077228  0.160212 -0.193508 -0.028395   \n",
       "Alabama-Barbour       -0.048456  0.081486 -0.098688 -0.046531  0.160499   \n",
       "Alabama-Bibb           0.047214  0.270519  0.132384  0.109231  0.150770   \n",
       "Alabama-Blount         0.262847  0.101598  0.272871  0.019787 -0.062181   \n",
       "...                         ...       ...       ...       ...       ...   \n",
       "Puerto Rico-Vega Baja  0.077570 -0.089944  0.300820  0.026268 -0.413248   \n",
       "Puerto Rico-Vieques   -0.066717 -0.140418  0.132614  0.139680  0.418233   \n",
       "Puerto Rico-Villalba   0.144229 -0.051206  0.250212  0.193490 -0.028249   \n",
       "Puerto Rico-Yabucoa    0.168605 -0.115449  0.233989  0.128835 -0.139306   \n",
       "Puerto Rico-Yauco      0.099524 -0.171880  0.258570  0.054389 -0.182786   \n",
       "\n",
       "                            c_6       c_7  \n",
       "State-County                               \n",
       "Alabama-Autauga       -0.388894  0.153362  \n",
       "Alabama-Baldwin       -0.347913  0.237643  \n",
       "Alabama-Barbour       -0.671719 -0.387702  \n",
       "Alabama-Bibb          -0.476888  0.031153  \n",
       "Alabama-Blount        -0.385699  0.179444  \n",
       "...                         ...       ...  \n",
       "Puerto Rico-Vega Baja  0.373019 -1.341685  \n",
       "Puerto Rico-Vieques    0.653648 -1.449128  \n",
       "Puerto Rico-Villalba   0.436355 -1.556741  \n",
       "Puerto Rico-Yabucoa    0.410299 -1.536947  \n",
       "Puerto Rico-Yauco      0.417922 -1.498165  \n",
       "\n",
       "[3218 rows x 7 columns]"
      ]
     },
     "execution_count": 212,
     "metadata": {},
     "output_type": "execute_result"
    }
   ],
   "source": [
    "counties_transformed"
   ]
  },
  {
   "cell_type": "markdown",
   "id": "sudden-cricket",
   "metadata": {},
   "source": [
    "# K Means Clustering"
   ]
  },
  {
   "cell_type": "code",
   "execution_count": 216,
   "id": "generous-horror",
   "metadata": {},
   "outputs": [],
   "source": [
    "prefix='k-means-clustering'\n",
    "data_dir='kmeans'\n",
    "output_path=f's3://{bucket}/{prefix}/output'\n",
    "os.makedirs(data_dir)"
   ]
  },
  {
   "cell_type": "code",
   "execution_count": 217,
   "id": "massive-somerset",
   "metadata": {},
   "outputs": [],
   "source": [
    "counties_transformed.to_csv(\n",
    "    os.path.join(data_dir,'pca_output_for_kmeans_input.csv'),\n",
    "                 header=None,index=None)"
   ]
  },
  {
   "cell_type": "code",
   "execution_count": 219,
   "id": "casual-ontario",
   "metadata": {},
   "outputs": [],
   "source": [
    "kmeans_train=session.upload_data(os.path.join(data_dir,'pca_output_for_kmeans_input.csv'),\n",
    "               bucket=bucket,\n",
    "                   key_prefix=prefix)"
   ]
  },
  {
   "cell_type": "code",
   "execution_count": 228,
   "id": "academic-contrary",
   "metadata": {},
   "outputs": [],
   "source": [
    "container=sagemaker.image_uris.retrieve('kmeans',session.boto_region_name)\n",
    "kmeans=sagemaker.estimator.Estimator(image_uri=container,\n",
    "                                role=role,instance_count=1,\n",
    "                                  instance_type= 'ml.m5.large',\n",
    "                                  output_path=output_path,\n",
    "                                 session=session,\n",
    "                                     use_spot_instances=True,\n",
    "                                   max_run=3600,\n",
    "                                      max_wait=3600  )\n",
    "kmeans.set_hyperparameters(feature_dim=7,k=8,epochs=5)"
   ]
  },
  {
   "cell_type": "code",
   "execution_count": 229,
   "id": "shaped-industry",
   "metadata": {},
   "outputs": [],
   "source": [
    "s3_input_train=sagemaker.inputs.TrainingInput(s3_data=kmeans_train,\n",
    "                                  content_type='text/csv;label_size=0')"
   ]
  },
  {
   "cell_type": "code",
   "execution_count": 231,
   "id": "fossil-fellow",
   "metadata": {
    "scrolled": true
   },
   "outputs": [
    {
     "name": "stdout",
     "output_type": "stream",
     "text": [
      "2021-04-26 22:40:36 Starting - Starting the training job...\n",
      "2021-04-26 22:41:00 Starting - Launching requested ML instancesProfilerReport-1619476836: InProgress\n",
      "......\n",
      "2021-04-26 22:42:00 Starting - Preparing the instances for training.....................\n",
      "2021-04-26 22:45:34 Downloading - Downloading input data...\n",
      "2021-04-26 22:46:02 Training - Training image download completed. Training in progress.\n",
      "2021-04-26 22:46:02 Uploading - Uploading generated training model\u001b[34mDocker entrypoint called with argument(s): train\u001b[0m\n",
      "\u001b[34mRunning default environment configuration script\u001b[0m\n",
      "\u001b[34m[04/26/2021 22:46:00 INFO 140712629991040] Reading default configuration from /opt/amazon/lib/python3.6/site-packages/algorithm/resources/default-input.json: {'init_method': 'random', 'mini_batch_size': '5000', 'epochs': '1', 'extra_center_factor': 'auto', 'local_lloyd_max_iter': '300', 'local_lloyd_tol': '0.0001', 'local_lloyd_init_method': 'kmeans++', 'local_lloyd_num_trials': 'auto', 'half_life_time_size': '0', 'eval_metrics': '[\"msd\"]', 'force_dense': 'true', '_disable_wait_to_read': 'false', '_enable_profiler': 'false', '_kvstore': 'auto', '_log_level': 'info', '_num_gpus': 'auto', '_num_kv_servers': '1', '_num_slices': '1', '_tuning_objective_metric': ''}\u001b[0m\n",
      "\u001b[34m[04/26/2021 22:46:00 INFO 140712629991040] Merging with provided configuration from /opt/ml/input/config/hyperparameters.json: {'feature_dim': '7', 'k': '8', 'epochs': '5'}\u001b[0m\n",
      "\u001b[34m[04/26/2021 22:46:00 INFO 140712629991040] Final configuration: {'init_method': 'random', 'mini_batch_size': '5000', 'epochs': '5', 'extra_center_factor': 'auto', 'local_lloyd_max_iter': '300', 'local_lloyd_tol': '0.0001', 'local_lloyd_init_method': 'kmeans++', 'local_lloyd_num_trials': 'auto', 'half_life_time_size': '0', 'eval_metrics': '[\"msd\"]', 'force_dense': 'true', '_disable_wait_to_read': 'false', '_enable_profiler': 'false', '_kvstore': 'auto', '_log_level': 'info', '_num_gpus': 'auto', '_num_kv_servers': '1', '_num_slices': '1', '_tuning_objective_metric': '', 'feature_dim': '7', 'k': '8'}\u001b[0m\n",
      "\u001b[34m[04/26/2021 22:46:00 WARNING 140712629991040] Loggers have already been setup.\u001b[0m\n",
      "\u001b[34mProcess 1 is a worker.\u001b[0m\n",
      "\u001b[34m[04/26/2021 22:46:00 INFO 140712629991040] Using default worker.\u001b[0m\n",
      "\u001b[34m[04/26/2021 22:46:00 INFO 140712629991040] Loaded iterator creator application/x-recordio-protobuf for content type ('application/x-recordio-protobuf', '1.0')\u001b[0m\n",
      "\u001b[34m[04/26/2021 22:46:00 INFO 140712629991040] Create Store: local\u001b[0m\n",
      "\u001b[34m[04/26/2021 22:46:00 INFO 140712629991040] nvidia-smi took: 0.025208711624145508 secs to identify 0 gpus\u001b[0m\n",
      "\u001b[34m[04/26/2021 22:46:00 INFO 140712629991040] Number of GPUs being used: 0\u001b[0m\n",
      "\u001b[34m[04/26/2021 22:46:00 INFO 140712629991040] Checkpoint loading and saving are disabled.\u001b[0m\n",
      "\u001b[34m[04/26/2021 22:46:00 INFO 140712629991040] Setting up with params: {'init_method': 'random', 'mini_batch_size': '5000', 'epochs': '5', 'extra_center_factor': 'auto', 'local_lloyd_max_iter': '300', 'local_lloyd_tol': '0.0001', 'local_lloyd_init_method': 'kmeans++', 'local_lloyd_num_trials': 'auto', 'half_life_time_size': '0', 'eval_metrics': '[\"msd\"]', 'force_dense': 'true', '_disable_wait_to_read': 'false', '_enable_profiler': 'false', '_kvstore': 'auto', '_log_level': 'info', '_num_gpus': 'auto', '_num_kv_servers': '1', '_num_slices': '1', '_tuning_objective_metric': '', 'feature_dim': '7', 'k': '8'}\u001b[0m\n",
      "\u001b[34m[04/26/2021 22:46:00 INFO 140712629991040] 'extra_center_factor' was set to 'auto', evaluated to 10.\u001b[0m\n",
      "\u001b[34m[04/26/2021 22:46:00 INFO 140712629991040] Number of GPUs being used: 0\u001b[0m\n",
      "\u001b[34m[04/26/2021 22:46:00 INFO 140712629991040] number of center slices 1\u001b[0m\n",
      "\u001b[34m[04/26/2021 22:46:00 WARNING 140712629991040] Batch size 5000 is bigger than the first batch data. Effective batch size used to initialize is 3218\u001b[0m\n",
      "\u001b[34m#metrics {\"StartTime\": 1619477160.3802629, \"EndTime\": 1619477160.380306, \"Dimensions\": {\"Algorithm\": \"AWS/KMeansWebscale\", \"Host\": \"algo-1\", \"Operation\": \"training\", \"Meta\": \"init_train_data_iter\"}, \"Metrics\": {\"Total Records Seen\": {\"sum\": 3218.0, \"count\": 1, \"min\": 3218, \"max\": 3218}, \"Total Batches Seen\": {\"sum\": 1.0, \"count\": 1, \"min\": 1, \"max\": 1}, \"Max Records Seen Between Resets\": {\"sum\": 3218.0, \"count\": 1, \"min\": 3218, \"max\": 3218}, \"Max Batches Seen Between Resets\": {\"sum\": 1.0, \"count\": 1, \"min\": 1, \"max\": 1}, \"Reset Count\": {\"sum\": 0.0, \"count\": 1, \"min\": 0, \"max\": 0}, \"Number of Records Since Last Reset\": {\"sum\": 3218.0, \"count\": 1, \"min\": 3218, \"max\": 3218}, \"Number of Batches Since Last Reset\": {\"sum\": 1.0, \"count\": 1, \"min\": 1, \"max\": 1}}}\n",
      "\u001b[0m\n",
      "\u001b[34m[04/26/2021 22:46:00 INFO 140712629991040] processed a total of 3218 examples\u001b[0m\n",
      "\u001b[34m[04/26/2021 22:46:00 INFO 140712629991040] #progress_metric: host=algo-1, completed 20.0 % of epochs\u001b[0m\n",
      "\u001b[34m#metrics {\"StartTime\": 1619477160.380733, \"EndTime\": 1619477160.4521563, \"Dimensions\": {\"Algorithm\": \"AWS/KMeansWebscale\", \"Host\": \"algo-1\", \"Operation\": \"training\", \"epoch\": 0, \"Meta\": \"training_data_iter\"}, \"Metrics\": {\"Total Records Seen\": {\"sum\": 6436.0, \"count\": 1, \"min\": 6436, \"max\": 6436}, \"Total Batches Seen\": {\"sum\": 2.0, \"count\": 1, \"min\": 2, \"max\": 2}, \"Max Records Seen Between Resets\": {\"sum\": 3218.0, \"count\": 1, \"min\": 3218, \"max\": 3218}, \"Max Batches Seen Between Resets\": {\"sum\": 1.0, \"count\": 1, \"min\": 1, \"max\": 1}, \"Reset Count\": {\"sum\": 1.0, \"count\": 1, \"min\": 1, \"max\": 1}, \"Number of Records Since Last Reset\": {\"sum\": 3218.0, \"count\": 1, \"min\": 3218, \"max\": 3218}, \"Number of Batches Since Last Reset\": {\"sum\": 1.0, \"count\": 1, \"min\": 1, \"max\": 1}}}\n",
      "\u001b[0m\n",
      "\u001b[34m[04/26/2021 22:46:00 INFO 140712629991040] #throughput_metric: host=algo-1, train throughput=44877.21196967682 records/second\u001b[0m\n",
      "\u001b[34m[04/26/2021 22:46:00 INFO 140712629991040] processed a total of 3218 examples\u001b[0m\n",
      "\u001b[34m[04/26/2021 22:46:00 INFO 140712629991040] #progress_metric: host=algo-1, completed 40.0 % of epochs\u001b[0m\n",
      "\u001b[34m#metrics {\"StartTime\": 1619477160.4524443, \"EndTime\": 1619477160.4864318, \"Dimensions\": {\"Algorithm\": \"AWS/KMeansWebscale\", \"Host\": \"algo-1\", \"Operation\": \"training\", \"epoch\": 1, \"Meta\": \"training_data_iter\"}, \"Metrics\": {\"Total Records Seen\": {\"sum\": 9654.0, \"count\": 1, \"min\": 9654, \"max\": 9654}, \"Total Batches Seen\": {\"sum\": 3.0, \"count\": 1, \"min\": 3, \"max\": 3}, \"Max Records Seen Between Resets\": {\"sum\": 3218.0, \"count\": 1, \"min\": 3218, \"max\": 3218}, \"Max Batches Seen Between Resets\": {\"sum\": 1.0, \"count\": 1, \"min\": 1, \"max\": 1}, \"Reset Count\": {\"sum\": 2.0, \"count\": 1, \"min\": 2, \"max\": 2}, \"Number of Records Since Last Reset\": {\"sum\": 3218.0, \"count\": 1, \"min\": 3218, \"max\": 3218}, \"Number of Batches Since Last Reset\": {\"sum\": 1.0, \"count\": 1, \"min\": 1, \"max\": 1}}}\n",
      "\u001b[0m\n",
      "\u001b[34m[04/26/2021 22:46:00 INFO 140712629991040] #throughput_metric: host=algo-1, train throughput=94008.4991955424 records/second\u001b[0m\n",
      "\u001b[34m[04/26/2021 22:46:00 INFO 140712629991040] processed a total of 3218 examples\u001b[0m\n",
      "\u001b[34m[04/26/2021 22:46:00 INFO 140712629991040] #progress_metric: host=algo-1, completed 60.0 % of epochs\u001b[0m\n",
      "\u001b[34m#metrics {\"StartTime\": 1619477160.487004, \"EndTime\": 1619477160.517397, \"Dimensions\": {\"Algorithm\": \"AWS/KMeansWebscale\", \"Host\": \"algo-1\", \"Operation\": \"training\", \"epoch\": 2, \"Meta\": \"training_data_iter\"}, \"Metrics\": {\"Total Records Seen\": {\"sum\": 12872.0, \"count\": 1, \"min\": 12872, \"max\": 12872}, \"Total Batches Seen\": {\"sum\": 4.0, \"count\": 1, \"min\": 4, \"max\": 4}, \"Max Records Seen Between Resets\": {\"sum\": 3218.0, \"count\": 1, \"min\": 3218, \"max\": 3218}, \"Max Batches Seen Between Resets\": {\"sum\": 1.0, \"count\": 1, \"min\": 1, \"max\": 1}, \"Reset Count\": {\"sum\": 3.0, \"count\": 1, \"min\": 3, \"max\": 3}, \"Number of Records Since Last Reset\": {\"sum\": 3218.0, \"count\": 1, \"min\": 3218, \"max\": 3218}, \"Number of Batches Since Last Reset\": {\"sum\": 1.0, \"count\": 1, \"min\": 1, \"max\": 1}}}\n",
      "\u001b[0m\n",
      "\u001b[34m[04/26/2021 22:46:00 INFO 140712629991040] #throughput_metric: host=algo-1, train throughput=105107.46703630446 records/second\u001b[0m\n",
      "\u001b[34m[04/26/2021 22:46:00 INFO 140712629991040] processed a total of 3218 examples\u001b[0m\n",
      "\u001b[34m[04/26/2021 22:46:00 INFO 140712629991040] #progress_metric: host=algo-1, completed 80.0 % of epochs\u001b[0m\n",
      "\u001b[34m#metrics {\"StartTime\": 1619477160.5177336, \"EndTime\": 1619477160.5396762, \"Dimensions\": {\"Algorithm\": \"AWS/KMeansWebscale\", \"Host\": \"algo-1\", \"Operation\": \"training\", \"epoch\": 3, \"Meta\": \"training_data_iter\"}, \"Metrics\": {\"Total Records Seen\": {\"sum\": 16090.0, \"count\": 1, \"min\": 16090, \"max\": 16090}, \"Total Batches Seen\": {\"sum\": 5.0, \"count\": 1, \"min\": 5, \"max\": 5}, \"Max Records Seen Between Resets\": {\"sum\": 3218.0, \"count\": 1, \"min\": 3218, \"max\": 3218}, \"Max Batches Seen Between Resets\": {\"sum\": 1.0, \"count\": 1, \"min\": 1, \"max\": 1}, \"Reset Count\": {\"sum\": 4.0, \"count\": 1, \"min\": 4, \"max\": 4}, \"Number of Records Since Last Reset\": {\"sum\": 3218.0, \"count\": 1, \"min\": 3218, \"max\": 3218}, \"Number of Batches Since Last Reset\": {\"sum\": 1.0, \"count\": 1, \"min\": 1, \"max\": 1}}}\n",
      "\u001b[0m\n",
      "\u001b[34m[04/26/2021 22:46:00 INFO 140712629991040] #throughput_metric: host=algo-1, train throughput=145549.80720994683 records/second\u001b[0m\n",
      "\u001b[34m[04/26/2021 22:46:00 INFO 140712629991040] processed a total of 3218 examples\u001b[0m\n",
      "\u001b[34m[04/26/2021 22:46:00 INFO 140712629991040] #progress_metric: host=algo-1, completed 100.0 % of epochs\u001b[0m\n",
      "\u001b[34m#metrics {\"StartTime\": 1619477160.5399551, \"EndTime\": 1619477160.571411, \"Dimensions\": {\"Algorithm\": \"AWS/KMeansWebscale\", \"Host\": \"algo-1\", \"Operation\": \"training\", \"epoch\": 4, \"Meta\": \"training_data_iter\"}, \"Metrics\": {\"Total Records Seen\": {\"sum\": 19308.0, \"count\": 1, \"min\": 19308, \"max\": 19308}, \"Total Batches Seen\": {\"sum\": 6.0, \"count\": 1, \"min\": 6, \"max\": 6}, \"Max Records Seen Between Resets\": {\"sum\": 3218.0, \"count\": 1, \"min\": 3218, \"max\": 3218}, \"Max Batches Seen Between Resets\": {\"sum\": 1.0, \"count\": 1, \"min\": 1, \"max\": 1}, \"Reset Count\": {\"sum\": 5.0, \"count\": 1, \"min\": 5, \"max\": 5}, \"Number of Records Since Last Reset\": {\"sum\": 3218.0, \"count\": 1, \"min\": 3218, \"max\": 3218}, \"Number of Batches Since Last Reset\": {\"sum\": 1.0, \"count\": 1, \"min\": 1, \"max\": 1}}}\n",
      "\u001b[0m\n",
      "\u001b[34m[04/26/2021 22:46:00 INFO 140712629991040] #throughput_metric: host=algo-1, train throughput=101877.72405932748 records/second\u001b[0m\n",
      "\u001b[34m[04/26/2021 22:46:00 WARNING 140712629991040] wait_for_all_workers will not sync workers since the kv store is not running distributed\u001b[0m\n",
      "\u001b[34m[04/26/2021 22:46:00 INFO 140712629991040] shrinking 80 centers into 8\u001b[0m\n",
      "\u001b[34m[04/26/2021 22:46:00 INFO 140712629991040] local kmeans attempt #0. Current mean square distance 0.089043\u001b[0m\n",
      "\u001b[34m[04/26/2021 22:46:00 INFO 140712629991040] local kmeans attempt #1. Current mean square distance 0.088965\u001b[0m\n",
      "\u001b[34m[04/26/2021 22:46:00 INFO 140712629991040] local kmeans attempt #2. Current mean square distance 0.082879\u001b[0m\n",
      "\u001b[34m[04/26/2021 22:46:00 INFO 140712629991040] local kmeans attempt #3. Current mean square distance 0.081915\u001b[0m\n",
      "\u001b[34m[04/26/2021 22:46:00 INFO 140712629991040] local kmeans attempt #4. Current mean square distance 0.084813\u001b[0m\n",
      "\u001b[34m[04/26/2021 22:46:00 INFO 140712629991040] local kmeans attempt #5. Current mean square distance 0.083523\u001b[0m\n",
      "\u001b[34m[04/26/2021 22:46:00 INFO 140712629991040] local kmeans attempt #6. Current mean square distance 0.081914\u001b[0m\n",
      "\u001b[34m[04/26/2021 22:46:00 INFO 140712629991040] local kmeans attempt #7. Current mean square distance 0.082340\u001b[0m\n",
      "\u001b[34m[04/26/2021 22:46:00 INFO 140712629991040] local kmeans attempt #8. Current mean square distance 0.083250\u001b[0m\n",
      "\u001b[34m[04/26/2021 22:46:00 INFO 140712629991040] local kmeans attempt #9. Current mean square distance 0.083084\u001b[0m\n",
      "\u001b[34m[04/26/2021 22:46:00 INFO 140712629991040] finished shrinking process. Mean Square Distance = 0\u001b[0m\n",
      "\u001b[34m[04/26/2021 22:46:00 INFO 140712629991040] #quality_metric: host=algo-1, train msd <loss>=0.08191443979740143\u001b[0m\n",
      "\u001b[34m[04/26/2021 22:46:00 INFO 140712629991040] batch data loading with context took: 37.1198%, (0.071092 secs)\u001b[0m\n",
      "\u001b[34m[04/26/2021 22:46:00 INFO 140712629991040] compute all data-center distances: inner product took: 24.0433%, (0.046048 secs)\u001b[0m\n",
      "\u001b[34m[04/26/2021 22:46:00 INFO 140712629991040] predict compute msd took: 12.5317%, (0.024001 secs)\u001b[0m\n",
      "\u001b[34m[04/26/2021 22:46:00 INFO 140712629991040] gradient: cluster size  took: 6.8476%, (0.013114 secs)\u001b[0m\n",
      "\u001b[34m[04/26/2021 22:46:00 INFO 140712629991040] gradient: cluster center took: 4.5774%, (0.008767 secs)\u001b[0m\n",
      "\u001b[34m[04/26/2021 22:46:00 INFO 140712629991040] collect from kv store took: 4.0059%, (0.007672 secs)\u001b[0m\n",
      "\u001b[34m[04/26/2021 22:46:00 INFO 140712629991040] splitting centers key-value pair took: 3.5951%, (0.006885 secs)\u001b[0m\n",
      "\u001b[34m[04/26/2021 22:46:00 INFO 140712629991040] gradient: one_hot took: 2.3827%, (0.004563 secs)\u001b[0m\n",
      "\u001b[34m[04/26/2021 22:46:00 INFO 140712629991040] compute all data-center distances: point norm took: 2.0877%, (0.003998 secs)\u001b[0m\n",
      "\u001b[34m[04/26/2021 22:46:00 INFO 140712629991040] update state and report convergance took: 1.9649%, (0.003763 secs)\u001b[0m\n",
      "\u001b[34m[04/26/2021 22:46:00 INFO 140712629991040] compute all data-center distances: center norm took: 0.3928%, (0.000752 secs)\u001b[0m\n",
      "\u001b[34m[04/26/2021 22:46:00 INFO 140712629991040] update set-up time took: 0.3926%, (0.000752 secs)\u001b[0m\n",
      "\u001b[34m[04/26/2021 22:46:00 INFO 140712629991040] predict minus dist took: 0.0585%, (0.000112 secs)\u001b[0m\n",
      "\u001b[34m[04/26/2021 22:46:00 INFO 140712629991040] TOTAL took: 0.19151949882507324\u001b[0m\n",
      "\u001b[34m[04/26/2021 22:46:00 INFO 140712629991040] Number of GPUs being used: 0\u001b[0m\n",
      "\u001b[34m#metrics {\"StartTime\": 1619477160.317306, \"EndTime\": 1619477160.8650303, \"Dimensions\": {\"Algorithm\": \"AWS/KMeansWebscale\", \"Host\": \"algo-1\", \"Operation\": \"training\"}, \"Metrics\": {\"initialize.time\": {\"sum\": 62.30473518371582, \"count\": 1, \"min\": 62.30473518371582, \"max\": 62.30473518371582}, \"epochs\": {\"sum\": 5.0, \"count\": 1, \"min\": 5, \"max\": 5}, \"update.time\": {\"sum\": 187.83020973205566, \"count\": 5, \"min\": 21.61884307861328, \"max\": 71.18630409240723}, \"_shrink.time\": {\"sum\": 290.1303768157959, \"count\": 1, \"min\": 290.1303768157959, \"max\": 290.1303768157959}, \"finalize.time\": {\"sum\": 292.01412200927734, \"count\": 1, \"min\": 292.01412200927734, \"max\": 292.01412200927734}, \"model.serialize.time\": {\"sum\": 1.2416839599609375, \"count\": 1, \"min\": 1.2416839599609375, \"max\": 1.2416839599609375}}}\n",
      "\u001b[0m\n",
      "\u001b[34m[04/26/2021 22:46:00 INFO 140712629991040] Test data is not provided.\u001b[0m\n",
      "\u001b[34m#metrics {\"StartTime\": 1619477160.8651538, \"EndTime\": 1619477160.865466, \"Dimensions\": {\"Algorithm\": \"AWS/KMeansWebscale\", \"Host\": \"algo-1\", \"Operation\": \"training\"}, \"Metrics\": {\"setuptime\": {\"sum\": 14.032602310180664, \"count\": 1, \"min\": 14.032602310180664, \"max\": 14.032602310180664}, \"totaltime\": {\"sum\": 617.5508499145508, \"count\": 1, \"min\": 617.5508499145508, \"max\": 617.5508499145508}}}\n",
      "\u001b[0m\n"
     ]
    },
    {
     "name": "stdout",
     "output_type": "stream",
     "text": [
      "\n",
      "2021-04-26 22:46:21 Completed - Training job completed\n",
      "Training seconds: 37\n",
      "Billable seconds: 16\n",
      "Managed Spot Training savings: 56.8%\n"
     ]
    }
   ],
   "source": [
    "kmeans.fit({'train':s3_input_train})"
   ]
  },
  {
   "cell_type": "code",
   "execution_count": 232,
   "id": "subsequent-functionality",
   "metadata": {},
   "outputs": [],
   "source": [
    "kmeans_transformer=kmeans.transformer(instance_count=1,\n",
    "                                      instance_type='ml.m5.large',\n",
    "                                      output_path=f's3://{bucket}/{prefix}/transformed_result')"
   ]
  },
  {
   "cell_type": "code",
   "execution_count": 233,
   "id": "differential-boards",
   "metadata": {},
   "outputs": [
    {
     "name": "stdout",
     "output_type": "stream",
     "text": [
      ".............................\u001b[34mDocker entrypoint called with argument(s): serve\u001b[0m\n",
      "\u001b[34mRunning default environment configuration script\u001b[0m\n",
      "\u001b[34m[04/26/2021 22:55:29 INFO 140643332126336] loading entry points\u001b[0m\n",
      "\u001b[34m[04/26/2021 22:55:29 INFO 140643332126336] Loaded iterator creator application/x-recordio-protobuf for content type ('application/x-recordio-protobuf', '1.0')\u001b[0m\n",
      "\u001b[34m[04/26/2021 22:55:29 INFO 140643332126336] loaded request iterator application/json\u001b[0m\n",
      "\u001b[34m[04/26/2021 22:55:29 INFO 140643332126336] loaded request iterator application/jsonlines\u001b[0m\n",
      "\u001b[34m[04/26/2021 22:55:29 INFO 140643332126336] loaded request iterator application/x-recordio-protobuf\u001b[0m\n",
      "\u001b[34m[04/26/2021 22:55:29 INFO 140643332126336] loaded request iterator text/csv\u001b[0m\n",
      "\u001b[34m[04/26/2021 22:55:29 INFO 140643332126336] loaded response encoder application/json\u001b[0m\n",
      "\u001b[34m[04/26/2021 22:55:29 INFO 140643332126336] loaded response encoder application/jsonlines\u001b[0m\n",
      "\u001b[34m[04/26/2021 22:55:29 INFO 140643332126336] loaded response encoder application/x-recordio-protobuf\u001b[0m\n",
      "\u001b[34m[04/26/2021 22:55:29 INFO 140643332126336] loaded response encoder text/csv\u001b[0m\n",
      "\u001b[34m[04/26/2021 22:55:29 INFO 140643332126336] loaded entry point class algorithm:model\u001b[0m\n",
      "\u001b[34m[04/26/2021 22:55:29 INFO 140643332126336] Loaded iterator creator application/x-recordio-protobuf for content type ('application/x-recordio-protobuf', '1.0')\u001b[0m\n",
      "\u001b[34m[04/26/2021 22:55:29 INFO 140643332126336] Number of server workers: 2\u001b[0m\n",
      "\u001b[34m[2021-04-26 22:55:29 +0000] [1] [INFO] Starting gunicorn 19.7.1\u001b[0m\n",
      "\u001b[34m[2021-04-26 22:55:29 +0000] [1] [INFO] Listening at: http://0.0.0.0:8080 (1)\u001b[0m\n",
      "\u001b[34m[2021-04-26 22:55:29 +0000] [1] [INFO] Using worker: sync\u001b[0m\n",
      "\u001b[34m[2021-04-26 22:55:29 +0000] [49] [INFO] Booting worker with pid: 49\u001b[0m\n",
      "\u001b[34m[04/26/2021 22:55:29 INFO 140643332126336] loading model...\u001b[0m\n",
      "\u001b[34m[04/26/2021 22:55:29 WARNING 140643332126336] Requesting context without setting the requested num of gpus. Using 'auto'\u001b[0m\n",
      "\u001b[34m[04/26/2021 22:55:29 INFO 140643332126336] nvidia-smi took: 0.025270938873291016 secs to identify 0 gpus\u001b[0m\n",
      "\u001b[34m[04/26/2021 22:55:29 INFO 140643332126336] Number of GPUs being used: 0\u001b[0m\n",
      "\u001b[34m[04/26/2021 22:55:29 INFO 140643332126336] ...model loaded.\u001b[0m\n",
      "\u001b[34m[2021-04-26 22:55:29 +0000] [70] [INFO] Booting worker with pid: 70\u001b[0m\n",
      "\u001b[34m[04/26/2021 22:55:29 INFO 140643332126336] loading model...\u001b[0m\n",
      "\u001b[34m[04/26/2021 22:55:29 WARNING 140643332126336] Requesting context without setting the requested num of gpus. Using 'auto'\u001b[0m\n",
      "\u001b[34m[04/26/2021 22:55:30 INFO 140643332126336] nvidia-smi took: 0.025276899337768555 secs to identify 0 gpus\u001b[0m\n",
      "\u001b[34m[04/26/2021 22:55:30 INFO 140643332126336] Number of GPUs being used: 0\u001b[0m\n",
      "\u001b[34m[04/26/2021 22:55:30 INFO 140643332126336] ...model loaded.\u001b[0m\n",
      "\u001b[34m#metrics {\"StartTime\": 1619477730.0316896, \"EndTime\": 1619477734.830552, \"Dimensions\": {\"Algorithm\": \"KMeansModel\", \"Host\": \"UNKNOWN\", \"Operation\": \"scoring\"}, \"Metrics\": {\"execution_parameters.count\": {\"sum\": 1.0, \"count\": 1, \"min\": 1, \"max\": 1}}}\n",
      "\u001b[0m\n",
      "\u001b[34m#metrics {\"StartTime\": 1619477729.9295015, \"EndTime\": 1619477735.1441193, \"Dimensions\": {\"Algorithm\": \"KMeansModel\", \"Host\": \"UNKNOWN\", \"Operation\": \"scoring\"}, \"Metrics\": {\"model.evaluate.time\": {\"sum\": 0.020503997802734375, \"count\": 1, \"min\": 0.020503997802734375, \"max\": 0.020503997802734375}, \"invocations.count\": {\"sum\": 1.0, \"count\": 1, \"min\": 1, \"max\": 1}}}\n",
      "\u001b[0m\n",
      "\n",
      "\u001b[32m2021-04-26T22:55:34.848:[sagemaker logs]: MaxConcurrentTransforms=2, MaxPayloadInMB=6, BatchStrategy=MULTI_RECORD\u001b[0m\n"
     ]
    }
   ],
   "source": [
    "kmeans_transformer.transform(kmeans_train,\n",
    "                          content_type='text/csv; label_size=0',\n",
    "                          split_type='Line'\n",
    "                 )"
   ]
  },
  {
   "cell_type": "code",
   "execution_count": 234,
   "id": "lightweight-earthquake",
   "metadata": {},
   "outputs": [
    {
     "name": "stdout",
     "output_type": "stream",
     "text": [
      "Completed 215.0 KiB/215.0 KiB (2.9 MiB/s) with 1 file(s) remaining\r",
      "download: s3://sagemaker-us-east-1-032934527328/k-means-clustering/transformed_result/pca_output_for_kmeans_input.csv.out to data_dir/pca_output_for_kmeans_input.csv.out\r\n"
     ]
    }
   ],
   "source": [
    "!aws s3 cp  $kmeans_transformer.output_path/pca_output_for_kmeans_input.csv.out data_dir/"
   ]
  },
  {
   "cell_type": "code",
   "execution_count": 261,
   "id": "sapphire-exhibition",
   "metadata": {},
   "outputs": [],
   "source": [
    "with open('data_dir/pca_output_for_kmeans_input.csv.out','r') as f:\n",
    "    transformedoutput=f.readlines()\n",
    "    newtransformedoutput=map(json.loads,transformedoutput)"
   ]
  },
  {
   "cell_type": "code",
   "execution_count": 264,
   "id": "intended-influence",
   "metadata": {},
   "outputs": [
    {
     "data": {
      "text/html": [
       "<div>\n",
       "<style scoped>\n",
       "    .dataframe tbody tr th:only-of-type {\n",
       "        vertical-align: middle;\n",
       "    }\n",
       "\n",
       "    .dataframe tbody tr th {\n",
       "        vertical-align: top;\n",
       "    }\n",
       "\n",
       "    .dataframe thead th {\n",
       "        text-align: right;\n",
       "    }\n",
       "</style>\n",
       "<table border=\"1\" class=\"dataframe\">\n",
       "  <thead>\n",
       "    <tr style=\"text-align: right;\">\n",
       "      <th></th>\n",
       "      <th>closest_cluster</th>\n",
       "      <th>distance_to_cluster</th>\n",
       "    </tr>\n",
       "    <tr>\n",
       "      <th>State-County</th>\n",
       "      <th></th>\n",
       "      <th></th>\n",
       "    </tr>\n",
       "  </thead>\n",
       "  <tbody>\n",
       "    <tr>\n",
       "      <th>Alabama-Autauga</th>\n",
       "      <td>7.0</td>\n",
       "      <td>0.393980</td>\n",
       "    </tr>\n",
       "    <tr>\n",
       "      <th>Alabama-Baldwin</th>\n",
       "      <td>7.0</td>\n",
       "      <td>0.367507</td>\n",
       "    </tr>\n",
       "    <tr>\n",
       "      <th>Alabama-Barbour</th>\n",
       "      <td>6.0</td>\n",
       "      <td>0.355437</td>\n",
       "    </tr>\n",
       "    <tr>\n",
       "      <th>Alabama-Bibb</th>\n",
       "      <td>1.0</td>\n",
       "      <td>0.394545</td>\n",
       "    </tr>\n",
       "    <tr>\n",
       "      <th>Alabama-Blount</th>\n",
       "      <td>1.0</td>\n",
       "      <td>0.370283</td>\n",
       "    </tr>\n",
       "    <tr>\n",
       "      <th>...</th>\n",
       "      <td>...</td>\n",
       "      <td>...</td>\n",
       "    </tr>\n",
       "    <tr>\n",
       "      <th>Puerto Rico-Vega Baja</th>\n",
       "      <td>5.0</td>\n",
       "      <td>0.293044</td>\n",
       "    </tr>\n",
       "    <tr>\n",
       "      <th>Puerto Rico-Vieques</th>\n",
       "      <td>5.0</td>\n",
       "      <td>0.654466</td>\n",
       "    </tr>\n",
       "    <tr>\n",
       "      <th>Puerto Rico-Villalba</th>\n",
       "      <td>5.0</td>\n",
       "      <td>0.324363</td>\n",
       "    </tr>\n",
       "    <tr>\n",
       "      <th>Puerto Rico-Yabucoa</th>\n",
       "      <td>5.0</td>\n",
       "      <td>0.268074</td>\n",
       "    </tr>\n",
       "    <tr>\n",
       "      <th>Puerto Rico-Yauco</th>\n",
       "      <td>5.0</td>\n",
       "      <td>0.214658</td>\n",
       "    </tr>\n",
       "  </tbody>\n",
       "</table>\n",
       "<p>3218 rows × 2 columns</p>\n",
       "</div>"
      ],
      "text/plain": [
       "                       closest_cluster  distance_to_cluster\n",
       "State-County                                               \n",
       "Alabama-Autauga                    7.0             0.393980\n",
       "Alabama-Baldwin                    7.0             0.367507\n",
       "Alabama-Barbour                    6.0             0.355437\n",
       "Alabama-Bibb                       1.0             0.394545\n",
       "Alabama-Blount                     1.0             0.370283\n",
       "...                                ...                  ...\n",
       "Puerto Rico-Vega Baja              5.0             0.293044\n",
       "Puerto Rico-Vieques                5.0             0.654466\n",
       "Puerto Rico-Villalba               5.0             0.324363\n",
       "Puerto Rico-Yabucoa                5.0             0.268074\n",
       "Puerto Rico-Yauco                  5.0             0.214658\n",
       "\n",
       "[3218 rows x 2 columns]"
      ]
     },
     "execution_count": 264,
     "metadata": {},
     "output_type": "execute_result"
    }
   ],
   "source": [
    "# outputdf=pd.DataFrame([x for x in list(newtransformedoutput)])\n",
    "# outputdf=outputdf.set_index(df.index)\n",
    "outputdf"
   ]
  },
  {
   "cell_type": "code",
   "execution_count": 281,
   "id": "incomplete-silver",
   "metadata": {},
   "outputs": [
    {
     "name": "stderr",
     "output_type": "stream",
     "text": [
      "/home/ec2-user/anaconda3/envs/mxnet_p36/lib/python3.6/site-packages/ipykernel/__main__.py:1: SettingWithCopyWarning: \n",
      "A value is trying to be set on a copy of a slice from a DataFrame.\n",
      "Try using .loc[row_indexer,col_indexer] = value instead\n",
      "\n",
      "See the caveats in the documentation: https://pandas.pydata.org/pandas-docs/stable/user_guide/indexing.html#returning-a-view-versus-a-copy\n",
      "  if __name__ == '__main__':\n",
      "/home/ec2-user/anaconda3/envs/mxnet_p36/lib/python3.6/site-packages/ipykernel/__main__.py:2: SettingWithCopyWarning: \n",
      "A value is trying to be set on a copy of a slice from a DataFrame.\n",
      "Try using .loc[row_indexer,col_indexer] = value instead\n",
      "\n",
      "See the caveats in the documentation: https://pandas.pydata.org/pandas-docs/stable/user_guide/indexing.html#returning-a-view-versus-a-copy\n",
      "  from ipykernel import kernelapp as app\n"
     ]
    }
   ],
   "source": [
    "df['cluster']=outputdf['closest_cluster']\n",
    "df['disttocluster']=outputdf['distance_to_cluster']"
   ]
  },
  {
   "cell_type": "code",
   "execution_count": 286,
   "id": "assigned-cloud",
   "metadata": {},
   "outputs": [],
   "source": [
    "# df[['cluster','disttocluster','Income']].sort_values(['Income'])"
   ]
  },
  {
   "cell_type": "code",
   "execution_count": 291,
   "id": "challenging-comedy",
   "metadata": {},
   "outputs": [
    {
     "data": {
      "text/html": [
       "<div>\n",
       "<style scoped>\n",
       "    .dataframe tbody tr th:only-of-type {\n",
       "        vertical-align: middle;\n",
       "    }\n",
       "\n",
       "    .dataframe tbody tr th {\n",
       "        vertical-align: top;\n",
       "    }\n",
       "\n",
       "    .dataframe thead th {\n",
       "        text-align: right;\n",
       "    }\n",
       "</style>\n",
       "<table border=\"1\" class=\"dataframe\">\n",
       "  <thead>\n",
       "    <tr style=\"text-align: right;\">\n",
       "      <th></th>\n",
       "      <th>cluster</th>\n",
       "      <th>disttocluster</th>\n",
       "      <th>Income</th>\n",
       "    </tr>\n",
       "    <tr>\n",
       "      <th>State-County</th>\n",
       "      <th></th>\n",
       "      <th></th>\n",
       "      <th></th>\n",
       "    </tr>\n",
       "  </thead>\n",
       "  <tbody>\n",
       "    <tr>\n",
       "      <th>Idaho-Madison</th>\n",
       "      <td>7.0</td>\n",
       "      <td>0.355261</td>\n",
       "      <td>32233.0</td>\n",
       "    </tr>\n",
       "    <tr>\n",
       "      <th>Missouri-New Madrid</th>\n",
       "      <td>7.0</td>\n",
       "      <td>0.405688</td>\n",
       "      <td>33630.0</td>\n",
       "    </tr>\n",
       "    <tr>\n",
       "      <th>Michigan-Iron</th>\n",
       "      <td>7.0</td>\n",
       "      <td>0.210164</td>\n",
       "      <td>33663.0</td>\n",
       "    </tr>\n",
       "    <tr>\n",
       "      <th>Mississippi-Tishomingo</th>\n",
       "      <td>7.0</td>\n",
       "      <td>0.324832</td>\n",
       "      <td>35143.0</td>\n",
       "    </tr>\n",
       "    <tr>\n",
       "      <th>Montana-Lincoln</th>\n",
       "      <td>7.0</td>\n",
       "      <td>0.365433</td>\n",
       "      <td>35275.0</td>\n",
       "    </tr>\n",
       "    <tr>\n",
       "      <th>...</th>\n",
       "      <td>...</td>\n",
       "      <td>...</td>\n",
       "      <td>...</td>\n",
       "    </tr>\n",
       "    <tr>\n",
       "      <th>Colorado-Summit</th>\n",
       "      <td>7.0</td>\n",
       "      <td>0.393541</td>\n",
       "      <td>67983.0</td>\n",
       "    </tr>\n",
       "    <tr>\n",
       "      <th>Minnesota-Dodge</th>\n",
       "      <td>7.0</td>\n",
       "      <td>0.328202</td>\n",
       "      <td>68116.0</td>\n",
       "    </tr>\n",
       "    <tr>\n",
       "      <th>Alaska-Fairbanks North Star Borough</th>\n",
       "      <td>7.0</td>\n",
       "      <td>0.513391</td>\n",
       "      <td>71068.0</td>\n",
       "    </tr>\n",
       "    <tr>\n",
       "      <th>North Dakota-Stark</th>\n",
       "      <td>7.0</td>\n",
       "      <td>0.422201</td>\n",
       "      <td>72099.0</td>\n",
       "    </tr>\n",
       "    <tr>\n",
       "      <th>North Dakota-Mercer</th>\n",
       "      <td>7.0</td>\n",
       "      <td>0.415300</td>\n",
       "      <td>72704.0</td>\n",
       "    </tr>\n",
       "  </tbody>\n",
       "</table>\n",
       "<p>713 rows × 3 columns</p>\n",
       "</div>"
      ],
      "text/plain": [
       "                                     cluster  disttocluster   Income\n",
       "State-County                                                        \n",
       "Idaho-Madison                            7.0       0.355261  32233.0\n",
       "Missouri-New Madrid                      7.0       0.405688  33630.0\n",
       "Michigan-Iron                            7.0       0.210164  33663.0\n",
       "Mississippi-Tishomingo                   7.0       0.324832  35143.0\n",
       "Montana-Lincoln                          7.0       0.365433  35275.0\n",
       "...                                      ...            ...      ...\n",
       "Colorado-Summit                          7.0       0.393541  67983.0\n",
       "Minnesota-Dodge                          7.0       0.328202  68116.0\n",
       "Alaska-Fairbanks North Star Borough      7.0       0.513391  71068.0\n",
       "North Dakota-Stark                       7.0       0.422201  72099.0\n",
       "North Dakota-Mercer                      7.0       0.415300  72704.0\n",
       "\n",
       "[713 rows x 3 columns]"
      ]
     },
     "execution_count": 291,
     "metadata": {},
     "output_type": "execute_result"
    }
   ],
   "source": [
    "df[df.cluster==7.0][['cluster','disttocluster','Income']].sort_values(['Income'])"
   ]
  },
  {
   "cell_type": "code",
   "execution_count": null,
   "id": "linear-gilbert",
   "metadata": {},
   "outputs": [],
   "source": []
  }
 ],
 "metadata": {
  "kernelspec": {
   "display_name": "conda_mxnet_p36",
   "language": "python",
   "name": "conda_mxnet_p36"
  },
  "language_info": {
   "codemirror_mode": {
    "name": "ipython",
    "version": 3
   },
   "file_extension": ".py",
   "mimetype": "text/x-python",
   "name": "python",
   "nbconvert_exporter": "python",
   "pygments_lexer": "ipython3",
   "version": "3.6.13"
  }
 },
 "nbformat": 4,
 "nbformat_minor": 5
}
