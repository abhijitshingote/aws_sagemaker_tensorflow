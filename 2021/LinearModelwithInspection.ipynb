{
 "cells": [
  {
   "cell_type": "code",
   "execution_count": 19,
   "id": "reduced-scheduling",
   "metadata": {},
   "outputs": [],
   "source": [
    "import sagemaker\n",
    "import pandas as pd\n",
    "from time import strftime,gmtime"
   ]
  },
  {
   "cell_type": "code",
   "execution_count": 3,
   "id": "affiliated-advocacy",
   "metadata": {},
   "outputs": [
    {
     "data": {
      "text/plain": [
       "'2.31.1'"
      ]
     },
     "execution_count": 3,
     "metadata": {},
     "output_type": "execute_result"
    }
   ],
   "source": [
    "session=sagemaker.Session()\n",
    "role=sagemaker.get_execution_role()\n",
    "sagemaker.__version__"
   ]
  },
  {
   "cell_type": "code",
   "execution_count": 8,
   "id": "fatty-princess",
   "metadata": {},
   "outputs": [
    {
     "name": "stderr",
     "output_type": "stream",
     "text": [
      "Defaulting to the only supported framework/algorithm version: 1. Ignoring framework/algorithm version: latest.\n"
     ]
    }
   ],
   "source": [
    "algo='linear-learner'\n",
    "datasetname='boston'\n",
    "datadir='data-boston'\n",
    "container=sagemaker.image_uris.retrieve(algo,session.boto_region_name,version='latest')"
   ]
  },
  {
   "cell_type": "code",
   "execution_count": 9,
   "id": "turned-studio",
   "metadata": {},
   "outputs": [],
   "source": [
    "project=f'my-{algo}-{datasetname}'"
   ]
  },
  {
   "cell_type": "code",
   "execution_count": 10,
   "id": "spread-oxygen",
   "metadata": {},
   "outputs": [],
   "source": [
    "mymodel=sagemaker.estimator.Estimator(image_uri=container,\n",
    "                                      role=role,\n",
    "                                      instance_count=1,\n",
    "                                      instance_type='ml.m5.large',\n",
    "                                      base_job_name=project,\n",
    "                                      use_spot_instances=True,\n",
    "                                      max_run=3600,\n",
    "                                      max_wait=3600                                      \n",
    "\n",
    ")"
   ]
  },
  {
   "cell_type": "code",
   "execution_count": 11,
   "id": "suitable-greenhouse",
   "metadata": {},
   "outputs": [],
   "source": [
    "mymodel.set_hyperparameters(predictor_type='regressor',\n",
    "                            loss='squared_loss',\n",
    "                           num_models=1,\n",
    "                           epochs=5,\n",
    "                           mini_batch_size=100,\n",
    "                           normalize_data=True)\n",
    "\n",
    "# mymodel.set_hyperparameters(max_depth=5,\n",
    "#                        eta=0.2,\n",
    "#                        gamma=4,\n",
    "#                        min_child_weight=6,\n",
    "#                        subsample=0.8,\n",
    "#                        objective='reg:linear',\n",
    "#                        early_stopping_rounds=10,\n",
    "#                        num_round=200)"
   ]
  },
  {
   "cell_type": "code",
   "execution_count": 15,
   "id": "precious-encounter",
   "metadata": {},
   "outputs": [],
   "source": [
    "s3_input_train=sagemaker.inputs.TrainingInput(s3_data='s3://sagemaker-us-east-1-032934527328/boston-xgboost-HL/train.csv',\n",
    "                                  content_type='text/csv')\n",
    "s3_input_validation=sagemaker.inputs.TrainingInput(s3_data='s3://sagemaker-us-east-1-032934527328/boston-xgboost-HL/validation.csv',\n",
    "                                  content_type='text/csv')"
   ]
  },
  {
   "cell_type": "code",
   "execution_count": 16,
   "id": "confidential-refrigerator",
   "metadata": {},
   "outputs": [
    {
     "name": "stdout",
     "output_type": "stream",
     "text": [
      "2021-04-16 12:56:14 Starting - Starting the training job...\n",
      "2021-04-16 12:56:18 Starting - Launching requested ML instancesProfilerReport-1618577774: InProgress\n",
      "......\n",
      "2021-04-16 12:57:31 Starting - Preparing the instances for training......\n",
      "2021-04-16 12:58:38 Downloading - Downloading input data...\n",
      "2021-04-16 12:59:11 Training - Downloading the training image..\u001b[34mDocker entrypoint called with argument(s): train\u001b[0m\n",
      "\u001b[34mRunning default environment configuration script\u001b[0m\n",
      "\n",
      "2021-04-16 12:59:41 Uploading - Uploading generated training model\n",
      "2021-04-16 12:59:41 Completed - Training job completed\n",
      "\u001b[34m[04/16/2021 12:59:30 INFO 140231357097792] Reading default configuration from /opt/amazon/lib/python3.7/site-packages/algorithm/resources/default-input.json: {'mini_batch_size': '1000', 'epochs': '15', 'feature_dim': 'auto', 'use_bias': 'true', 'binary_classifier_model_selection_criteria': 'accuracy', 'f_beta': '1.0', 'target_recall': '0.8', 'target_precision': '0.8', 'num_models': 'auto', 'num_calibration_samples': '10000000', 'init_method': 'uniform', 'init_scale': '0.07', 'init_sigma': '0.01', 'init_bias': '0.0', 'optimizer': 'auto', 'loss': 'auto', 'margin': '1.0', 'quantile': '0.5', 'loss_insensitivity': '0.01', 'huber_delta': '1.0', 'num_classes': '1', 'accuracy_top_k': '3', 'wd': 'auto', 'l1': 'auto', 'momentum': 'auto', 'learning_rate': 'auto', 'beta_1': 'auto', 'beta_2': 'auto', 'bias_lr_mult': 'auto', 'bias_wd_mult': 'auto', 'use_lr_scheduler': 'true', 'lr_scheduler_step': 'auto', 'lr_scheduler_factor': 'auto', 'lr_scheduler_minimum_lr': 'auto', 'positive_example_weight_mult': '1.0', 'balance_multiclass_weights': 'false', 'normalize_data': 'true', 'normalize_label': 'auto', 'unbias_data': 'auto', 'unbias_label': 'auto', 'num_point_for_scaler': '10000', '_kvstore': 'auto', '_num_gpus': 'auto', '_num_kv_servers': 'auto', '_log_level': 'info', '_tuning_objective_metric': '', 'early_stopping_patience': '3', 'early_stopping_tolerance': '0.001', '_enable_profiler': 'false'}\u001b[0m\n",
      "\u001b[34m[04/16/2021 12:59:30 INFO 140231357097792] Merging with provided configuration from /opt/ml/input/config/hyperparameters.json: {'loss': 'squared_loss', 'num_models': '1', 'predictor_type': 'regressor', 'epochs': '5', 'normalize_data': 'True', 'mini_batch_size': '100'}\u001b[0m\n",
      "\u001b[34m[04/16/2021 12:59:30 INFO 140231357097792] Final configuration: {'mini_batch_size': '100', 'epochs': '5', 'feature_dim': 'auto', 'use_bias': 'true', 'binary_classifier_model_selection_criteria': 'accuracy', 'f_beta': '1.0', 'target_recall': '0.8', 'target_precision': '0.8', 'num_models': '1', 'num_calibration_samples': '10000000', 'init_method': 'uniform', 'init_scale': '0.07', 'init_sigma': '0.01', 'init_bias': '0.0', 'optimizer': 'auto', 'loss': 'squared_loss', 'margin': '1.0', 'quantile': '0.5', 'loss_insensitivity': '0.01', 'huber_delta': '1.0', 'num_classes': '1', 'accuracy_top_k': '3', 'wd': 'auto', 'l1': 'auto', 'momentum': 'auto', 'learning_rate': 'auto', 'beta_1': 'auto', 'beta_2': 'auto', 'bias_lr_mult': 'auto', 'bias_wd_mult': 'auto', 'use_lr_scheduler': 'true', 'lr_scheduler_step': 'auto', 'lr_scheduler_factor': 'auto', 'lr_scheduler_minimum_lr': 'auto', 'positive_example_weight_mult': '1.0', 'balance_multiclass_weights': 'false', 'normalize_data': 'True', 'normalize_label': 'auto', 'unbias_data': 'auto', 'unbias_label': 'auto', 'num_point_for_scaler': '10000', '_kvstore': 'auto', '_num_gpus': 'auto', '_num_kv_servers': 'auto', '_log_level': 'info', '_tuning_objective_metric': '', 'early_stopping_patience': '3', 'early_stopping_tolerance': '0.001', '_enable_profiler': 'false', 'predictor_type': 'regressor'}\u001b[0m\n",
      "\u001b[34m[04/16/2021 12:59:30 WARNING 140231357097792] Loggers have already been setup.\u001b[0m\n",
      "\u001b[34mProcess 1 is a worker.\u001b[0m\n",
      "\u001b[34m[04/16/2021 12:59:30 INFO 140231357097792] Using default worker.\u001b[0m\n",
      "\u001b[34m[04/16/2021 12:59:31 INFO 140231357097792] Checkpoint loading and saving are disabled.\u001b[0m\n",
      "\u001b[34m[04/16/2021 12:59:31 INFO 140231357097792] Create Store: local\u001b[0m\n",
      "\u001b[34m[04/16/2021 12:59:31 INFO 140231357097792] Scaler algorithm parameters\n",
      " <algorithm.scaler.ScalerAlgorithmStable object at 0x7f89cae1e450>\u001b[0m\n",
      "\u001b[34m[04/16/2021 12:59:31 INFO 140231357097792] Scaling model computed with parameters:\n",
      " {'stdev_label': \u001b[0m\n",
      "\u001b[34m[9.574967]\u001b[0m\n",
      "\u001b[34m<NDArray 1 @cpu(0)>, 'stdev_weight': \u001b[0m\n",
      "\u001b[34m[8.5313883e+00 2.4331568e+01 6.9293609e+00 2.2798026e-01 1.1490423e-01\n",
      " 7.3408353e-01 2.7995720e+01 2.2464707e+00 8.4448195e+00 1.6454375e+02\n",
      " 2.2075937e+00 9.1808136e+01 7.3292527e+00]\u001b[0m\n",
      "\u001b[34m<NDArray 13 @cpu(0)>, 'mean_label': \u001b[0m\n",
      "\u001b[34m[23.067]\u001b[0m\n",
      "\u001b[34m<NDArray 1 @cpu(0)>, 'mean_weight': \u001b[0m\n",
      "\u001b[34m[3.43847489e+00 1.41650000e+01 1.02478504e+01 5.49999997e-02\n",
      " 5.43118954e-01 6.33245468e+00 6.60135040e+01 4.14971447e+00\n",
      " 9.00500011e+00 4.01429993e+02 1.82615013e+01 3.57734131e+02\n",
      " 1.21956005e+01]\u001b[0m\n",
      "\u001b[34m<NDArray 13 @cpu(0)>}\u001b[0m\n",
      "\u001b[34m[04/16/2021 12:59:31 INFO 140231357097792] nvidia-smi: took 0.031 seconds to run.\u001b[0m\n",
      "\u001b[34m[04/16/2021 12:59:31 INFO 140231357097792] nvidia-smi identified 0 GPUs.\u001b[0m\n",
      "\u001b[34m[04/16/2021 12:59:31 INFO 140231357097792] Number of GPUs being used: 0\u001b[0m\n",
      "\u001b[34m#metrics {\"StartTime\": 1618577971.1970875, \"EndTime\": 1618577971.1971233, \"Dimensions\": {\"Algorithm\": \"Linear Learner\", \"Host\": \"algo-1\", \"Operation\": \"training\", \"Meta\": \"init_train_data_iter\"}, \"Metrics\": {\"Total Records Seen\": {\"sum\": 327.0, \"count\": 1, \"min\": 327, \"max\": 327}, \"Total Batches Seen\": {\"sum\": 4.0, \"count\": 1, \"min\": 4, \"max\": 4}, \"Max Records Seen Between Resets\": {\"sum\": 227.0, \"count\": 1, \"min\": 227, \"max\": 227}, \"Max Batches Seen Between Resets\": {\"sum\": 3.0, \"count\": 1, \"min\": 3, \"max\": 3}, \"Reset Count\": {\"sum\": 2.0, \"count\": 1, \"min\": 2, \"max\": 2}, \"Number of Records Since Last Reset\": {\"sum\": 0.0, \"count\": 1, \"min\": 0, \"max\": 0}, \"Number of Batches Since Last Reset\": {\"sum\": 0.0, \"count\": 1, \"min\": 0, \"max\": 0}}}\n",
      "\u001b[0m\n",
      "\u001b[34m#metrics {\"StartTime\": 1618577971.223229, \"EndTime\": 1618577971.2232645, \"Dimensions\": {\"Algorithm\": \"Linear Learner\", \"Host\": \"algo-1\", \"Operation\": \"training\", \"epoch\": 0, \"model\": 0}, \"Metrics\": {\"train_mse_objective\": {\"sum\": 0.94564453125, \"count\": 1, \"min\": 0.94564453125, \"max\": 0.94564453125}}}\n",
      "\u001b[0m\n",
      "\u001b[34m[04/16/2021 12:59:31 INFO 140231357097792] #quality_metric: host=algo-1, epoch=0, train mse_objective <loss>=0.94564453125\u001b[0m\n",
      "\u001b[34m#metrics {\"StartTime\": 1618577971.2341914, \"EndTime\": 1618577971.2342162, \"Dimensions\": {\"Algorithm\": \"Linear Learner\", \"Host\": \"algo-1\", \"Operation\": \"training\", \"epoch\": 0, \"model\": 0}, \"Metrics\": {\"validation_mse_objective\": {\"sum\": 60.12176731654576, \"count\": 1, \"min\": 60.12176731654576, \"max\": 60.12176731654576}}}\n",
      "\u001b[0m\n",
      "\u001b[34m[04/16/2021 12:59:31 INFO 140231357097792] #quality_metric: host=algo-1, epoch=0, validation mse_objective <loss>=60.12176731654576\u001b[0m\n",
      "\u001b[34m[04/16/2021 12:59:31 INFO 140231357097792] #early_stopping_criteria_metric: host=algo-1, epoch=0, criteria=mse_objective, value=60.12176731654576\u001b[0m\n",
      "\u001b[34m[04/16/2021 12:59:31 INFO 140231357097792] Epoch 0: Loss improved. Updating best model\u001b[0m\n",
      "\u001b[34m[04/16/2021 12:59:31 INFO 140231357097792] Saving model for epoch: 0\u001b[0m\n",
      "\u001b[34m[04/16/2021 12:59:31 INFO 140231357097792] Saved checkpoint to \"/tmp/tmpdc5ou61g/mx-mod-0000.params\"\u001b[0m\n",
      "\u001b[34m[04/16/2021 12:59:31 INFO 140231357097792] #progress_metric: host=algo-1, completed 20.0 % of epochs\u001b[0m\n",
      "\u001b[34m#metrics {\"StartTime\": 1618577971.1975234, \"EndTime\": 1618577971.2431955, \"Dimensions\": {\"Algorithm\": \"Linear Learner\", \"Host\": \"algo-1\", \"Operation\": \"training\", \"epoch\": 0, \"Meta\": \"training_data_iter\"}, \"Metrics\": {\"Total Records Seen\": {\"sum\": 554.0, \"count\": 1, \"min\": 554, \"max\": 554}, \"Total Batches Seen\": {\"sum\": 7.0, \"count\": 1, \"min\": 7, \"max\": 7}, \"Max Records Seen Between Resets\": {\"sum\": 227.0, \"count\": 1, \"min\": 227, \"max\": 227}, \"Max Batches Seen Between Resets\": {\"sum\": 3.0, \"count\": 1, \"min\": 3, \"max\": 3}, \"Reset Count\": {\"sum\": 3.0, \"count\": 1, \"min\": 3, \"max\": 3}, \"Number of Records Since Last Reset\": {\"sum\": 227.0, \"count\": 1, \"min\": 227, \"max\": 227}, \"Number of Batches Since Last Reset\": {\"sum\": 3.0, \"count\": 1, \"min\": 3, \"max\": 3}}}\n",
      "\u001b[0m\n",
      "\u001b[34m[04/16/2021 12:59:31 INFO 140231357097792] #throughput_metric: host=algo-1, train throughput=4957.315686162209 records/second\u001b[0m\n",
      "\u001b[34m#metrics {\"StartTime\": 1618577971.272414, \"EndTime\": 1618577971.272451, \"Dimensions\": {\"Algorithm\": \"Linear Learner\", \"Host\": \"algo-1\", \"Operation\": \"training\", \"epoch\": 1, \"model\": 0}, \"Metrics\": {\"train_mse_objective\": {\"sum\": 0.8456976699829102, \"count\": 1, \"min\": 0.8456976699829102, \"max\": 0.8456976699829102}}}\n",
      "\u001b[0m\n",
      "\u001b[34m[04/16/2021 12:59:31 INFO 140231357097792] #quality_metric: host=algo-1, epoch=1, train mse_objective <loss>=0.8456976699829102\u001b[0m\n",
      "\u001b[34m#metrics {\"StartTime\": 1618577971.2860918, \"EndTime\": 1618577971.2861247, \"Dimensions\": {\"Algorithm\": \"Linear Learner\", \"Host\": \"algo-1\", \"Operation\": \"training\", \"epoch\": 1, \"model\": 0}, \"Metrics\": {\"validation_mse_objective\": {\"sum\": 50.32215445382254, \"count\": 1, \"min\": 50.32215445382254, \"max\": 50.32215445382254}}}\n",
      "\u001b[0m\n",
      "\u001b[34m[04/16/2021 12:59:31 INFO 140231357097792] #quality_metric: host=algo-1, epoch=1, validation mse_objective <loss>=50.32215445382254\u001b[0m\n",
      "\u001b[34m[04/16/2021 12:59:31 INFO 140231357097792] #early_stopping_criteria_metric: host=algo-1, epoch=1, criteria=mse_objective, value=50.32215445382254\u001b[0m\n",
      "\u001b[34m[04/16/2021 12:59:31 INFO 140231357097792] Epoch 1: Loss improved. Updating best model\u001b[0m\n",
      "\u001b[34m[04/16/2021 12:59:31 INFO 140231357097792] Saving model for epoch: 1\u001b[0m\n",
      "\u001b[34m[04/16/2021 12:59:31 INFO 140231357097792] Saved checkpoint to \"/tmp/tmpg_96sexh/mx-mod-0000.params\"\u001b[0m\n",
      "\u001b[34m[04/16/2021 12:59:31 INFO 140231357097792] #progress_metric: host=algo-1, completed 40.0 % of epochs\u001b[0m\n",
      "\u001b[34m#metrics {\"StartTime\": 1618577971.2434583, \"EndTime\": 1618577971.2937732, \"Dimensions\": {\"Algorithm\": \"Linear Learner\", \"Host\": \"algo-1\", \"Operation\": \"training\", \"epoch\": 1, \"Meta\": \"training_data_iter\"}, \"Metrics\": {\"Total Records Seen\": {\"sum\": 781.0, \"count\": 1, \"min\": 781, \"max\": 781}, \"Total Batches Seen\": {\"sum\": 10.0, \"count\": 1, \"min\": 10, \"max\": 10}, \"Max Records Seen Between Resets\": {\"sum\": 227.0, \"count\": 1, \"min\": 227, \"max\": 227}, \"Max Batches Seen Between Resets\": {\"sum\": 3.0, \"count\": 1, \"min\": 3, \"max\": 3}, \"Reset Count\": {\"sum\": 4.0, \"count\": 1, \"min\": 4, \"max\": 4}, \"Number of Records Since Last Reset\": {\"sum\": 227.0, \"count\": 1, \"min\": 227, \"max\": 227}, \"Number of Batches Since Last Reset\": {\"sum\": 3.0, \"count\": 1, \"min\": 3, \"max\": 3}}}\n",
      "\u001b[0m\n",
      "\u001b[34m[04/16/2021 12:59:31 INFO 140231357097792] #throughput_metric: host=algo-1, train throughput=4494.271901212656 records/second\u001b[0m\n",
      "\u001b[34m#metrics {\"StartTime\": 1618577971.316117, \"EndTime\": 1618577971.3161523, \"Dimensions\": {\"Algorithm\": \"Linear Learner\", \"Host\": \"algo-1\", \"Operation\": \"training\", \"epoch\": 2, \"model\": 0}, \"Metrics\": {\"train_mse_objective\": {\"sum\": 0.7640486526489257, \"count\": 1, \"min\": 0.7640486526489257, \"max\": 0.7640486526489257}}}\n",
      "\u001b[0m\n",
      "\u001b[34m[04/16/2021 12:59:31 INFO 140231357097792] #quality_metric: host=algo-1, epoch=2, train mse_objective <loss>=0.7640486526489257\u001b[0m\n",
      "\u001b[34m#metrics {\"StartTime\": 1618577971.3317845, \"EndTime\": 1618577971.3318355, \"Dimensions\": {\"Algorithm\": \"Linear Learner\", \"Host\": \"algo-1\", \"Operation\": \"training\", \"epoch\": 2, \"model\": 0}, \"Metrics\": {\"validation_mse_objective\": {\"sum\": 42.298470633370535, \"count\": 1, \"min\": 42.298470633370535, \"max\": 42.298470633370535}}}\n",
      "\u001b[0m\n",
      "\u001b[34m[04/16/2021 12:59:31 INFO 140231357097792] #quality_metric: host=algo-1, epoch=2, validation mse_objective <loss>=42.298470633370535\u001b[0m\n",
      "\u001b[34m[04/16/2021 12:59:31 INFO 140231357097792] #early_stopping_criteria_metric: host=algo-1, epoch=2, criteria=mse_objective, value=42.298470633370535\u001b[0m\n",
      "\u001b[34m[04/16/2021 12:59:31 INFO 140231357097792] Epoch 2: Loss improved. Updating best model\u001b[0m\n",
      "\u001b[34m[04/16/2021 12:59:31 INFO 140231357097792] Saving model for epoch: 2\u001b[0m\n",
      "\u001b[34m[04/16/2021 12:59:31 INFO 140231357097792] Saved checkpoint to \"/tmp/tmprwuhfojo/mx-mod-0000.params\"\u001b[0m\n",
      "\u001b[34m[04/16/2021 12:59:31 INFO 140231357097792] #progress_metric: host=algo-1, completed 60.0 % of epochs\u001b[0m\n",
      "\u001b[34m#metrics {\"StartTime\": 1618577971.294131, \"EndTime\": 1618577971.3397377, \"Dimensions\": {\"Algorithm\": \"Linear Learner\", \"Host\": \"algo-1\", \"Operation\": \"training\", \"epoch\": 2, \"Meta\": \"training_data_iter\"}, \"Metrics\": {\"Total Records Seen\": {\"sum\": 1008.0, \"count\": 1, \"min\": 1008, \"max\": 1008}, \"Total Batches Seen\": {\"sum\": 13.0, \"count\": 1, \"min\": 13, \"max\": 13}, \"Max Records Seen Between Resets\": {\"sum\": 227.0, \"count\": 1, \"min\": 227, \"max\": 227}, \"Max Batches Seen Between Resets\": {\"sum\": 3.0, \"count\": 1, \"min\": 3, \"max\": 3}, \"Reset Count\": {\"sum\": 5.0, \"count\": 1, \"min\": 5, \"max\": 5}, \"Number of Records Since Last Reset\": {\"sum\": 227.0, \"count\": 1, \"min\": 227, \"max\": 227}, \"Number of Batches Since Last Reset\": {\"sum\": 3.0, \"count\": 1, \"min\": 3, \"max\": 3}}}\n",
      "\u001b[0m\n",
      "\u001b[34m[04/16/2021 12:59:31 INFO 140231357097792] #throughput_metric: host=algo-1, train throughput=4956.231854786234 records/second\u001b[0m\n",
      "\u001b[34m#metrics {\"StartTime\": 1618577971.3604999, \"EndTime\": 1618577971.3605354, \"Dimensions\": {\"Algorithm\": \"Linear Learner\", \"Host\": \"algo-1\", \"Operation\": \"training\", \"epoch\": 3, \"model\": 0}, \"Metrics\": {\"train_mse_objective\": {\"sum\": 0.6986736679077148, \"count\": 1, \"min\": 0.6986736679077148, \"max\": 0.6986736679077148}}}\n",
      "\u001b[0m\n",
      "\u001b[34m[04/16/2021 12:59:31 INFO 140231357097792] #quality_metric: host=algo-1, epoch=3, train mse_objective <loss>=0.6986736679077148\u001b[0m\n",
      "\u001b[34m#metrics {\"StartTime\": 1618577971.375195, \"EndTime\": 1618577971.3752275, \"Dimensions\": {\"Algorithm\": \"Linear Learner\", \"Host\": \"algo-1\", \"Operation\": \"training\", \"epoch\": 3, \"model\": 0}, \"Metrics\": {\"validation_mse_objective\": {\"sum\": 36.28587177821568, \"count\": 1, \"min\": 36.28587177821568, \"max\": 36.28587177821568}}}\n",
      "\u001b[0m\n",
      "\u001b[34m[04/16/2021 12:59:31 INFO 140231357097792] #quality_metric: host=algo-1, epoch=3, validation mse_objective <loss>=36.28587177821568\u001b[0m\n",
      "\u001b[34m[04/16/2021 12:59:31 INFO 140231357097792] #early_stopping_criteria_metric: host=algo-1, epoch=3, criteria=mse_objective, value=36.28587177821568\u001b[0m\n",
      "\u001b[34m[04/16/2021 12:59:31 INFO 140231357097792] Epoch 3: Loss improved. Updating best model\u001b[0m\n",
      "\u001b[34m[04/16/2021 12:59:31 INFO 140231357097792] Saving model for epoch: 3\u001b[0m\n",
      "\u001b[34m[04/16/2021 12:59:31 INFO 140231357097792] Saved checkpoint to \"/tmp/tmpn09cubwl/mx-mod-0000.params\"\u001b[0m\n",
      "\u001b[34m[04/16/2021 12:59:31 INFO 140231357097792] #progress_metric: host=algo-1, completed 80.0 % of epochs\u001b[0m\n",
      "\u001b[34m#metrics {\"StartTime\": 1618577971.3401399, \"EndTime\": 1618577971.383095, \"Dimensions\": {\"Algorithm\": \"Linear Learner\", \"Host\": \"algo-1\", \"Operation\": \"training\", \"epoch\": 3, \"Meta\": \"training_data_iter\"}, \"Metrics\": {\"Total Records Seen\": {\"sum\": 1235.0, \"count\": 1, \"min\": 1235, \"max\": 1235}, \"Total Batches Seen\": {\"sum\": 16.0, \"count\": 1, \"min\": 16, \"max\": 16}, \"Max Records Seen Between Resets\": {\"sum\": 227.0, \"count\": 1, \"min\": 227, \"max\": 227}, \"Max Batches Seen Between Resets\": {\"sum\": 3.0, \"count\": 1, \"min\": 3, \"max\": 3}, \"Reset Count\": {\"sum\": 6.0, \"count\": 1, \"min\": 6, \"max\": 6}, \"Number of Records Since Last Reset\": {\"sum\": 227.0, \"count\": 1, \"min\": 227, \"max\": 227}, \"Number of Batches Since Last Reset\": {\"sum\": 3.0, \"count\": 1, \"min\": 3, \"max\": 3}}}\n",
      "\u001b[0m\n",
      "\u001b[34m[04/16/2021 12:59:31 INFO 140231357097792] #throughput_metric: host=algo-1, train throughput=5261.655068747513 records/second\u001b[0m\n",
      "\u001b[34m#metrics {\"StartTime\": 1618577971.3962958, \"EndTime\": 1618577971.3963225, \"Dimensions\": {\"Algorithm\": \"Linear Learner\", \"Host\": \"algo-1\", \"Operation\": \"training\", \"epoch\": 4, \"model\": 0}, \"Metrics\": {\"train_mse_objective\": {\"sum\": 0.6472421836853027, \"count\": 1, \"min\": 0.6472421836853027, \"max\": 0.6472421836853027}}}\n",
      "\u001b[0m\n",
      "\u001b[34m[04/16/2021 12:59:31 INFO 140231357097792] #quality_metric: host=algo-1, epoch=4, train mse_objective <loss>=0.6472421836853027\u001b[0m\n",
      "\u001b[34m#metrics {\"StartTime\": 1618577971.407213, \"EndTime\": 1618577971.4072363, \"Dimensions\": {\"Algorithm\": \"Linear Learner\", \"Host\": \"algo-1\", \"Operation\": \"training\", \"epoch\": 4, \"model\": 0}, \"Metrics\": {\"validation_mse_objective\": {\"sum\": 32.008663177490234, \"count\": 1, \"min\": 32.008663177490234, \"max\": 32.008663177490234}}}\n",
      "\u001b[0m\n",
      "\u001b[34m[04/16/2021 12:59:31 INFO 140231357097792] #quality_metric: host=algo-1, epoch=4, validation mse_objective <loss>=32.008663177490234\u001b[0m\n",
      "\u001b[34m[04/16/2021 12:59:31 INFO 140231357097792] #early_stopping_criteria_metric: host=algo-1, epoch=4, criteria=mse_objective, value=32.008663177490234\u001b[0m\n",
      "\u001b[34m[04/16/2021 12:59:31 INFO 140231357097792] Epoch 4: Loss improved. Updating best model\u001b[0m\n",
      "\u001b[34m[04/16/2021 12:59:31 INFO 140231357097792] Saving model for epoch: 4\u001b[0m\n",
      "\u001b[34m[04/16/2021 12:59:31 INFO 140231357097792] Saved checkpoint to \"/tmp/tmp2v0zn13k/mx-mod-0000.params\"\u001b[0m\n",
      "\u001b[34m[04/16/2021 12:59:31 INFO 140231357097792] #progress_metric: host=algo-1, completed 100.0 % of epochs\u001b[0m\n",
      "\u001b[34m#metrics {\"StartTime\": 1618577971.3834493, \"EndTime\": 1618577971.4132173, \"Dimensions\": {\"Algorithm\": \"Linear Learner\", \"Host\": \"algo-1\", \"Operation\": \"training\", \"epoch\": 4, \"Meta\": \"training_data_iter\"}, \"Metrics\": {\"Total Records Seen\": {\"sum\": 1462.0, \"count\": 1, \"min\": 1462, \"max\": 1462}, \"Total Batches Seen\": {\"sum\": 19.0, \"count\": 1, \"min\": 19, \"max\": 19}, \"Max Records Seen Between Resets\": {\"sum\": 227.0, \"count\": 1, \"min\": 227, \"max\": 227}, \"Max Batches Seen Between Resets\": {\"sum\": 3.0, \"count\": 1, \"min\": 3, \"max\": 3}, \"Reset Count\": {\"sum\": 7.0, \"count\": 1, \"min\": 7, \"max\": 7}, \"Number of Records Since Last Reset\": {\"sum\": 227.0, \"count\": 1, \"min\": 227, \"max\": 227}, \"Number of Batches Since Last Reset\": {\"sum\": 3.0, \"count\": 1, \"min\": 3, \"max\": 3}}}\n",
      "\u001b[0m\n",
      "\u001b[34m[04/16/2021 12:59:31 INFO 140231357097792] #throughput_metric: host=algo-1, train throughput=7585.119922245325 records/second\u001b[0m\n",
      "\u001b[34m[04/16/2021 12:59:31 WARNING 140231357097792] wait_for_all_workers will not sync workers since the kv store is not running distributed\u001b[0m\n",
      "\u001b[34m[04/16/2021 12:59:31 WARNING 140231357097792] wait_for_all_workers will not sync workers since the kv store is not running distributed\u001b[0m\n",
      "\u001b[34m[04/16/2021 12:59:31 INFO 140231357097792] #early_stopping_criteria_metric: host=algo-1, epoch=4, criteria=mse_objective, value=32.008663177490234\u001b[0m\n",
      "\u001b[34m[04/16/2021 12:59:31 INFO 140231357097792] #validation_score (algo-1) : ('mse_objective', 32.008663177490234)\u001b[0m\n",
      "\u001b[34m[04/16/2021 12:59:31 INFO 140231357097792] #validation_score (algo-1) : ('mse', 32.008663177490234)\u001b[0m\n",
      "\u001b[34m[04/16/2021 12:59:31 INFO 140231357097792] #validation_score (algo-1) : ('absolute_loss', 4.3541533606393)\u001b[0m\n",
      "\u001b[34m[04/16/2021 12:59:31 INFO 140231357097792] #quality_metric: host=algo-1, validation mse_objective <loss>=32.008663177490234\u001b[0m\n",
      "\u001b[34m[04/16/2021 12:59:31 INFO 140231357097792] #quality_metric: host=algo-1, validation mse <loss>=32.008663177490234\u001b[0m\n",
      "\u001b[34m[04/16/2021 12:59:31 INFO 140231357097792] #quality_metric: host=algo-1, validation absolute_loss <loss>=4.3541533606393\u001b[0m\n",
      "\u001b[34m[04/16/2021 12:59:31 INFO 140231357097792] Best model found for hyperparameters: {\"optimizer\": \"adam\", \"learning_rate\": 0.005, \"l1\": 0.0, \"wd\": 0.0001, \"lr_scheduler_step\": 10, \"lr_scheduler_factor\": 0.99, \"lr_scheduler_minimum_lr\": 1e-05}\u001b[0m\n",
      "\u001b[34m[04/16/2021 12:59:31 INFO 140231357097792] Saved checkpoint to \"/tmp/tmpxvpxth0u/mx-mod-0000.params\"\u001b[0m\n",
      "\u001b[34m[04/16/2021 12:59:31 INFO 140231357097792] Test data is not provided.\u001b[0m\n",
      "\u001b[34m#metrics {\"StartTime\": 1618577971.0848603, \"EndTime\": 1618577971.4379582, \"Dimensions\": {\"Algorithm\": \"Linear Learner\", \"Host\": \"algo-1\", \"Operation\": \"training\"}, \"Metrics\": {\"initialize.time\": {\"sum\": 102.24366188049316, \"count\": 1, \"min\": 102.24366188049316, \"max\": 102.24366188049316}, \"epochs\": {\"sum\": 5.0, \"count\": 1, \"min\": 5, \"max\": 5}, \"check_early_stopping.time\": {\"sum\": 5.778789520263672, \"count\": 6, \"min\": 0.2810955047607422, \"max\": 1.2354850769042969}, \"update.time\": {\"sum\": 196.95258140563965, \"count\": 5, \"min\": 27.34208106994629, \"max\": 47.03330993652344}, \"finalize.time\": {\"sum\": 21.82793617248535, \"count\": 1, \"min\": 21.82793617248535, \"max\": 21.82793617248535}, \"setuptime\": {\"sum\": 23.22840690612793, \"count\": 1, \"min\": 23.22840690612793, \"max\": 23.22840690612793}, \"totaltime\": {\"sum\": 588.4256362915039, \"count\": 1, \"min\": 588.4256362915039, \"max\": 588.4256362915039}}}\n",
      "\u001b[0m\n"
     ]
    },
    {
     "name": "stdout",
     "output_type": "stream",
     "text": [
      "Training seconds: 63\n",
      "Billable seconds: 26\n",
      "Managed Spot Training savings: 58.7%\n"
     ]
    }
   ],
   "source": [
    "mymodel.fit({'train':s3_input_train,'validation':s3_input_validation})"
   ]
  },
  {
   "cell_type": "code",
   "execution_count": 17,
   "id": "strong-stretch",
   "metadata": {},
   "outputs": [],
   "source": [
    "mymodel_transformer=mymodel.transformer(instance_count=1,\n",
    "                                        instance_type='ml.m5.large',\n",
    "                                        model_name=project)"
   ]
  },
  {
   "cell_type": "code",
   "execution_count": 20,
   "id": "enclosed-charlotte",
   "metadata": {},
   "outputs": [
    {
     "name": "stdout",
     "output_type": "stream",
     "text": [
      "...........................\n",
      "\u001b[34mDocker entrypoint called with argument(s): serve\u001b[0m\n",
      "\u001b[34mRunning default environment configuration script\u001b[0m\n",
      "\u001b[34m[04/16/2021 13:04:58 INFO 140366809696064] loaded entry point class algorithm.serve.server_config:config_api\u001b[0m\n",
      "\u001b[34m[04/16/2021 13:04:58 INFO 140366809696064] loading entry points\u001b[0m\n",
      "\u001b[34m[04/16/2021 13:04:58 INFO 140366809696064] loaded request iterator application/json\u001b[0m\n",
      "\u001b[34m[04/16/2021 13:04:58 INFO 140366809696064] loaded request iterator application/jsonlines\u001b[0m\n",
      "\u001b[34m[04/16/2021 13:04:58 INFO 140366809696064] loaded request iterator application/x-recordio-protobuf\u001b[0m\n",
      "\u001b[34m[04/16/2021 13:04:58 INFO 140366809696064] loaded request iterator text/csv\u001b[0m\n",
      "\u001b[34m[04/16/2021 13:04:58 INFO 140366809696064] loaded response encoder application/json\u001b[0m\n",
      "\u001b[34m[04/16/2021 13:04:58 INFO 140366809696064] loaded response encoder application/jsonlines\u001b[0m\n",
      "\u001b[34m[04/16/2021 13:04:58 INFO 140366809696064] loaded response encoder application/x-recordio-protobuf\u001b[0m\n",
      "\u001b[34m[04/16/2021 13:04:58 INFO 140366809696064] loaded response encoder text/csv\u001b[0m\n",
      "\u001b[34m[04/16/2021 13:04:59 INFO 140366809696064] loaded entry point class algorithm:model\u001b[0m\n",
      "\u001b[34m[04/16/2021 13:04:59 INFO 140366809696064] Number of server workers: 2\u001b[0m\n",
      "\u001b[34m[04/16/2021 13:04:59 INFO 140366809696064] loading model...\u001b[0m\n",
      "\u001b[34m[04/16/2021 13:04:59 INFO 140366809696064] ...model loaded.\u001b[0m\n",
      "\u001b[34m[2021-04-16 13:04:59 +0000] [1] [INFO] Starting gunicorn 19.7.1\u001b[0m\n",
      "\u001b[34m[2021-04-16 13:04:59 +0000] [1] [INFO] Listening at: http://0.0.0.0:8080 (1)\u001b[0m\n",
      "\u001b[34m[2021-04-16 13:04:59 +0000] [1] [INFO] Using worker: sync\u001b[0m\n",
      "\u001b[34m[2021-04-16 13:04:59 +0000] [57] [INFO] Booting worker with pid: 57\u001b[0m\n",
      "\u001b[34m[2021-04-16 13:04:59 +0000] [66] [INFO] Booting worker with pid: 66\u001b[0m\n",
      "\u001b[34m#metrics {\"StartTime\": 1618578299.1983511, \"EndTime\": 1618578302.6179163, \"Dimensions\": {\"Algorithm\": \"LinearLearnerModel\", \"Host\": \"UNKNOWN\", \"Operation\": \"scoring\"}, \"Metrics\": {\"execution_parameters.count\": {\"sum\": 1.0, \"count\": 1, \"min\": 1, \"max\": 1}}}\n",
      "\u001b[0m\n",
      "\u001b[34m#metrics {\"StartTime\": 1618578299.1983511, \"EndTime\": 1618578302.7833755, \"Dimensions\": {\"Algorithm\": \"LinearLearnerModel\", \"Host\": \"UNKNOWN\", \"Operation\": \"scoring\"}, \"Metrics\": {\"json.encoder.time\": {\"sum\": 0.46324729919433594, \"count\": 1, \"min\": 0.46324729919433594, \"max\": 0.46324729919433594}, \"invocations.count\": {\"sum\": 1.0, \"count\": 1, \"min\": 1, \"max\": 1}}}\n",
      "\u001b[0m\n",
      "\u001b[32m2021-04-16T13:05:02.631:[sagemaker logs]: MaxConcurrentTransforms=2, MaxPayloadInMB=6, BatchStrategy=MULTI_RECORD\u001b[0m\n"
     ]
    }
   ],
   "source": [
    "mymodel_transformer.transform('s3://sagemaker-us-east-1-032934527328/boston-xgboost-HL/test.csv',\n",
    "                                  content_type='text/csv',\n",
    "                              split_type='Line',\n",
    "                              job_name=project+strftime(\"%Y-%m-%d-%H-%M-%S\", gmtime()))"
   ]
  },
  {
   "cell_type": "code",
   "execution_count": 21,
   "id": "black-gospel",
   "metadata": {},
   "outputs": [
    {
     "name": "stdout",
     "output_type": "stream",
     "text": [
      "download: s3://sagemaker-us-east-1-032934527328/my-linear-learner-boston2021-04-16-13-00-37/test.csv.out to data-boston/test.csv.out\n",
      "download: s3://sagemaker-us-east-1-032934527328/boston-xgboost-HL/y_test.csv to data-boston/y_test.csv\n"
     ]
    }
   ],
   "source": [
    "!aws s3 cp  $mymodel_transformer.output_path/test.csv.out data-boston/\n",
    "!aws s3 cp  s3://sagemaker-us-east-1-032934527328/boston-xgboost-HL/y_test.csv data-boston/"
   ]
  },
  {
   "cell_type": "code",
   "execution_count": 22,
   "id": "bridal-temperature",
   "metadata": {},
   "outputs": [
    {
     "data": {
      "text/html": [
       "<div>\n",
       "<style scoped>\n",
       "    .dataframe tbody tr th:only-of-type {\n",
       "        vertical-align: middle;\n",
       "    }\n",
       "\n",
       "    .dataframe tbody tr th {\n",
       "        vertical-align: top;\n",
       "    }\n",
       "\n",
       "    .dataframe thead th {\n",
       "        text-align: right;\n",
       "    }\n",
       "</style>\n",
       "<table border=\"1\" class=\"dataframe\">\n",
       "  <thead>\n",
       "    <tr style=\"text-align: right;\">\n",
       "      <th></th>\n",
       "      <th>0</th>\n",
       "    </tr>\n",
       "  </thead>\n",
       "  <tbody>\n",
       "    <tr>\n",
       "      <th>0</th>\n",
       "      <td>{\"score\":18.7191162109375}</td>\n",
       "    </tr>\n",
       "    <tr>\n",
       "      <th>1</th>\n",
       "      <td>{\"score\":23.232467651367188}</td>\n",
       "    </tr>\n",
       "    <tr>\n",
       "      <th>2</th>\n",
       "      <td>{\"score\":26.461427688598633}</td>\n",
       "    </tr>\n",
       "    <tr>\n",
       "      <th>3</th>\n",
       "      <td>{\"score\":23.728721618652344}</td>\n",
       "    </tr>\n",
       "    <tr>\n",
       "      <th>4</th>\n",
       "      <td>{\"score\":19.271286010742188}</td>\n",
       "    </tr>\n",
       "    <tr>\n",
       "      <th>...</th>\n",
       "      <td>...</td>\n",
       "    </tr>\n",
       "    <tr>\n",
       "      <th>162</th>\n",
       "      <td>{\"score\":22.827392578125}</td>\n",
       "    </tr>\n",
       "    <tr>\n",
       "      <th>163</th>\n",
       "      <td>{\"score\":24.679758071899414}</td>\n",
       "    </tr>\n",
       "    <tr>\n",
       "      <th>164</th>\n",
       "      <td>{\"score\":21.017541885375977}</td>\n",
       "    </tr>\n",
       "    <tr>\n",
       "      <th>165</th>\n",
       "      <td>{\"score\":22.3370361328125}</td>\n",
       "    </tr>\n",
       "    <tr>\n",
       "      <th>166</th>\n",
       "      <td>{\"score\":20.671375274658203}</td>\n",
       "    </tr>\n",
       "  </tbody>\n",
       "</table>\n",
       "<p>167 rows × 1 columns</p>\n",
       "</div>"
      ],
      "text/plain": [
       "                                0\n",
       "0      {\"score\":18.7191162109375}\n",
       "1    {\"score\":23.232467651367188}\n",
       "2    {\"score\":26.461427688598633}\n",
       "3    {\"score\":23.728721618652344}\n",
       "4    {\"score\":19.271286010742188}\n",
       "..                            ...\n",
       "162     {\"score\":22.827392578125}\n",
       "163  {\"score\":24.679758071899414}\n",
       "164  {\"score\":21.017541885375977}\n",
       "165    {\"score\":22.3370361328125}\n",
       "166  {\"score\":20.671375274658203}\n",
       "\n",
       "[167 rows x 1 columns]"
      ]
     },
     "execution_count": 22,
     "metadata": {},
     "output_type": "execute_result"
    }
   ],
   "source": [
    "y_pred=pd.read_csv('data-boston/test.csv.out',header=None)\n",
    "y_pred"
   ]
  },
  {
   "cell_type": "code",
   "execution_count": 23,
   "id": "interim-filling",
   "metadata": {},
   "outputs": [],
   "source": [
    "import json\n",
    "y_pred=[json.loads(r)['score'] for r in y_pred[0]]\n",
    "y_test=pd.read_csv('data-boston/y_test.csv',header=None)"
   ]
  },
  {
   "cell_type": "code",
   "execution_count": 24,
   "id": "moderate-reservoir",
   "metadata": {},
   "outputs": [],
   "source": [
    "from time import strftime,gmtime\n",
    "from matplotlib import pyplot as plt"
   ]
  },
  {
   "cell_type": "code",
   "execution_count": 27,
   "id": "immediate-scientist",
   "metadata": {},
   "outputs": [
    {
     "data": {
      "text/plain": [
       "<matplotlib.collections.PathCollection at 0x7f5c201df080>"
      ]
     },
     "execution_count": 27,
     "metadata": {},
     "output_type": "execute_result"
    },
    {
     "data": {
      "image/png": "[encoded data removed]",
      "text/plain": [
       "<Figure size 432x288 with 1 Axes>"
      ]
     },
     "metadata": {
      "needs_background": "light"
     },
     "output_type": "display_data"
    }
   ],
   "source": [
    "plt.scatter(y_test,y_pred)"
   ]
  },
  {
   "cell_type": "code",
   "execution_count": 58,
   "id": "fleet-contemporary",
   "metadata": {},
   "outputs": [],
   "source": [
    "import os\n",
    "import tarfile\n",
    "import numpy as np\n",
    "import mxnet as mx"
   ]
  },
  {
   "cell_type": "code",
   "execution_count": 42,
   "id": "european-there",
   "metadata": {},
   "outputs": [],
   "source": [
    "job_name = mymodel.latest_training_job.job_name\n",
    "model_fname = 'model.tar.gz'\n",
    "model_object = 's3://'+session.default_bucket()+'/'+os.path.join(mymodel.latest_training_job.job_name, 'output', model_fname)"
   ]
  },
  {
   "cell_type": "code",
   "execution_count": 44,
   "id": "welcome-tactics",
   "metadata": {},
   "outputs": [
    {
     "name": "stdout",
     "output_type": "stream",
     "text": [
      "Completed 925 Bytes/925 Bytes (13.1 KiB/s) with 1 file(s) remaining\r",
      "download: s3://sagemaker-us-east-1-032934527328/my-linear-learner-boston-2021-04-16-12-56-14-552/output/model.tar.gz to data-boston/model.tar.gz\r\n"
     ]
    }
   ],
   "source": [
    "!aws s3 cp  $model_object data-boston/"
   ]
  },
  {
   "cell_type": "code",
   "execution_count": 48,
   "id": "twelve-promise",
   "metadata": {},
   "outputs": [
    {
     "name": "stdout",
     "output_type": "stream",
     "text": [
      "Downloaded and extracted model tarball: s3://sagemaker-us-east-1-032934527328/my-linear-learner-boston-2021-04-16-12-56-14-552/output/model.tar.gz\n"
     ]
    }
   ],
   "source": [
    "with tarfile.open('data-boston/model.tar.gz') as tar:\n",
    "    tar.extractall()\n",
    "print('Downloaded and extracted model tarball: {}'.format(model_object))"
   ]
  },
  {
   "cell_type": "code",
   "execution_count": 61,
   "id": "maritime-battlefield",
   "metadata": {},
   "outputs": [
    {
     "name": "stdout",
     "output_type": "stream",
     "text": [
      "Found model file: model_algo-1\n"
     ]
    }
   ],
   "source": [
    "model_list = [fname for fname in os.listdir('data-boston/') if fname.startswith('model_')]\n",
    "model_fname = model_list[0]\n",
    "print('Found model file: {}'.format(model_fname))"
   ]
  },
  {
   "cell_type": "code",
   "execution_count": 69,
   "id": "accessible-money",
   "metadata": {},
   "outputs": [],
   "source": [
    "with open('data-boston/mx-mod-0000.params','rb') as f:\n",
    "    readfile=f.read()"
   ]
  },
  {
   "cell_type": "code",
   "execution_count": 73,
   "id": "authorized-tennis",
   "metadata": {},
   "outputs": [
    {
     "name": "stderr",
     "output_type": "stream",
     "text": [
      "/home/ec2-user/anaconda3/envs/tensorflow_p36/lib/python3.6/site-packages/mxnet/gluon/block.py:1591: UserWarning: Cannot decide type for the following arguments. Consider providing them as input:\n",
      "\tdata: None\n",
      "  input_sym_arg_type = in_param.infer_type()[0]\n"
     ]
    }
   ],
   "source": [
    "# load the json file\n",
    "import json\n",
    "sym_json = json.load(open('data-boston/mx-mod-symbol.json'))\n",
    "sym_json_string = json.dumps(sym_json)\n",
    "\n",
    "# open model\n",
    "import mxnet as mx\n",
    "from mxnet import gluon\n",
    "net = gluon.nn.SymbolBlock(\n",
    "        outputs=mx.sym.load_json(sym_json_string),\n",
    "        inputs=mx.sym.var('data'))\n",
    "\n",
    "# params file\n",
    "net.load_parameters('data-boston/mx-mod-0000.params', allow_missing=True)"
   ]
  },
  {
   "cell_type": "code",
   "execution_count": 93,
   "id": "active-sunset",
   "metadata": {},
   "outputs": [
    {
     "data": {
      "text/plain": [
       "mxnet.gluon.parameter.Parameter"
      ]
     },
     "execution_count": 93,
     "metadata": {},
     "output_type": "execute_result"
    }
   ],
   "source": [
    "type(net.collect_params().get('fc0_weight'))"
   ]
  },
  {
   "cell_type": "code",
   "execution_count": 94,
   "id": "twenty-engineering",
   "metadata": {},
   "outputs": [
    {
     "data": {
      "text/plain": [
       "\n",
       "[[-4.0374890e-02]\n",
       " [ 2.3525482e-02]\n",
       " [-2.4695231e-02]\n",
       " [ 3.9365187e+00]\n",
       " [-2.5768225e+00]\n",
       " [ 1.2963154e+00]\n",
       " [-1.3769929e-02]\n",
       " [ 3.5799712e-01]\n",
       " [-6.3028522e-02]\n",
       " [-1.7766751e-03]\n",
       " [-1.2345810e-01]\n",
       " [ 3.0137368e-03]\n",
       " [-7.5247549e-02]]\n",
       "<NDArray 13x1 @cpu(0)>"
      ]
     },
     "execution_count": 94,
     "metadata": {},
     "output_type": "execute_result"
    }
   ],
   "source": [
    "net.collect_params().get('fc0_weight').data()"
   ]
  },
  {
   "cell_type": "code",
   "execution_count": 95,
   "id": "simple-headline",
   "metadata": {},
   "outputs": [
    {
     "data": {
      "text/plain": [
       "\n",
       "[[18.68419]]\n",
       "<NDArray 1x1 @cpu(0)>"
      ]
     },
     "execution_count": 95,
     "metadata": {},
     "output_type": "execute_result"
    }
   ],
   "source": [
    "net.collect_params().get('fc0_bias').data()"
   ]
  },
  {
   "cell_type": "code",
   "execution_count": 98,
   "id": "smoking-adams",
   "metadata": {},
   "outputs": [
    {
     "ename": "RuntimeError",
     "evalue": "Parameter 'out_label' has not been initialized. Note that you should initialize parameters and create Trainer with Block.collect_params() instead of Block.params because the later does not include Parameters of nested child Blocks",
     "output_type": "error",
     "traceback": [
      "\u001b[0;31m---------------------------------------------------------------------------\u001b[0m",
      "\u001b[0;31mRuntimeError\u001b[0m                              Traceback (most recent call last)",
      "\u001b[0;32m<ipython-input-98-536ad383bae3>\u001b[0m in \u001b[0;36m<module>\u001b[0;34m\u001b[0m\n\u001b[0;32m----> 1\u001b[0;31m \u001b[0mnet\u001b[0m\u001b[0;34m.\u001b[0m\u001b[0mcollect_params\u001b[0m\u001b[0;34m(\u001b[0m\u001b[0;34m)\u001b[0m\u001b[0;34m.\u001b[0m\u001b[0mget\u001b[0m\u001b[0;34m(\u001b[0m\u001b[0;34m'out_label'\u001b[0m\u001b[0;34m)\u001b[0m\u001b[0;34m.\u001b[0m\u001b[0mdata\u001b[0m\u001b[0;34m(\u001b[0m\u001b[0;34m)\u001b[0m\u001b[0;34m\u001b[0m\u001b[0;34m\u001b[0m\u001b[0m\n\u001b[0m",
      "\u001b[0;32m~/anaconda3/envs/tensorflow_p36/lib/python3.6/site-packages/mxnet/gluon/parameter.py\u001b[0m in \u001b[0;36mdata\u001b[0;34m(self, ctx)\u001b[0m\n\u001b[1;32m    572\u001b[0m                                \u001b[0;34m\"because its storage type is %s. Please use row_sparse_data() \"\u001b[0m\u001b[0;31m \u001b[0m\u001b[0;31m\\\u001b[0m\u001b[0;34m\u001b[0m\u001b[0;34m\u001b[0m\u001b[0m\n\u001b[1;32m    573\u001b[0m                                \"instead.\" % (self.name, str(ctx), self._stype))\n\u001b[0;32m--> 574\u001b[0;31m         \u001b[0;32mreturn\u001b[0m \u001b[0mself\u001b[0m\u001b[0;34m.\u001b[0m\u001b[0m_check_and_get\u001b[0m\u001b[0;34m(\u001b[0m\u001b[0mself\u001b[0m\u001b[0;34m.\u001b[0m\u001b[0m_data\u001b[0m\u001b[0;34m,\u001b[0m \u001b[0mctx\u001b[0m\u001b[0;34m)\u001b[0m\u001b[0;34m\u001b[0m\u001b[0;34m\u001b[0m\u001b[0m\n\u001b[0m\u001b[1;32m    575\u001b[0m \u001b[0;34m\u001b[0m\u001b[0m\n\u001b[1;32m    576\u001b[0m     \u001b[0;32mdef\u001b[0m \u001b[0mlist_data\u001b[0m\u001b[0;34m(\u001b[0m\u001b[0mself\u001b[0m\u001b[0;34m)\u001b[0m\u001b[0;34m:\u001b[0m\u001b[0;34m\u001b[0m\u001b[0;34m\u001b[0m\u001b[0m\n",
      "\u001b[0;32m~/anaconda3/envs/tensorflow_p36/lib/python3.6/site-packages/mxnet/gluon/parameter.py\u001b[0m in \u001b[0;36m_check_and_get\u001b[0;34m(self, arr_list, ctx)\u001b[0m\n\u001b[1;32m    239\u001b[0m             \u001b[0;34m\"with Block.collect_params() instead of Block.params \"\u001b[0m\u001b[0;31m \u001b[0m\u001b[0;31m\\\u001b[0m\u001b[0;34m\u001b[0m\u001b[0;34m\u001b[0m\u001b[0m\n\u001b[1;32m    240\u001b[0m             \u001b[0;34m\"because the later does not include Parameters of \"\u001b[0m\u001b[0;31m \u001b[0m\u001b[0;31m\\\u001b[0m\u001b[0;34m\u001b[0m\u001b[0;34m\u001b[0m\u001b[0m\n\u001b[0;32m--> 241\u001b[0;31m             \"nested child Blocks\"%(self.name))\n\u001b[0m\u001b[1;32m    242\u001b[0m \u001b[0;34m\u001b[0m\u001b[0m\n\u001b[1;32m    243\u001b[0m     \u001b[0;32mdef\u001b[0m \u001b[0m_get_row_sparse\u001b[0m\u001b[0;34m(\u001b[0m\u001b[0mself\u001b[0m\u001b[0;34m,\u001b[0m \u001b[0marr_list\u001b[0m\u001b[0;34m,\u001b[0m \u001b[0mctx\u001b[0m\u001b[0;34m,\u001b[0m \u001b[0mrow_id\u001b[0m\u001b[0;34m)\u001b[0m\u001b[0;34m:\u001b[0m\u001b[0;34m\u001b[0m\u001b[0;34m\u001b[0m\u001b[0m\n",
      "\u001b[0;31mRuntimeError\u001b[0m: Parameter 'out_label' has not been initialized. Note that you should initialize parameters and create Trainer with Block.collect_params() instead of Block.params because the later does not include Parameters of nested child Blocks"
     ]
    }
   ],
   "source": [
    "net.collect_params().get('out_label').data()"
   ]
  },
  {
   "cell_type": "code",
   "execution_count": null,
   "id": "molecular-battle",
   "metadata": {},
   "outputs": [],
   "source": []
  }
 ],
 "metadata": {
  "kernelspec": {
   "display_name": "conda_tensorflow_p36",
   "language": "python",
   "name": "conda_tensorflow_p36"
  },
  "language_info": {
   "codemirror_mode": {
    "name": "ipython",
    "version": 3
   },
   "file_extension": ".py",
   "mimetype": "text/x-python",
   "name": "python",
   "nbconvert_exporter": "python",
   "pygments_lexer": "ipython3",
   "version": "3.6.13"
  }
 },
 "nbformat": 4,
 "nbformat_minor": 5
}
