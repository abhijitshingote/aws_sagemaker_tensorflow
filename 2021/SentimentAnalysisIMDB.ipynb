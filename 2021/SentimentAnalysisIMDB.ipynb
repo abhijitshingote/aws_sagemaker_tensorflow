{
 "cells": [
  {
   "cell_type": "code",
   "execution_count": 15,
   "id": "requested-bahrain",
   "metadata": {},
   "outputs": [],
   "source": [
    "import pandas as pd\n",
    "import numpy as np\n",
    "import os\n",
    "from sklearn.utils import shuffle\n",
    "from sklearn.feature_extraction.text import CountVectorizer\n",
    "import pickle\n",
    "from sklearn.model_selection import train_test_split"
   ]
  },
  {
   "cell_type": "code",
   "execution_count": null,
   "id": "stuck-correction",
   "metadata": {},
   "outputs": [],
   "source": [
    "# %mkdir ./data-sentiment\n",
    "# !wget -O ./data-sentiment/aclImdb_v1.tar.gz http://ai.stanford.edu/~amaas/data/sentiment/aclImdb_v1.tar.gz\n",
    "# !tar -zxf ./data-sentiment/aclImdb_v1.tar.gz -C ./data-sentiment"
   ]
  },
  {
   "cell_type": "code",
   "execution_count": null,
   "id": "conventional-luxembourg",
   "metadata": {},
   "outputs": [],
   "source": [
    "def prep_data(path):\n",
    "    data,labels={},{}\n",
    "    \n",
    "    ## Positive Reviews\n",
    "    data['pos'],labels['pos']=[],[]\n",
    "    for filename in os.listdir(path + 'pos'):\n",
    "        filepath=os.path.join(path,'pos',filename)\n",
    "        with open(filepath) as f:\n",
    "            data['pos'].append(f.read())\n",
    "    labels['pos']=[1]*len(data['pos'])\n",
    "    \n",
    "    # Negative Reviews\n",
    "    data['neg'],labels['neg']=[],[]\n",
    "    for filename in os.listdir(path + 'neg'):\n",
    "        filepath=os.path.join(path,'neg',filename)\n",
    "        with open(filepath) as f:\n",
    "            data['neg'].append(f.read())\n",
    "    labels['neg']=[0]*len(data['neg'])\n",
    "    \n",
    "    X,y=shuffle(data['pos']+data['neg'],labels['pos']+labels['neg'])\n",
    "    return X,y"
   ]
  },
  {
   "cell_type": "code",
   "execution_count": null,
   "id": "copyrighted-humanitarian",
   "metadata": {},
   "outputs": [],
   "source": [
    "train_X,train_y=prep_data('data-sentiment/aclImdb/train/')\n",
    "test_X,test_y=prep_data('data-sentiment/aclImdb/test/')"
   ]
  },
  {
   "cell_type": "code",
   "execution_count": null,
   "id": "weekly-startup",
   "metadata": {},
   "outputs": [],
   "source": [
    "# Remove Regex\n",
    "# Remove Stopwords\n",
    "# Count Vectorizer"
   ]
  },
  {
   "cell_type": "code",
   "execution_count": null,
   "id": "preliminary-mechanism",
   "metadata": {},
   "outputs": [],
   "source": [
    "import nltk\n",
    "nltk.download(\"stopwords\")\n",
    "from nltk.corpus import stopwords\n",
    "from nltk.stem.porter import *\n",
    "stemmer = PorterStemmer()"
   ]
  },
  {
   "cell_type": "code",
   "execution_count": null,
   "id": "hairy-driving",
   "metadata": {},
   "outputs": [],
   "source": [
    "import re\n",
    "from bs4 import BeautifulSoup\n",
    "\n",
    "def review_to_words(review):\n",
    "    text = BeautifulSoup(review, \"html.parser\").get_text() # Remove HTML tags\n",
    "    text = re.sub(r\"[^a-zA-Z0-9]\", \" \", text.lower()) # Convert to lower case\n",
    "    words = text.split() # Split string into words\n",
    "    words = [w for w in words if w not in stopwords.words(\"english\")] # Remove stopwords\n",
    "    words = [PorterStemmer().stem(w) for w in words] # stem\n",
    "    \n",
    "    return words"
   ]
  },
  {
   "cell_type": "code",
   "execution_count": null,
   "id": "exciting-reality",
   "metadata": {},
   "outputs": [],
   "source": [
    "processed_data={}\n",
    "processed_data['train']={}\n",
    "processed_data['test']={}\n",
    "processed_data['train']['data']=[review_to_words(review) for review in train_X]\n",
    "processed_data['train']['labels']=train_y\n",
    "processed_data['test']['data']=[review_to_words(review) for review in test_X]\n",
    "processed_data['test']['labels']=test_y"
   ]
  },
  {
   "cell_type": "code",
   "execution_count": null,
   "id": "geological-security",
   "metadata": {},
   "outputs": [],
   "source": [
    "with open('data-sentiment/data-sentiment-processed.pkl','wb') as f:\n",
    "    pickle.dump(processed_data,f)"
   ]
  },
  {
   "cell_type": "code",
   "execution_count": 16,
   "id": "great-actor",
   "metadata": {},
   "outputs": [],
   "source": [
    "with open('data-sentiment/data-sentiment-processed.pkl','rb') as f:\n",
    "    processed_data=pickle.load(f)"
   ]
  },
  {
   "cell_type": "code",
   "execution_count": null,
   "id": "parallel-trail",
   "metadata": {},
   "outputs": [],
   "source": [
    "vectorizer=CountVectorizer(max_features=5000,lowercase=True)"
   ]
  },
  {
   "cell_type": "code",
   "execution_count": null,
   "id": "downtown-posting",
   "metadata": {},
   "outputs": [],
   "source": [
    "train_X=vectorizer.fit_transform([' '.join(review) for review in processed_data['train']['data']]).toarray()\n",
    "test_X=vectorizer.transform([' '.join(review) for review in processed_data['test']['data']]).toarray()\n",
    "train_y,test_y=np.array(processed_data['train']['labels']),np.array(processed_data['test']['labels'])\n",
    "train_X.shape,train_y.shape"
   ]
  },
  {
   "cell_type": "code",
   "execution_count": null,
   "id": "derived-lyric",
   "metadata": {},
   "outputs": [],
   "source": [
    "# !mkdir data-sentiment/sagemakerready\n",
    "# !mkdir data-sentiment/sagemakerready/data"
   ]
  },
  {
   "cell_type": "code",
   "execution_count": null,
   "id": "acknowledged-timeline",
   "metadata": {},
   "outputs": [],
   "source": [
    "# Convert data to make it kosher for sagemaker\n",
    "X_train,X_val,y_train,y_val=train_test_split(train_X,train_y,test_size=0.33)\n",
    "X_test=test_X\n",
    "pd.DataFrame(np.concatenate([y_train.reshape(-1,1),X_train],axis=1)).to_csv('data-sentiment/sagemakerready/data/train.csv',header=False,index=False)\n",
    "pd.DataFrame(np.concatenate([y_val.reshape(-1,1),X_val],axis=1)).to_csv('data-sentiment/sagemakerready/data/validation.csv',header=False,index=False)\n",
    "pd.DataFrame(X_test).to_csv('data-sentiment/sagemakerready/data/test.csv',header=False,index=False)"
   ]
  },
  {
   "cell_type": "code",
   "execution_count": 1,
   "id": "ambient-roots",
   "metadata": {},
   "outputs": [],
   "source": [
    "import sagemaker"
   ]
  },
  {
   "cell_type": "code",
   "execution_count": 2,
   "id": "leading-kernel",
   "metadata": {},
   "outputs": [
    {
     "data": {
      "text/plain": [
       "'1.72.0'"
      ]
     },
     "execution_count": 2,
     "metadata": {},
     "output_type": "execute_result"
    }
   ],
   "source": [
    "# !pip uninstall -f sagemaker\n",
    "# !pip install sagemaker==1.72.0\n",
    "sagemaker.__version__"
   ]
  },
  {
   "cell_type": "code",
   "execution_count": 3,
   "id": "formed-legislature",
   "metadata": {},
   "outputs": [],
   "source": [
    "session=sagemaker.Session()\n"
   ]
  },
  {
   "cell_type": "code",
   "execution_count": 4,
   "id": "included-secretary",
   "metadata": {},
   "outputs": [
    {
     "data": {
      "text/plain": [
       "'s3://sagemaker-us-east-1-032934527328/sentimentanalysis'"
      ]
     },
     "execution_count": 4,
     "metadata": {},
     "output_type": "execute_result"
    }
   ],
   "source": [
    "key_prefix='sentimentanalysis'\n",
    "session.upload_data('data-sentiment/sagemakerready/data',key_prefix=key_prefix)"
   ]
  },
  {
   "cell_type": "code",
   "execution_count": 5,
   "id": "consolidated-virus",
   "metadata": {},
   "outputs": [],
   "source": [
    "import sagemaker\n",
    "from sagemaker import get_execution_role\n",
    "from sagemaker.amazon.amazon_estimator import get_image_uri\n",
    "from sagemaker.predictor import csv_serializer\n",
    "session=sagemaker.Session()\n",
    "role=get_execution_role()"
   ]
  },
  {
   "cell_type": "code",
   "execution_count": 6,
   "id": "accomplished-quantum",
   "metadata": {},
   "outputs": [
    {
     "name": "stderr",
     "output_type": "stream",
     "text": [
      "'get_image_uri' method will be deprecated in favor of 'ImageURIProvider' class in SageMaker Python SDK v2.\n",
      "There is a more up to date SageMaker XGBoost image. To use the newer image, please set 'repo_version'='1.0-1'. For example:\n",
      "\tget_image_uri(region, 'xgboost', '1.0-1').\n",
      "Parameter image_name will be renamed to image_uri in SageMaker Python SDK v2.\n"
     ]
    }
   ],
   "source": [
    "xgb=sagemaker.estimator.Estimator(image_name=get_image_uri(session.boto_region_name,'xgboost'),\n",
    "                                 role=role,\n",
    "                                  train_instance_count=1,\n",
    "                                  train_instance_type='ml.c5.9xlarge',\n",
    "                                  train_max_run=3600,\n",
    "                                  train_max_wait=3600,\n",
    "                                  train_use_spot_instances=True,\n",
    "                                  output_path='s3://sagemaker-us-east-1-032934527328/sentimentanalysis/output',\n",
    "                                  sagemaker_session=session\n",
    "                                 )"
   ]
  },
  {
   "cell_type": "code",
   "execution_count": 7,
   "id": "pleasant-consciousness",
   "metadata": {},
   "outputs": [],
   "source": [
    "xgb.set_hyperparameters(max_depth=5,\n",
    "                       eta=0.2,\n",
    "                       gamma=4,\n",
    "                       min_child_weight=6,\n",
    "                       subsample=0.8,\n",
    "                       objective='binary:logistic',\n",
    "                       early_stopping_rounds=10,\n",
    "                       num_round=200)"
   ]
  },
  {
   "cell_type": "code",
   "execution_count": 8,
   "id": "built-reaction",
   "metadata": {
    "scrolled": false
   },
   "outputs": [
    {
     "name": "stderr",
     "output_type": "stream",
     "text": [
      "'s3_input' class will be renamed to 'TrainingInput' in SageMaker Python SDK v2.\n",
      "'s3_input' class will be renamed to 'TrainingInput' in SageMaker Python SDK v2.\n"
     ]
    },
    {
     "name": "stdout",
     "output_type": "stream",
     "text": [
      "2021-04-12 16:38:27 Starting - Starting the training job...\n",
      "2021-04-12 16:38:29 Starting - Launching requested ML instances......\n",
      "2021-04-12 16:39:45 Starting - Preparing the instances for training......\n",
      "2021-04-12 16:40:56 Downloading - Downloading input data\n",
      "2021-04-12 16:40:56 Training - Downloading the training image...\n",
      "2021-04-12 16:41:12 Training - Training image download completed. Training in progress.\u001b[34mArguments: train\u001b[0m\n",
      "\u001b[34m[2021-04-12:16:41:13:INFO] Running standalone xgboost training.\u001b[0m\n",
      "\u001b[34m[2021-04-12:16:41:13:INFO] File size need to be processed in the node: 238.47mb. Available memory size in the node: 62025.11mb\u001b[0m\n",
      "\u001b[34m[2021-04-12:16:41:13:INFO] Determined delimiter of CSV input is ','\u001b[0m\n",
      "\u001b[34m[16:41:13] S3DistributionType set as FullyReplicated\u001b[0m\n",
      "\u001b[34m[16:41:14] 16750x5000 matrix with 83750000 entries loaded from /opt/ml/input/data/train?format=csv&label_column=0&delimiter=,\u001b[0m\n",
      "\u001b[34m[2021-04-12:16:41:14:INFO] Determined delimiter of CSV input is ','\u001b[0m\n",
      "\u001b[34m[16:41:14] S3DistributionType set as FullyReplicated\u001b[0m\n",
      "\u001b[34m[16:41:15] 8250x5000 matrix with 41250000 entries loaded from /opt/ml/input/data/validation?format=csv&label_column=0&delimiter=,\u001b[0m\n",
      "\u001b[34m[16:41:15] src/tree/updater_prune.cc:74: tree pruning end, 1 roots, 44 extra nodes, 4 pruned nodes, max_depth=5\u001b[0m\n",
      "\u001b[34m[0]#011train-error:0.298507#011validation-error:0.302909\u001b[0m\n",
      "\u001b[34mMultiple eval metrics have been passed: 'validation-error' will be used for early stopping.\n",
      "\u001b[0m\n",
      "\u001b[34mWill train until validation-error hasn't improved in 10 rounds.\u001b[0m\n",
      "\u001b[34m[16:41:15] src/tree/updater_prune.cc:74: tree pruning end, 1 roots, 40 extra nodes, 8 pruned nodes, max_depth=5\u001b[0m\n",
      "\u001b[34m[1]#011train-error:0.281672#011validation-error:0.288364\u001b[0m\n",
      "\u001b[34m[16:41:15] src/tree/updater_prune.cc:74: tree pruning end, 1 roots, 40 extra nodes, 4 pruned nodes, max_depth=5\u001b[0m\n",
      "\u001b[34m[2]#011train-error:0.277493#011validation-error:0.286667\u001b[0m\n",
      "\u001b[34m[16:41:16] src/tree/updater_prune.cc:74: tree pruning end, 1 roots, 32 extra nodes, 2 pruned nodes, max_depth=5\u001b[0m\n",
      "\u001b[34m[3]#011train-error:0.264418#011validation-error:0.273212\u001b[0m\n",
      "\u001b[34m[16:41:16] src/tree/updater_prune.cc:74: tree pruning end, 1 roots, 40 extra nodes, 6 pruned nodes, max_depth=5\u001b[0m\n",
      "\u001b[34m[4]#011train-error:0.259164#011validation-error:0.268727\u001b[0m\n",
      "\u001b[34m[16:41:16] src/tree/updater_prune.cc:74: tree pruning end, 1 roots, 32 extra nodes, 4 pruned nodes, max_depth=5\u001b[0m\n",
      "\u001b[34m[5]#011train-error:0.253612#011validation-error:0.260121\u001b[0m\n",
      "\u001b[34m[16:41:16] src/tree/updater_prune.cc:74: tree pruning end, 1 roots, 40 extra nodes, 0 pruned nodes, max_depth=5\u001b[0m\n",
      "\u001b[34m[6]#011train-error:0.241194#011validation-error:0.250424\u001b[0m\n",
      "\u001b[34m[16:41:16] src/tree/updater_prune.cc:74: tree pruning end, 1 roots, 36 extra nodes, 0 pruned nodes, max_depth=5\u001b[0m\n",
      "\u001b[34m[7]#011train-error:0.232179#011validation-error:0.246788\u001b[0m\n",
      "\u001b[34m[16:41:16] src/tree/updater_prune.cc:74: tree pruning end, 1 roots, 34 extra nodes, 0 pruned nodes, max_depth=5\u001b[0m\n",
      "\u001b[34m[8]#011train-error:0.230388#011validation-error:0.244848\u001b[0m\n",
      "\u001b[34m[16:41:16] src/tree/updater_prune.cc:74: tree pruning end, 1 roots, 22 extra nodes, 8 pruned nodes, max_depth=5\u001b[0m\n",
      "\u001b[34m[9]#011train-error:0.22597#011validation-error:0.238303\u001b[0m\n",
      "\u001b[34m[16:41:17] src/tree/updater_prune.cc:74: tree pruning end, 1 roots, 36 extra nodes, 2 pruned nodes, max_depth=5\u001b[0m\n",
      "\u001b[34m[10]#011train-error:0.22209#011validation-error:0.236242\u001b[0m\n",
      "\u001b[34m[16:41:17] src/tree/updater_prune.cc:74: tree pruning end, 1 roots, 34 extra nodes, 6 pruned nodes, max_depth=5\u001b[0m\n",
      "\u001b[34m[11]#011train-error:0.215821#011validation-error:0.232485\u001b[0m\n",
      "\u001b[34m[16:41:17] src/tree/updater_prune.cc:74: tree pruning end, 1 roots, 28 extra nodes, 8 pruned nodes, max_depth=5\u001b[0m\n",
      "\u001b[34m[12]#011train-error:0.214866#011validation-error:0.22703\u001b[0m\n",
      "\u001b[34m[16:41:17] src/tree/updater_prune.cc:74: tree pruning end, 1 roots, 30 extra nodes, 8 pruned nodes, max_depth=5\u001b[0m\n",
      "\u001b[34m[13]#011train-error:0.211104#011validation-error:0.228485\u001b[0m\n",
      "\u001b[34m[16:41:17] src/tree/updater_prune.cc:74: tree pruning end, 1 roots, 34 extra nodes, 12 pruned nodes, max_depth=5\u001b[0m\n",
      "\u001b[34m[14]#011train-error:0.205552#011validation-error:0.226061\u001b[0m\n",
      "\u001b[34m[16:41:17] src/tree/updater_prune.cc:74: tree pruning end, 1 roots, 32 extra nodes, 6 pruned nodes, max_depth=5\u001b[0m\n",
      "\u001b[34m[15]#011train-error:0.203343#011validation-error:0.221818\u001b[0m\n",
      "\u001b[34m[16:41:17] src/tree/updater_prune.cc:74: tree pruning end, 1 roots, 28 extra nodes, 8 pruned nodes, max_depth=5\u001b[0m\n",
      "\u001b[34m[16]#011train-error:0.199761#011validation-error:0.220485\u001b[0m\n",
      "\u001b[34m[16:41:17] src/tree/updater_prune.cc:74: tree pruning end, 1 roots, 30 extra nodes, 14 pruned nodes, max_depth=5\u001b[0m\n",
      "\u001b[34m[17]#011train-error:0.195463#011validation-error:0.216\u001b[0m\n",
      "\u001b[34m[16:41:18] src/tree/updater_prune.cc:74: tree pruning end, 1 roots, 32 extra nodes, 2 pruned nodes, max_depth=5\u001b[0m\n",
      "\u001b[34m[18]#011train-error:0.191045#011validation-error:0.212848\u001b[0m\n",
      "\u001b[34m[16:41:18] src/tree/updater_prune.cc:74: tree pruning end, 1 roots, 20 extra nodes, 18 pruned nodes, max_depth=5\u001b[0m\n",
      "\u001b[34m[19]#011train-error:0.188358#011validation-error:0.210424\u001b[0m\n",
      "\u001b[34m[16:41:18] src/tree/updater_prune.cc:74: tree pruning end, 1 roots, 28 extra nodes, 10 pruned nodes, max_depth=5\u001b[0m\n",
      "\u001b[34m[20]#011train-error:0.186627#011validation-error:0.208848\u001b[0m\n",
      "\u001b[34m[16:41:18] src/tree/updater_prune.cc:74: tree pruning end, 1 roots, 24 extra nodes, 12 pruned nodes, max_depth=5\u001b[0m\n",
      "\u001b[34m[21]#011train-error:0.184299#011validation-error:0.206545\u001b[0m\n",
      "\u001b[34m[16:41:18] src/tree/updater_prune.cc:74: tree pruning end, 1 roots, 36 extra nodes, 4 pruned nodes, max_depth=5\u001b[0m\n",
      "\u001b[34m[22]#011train-error:0.182448#011validation-error:0.204\u001b[0m\n",
      "\u001b[34m[16:41:18] src/tree/updater_prune.cc:74: tree pruning end, 1 roots, 24 extra nodes, 8 pruned nodes, max_depth=5\u001b[0m\n",
      "\u001b[34m[23]#011train-error:0.180299#011validation-error:0.201697\u001b[0m\n",
      "\u001b[34m[16:41:18] src/tree/updater_prune.cc:74: tree pruning end, 1 roots, 34 extra nodes, 6 pruned nodes, max_depth=5\u001b[0m\n",
      "\u001b[34m[24]#011train-error:0.178806#011validation-error:0.199515\u001b[0m\n",
      "\u001b[34m[16:41:19] src/tree/updater_prune.cc:74: tree pruning end, 1 roots, 26 extra nodes, 8 pruned nodes, max_depth=5\u001b[0m\n",
      "\u001b[34m[25]#011train-error:0.177015#011validation-error:0.199152\u001b[0m\n",
      "\u001b[34m[16:41:19] src/tree/updater_prune.cc:74: tree pruning end, 1 roots, 26 extra nodes, 8 pruned nodes, max_depth=5\u001b[0m\n",
      "\u001b[34m[26]#011train-error:0.173672#011validation-error:0.197333\u001b[0m\n",
      "\u001b[34m[16:41:19] src/tree/updater_prune.cc:74: tree pruning end, 1 roots, 32 extra nodes, 6 pruned nodes, max_depth=5\u001b[0m\n",
      "\u001b[34m[27]#011train-error:0.172#011validation-error:0.196485\u001b[0m\n",
      "\u001b[34m[16:41:19] src/tree/updater_prune.cc:74: tree pruning end, 1 roots, 26 extra nodes, 12 pruned nodes, max_depth=5\u001b[0m\n",
      "\u001b[34m[28]#011train-error:0.169552#011validation-error:0.194061\u001b[0m\n",
      "\u001b[34m[16:41:19] src/tree/updater_prune.cc:74: tree pruning end, 1 roots, 20 extra nodes, 8 pruned nodes, max_depth=5\u001b[0m\n",
      "\u001b[34m[29]#011train-error:0.169075#011validation-error:0.193212\u001b[0m\n",
      "\u001b[34m[16:41:19] src/tree/updater_prune.cc:74: tree pruning end, 1 roots, 26 extra nodes, 12 pruned nodes, max_depth=5\u001b[0m\n",
      "\u001b[34m[30]#011train-error:0.168716#011validation-error:0.194909\u001b[0m\n",
      "\u001b[34m[16:41:19] src/tree/updater_prune.cc:74: tree pruning end, 1 roots, 24 extra nodes, 8 pruned nodes, max_depth=5\u001b[0m\n",
      "\u001b[34m[31]#011train-error:0.166507#011validation-error:0.193091\u001b[0m\n",
      "\u001b[34m[16:41:19] src/tree/updater_prune.cc:74: tree pruning end, 1 roots, 24 extra nodes, 8 pruned nodes, max_depth=5\u001b[0m\n",
      "\u001b[34m[32]#011train-error:0.167343#011validation-error:0.194061\u001b[0m\n",
      "\u001b[34m[16:41:20] src/tree/updater_prune.cc:74: tree pruning end, 1 roots, 28 extra nodes, 4 pruned nodes, max_depth=5\u001b[0m\n",
      "\u001b[34m[33]#011train-error:0.165075#011validation-error:0.190667\u001b[0m\n",
      "\u001b[34m[16:41:20] src/tree/updater_prune.cc:74: tree pruning end, 1 roots, 16 extra nodes, 12 pruned nodes, max_depth=5\u001b[0m\n",
      "\u001b[34m[34]#011train-error:0.162269#011validation-error:0.189455\u001b[0m\n",
      "\u001b[34m[16:41:20] src/tree/updater_prune.cc:74: tree pruning end, 1 roots, 28 extra nodes, 4 pruned nodes, max_depth=5\u001b[0m\n",
      "\u001b[34m[35]#011train-error:0.161791#011validation-error:0.187515\u001b[0m\n",
      "\u001b[34m[16:41:20] src/tree/updater_prune.cc:74: tree pruning end, 1 roots, 30 extra nodes, 10 pruned nodes, max_depth=5\u001b[0m\n",
      "\u001b[34m[36]#011train-error:0.160776#011validation-error:0.18703\u001b[0m\n",
      "\u001b[34m[16:41:20] src/tree/updater_prune.cc:74: tree pruning end, 1 roots, 18 extra nodes, 6 pruned nodes, max_depth=5\u001b[0m\n",
      "\u001b[34m[37]#011train-error:0.159821#011validation-error:0.188\u001b[0m\n",
      "\u001b[34m[16:41:20] src/tree/updater_prune.cc:74: tree pruning end, 1 roots, 26 extra nodes, 16 pruned nodes, max_depth=5\u001b[0m\n",
      "\u001b[34m[38]#011train-error:0.159821#011validation-error:0.187515\u001b[0m\n",
      "\u001b[34m[16:41:20] src/tree/updater_prune.cc:74: tree pruning end, 1 roots, 34 extra nodes, 8 pruned nodes, max_depth=5\u001b[0m\n",
      "\u001b[34m[39]#011train-error:0.158567#011validation-error:0.186667\u001b[0m\n",
      "\u001b[34m[16:41:21] src/tree/updater_prune.cc:74: tree pruning end, 1 roots, 14 extra nodes, 14 pruned nodes, max_depth=5\u001b[0m\n",
      "\u001b[34m[40]#011train-error:0.156418#011validation-error:0.185212\u001b[0m\n",
      "\u001b[34m[16:41:21] src/tree/updater_prune.cc:74: tree pruning end, 1 roots, 30 extra nodes, 4 pruned nodes, max_depth=5\u001b[0m\n",
      "\u001b[34m[41]#011train-error:0.15606#011validation-error:0.184848\u001b[0m\n",
      "\u001b[34m[16:41:21] src/tree/updater_prune.cc:74: tree pruning end, 1 roots, 20 extra nodes, 8 pruned nodes, max_depth=5\u001b[0m\n",
      "\u001b[34m[42]#011train-error:0.155224#011validation-error:0.183273\u001b[0m\n",
      "\u001b[34m[16:41:21] src/tree/updater_prune.cc:74: tree pruning end, 1 roots, 18 extra nodes, 10 pruned nodes, max_depth=5\u001b[0m\n",
      "\u001b[34m[43]#011train-error:0.154687#011validation-error:0.183152\u001b[0m\n",
      "\u001b[34m[16:41:21] src/tree/updater_prune.cc:74: tree pruning end, 1 roots, 36 extra nodes, 6 pruned nodes, max_depth=5\u001b[0m\n",
      "\u001b[34m[44]#011train-error:0.151761#011validation-error:0.181091\u001b[0m\n",
      "\u001b[34m[16:41:21] src/tree/updater_prune.cc:74: tree pruning end, 1 roots, 16 extra nodes, 2 pruned nodes, max_depth=5\u001b[0m\n",
      "\u001b[34m[45]#011train-error:0.150507#011validation-error:0.179879\u001b[0m\n",
      "\u001b[34m[16:41:21] src/tree/updater_prune.cc:74: tree pruning end, 1 roots, 26 extra nodes, 8 pruned nodes, max_depth=5\u001b[0m\n",
      "\u001b[34m[46]#011train-error:0.149851#011validation-error:0.179152\u001b[0m\n",
      "\u001b[34m[16:41:22] src/tree/updater_prune.cc:74: tree pruning end, 1 roots, 26 extra nodes, 2 pruned nodes, max_depth=5\u001b[0m\n",
      "\u001b[34m[47]#011train-error:0.147522#011validation-error:0.178909\u001b[0m\n",
      "\u001b[34m[16:41:22] src/tree/updater_prune.cc:74: tree pruning end, 1 roots, 28 extra nodes, 8 pruned nodes, max_depth=5\u001b[0m\n",
      "\u001b[34m[48]#011train-error:0.147343#011validation-error:0.177818\u001b[0m\n",
      "\u001b[34m[16:41:22] src/tree/updater_prune.cc:74: tree pruning end, 1 roots, 24 extra nodes, 8 pruned nodes, max_depth=5\u001b[0m\n",
      "\u001b[34m[49]#011train-error:0.145791#011validation-error:0.176485\u001b[0m\n",
      "\u001b[34m[16:41:22] src/tree/updater_prune.cc:74: tree pruning end, 1 roots, 26 extra nodes, 6 pruned nodes, max_depth=5\u001b[0m\n",
      "\u001b[34m[50]#011train-error:0.145194#011validation-error:0.176848\u001b[0m\n",
      "\u001b[34m[16:41:22] src/tree/updater_prune.cc:74: tree pruning end, 1 roots, 14 extra nodes, 8 pruned nodes, max_depth=5\u001b[0m\n",
      "\u001b[34m[51]#011train-error:0.144537#011validation-error:0.176606\u001b[0m\n",
      "\u001b[34m[16:41:22] src/tree/updater_prune.cc:74: tree pruning end, 1 roots, 26 extra nodes, 10 pruned nodes, max_depth=5\u001b[0m\n",
      "\u001b[34m[52]#011train-error:0.143522#011validation-error:0.17697\u001b[0m\n",
      "\u001b[34m[16:41:22] src/tree/updater_prune.cc:74: tree pruning end, 1 roots, 22 extra nodes, 8 pruned nodes, max_depth=5\u001b[0m\n",
      "\u001b[34m[53]#011train-error:0.142866#011validation-error:0.176242\u001b[0m\n",
      "\u001b[34m[16:41:22] src/tree/updater_prune.cc:74: tree pruning end, 1 roots, 20 extra nodes, 12 pruned nodes, max_depth=5\u001b[0m\n",
      "\u001b[34m[54]#011train-error:0.142627#011validation-error:0.175152\u001b[0m\n",
      "\u001b[34m[16:41:23] src/tree/updater_prune.cc:74: tree pruning end, 1 roots, 26 extra nodes, 8 pruned nodes, max_depth=5\u001b[0m\n",
      "\u001b[34m[55]#011train-error:0.141313#011validation-error:0.173697\u001b[0m\n",
      "\u001b[34m[16:41:23] src/tree/updater_prune.cc:74: tree pruning end, 1 roots, 24 extra nodes, 8 pruned nodes, max_depth=5\u001b[0m\n",
      "\u001b[34m[56]#011train-error:0.140955#011validation-error:0.17297\u001b[0m\n"
     ]
    },
    {
     "name": "stdout",
     "output_type": "stream",
     "text": [
      "\u001b[34m[16:41:23] src/tree/updater_prune.cc:74: tree pruning end, 1 roots, 30 extra nodes, 8 pruned nodes, max_depth=5\u001b[0m\n",
      "\u001b[34m[57]#011train-error:0.140478#011validation-error:0.172242\u001b[0m\n",
      "\u001b[34m[16:41:23] src/tree/updater_prune.cc:74: tree pruning end, 1 roots, 28 extra nodes, 2 pruned nodes, max_depth=5\u001b[0m\n",
      "\u001b[34m[58]#011train-error:0.139701#011validation-error:0.17103\u001b[0m\n",
      "\u001b[34m[16:41:23] src/tree/updater_prune.cc:74: tree pruning end, 1 roots, 22 extra nodes, 10 pruned nodes, max_depth=5\u001b[0m\n",
      "\u001b[34m[59]#011train-error:0.138866#011validation-error:0.170303\u001b[0m\n",
      "\u001b[34m[16:41:23] src/tree/updater_prune.cc:74: tree pruning end, 1 roots, 26 extra nodes, 12 pruned nodes, max_depth=5\u001b[0m\n",
      "\u001b[34m[60]#011train-error:0.137612#011validation-error:0.169697\u001b[0m\n",
      "\u001b[34m[16:41:23] src/tree/updater_prune.cc:74: tree pruning end, 1 roots, 14 extra nodes, 10 pruned nodes, max_depth=5\u001b[0m\n",
      "\u001b[34m[61]#011train-error:0.137254#011validation-error:0.170061\u001b[0m\n",
      "\u001b[34m[16:41:24] src/tree/updater_prune.cc:74: tree pruning end, 1 roots, 22 extra nodes, 10 pruned nodes, max_depth=5\u001b[0m\n",
      "\u001b[34m[62]#011train-error:0.136418#011validation-error:0.16897\u001b[0m\n",
      "\u001b[34m[16:41:24] src/tree/updater_prune.cc:74: tree pruning end, 1 roots, 24 extra nodes, 6 pruned nodes, max_depth=5\u001b[0m\n",
      "\u001b[34m[63]#011train-error:0.135761#011validation-error:0.168485\u001b[0m\n",
      "\u001b[34m[16:41:24] src/tree/updater_prune.cc:74: tree pruning end, 1 roots, 24 extra nodes, 8 pruned nodes, max_depth=5\u001b[0m\n",
      "\u001b[34m[64]#011train-error:0.135164#011validation-error:0.167879\u001b[0m\n",
      "\u001b[34m[16:41:24] src/tree/updater_prune.cc:74: tree pruning end, 1 roots, 12 extra nodes, 12 pruned nodes, max_depth=5\u001b[0m\n",
      "\u001b[34m[65]#011train-error:0.134687#011validation-error:0.167636\u001b[0m\n",
      "\u001b[34m[16:41:24] src/tree/updater_prune.cc:74: tree pruning end, 1 roots, 22 extra nodes, 4 pruned nodes, max_depth=5\u001b[0m\n",
      "\u001b[34m[66]#011train-error:0.134209#011validation-error:0.168727\u001b[0m\n",
      "\u001b[34m[16:41:24] src/tree/updater_prune.cc:74: tree pruning end, 1 roots, 24 extra nodes, 14 pruned nodes, max_depth=5\u001b[0m\n",
      "\u001b[34m[67]#011train-error:0.133194#011validation-error:0.168364\u001b[0m\n",
      "\u001b[34m[16:41:24] src/tree/updater_prune.cc:74: tree pruning end, 1 roots, 24 extra nodes, 12 pruned nodes, max_depth=5\u001b[0m\n",
      "\u001b[34m[68]#011train-error:0.132955#011validation-error:0.167636\u001b[0m\n",
      "\u001b[34m[16:41:24] src/tree/updater_prune.cc:74: tree pruning end, 1 roots, 22 extra nodes, 4 pruned nodes, max_depth=5\u001b[0m\n",
      "\u001b[34m[69]#011train-error:0.131881#011validation-error:0.166909\u001b[0m\n",
      "\u001b[34m[16:41:25] src/tree/updater_prune.cc:74: tree pruning end, 1 roots, 16 extra nodes, 10 pruned nodes, max_depth=5\u001b[0m\n",
      "\u001b[34m[70]#011train-error:0.132657#011validation-error:0.167152\u001b[0m\n",
      "\u001b[34m[16:41:25] src/tree/updater_prune.cc:74: tree pruning end, 1 roots, 12 extra nodes, 10 pruned nodes, max_depth=5\u001b[0m\n",
      "\u001b[34m[71]#011train-error:0.131701#011validation-error:0.167273\u001b[0m\n",
      "\u001b[34m[16:41:25] src/tree/updater_prune.cc:74: tree pruning end, 1 roots, 10 extra nodes, 14 pruned nodes, max_depth=5\u001b[0m\n",
      "\u001b[34m[72]#011train-error:0.131403#011validation-error:0.16703\u001b[0m\n",
      "\u001b[34m[16:41:25] src/tree/updater_prune.cc:74: tree pruning end, 1 roots, 12 extra nodes, 8 pruned nodes, max_depth=5\u001b[0m\n",
      "\u001b[34m[73]#011train-error:0.130985#011validation-error:0.166061\u001b[0m\n",
      "\u001b[34m[16:41:25] src/tree/updater_prune.cc:74: tree pruning end, 1 roots, 24 extra nodes, 6 pruned nodes, max_depth=5\u001b[0m\n",
      "\u001b[34m[74]#011train-error:0.131522#011validation-error:0.165333\u001b[0m\n",
      "\u001b[34m[16:41:25] src/tree/updater_prune.cc:74: tree pruning end, 1 roots, 18 extra nodes, 6 pruned nodes, max_depth=5\u001b[0m\n",
      "\u001b[34m[75]#011train-error:0.130866#011validation-error:0.165091\u001b[0m\n",
      "\u001b[34m[16:41:25] src/tree/updater_prune.cc:74: tree pruning end, 1 roots, 24 extra nodes, 2 pruned nodes, max_depth=5\u001b[0m\n",
      "\u001b[34m[76]#011train-error:0.130269#011validation-error:0.164485\u001b[0m\n",
      "\u001b[34m[16:41:26] src/tree/updater_prune.cc:74: tree pruning end, 1 roots, 14 extra nodes, 10 pruned nodes, max_depth=5\u001b[0m\n",
      "\u001b[34m[77]#011train-error:0.129851#011validation-error:0.16497\u001b[0m\n",
      "\u001b[34m[16:41:26] src/tree/updater_prune.cc:74: tree pruning end, 1 roots, 24 extra nodes, 4 pruned nodes, max_depth=5\u001b[0m\n",
      "\u001b[34m[78]#011train-error:0.129433#011validation-error:0.16303\u001b[0m\n",
      "\u001b[34m[16:41:26] src/tree/updater_prune.cc:74: tree pruning end, 1 roots, 14 extra nodes, 10 pruned nodes, max_depth=5\u001b[0m\n",
      "\u001b[34m[79]#011train-error:0.128716#011validation-error:0.16303\u001b[0m\n",
      "\u001b[34m[16:41:26] src/tree/updater_prune.cc:74: tree pruning end, 1 roots, 14 extra nodes, 16 pruned nodes, max_depth=5\u001b[0m\n",
      "\u001b[34m[80]#011train-error:0.127522#011validation-error:0.162545\u001b[0m\n",
      "\u001b[34m[16:41:26] src/tree/updater_prune.cc:74: tree pruning end, 1 roots, 14 extra nodes, 10 pruned nodes, max_depth=5\u001b[0m\n",
      "\u001b[34m[81]#011train-error:0.126985#011validation-error:0.162182\u001b[0m\n",
      "\u001b[34m[16:41:26] src/tree/updater_prune.cc:74: tree pruning end, 1 roots, 10 extra nodes, 12 pruned nodes, max_depth=5\u001b[0m\n",
      "\u001b[34m[82]#011train-error:0.127045#011validation-error:0.162424\u001b[0m\n",
      "\u001b[34m[16:41:26] src/tree/updater_prune.cc:74: tree pruning end, 1 roots, 28 extra nodes, 6 pruned nodes, max_depth=5\u001b[0m\n",
      "\u001b[34m[83]#011train-error:0.126269#011validation-error:0.161333\u001b[0m\n",
      "\u001b[34m[16:41:26] src/tree/updater_prune.cc:74: tree pruning end, 1 roots, 12 extra nodes, 4 pruned nodes, max_depth=5\u001b[0m\n",
      "\u001b[34m[84]#011train-error:0.126149#011validation-error:0.160848\u001b[0m\n",
      "\u001b[34m[16:41:27] src/tree/updater_prune.cc:74: tree pruning end, 1 roots, 10 extra nodes, 8 pruned nodes, max_depth=5\u001b[0m\n",
      "\u001b[34m[85]#011train-error:0.125433#011validation-error:0.162182\u001b[0m\n",
      "\u001b[34m[16:41:27] src/tree/updater_prune.cc:74: tree pruning end, 1 roots, 18 extra nodes, 14 pruned nodes, max_depth=5\u001b[0m\n",
      "\u001b[34m[86]#011train-error:0.124836#011validation-error:0.162061\u001b[0m\n",
      "\u001b[34m[16:41:27] src/tree/updater_prune.cc:74: tree pruning end, 1 roots, 26 extra nodes, 2 pruned nodes, max_depth=5\u001b[0m\n",
      "\u001b[34m[87]#011train-error:0.124299#011validation-error:0.160242\u001b[0m\n",
      "\u001b[34m[16:41:27] src/tree/updater_prune.cc:74: tree pruning end, 1 roots, 22 extra nodes, 6 pruned nodes, max_depth=5\u001b[0m\n",
      "\u001b[34m[88]#011train-error:0.123284#011validation-error:0.158788\u001b[0m\n",
      "\u001b[34m[16:41:27] src/tree/updater_prune.cc:74: tree pruning end, 1 roots, 20 extra nodes, 4 pruned nodes, max_depth=5\u001b[0m\n",
      "\u001b[34m[89]#011train-error:0.122925#011validation-error:0.157939\u001b[0m\n",
      "\u001b[34m[16:41:27] src/tree/updater_prune.cc:74: tree pruning end, 1 roots, 28 extra nodes, 8 pruned nodes, max_depth=5\u001b[0m\n",
      "\u001b[34m[90]#011train-error:0.121731#011validation-error:0.157697\u001b[0m\n",
      "\u001b[34m[16:41:27] src/tree/updater_prune.cc:74: tree pruning end, 1 roots, 16 extra nodes, 8 pruned nodes, max_depth=5\u001b[0m\n",
      "\u001b[34m[91]#011train-error:0.121254#011validation-error:0.157212\u001b[0m\n",
      "\u001b[34m[16:41:28] src/tree/updater_prune.cc:74: tree pruning end, 1 roots, 18 extra nodes, 4 pruned nodes, max_depth=5\u001b[0m\n",
      "\u001b[34m[92]#011train-error:0.120716#011validation-error:0.158182\u001b[0m\n",
      "\u001b[34m[16:41:28] src/tree/updater_prune.cc:74: tree pruning end, 1 roots, 14 extra nodes, 12 pruned nodes, max_depth=5\u001b[0m\n",
      "\u001b[34m[93]#011train-error:0.11994#011validation-error:0.158182\u001b[0m\n",
      "\u001b[34m[16:41:28] src/tree/updater_prune.cc:74: tree pruning end, 1 roots, 14 extra nodes, 6 pruned nodes, max_depth=5\u001b[0m\n",
      "\u001b[34m[94]#011train-error:0.119284#011validation-error:0.157939\u001b[0m\n",
      "\u001b[34m[16:41:28] src/tree/updater_prune.cc:74: tree pruning end, 1 roots, 10 extra nodes, 4 pruned nodes, max_depth=5\u001b[0m\n",
      "\u001b[34m[95]#011train-error:0.119164#011validation-error:0.157333\u001b[0m\n",
      "\u001b[34m[16:41:28] src/tree/updater_prune.cc:74: tree pruning end, 1 roots, 20 extra nodes, 4 pruned nodes, max_depth=5\u001b[0m\n",
      "\u001b[34m[96]#011train-error:0.118507#011validation-error:0.156848\u001b[0m\n",
      "\u001b[34m[16:41:28] src/tree/updater_prune.cc:74: tree pruning end, 1 roots, 12 extra nodes, 10 pruned nodes, max_depth=5\u001b[0m\n",
      "\u001b[34m[97]#011train-error:0.117612#011validation-error:0.156\u001b[0m\n",
      "\u001b[34m[16:41:28] src/tree/updater_prune.cc:74: tree pruning end, 1 roots, 14 extra nodes, 12 pruned nodes, max_depth=5\u001b[0m\n",
      "\u001b[34m[98]#011train-error:0.117373#011validation-error:0.155394\u001b[0m\n",
      "\u001b[34m[16:41:29] src/tree/updater_prune.cc:74: tree pruning end, 1 roots, 16 extra nodes, 2 pruned nodes, max_depth=5\u001b[0m\n",
      "\u001b[34m[99]#011train-error:0.116597#011validation-error:0.155636\u001b[0m\n",
      "\u001b[34m[16:41:29] src/tree/updater_prune.cc:74: tree pruning end, 1 roots, 16 extra nodes, 6 pruned nodes, max_depth=5\u001b[0m\n",
      "\u001b[34m[100]#011train-error:0.116478#011validation-error:0.156364\u001b[0m\n",
      "\u001b[34m[16:41:29] src/tree/updater_prune.cc:74: tree pruning end, 1 roots, 16 extra nodes, 10 pruned nodes, max_depth=5\u001b[0m\n",
      "\u001b[34m[101]#011train-error:0.115463#011validation-error:0.155879\u001b[0m\n",
      "\u001b[34m[16:41:29] src/tree/updater_prune.cc:74: tree pruning end, 1 roots, 10 extra nodes, 12 pruned nodes, max_depth=5\u001b[0m\n",
      "\u001b[34m[102]#011train-error:0.115522#011validation-error:0.155394\u001b[0m\n",
      "\u001b[34m[16:41:29] src/tree/updater_prune.cc:74: tree pruning end, 1 roots, 18 extra nodes, 6 pruned nodes, max_depth=5\u001b[0m\n",
      "\u001b[34m[103]#011train-error:0.115642#011validation-error:0.155273\u001b[0m\n",
      "\u001b[34m[16:41:29] src/tree/updater_prune.cc:74: tree pruning end, 1 roots, 14 extra nodes, 10 pruned nodes, max_depth=5\u001b[0m\n",
      "\u001b[34m[104]#011train-error:0.115224#011validation-error:0.15503\u001b[0m\n",
      "\u001b[34m[16:41:29] src/tree/updater_prune.cc:74: tree pruning end, 1 roots, 26 extra nodes, 8 pruned nodes, max_depth=5\u001b[0m\n",
      "\u001b[34m[105]#011train-error:0.114388#011validation-error:0.153333\u001b[0m\n",
      "\u001b[34m[16:41:29] src/tree/updater_prune.cc:74: tree pruning end, 1 roots, 22 extra nodes, 20 pruned nodes, max_depth=5\u001b[0m\n",
      "\u001b[34m[106]#011train-error:0.113791#011validation-error:0.154061\u001b[0m\n",
      "\u001b[34m[16:41:30] src/tree/updater_prune.cc:74: tree pruning end, 1 roots, 20 extra nodes, 10 pruned nodes, max_depth=5\u001b[0m\n",
      "\u001b[34m[107]#011train-error:0.113254#011validation-error:0.153212\u001b[0m\n",
      "\u001b[34m[16:41:30] src/tree/updater_prune.cc:74: tree pruning end, 1 roots, 16 extra nodes, 10 pruned nodes, max_depth=5\u001b[0m\n",
      "\u001b[34m[108]#011train-error:0.112597#011validation-error:0.153212\u001b[0m\n",
      "\u001b[34m[16:41:30] src/tree/updater_prune.cc:74: tree pruning end, 1 roots, 16 extra nodes, 4 pruned nodes, max_depth=5\u001b[0m\n",
      "\u001b[34m[109]#011train-error:0.112358#011validation-error:0.152606\u001b[0m\n",
      "\u001b[34m[16:41:30] src/tree/updater_prune.cc:74: tree pruning end, 1 roots, 12 extra nodes, 20 pruned nodes, max_depth=5\u001b[0m\n",
      "\u001b[34m[110]#011train-error:0.11194#011validation-error:0.152121\u001b[0m\n",
      "\u001b[34m[16:41:30] src/tree/updater_prune.cc:74: tree pruning end, 1 roots, 26 extra nodes, 12 pruned nodes, max_depth=5\u001b[0m\n",
      "\u001b[34m[111]#011train-error:0.111104#011validation-error:0.152121\u001b[0m\n",
      "\u001b[34m[16:41:30] src/tree/updater_prune.cc:74: tree pruning end, 1 roots, 14 extra nodes, 14 pruned nodes, max_depth=5\u001b[0m\n",
      "\u001b[34m[112]#011train-error:0.110567#011validation-error:0.151879\u001b[0m\n",
      "\u001b[34m[16:41:30] src/tree/updater_prune.cc:74: tree pruning end, 1 roots, 14 extra nodes, 4 pruned nodes, max_depth=5\u001b[0m\n",
      "\u001b[34m[113]#011train-error:0.110567#011validation-error:0.151636\u001b[0m\n",
      "\u001b[34m[16:41:31] src/tree/updater_prune.cc:74: tree pruning end, 1 roots, 18 extra nodes, 4 pruned nodes, max_depth=5\u001b[0m\n",
      "\u001b[34m[114]#011train-error:0.110269#011validation-error:0.152121\u001b[0m\n",
      "\u001b[34m[16:41:31] src/tree/updater_prune.cc:74: tree pruning end, 1 roots, 14 extra nodes, 8 pruned nodes, max_depth=5\u001b[0m\n",
      "\u001b[34m[115]#011train-error:0.110507#011validation-error:0.152121\u001b[0m\n",
      "\u001b[34m[16:41:31] src/tree/updater_prune.cc:74: tree pruning end, 1 roots, 18 extra nodes, 10 pruned nodes, max_depth=5\u001b[0m\n",
      "\u001b[34m[116]#011train-error:0.110209#011validation-error:0.152606\u001b[0m\n",
      "\u001b[34m[16:41:31] src/tree/updater_prune.cc:74: tree pruning end, 1 roots, 18 extra nodes, 6 pruned nodes, max_depth=5\u001b[0m\n",
      "\u001b[34m[117]#011train-error:0.109672#011validation-error:0.152606\u001b[0m\n",
      "\u001b[34m[16:41:31] src/tree/updater_prune.cc:74: tree pruning end, 1 roots, 16 extra nodes, 6 pruned nodes, max_depth=5\u001b[0m\n",
      "\u001b[34m[118]#011train-error:0.109672#011validation-error:0.152485\u001b[0m\n",
      "\u001b[34m[16:41:31] src/tree/updater_prune.cc:74: tree pruning end, 1 roots, 14 extra nodes, 4 pruned nodes, max_depth=5\u001b[0m\n",
      "\u001b[34m[119]#011train-error:0.108836#011validation-error:0.153212\u001b[0m\n",
      "\u001b[34m[16:41:31] src/tree/updater_prune.cc:74: tree pruning end, 1 roots, 12 extra nodes, 14 pruned nodes, max_depth=5\u001b[0m\n",
      "\u001b[34m[120]#011train-error:0.108836#011validation-error:0.152727\u001b[0m\n",
      "\u001b[34m[16:41:31] src/tree/updater_prune.cc:74: tree pruning end, 1 roots, 14 extra nodes, 12 pruned nodes, max_depth=5\u001b[0m\n",
      "\u001b[34m[121]#011train-error:0.108299#011validation-error:0.153333\u001b[0m\n",
      "\u001b[34m[16:41:32] src/tree/updater_prune.cc:74: tree pruning end, 1 roots, 12 extra nodes, 6 pruned nodes, max_depth=5\u001b[0m\n",
      "\u001b[34m[122]#011train-error:0.108418#011validation-error:0.152727\u001b[0m\n",
      "\u001b[34m[16:41:32] src/tree/updater_prune.cc:74: tree pruning end, 1 roots, 10 extra nodes, 4 pruned nodes, max_depth=5\u001b[0m\n",
      "\u001b[34m[123]#011train-error:0.10806#011validation-error:0.152485\u001b[0m\n",
      "\u001b[34mStopping. Best iteration:\u001b[0m\n",
      "\u001b[34m[113]#011train-error:0.110567#011validation-error:0.151636\n",
      "\u001b[0m\n"
     ]
    },
    {
     "name": "stdout",
     "output_type": "stream",
     "text": [
      "\n",
      "2021-04-12 16:41:40 Uploading - Uploading generated training model\n",
      "2021-04-12 16:41:40 Completed - Training job completed\n",
      "Training seconds: 55\n",
      "Billable seconds: 21\n",
      "Managed Spot Training savings: 61.8%\n"
     ]
    }
   ],
   "source": [
    "xgb.fit(\n",
    "    {\n",
    "        'train':sagemaker.s3_input('s3://sagemaker-us-east-1-032934527328/sentimentanalysis/train.csv',content_type='csv'),\n",
    "        'validation':sagemaker.s3_input('s3://sagemaker-us-east-1-032934527328/sentimentanalysis/validation.csv',content_type='csv')\n",
    "    }\n",
    "\n",
    ")"
   ]
  },
  {
   "cell_type": "code",
   "execution_count": 9,
   "id": "graphic-coordination",
   "metadata": {},
   "outputs": [
    {
     "name": "stderr",
     "output_type": "stream",
     "text": [
      "Parameter image will be renamed to image_uri in SageMaker Python SDK v2.\n"
     ]
    }
   ],
   "source": [
    "xgb_transformer=xgb.transformer(instance_count=1,instance_type='ml.m5.large')"
   ]
  },
  {
   "cell_type": "code",
   "execution_count": 10,
   "id": "functioning-trinidad",
   "metadata": {},
   "outputs": [],
   "source": [
    "xgb_transformer.transform('s3://sagemaker-us-east-1-032934527328/sentimentanalysis/test.csv',\n",
    "                          content_type='text/csv',\n",
    "                          split_type='Line')"
   ]
  },
  {
   "cell_type": "code",
   "execution_count": 11,
   "id": "wooden-project",
   "metadata": {},
   "outputs": [
    {
     "name": "stdout",
     "output_type": "stream",
     "text": [
      ".........................\u001b[34mArguments: serve\u001b[0m\n",
      "\u001b[34m[2021-04-12 16:48:21 +0000] [1] [INFO] Starting gunicorn 19.9.0\u001b[0m\n",
      "\u001b[34m[2021-04-12 16:48:21 +0000] [1] [INFO] Listening at: http://0.0.0.0:8080 (1)\u001b[0m\n",
      "\u001b[34m[2021-04-12 16:48:21 +0000] [1] [INFO] Using worker: gevent\u001b[0m\n",
      "\u001b[34m[2021-04-12 16:48:21 +0000] [20] [INFO] Booting worker with pid: 20\u001b[0m\n",
      "\u001b[34m[2021-04-12 16:48:21 +0000] [21] [INFO] Booting worker with pid: 21\u001b[0m\n",
      "\u001b[34m/opt/amazon/lib/python3.7/site-packages/gunicorn/workers/ggevent.py:65: MonkeyPatchWarning: Monkey-patching ssl after ssl has already been imported may lead to errors, including RecursionError on Python 3.6. It may also silently lead to incorrect behaviour on Python 3.7. Please monkey-patch earlier. See https://github.com/gevent/gevent/issues/1016. Modules that had direct imports (NOT patched): ['urllib3.util.ssl_ (/opt/amazon/lib/python3.7/site-packages/urllib3/util/ssl_.py)', 'urllib3.util (/opt/amazon/lib/python3.7/site-packages/urllib3/util/__init__.py)']. \n",
      "  monkey.patch_all(subprocess=True)\u001b[0m\n",
      "\u001b[34m/opt/amazon/lib/python3.7/site-packages/gunicorn/workers/ggevent.py:65: MonkeyPatchWarning: Monkey-patching ssl after ssl has already been imported may lead to errors, including RecursionError on Python 3.6. It may also silently lead to incorrect behaviour on Python 3.7. Please monkey-patch earlier. See https://github.com/gevent/gevent/issues/1016. Modules that had direct imports (NOT patched): ['urllib3.util.ssl_ (/opt/amazon/lib/python3.7/site-packages/urllib3/util/ssl_.py)', 'urllib3.util (/opt/amazon/lib/python3.7/site-packages/urllib3/util/__init__.py)']. \n",
      "  monkey.patch_all(subprocess=True)\u001b[0m\n",
      "\u001b[34m[2021-04-12:16:48:21:INFO] Model loaded successfully for worker : 20\u001b[0m\n",
      "\u001b[34m[2021-04-12:16:48:21:INFO] Model loaded successfully for worker : 21\u001b[0m\n",
      "\u001b[35mArguments: serve\u001b[0m\n",
      "\u001b[35m[2021-04-12 16:48:21 +0000] [1] [INFO] Starting gunicorn 19.9.0\u001b[0m\n",
      "\u001b[35m[2021-04-12 16:48:21 +0000] [1] [INFO] Listening at: http://0.0.0.0:8080 (1)\u001b[0m\n",
      "\u001b[35m[2021-04-12 16:48:21 +0000] [1] [INFO] Using worker: gevent\u001b[0m\n",
      "\u001b[35m[2021-04-12 16:48:21 +0000] [20] [INFO] Booting worker with pid: 20\u001b[0m\n",
      "\u001b[35m[2021-04-12 16:48:21 +0000] [21] [INFO] Booting worker with pid: 21\u001b[0m\n",
      "\u001b[35m/opt/amazon/lib/python3.7/site-packages/gunicorn/workers/ggevent.py:65: MonkeyPatchWarning: Monkey-patching ssl after ssl has already been imported may lead to errors, including RecursionError on Python 3.6. It may also silently lead to incorrect behaviour on Python 3.7. Please monkey-patch earlier. See https://github.com/gevent/gevent/issues/1016. Modules that had direct imports (NOT patched): ['urllib3.util.ssl_ (/opt/amazon/lib/python3.7/site-packages/urllib3/util/ssl_.py)', 'urllib3.util (/opt/amazon/lib/python3.7/site-packages/urllib3/util/__init__.py)']. \n",
      "  monkey.patch_all(subprocess=True)\u001b[0m\n",
      "\u001b[35m/opt/amazon/lib/python3.7/site-packages/gunicorn/workers/ggevent.py:65: MonkeyPatchWarning: Monkey-patching ssl after ssl has already been imported may lead to errors, including RecursionError on Python 3.6. It may also silently lead to incorrect behaviour on Python 3.7. Please monkey-patch earlier. See https://github.com/gevent/gevent/issues/1016. Modules that had direct imports (NOT patched): ['urllib3.util.ssl_ (/opt/amazon/lib/python3.7/site-packages/urllib3/util/ssl_.py)', 'urllib3.util (/opt/amazon/lib/python3.7/site-packages/urllib3/util/__init__.py)']. \n",
      "  monkey.patch_all(subprocess=True)\u001b[0m\n",
      "\u001b[35m[2021-04-12:16:48:21:INFO] Model loaded successfully for worker : 20\u001b[0m\n",
      "\u001b[35m[2021-04-12:16:48:21:INFO] Model loaded successfully for worker : 21\u001b[0m\n",
      "\u001b[32m2021-04-12T16:48:26.641:[sagemaker logs]: MaxConcurrentTransforms=2, MaxPayloadInMB=6, BatchStrategy=MULTI_RECORD\u001b[0m\n",
      "\u001b[34m[2021-04-12:16:48:31:INFO] Sniff delimiter as ','\u001b[0m\n",
      "\u001b[34m[2021-04-12:16:48:31:INFO] Determined delimiter of CSV input is ','\u001b[0m\n",
      "\u001b[34m[2021-04-12:16:48:31:INFO] Sniff delimiter as ','\u001b[0m\n",
      "\u001b[34m[2021-04-12:16:48:31:INFO] Determined delimiter of CSV input is ','\u001b[0m\n",
      "\u001b[35m[2021-04-12:16:48:31:INFO] Sniff delimiter as ','\u001b[0m\n",
      "\u001b[35m[2021-04-12:16:48:31:INFO] Determined delimiter of CSV input is ','\u001b[0m\n",
      "\u001b[35m[2021-04-12:16:48:31:INFO] Sniff delimiter as ','\u001b[0m\n",
      "\u001b[35m[2021-04-12:16:48:31:INFO] Determined delimiter of CSV input is ','\u001b[0m\n",
      "\u001b[34m[2021-04-12:16:48:34:INFO] Sniff delimiter as ','\u001b[0m\n",
      "\u001b[34m[2021-04-12:16:48:34:INFO] Determined delimiter of CSV input is ','\u001b[0m\n",
      "\u001b[34m[2021-04-12:16:48:34:INFO] Sniff delimiter as ','\u001b[0m\n",
      "\u001b[34m[2021-04-12:16:48:34:INFO] Determined delimiter of CSV input is ','\u001b[0m\n",
      "\u001b[35m[2021-04-12:16:48:34:INFO] Sniff delimiter as ','\u001b[0m\n",
      "\u001b[35m[2021-04-12:16:48:34:INFO] Determined delimiter of CSV input is ','\u001b[0m\n",
      "\u001b[35m[2021-04-12:16:48:34:INFO] Sniff delimiter as ','\u001b[0m\n",
      "\u001b[35m[2021-04-12:16:48:34:INFO] Determined delimiter of CSV input is ','\u001b[0m\n",
      "\u001b[34m[2021-04-12:16:48:41:INFO] Sniff delimiter as ','\u001b[0m\n",
      "\u001b[34m[2021-04-12:16:48:41:INFO] Determined delimiter of CSV input is ','\u001b[0m\n",
      "\u001b[34m[2021-04-12:16:48:41:INFO] Sniff delimiter as ','\u001b[0m\n",
      "\u001b[34m[2021-04-12:16:48:41:INFO] Determined delimiter of CSV input is ','\u001b[0m\n",
      "\u001b[35m[2021-04-12:16:48:41:INFO] Sniff delimiter as ','\u001b[0m\n",
      "\u001b[35m[2021-04-12:16:48:41:INFO] Determined delimiter of CSV input is ','\u001b[0m\n",
      "\u001b[35m[2021-04-12:16:48:41:INFO] Sniff delimiter as ','\u001b[0m\n",
      "\u001b[35m[2021-04-12:16:48:41:INFO] Determined delimiter of CSV input is ','\u001b[0m\n",
      "\u001b[34m[2021-04-12:16:48:47:INFO] Sniff delimiter as ','\u001b[0m\n",
      "\u001b[35m[2021-04-12:16:48:47:INFO] Sniff delimiter as ','\u001b[0m\n",
      "\u001b[34m[2021-04-12:16:48:47:INFO] Determined delimiter of CSV input is ','\u001b[0m\n",
      "\u001b[34m[2021-04-12:16:48:47:INFO] Sniff delimiter as ','\u001b[0m\n",
      "\u001b[34m[2021-04-12:16:48:47:INFO] Determined delimiter of CSV input is ','\u001b[0m\n",
      "\u001b[35m[2021-04-12:16:48:47:INFO] Determined delimiter of CSV input is ','\u001b[0m\n",
      "\u001b[35m[2021-04-12:16:48:47:INFO] Sniff delimiter as ','\u001b[0m\n",
      "\u001b[35m[2021-04-12:16:48:47:INFO] Determined delimiter of CSV input is ','\u001b[0m\n",
      "\u001b[34m[2021-04-12:16:48:50:INFO] Sniff delimiter as ','\u001b[0m\n",
      "\u001b[34m[2021-04-12:16:48:50:INFO] Determined delimiter of CSV input is ','\u001b[0m\n",
      "\u001b[34m[2021-04-12:16:48:50:INFO] Sniff delimiter as ','\u001b[0m\n",
      "\u001b[34m[2021-04-12:16:48:50:INFO] Determined delimiter of CSV input is ','\u001b[0m\n",
      "\u001b[35m[2021-04-12:16:48:50:INFO] Sniff delimiter as ','\u001b[0m\n",
      "\u001b[35m[2021-04-12:16:48:50:INFO] Determined delimiter of CSV input is ','\u001b[0m\n",
      "\u001b[35m[2021-04-12:16:48:50:INFO] Sniff delimiter as ','\u001b[0m\n",
      "\u001b[35m[2021-04-12:16:48:50:INFO] Determined delimiter of CSV input is ','\u001b[0m\n",
      "\u001b[34m[2021-04-12:16:48:53:INFO] Sniff delimiter as ','\u001b[0m\n",
      "\u001b[34m[2021-04-12:16:48:53:INFO] Determined delimiter of CSV input is ','\u001b[0m\n",
      "\u001b[34m[2021-04-12:16:48:54:INFO] Sniff delimiter as ','\u001b[0m\n",
      "\u001b[34m[2021-04-12:16:48:54:INFO] Determined delimiter of CSV input is ','\u001b[0m\n",
      "\u001b[35m[2021-04-12:16:48:53:INFO] Sniff delimiter as ','\u001b[0m\n",
      "\u001b[35m[2021-04-12:16:48:53:INFO] Determined delimiter of CSV input is ','\u001b[0m\n",
      "\u001b[35m[2021-04-12:16:48:54:INFO] Sniff delimiter as ','\u001b[0m\n",
      "\u001b[35m[2021-04-12:16:48:54:INFO] Determined delimiter of CSV input is ','\u001b[0m\n",
      "\u001b[34m[2021-04-12:16:49:00:INFO] Sniff delimiter as ','\u001b[0m\n",
      "\u001b[34m[2021-04-12:16:49:00:INFO] Determined delimiter of CSV input is ','\u001b[0m\n",
      "\u001b[34m[2021-04-12:16:49:00:INFO] Sniff delimiter as ','\u001b[0m\n",
      "\u001b[34m[2021-04-12:16:49:00:INFO] Determined delimiter of CSV input is ','\u001b[0m\n",
      "\u001b[35m[2021-04-12:16:49:00:INFO] Sniff delimiter as ','\u001b[0m\n",
      "\u001b[35m[2021-04-12:16:49:00:INFO] Determined delimiter of CSV input is ','\u001b[0m\n",
      "\u001b[35m[2021-04-12:16:49:00:INFO] Sniff delimiter as ','\u001b[0m\n",
      "\u001b[35m[2021-04-12:16:49:00:INFO] Determined delimiter of CSV input is ','\u001b[0m\n",
      "\u001b[34m[2021-04-12:16:49:06:INFO] Sniff delimiter as ','\u001b[0m\n",
      "\u001b[34m[2021-04-12:16:49:06:INFO] Determined delimiter of CSV input is ','\u001b[0m\n",
      "\u001b[34m[2021-04-12:16:49:06:INFO] Sniff delimiter as ','\u001b[0m\n",
      "\u001b[34m[2021-04-12:16:49:06:INFO] Determined delimiter of CSV input is ','\u001b[0m\n",
      "\u001b[35m[2021-04-12:16:49:06:INFO] Sniff delimiter as ','\u001b[0m\n",
      "\u001b[35m[2021-04-12:16:49:06:INFO] Determined delimiter of CSV input is ','\u001b[0m\n",
      "\u001b[35m[2021-04-12:16:49:06:INFO] Sniff delimiter as ','\u001b[0m\n",
      "\u001b[35m[2021-04-12:16:49:06:INFO] Determined delimiter of CSV input is ','\u001b[0m\n",
      "\u001b[34m[2021-04-12:16:49:09:INFO] Sniff delimiter as ','\u001b[0m\n",
      "\u001b[35m[2021-04-12:16:49:09:INFO] Sniff delimiter as ','\u001b[0m\n",
      "\u001b[34m[2021-04-12:16:49:09:INFO] Determined delimiter of CSV input is ','\u001b[0m\n",
      "\u001b[35m[2021-04-12:16:49:09:INFO] Determined delimiter of CSV input is ','\u001b[0m\n",
      "\u001b[34m[2021-04-12:16:49:10:INFO] Sniff delimiter as ','\u001b[0m\n",
      "\u001b[34m[2021-04-12:16:49:10:INFO] Determined delimiter of CSV input is ','\u001b[0m\n",
      "\u001b[35m[2021-04-12:16:49:10:INFO] Sniff delimiter as ','\u001b[0m\n",
      "\u001b[35m[2021-04-12:16:49:10:INFO] Determined delimiter of CSV input is ','\u001b[0m\n",
      "\u001b[34m[2021-04-12:16:49:13:INFO] Sniff delimiter as ','\u001b[0m\n",
      "\u001b[34m[2021-04-12:16:49:13:INFO] Determined delimiter of CSV input is ','\u001b[0m\n",
      "\u001b[34m[2021-04-12:16:49:13:INFO] Sniff delimiter as ','\u001b[0m\n",
      "\u001b[34m[2021-04-12:16:49:13:INFO] Determined delimiter of CSV input is ','\u001b[0m\n",
      "\u001b[35m[2021-04-12:16:49:13:INFO] Sniff delimiter as ','\u001b[0m\n",
      "\u001b[35m[2021-04-12:16:49:13:INFO] Determined delimiter of CSV input is ','\u001b[0m\n",
      "\u001b[35m[2021-04-12:16:49:13:INFO] Sniff delimiter as ','\u001b[0m\n",
      "\u001b[35m[2021-04-12:16:49:13:INFO] Determined delimiter of CSV input is ','\u001b[0m\n"
     ]
    },
    {
     "name": "stdout",
     "output_type": "stream",
     "text": [
      "\u001b[34m[2021-04-12:16:49:19:INFO] Sniff delimiter as ','\u001b[0m\n",
      "\u001b[34m[2021-04-12:16:49:19:INFO] Determined delimiter of CSV input is ','\u001b[0m\n",
      "\u001b[34m[2021-04-12:16:49:19:INFO] Sniff delimiter as ','\u001b[0m\n",
      "\u001b[34m[2021-04-12:16:49:19:INFO] Determined delimiter of CSV input is ','\u001b[0m\n",
      "\u001b[35m[2021-04-12:16:49:19:INFO] Sniff delimiter as ','\u001b[0m\n",
      "\u001b[35m[2021-04-12:16:49:19:INFO] Determined delimiter of CSV input is ','\u001b[0m\n",
      "\u001b[35m[2021-04-12:16:49:19:INFO] Sniff delimiter as ','\u001b[0m\n",
      "\u001b[35m[2021-04-12:16:49:19:INFO] Determined delimiter of CSV input is ','\u001b[0m\n",
      "\u001b[34m[2021-04-12:16:49:22:INFO] Sniff delimiter as ','\u001b[0m\n",
      "\u001b[34m[2021-04-12:16:49:22:INFO] Determined delimiter of CSV input is ','\u001b[0m\n",
      "\u001b[34m[2021-04-12:16:49:22:INFO] Sniff delimiter as ','\u001b[0m\n",
      "\u001b[34m[2021-04-12:16:49:22:INFO] Determined delimiter of CSV input is ','\u001b[0m\n",
      "\u001b[35m[2021-04-12:16:49:22:INFO] Sniff delimiter as ','\u001b[0m\n",
      "\u001b[35m[2021-04-12:16:49:22:INFO] Determined delimiter of CSV input is ','\u001b[0m\n",
      "\u001b[35m[2021-04-12:16:49:22:INFO] Sniff delimiter as ','\u001b[0m\n",
      "\u001b[35m[2021-04-12:16:49:22:INFO] Determined delimiter of CSV input is ','\u001b[0m\n",
      "\u001b[34m[2021-04-12:16:49:26:INFO] Sniff delimiter as ','\u001b[0m\n",
      "\u001b[34m[2021-04-12:16:49:26:INFO] Determined delimiter of CSV input is ','\u001b[0m\n",
      "\u001b[34m[2021-04-12:16:49:26:INFO] Sniff delimiter as ','\u001b[0m\n",
      "\u001b[34m[2021-04-12:16:49:26:INFO] Determined delimiter of CSV input is ','\u001b[0m\n",
      "\u001b[35m[2021-04-12:16:49:26:INFO] Sniff delimiter as ','\u001b[0m\n",
      "\u001b[35m[2021-04-12:16:49:26:INFO] Determined delimiter of CSV input is ','\u001b[0m\n",
      "\u001b[35m[2021-04-12:16:49:26:INFO] Sniff delimiter as ','\u001b[0m\n",
      "\u001b[35m[2021-04-12:16:49:26:INFO] Determined delimiter of CSV input is ','\u001b[0m\n",
      "\u001b[34m[2021-04-12:16:49:32:INFO] Sniff delimiter as ','\u001b[0m\n",
      "\u001b[34m[2021-04-12:16:49:32:INFO] Determined delimiter of CSV input is ','\u001b[0m\n",
      "\u001b[34m[2021-04-12:16:49:32:INFO] Sniff delimiter as ','\u001b[0m\n",
      "\u001b[34m[2021-04-12:16:49:32:INFO] Determined delimiter of CSV input is ','\u001b[0m\n",
      "\u001b[35m[2021-04-12:16:49:32:INFO] Sniff delimiter as ','\u001b[0m\n",
      "\u001b[35m[2021-04-12:16:49:32:INFO] Determined delimiter of CSV input is ','\u001b[0m\n",
      "\u001b[35m[2021-04-12:16:49:32:INFO] Sniff delimiter as ','\u001b[0m\n",
      "\u001b[35m[2021-04-12:16:49:32:INFO] Determined delimiter of CSV input is ','\u001b[0m\n",
      "\n"
     ]
    }
   ],
   "source": [
    "xgb_transformer.wait()"
   ]
  },
  {
   "cell_type": "code",
   "execution_count": 12,
   "id": "tutorial-african",
   "metadata": {},
   "outputs": [
    {
     "name": "stdout",
     "output_type": "stream",
     "text": [
      "download: s3://sagemaker-us-east-1-032934527328/xgboost-2021-04-12-16-44-23-375/test.csv.out to data-sentiment/test.csv.out\n"
     ]
    }
   ],
   "source": [
    "!aws s3 cp --recursive $xgb_transformer.output_path data-sentiment/"
   ]
  },
  {
   "cell_type": "code",
   "execution_count": 17,
   "id": "copyrighted-terrace",
   "metadata": {},
   "outputs": [],
   "source": [
    "y_test= processed_data['test']['labels']\n",
    "y_pred=np.loadtxt('data-sentiment/test.csv.out',delimiter=',')\n",
    "y_pred[y_pred>0.5]=1\n",
    "y_pred[y_pred<=0.5]=0"
   ]
  },
  {
   "cell_type": "code",
   "execution_count": null,
   "id": "studied-netherlands",
   "metadata": {},
   "outputs": [],
   "source": [
    "y_test= processed_data['test']['labels']\n",
    "predictions = pd.read_csv(os.path.join('data-sentiment/test.csv.out'), header=None)\n",
    "predictions = [round(num) for num in predictions.squeeze().values]"
   ]
  },
  {
   "cell_type": "code",
   "execution_count": null,
   "id": "proved-modern",
   "metadata": {},
   "outputs": [],
   "source": [
    "np.mean(y_pred==y_test)"
   ]
  },
  {
   "cell_type": "code",
   "execution_count": null,
   "id": "warming-antibody",
   "metadata": {},
   "outputs": [],
   "source": [
    "from sklearn.metrics import accuracy_score\n",
    "accuracy_score(y_test, predictions)"
   ]
  },
  {
   "cell_type": "code",
   "execution_count": null,
   "id": "peaceful-saturday",
   "metadata": {},
   "outputs": [],
   "source": []
  }
 ],
 "metadata": {
  "kernelspec": {
   "display_name": "conda_tensorflow_p36",
   "language": "python",
   "name": "conda_tensorflow_p36"
  },
  "language_info": {
   "codemirror_mode": {
    "name": "ipython",
    "version": 3
   },
   "file_extension": ".py",
   "mimetype": "text/x-python",
   "name": "python",
   "nbconvert_exporter": "python",
   "pygments_lexer": "ipython3",
   "version": "3.6.13"
  }
 },
 "nbformat": 4,
 "nbformat_minor": 5
}
