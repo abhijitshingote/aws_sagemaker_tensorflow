{
 "cells": [
  {
   "cell_type": "code",
   "execution_count": 1,
   "id": "continued-lounge",
   "metadata": {},
   "outputs": [],
   "source": [
    "import pandas as pd\n",
    "import numpy as np\n",
    "import os\n",
    "from sklearn.utils import shuffle\n",
    "from sklearn.feature_extraction.text import CountVectorizer\n",
    "import pickle\n",
    "from sklearn.model_selection import train_test_split"
   ]
  },
  {
   "cell_type": "code",
   "execution_count": null,
   "id": "historical-identifier",
   "metadata": {},
   "outputs": [],
   "source": [
    "# %mkdir ./data-sentiment\n",
    "# !wget -O ./data-sentiment/aclImdb_v1.tar.gz http://ai.stanford.edu/~amaas/data/sentiment/aclImdb_v1.tar.gz\n",
    "# !tar -zxf ./data-sentiment/aclImdb_v1.tar.gz -C ./data-sentiment"
   ]
  },
  {
   "cell_type": "code",
   "execution_count": 2,
   "id": "turned-american",
   "metadata": {},
   "outputs": [],
   "source": [
    "def prep_data(path):\n",
    "    data,labels={},{}\n",
    "    \n",
    "    ## Positive Reviews\n",
    "    data['pos'],labels['pos']=[],[]\n",
    "    for filename in os.listdir(path + 'pos'):\n",
    "        filepath=os.path.join(path,'pos',filename)\n",
    "        with open(filepath) as f:\n",
    "            data['pos'].append(f.read())\n",
    "    labels['pos']=[1]*len(data['pos'])\n",
    "    \n",
    "    # Negative Reviews\n",
    "    data['neg'],labels['neg']=[],[]\n",
    "    for filename in os.listdir(path + 'neg'):\n",
    "        filepath=os.path.join(path,'neg',filename)\n",
    "        with open(filepath) as f:\n",
    "            data['neg'].append(f.read())\n",
    "    labels['neg']=[0]*len(data['neg'])\n",
    "    \n",
    "    X,y=shuffle(data['pos']+data['neg'],labels['pos']+labels['neg'])\n",
    "    return X,y"
   ]
  },
  {
   "cell_type": "code",
   "execution_count": 3,
   "id": "gross-timber",
   "metadata": {},
   "outputs": [],
   "source": [
    "train_X,train_y=prep_data('data-sentiment/aclImdb/train/')\n",
    "test_X,test_y=prep_data('data-sentiment/aclImdb/test/')"
   ]
  },
  {
   "cell_type": "code",
   "execution_count": null,
   "id": "suited-texture",
   "metadata": {},
   "outputs": [],
   "source": [
    "# Remove Regex\n",
    "# Remove Stopwords\n",
    "# Count Vectorizer"
   ]
  },
  {
   "cell_type": "code",
   "execution_count": 4,
   "id": "second-harbor",
   "metadata": {},
   "outputs": [
    {
     "name": "stderr",
     "output_type": "stream",
     "text": [
      "[nltk_data] Downloading package stopwords to\n",
      "[nltk_data]     /home/ec2-user/nltk_data...\n",
      "[nltk_data]   Unzipping corpora/stopwords.zip.\n"
     ]
    }
   ],
   "source": [
    "import nltk\n",
    "nltk.download(\"stopwords\")\n",
    "from nltk.corpus import stopwords\n",
    "from nltk.stem.porter import *\n",
    "stemmer = PorterStemmer()"
   ]
  },
  {
   "cell_type": "code",
   "execution_count": 5,
   "id": "explicit-floor",
   "metadata": {},
   "outputs": [],
   "source": [
    "import re\n",
    "from bs4 import BeautifulSoup\n",
    "\n",
    "def review_to_words(review):\n",
    "    text = BeautifulSoup(review, \"html.parser\").get_text() # Remove HTML tags\n",
    "    text = re.sub(r\"[^a-zA-Z0-9]\", \" \", text.lower()) # Convert to lower case\n",
    "    words = text.split() # Split string into words\n",
    "    words = [w for w in words if w not in stopwords.words(\"english\")] # Remove stopwords\n",
    "    words = [PorterStemmer().stem(w) for w in words] # stem\n",
    "    \n",
    "    return words"
   ]
  },
  {
   "cell_type": "code",
   "execution_count": 6,
   "id": "canadian-latter",
   "metadata": {},
   "outputs": [],
   "source": [
    "processed_data={}\n",
    "processed_data['train']={}\n",
    "processed_data['test']={}\n",
    "processed_data['train']['data']=[review_to_words(review) for review in train_X]\n",
    "processed_data['train']['labels']=train_y\n",
    "processed_data['test']['data']=[review_to_words(review) for review in test_X]\n",
    "processed_data['test']['labels']=test_y"
   ]
  },
  {
   "cell_type": "code",
   "execution_count": 7,
   "id": "varying-trinity",
   "metadata": {},
   "outputs": [],
   "source": [
    "with open('data-sentiment/data-sentiment-processed.pkl','wb') as f:\n",
    "    pickle.dump(processed_data,f)"
   ]
  },
  {
   "cell_type": "code",
   "execution_count": 2,
   "id": "damaged-milan",
   "metadata": {},
   "outputs": [],
   "source": [
    "with open('data-sentiment/data-sentiment-processed.pkl','rb') as f:\n",
    "    processed_data=pickle.load(f)"
   ]
  },
  {
   "cell_type": "code",
   "execution_count": 9,
   "id": "hundred-algorithm",
   "metadata": {},
   "outputs": [],
   "source": [
    "vectorizer=CountVectorizer(max_features=5000,lowercase=True)"
   ]
  },
  {
   "cell_type": "code",
   "execution_count": 10,
   "id": "mighty-tomato",
   "metadata": {},
   "outputs": [
    {
     "data": {
      "text/plain": [
       "((25000, 5000), (25000,))"
      ]
     },
     "execution_count": 10,
     "metadata": {},
     "output_type": "execute_result"
    }
   ],
   "source": [
    "train_X=vectorizer.fit_transform([' '.join(review) for review in processed_data['train']['data']]).toarray()\n",
    "test_X=vectorizer.fit_transform([' '.join(review) for review in processed_data['test']['data']]).toarray()\n",
    "train_y,test_y=np.array(processed_data['train']['labels']),np.array(processed_data['test']['labels'])\n",
    "train_X.shape,train_y.shape"
   ]
  },
  {
   "cell_type": "code",
   "execution_count": 17,
   "id": "mounted-center",
   "metadata": {},
   "outputs": [],
   "source": [
    "# !mkdir data-sentiment/sagemakerready\n",
    "# !mkdir data-sentiment/sagemakerready/data"
   ]
  },
  {
   "cell_type": "code",
   "execution_count": 11,
   "id": "extensive-testament",
   "metadata": {},
   "outputs": [],
   "source": [
    "# Convert data to make it kosher for sagemaker\n",
    "X_train,X_val,y_train,y_val=train_test_split(train_X,train_y,test_size=0.33)\n",
    "X_test=test_X\n",
    "pd.DataFrame(np.concatenate([y_train.reshape(-1,1),X_train],axis=1)).to_csv('data-sentiment/sagemakerready/data/train.csv',header=False,index=False)\n",
    "pd.DataFrame(np.concatenate([y_val.reshape(-1,1),X_val],axis=1)).to_csv('data-sentiment/sagemakerready/data/validation.csv',header=False,index=False)\n",
    "pd.DataFrame(X_test).to_csv('data-sentiment/sagemakerready/data/test.csv',header=False,index=False)"
   ]
  },
  {
   "cell_type": "code",
   "execution_count": 3,
   "id": "flexible-youth",
   "metadata": {},
   "outputs": [],
   "source": [
    "import sagemaker"
   ]
  },
  {
   "cell_type": "code",
   "execution_count": 4,
   "id": "israeli-circle",
   "metadata": {},
   "outputs": [
    {
     "data": {
      "text/plain": [
       "'1.72.0'"
      ]
     },
     "execution_count": 4,
     "metadata": {},
     "output_type": "execute_result"
    }
   ],
   "source": [
    "# !pip uninstall -f sagemaker\n",
    "# !pip install sagemaker==1.72.0\n",
    "sagemaker.__version__"
   ]
  },
  {
   "cell_type": "code",
   "execution_count": 5,
   "id": "agreed-representation",
   "metadata": {},
   "outputs": [],
   "source": [
    "session=sagemaker.Session()\n"
   ]
  },
  {
   "cell_type": "code",
   "execution_count": 6,
   "id": "graduate-minnesota",
   "metadata": {},
   "outputs": [
    {
     "data": {
      "text/plain": [
       "'s3://sagemaker-us-east-1-032934527328/sentimentanalysis'"
      ]
     },
     "execution_count": 6,
     "metadata": {},
     "output_type": "execute_result"
    }
   ],
   "source": [
    "key_prefix='sentimentanalysis'\n",
    "session.upload_data('data-sentiment/sagemakerready/data',key_prefix=key_prefix)"
   ]
  },
  {
   "cell_type": "code",
   "execution_count": 7,
   "id": "sized-winner",
   "metadata": {},
   "outputs": [],
   "source": [
    "import sagemaker\n",
    "from sagemaker import get_execution_role\n",
    "from sagemaker.amazon.amazon_estimator import get_image_uri\n",
    "from sagemaker.predictor import csv_serializer\n",
    "session=sagemaker.Session()\n",
    "role=get_execution_role()"
   ]
  },
  {
   "cell_type": "code",
   "execution_count": 15,
   "id": "searching-spirituality",
   "metadata": {},
   "outputs": [
    {
     "name": "stderr",
     "output_type": "stream",
     "text": [
      "'get_image_uri' method will be deprecated in favor of 'ImageURIProvider' class in SageMaker Python SDK v2.\n",
      "There is a more up to date SageMaker XGBoost image. To use the newer image, please set 'repo_version'='1.0-1'. For example:\n",
      "\tget_image_uri(region, 'xgboost', '1.0-1').\n",
      "Parameter image_name will be renamed to image_uri in SageMaker Python SDK v2.\n"
     ]
    }
   ],
   "source": [
    "xgb=sagemaker.estimator.Estimator(image_name=get_image_uri(session.boto_region_name,'xgboost'),\n",
    "                                 role=role,\n",
    "                                  train_instance_count=1,\n",
    "                                  train_instance_type='ml.c5.9xlarge',\n",
    "                                  train_max_run=3600,\n",
    "                                  train_max_wait=3600,\n",
    "                                  train_use_spot_instances=True,\n",
    "                                  output_path='s3://sagemaker-us-east-1-032934527328/sentimentanalysis/output',\n",
    "                                  sagemaker_session=session\n",
    "                                 )"
   ]
  },
  {
   "cell_type": "code",
   "execution_count": 16,
   "id": "written-penny",
   "metadata": {},
   "outputs": [],
   "source": [
    "xgb.set_hyperparameters(max_depth=5,\n",
    "                       eta=0.2,\n",
    "                       gamma=4,\n",
    "                       min_child_weight=6,\n",
    "                       subsample=0.8,\n",
    "                       objective='binary:logistic',\n",
    "                       early_stopping_rounds=10,\n",
    "                       num_round=200)"
   ]
  },
  {
   "cell_type": "code",
   "execution_count": 17,
   "id": "confused-indie",
   "metadata": {
    "scrolled": false
   },
   "outputs": [
    {
     "name": "stderr",
     "output_type": "stream",
     "text": [
      "'s3_input' class will be renamed to 'TrainingInput' in SageMaker Python SDK v2.\n",
      "'s3_input' class will be renamed to 'TrainingInput' in SageMaker Python SDK v2.\n"
     ]
    },
    {
     "name": "stdout",
     "output_type": "stream",
     "text": [
      "2021-04-11 01:03:14 Starting - Starting the training job...\n",
      "2021-04-11 01:03:18 Starting - Launching requested ML instances......\n",
      "2021-04-11 01:04:29 Starting - Preparing the instances for training......\n",
      "2021-04-11 01:05:35 Downloading - Downloading input data\n",
      "2021-04-11 01:05:35 Training - Downloading the training image..\u001b[34mArguments: train\u001b[0m\n",
      "\u001b[34m[2021-04-11:01:05:50:INFO] Running standalone xgboost training.\u001b[0m\n",
      "\u001b[34m[2021-04-11:01:05:50:INFO] File size need to be processed in the node: 238.47mb. Available memory size in the node: 62014.71mb\u001b[0m\n",
      "\u001b[34m[2021-04-11:01:05:50:INFO] Determined delimiter of CSV input is ','\u001b[0m\n",
      "\u001b[34m[01:05:50] S3DistributionType set as FullyReplicated\u001b[0m\n",
      "\u001b[34m[01:05:52] 16750x5000 matrix with 83750000 entries loaded from /opt/ml/input/data/train?format=csv&label_column=0&delimiter=,\u001b[0m\n",
      "\u001b[34m[2021-04-11:01:05:52:INFO] Determined delimiter of CSV input is ','\u001b[0m\n",
      "\u001b[34m[01:05:52] S3DistributionType set as FullyReplicated\u001b[0m\n",
      "\u001b[34m[01:05:52] 8250x5000 matrix with 41250000 entries loaded from /opt/ml/input/data/validation?format=csv&label_column=0&delimiter=,\u001b[0m\n",
      "\u001b[34m[01:05:53] src/tree/updater_prune.cc:74: tree pruning end, 1 roots, 40 extra nodes, 6 pruned nodes, max_depth=5\u001b[0m\n",
      "\u001b[34m[0]#011train-error:0.282925#011validation-error:0.295879\u001b[0m\n",
      "\u001b[34mMultiple eval metrics have been passed: 'validation-error' will be used for early stopping.\n",
      "\u001b[0m\n",
      "\u001b[34mWill train until validation-error hasn't improved in 10 rounds.\u001b[0m\n",
      "\u001b[34m[01:05:53] src/tree/updater_prune.cc:74: tree pruning end, 1 roots, 42 extra nodes, 8 pruned nodes, max_depth=5\u001b[0m\n",
      "\u001b[34m[1]#011train-error:0.276716#011validation-error:0.289455\u001b[0m\n",
      "\u001b[34m[01:05:53] src/tree/updater_prune.cc:74: tree pruning end, 1 roots, 52 extra nodes, 4 pruned nodes, max_depth=5\u001b[0m\n",
      "\u001b[34m[2]#011train-error:0.266507#011validation-error:0.281455\u001b[0m\n",
      "\u001b[34m[01:05:54] src/tree/updater_prune.cc:74: tree pruning end, 1 roots, 38 extra nodes, 10 pruned nodes, max_depth=5\u001b[0m\n",
      "\u001b[34m[3]#011train-error:0.258388#011validation-error:0.273576\u001b[0m\n",
      "\u001b[34m[01:05:54] src/tree/updater_prune.cc:74: tree pruning end, 1 roots, 38 extra nodes, 4 pruned nodes, max_depth=5\u001b[0m\n",
      "\u001b[34m[4]#011train-error:0.253373#011validation-error:0.269939\u001b[0m\n",
      "\u001b[34m[01:05:54] src/tree/updater_prune.cc:74: tree pruning end, 1 roots, 30 extra nodes, 6 pruned nodes, max_depth=5\u001b[0m\n",
      "\u001b[34m[5]#011train-error:0.248597#011validation-error:0.264848\u001b[0m\n",
      "\u001b[34m[01:05:54] src/tree/updater_prune.cc:74: tree pruning end, 1 roots, 40 extra nodes, 6 pruned nodes, max_depth=5\u001b[0m\n",
      "\u001b[34m[6]#011train-error:0.238448#011validation-error:0.254061\u001b[0m\n",
      "\u001b[34m[01:05:54] src/tree/updater_prune.cc:74: tree pruning end, 1 roots, 34 extra nodes, 8 pruned nodes, max_depth=5\u001b[0m\n",
      "\u001b[34m[7]#011train-error:0.232836#011validation-error:0.249455\u001b[0m\n",
      "\u001b[34m[01:05:54] src/tree/updater_prune.cc:74: tree pruning end, 1 roots, 28 extra nodes, 2 pruned nodes, max_depth=5\u001b[0m\n",
      "\u001b[34m[8]#011train-error:0.22806#011validation-error:0.243758\u001b[0m\n",
      "\u001b[34m[01:05:54] src/tree/updater_prune.cc:74: tree pruning end, 1 roots, 32 extra nodes, 10 pruned nodes, max_depth=5\u001b[0m\n",
      "\u001b[34m[9]#011train-error:0.224119#011validation-error:0.24303\u001b[0m\n",
      "\u001b[34m[01:05:54] src/tree/updater_prune.cc:74: tree pruning end, 1 roots, 30 extra nodes, 6 pruned nodes, max_depth=5\u001b[0m\n",
      "\u001b[34m[10]#011train-error:0.221075#011validation-error:0.237091\u001b[0m\n",
      "\u001b[34m[01:05:55] src/tree/updater_prune.cc:74: tree pruning end, 1 roots, 38 extra nodes, 4 pruned nodes, max_depth=5\u001b[0m\n",
      "\u001b[34m[11]#011train-error:0.214687#011validation-error:0.233455\u001b[0m\n",
      "\u001b[34m[01:05:55] src/tree/updater_prune.cc:74: tree pruning end, 1 roots, 16 extra nodes, 14 pruned nodes, max_depth=5\u001b[0m\n",
      "\u001b[34m[12]#011train-error:0.211164#011validation-error:0.228485\u001b[0m\n",
      "\u001b[34m[01:05:55] src/tree/updater_prune.cc:74: tree pruning end, 1 roots, 30 extra nodes, 8 pruned nodes, max_depth=5\u001b[0m\n",
      "\u001b[34m[13]#011train-error:0.207224#011validation-error:0.225091\u001b[0m\n",
      "\u001b[34m[01:05:55] src/tree/updater_prune.cc:74: tree pruning end, 1 roots, 38 extra nodes, 0 pruned nodes, max_depth=5\u001b[0m\n",
      "\u001b[34m[14]#011train-error:0.205672#011validation-error:0.225576\u001b[0m\n",
      "\u001b[34m[01:05:55] src/tree/updater_prune.cc:74: tree pruning end, 1 roots, 38 extra nodes, 0 pruned nodes, max_depth=5\u001b[0m\n",
      "\u001b[34m[15]#011train-error:0.202149#011validation-error:0.222182\u001b[0m\n",
      "\u001b[34m[01:05:55] src/tree/updater_prune.cc:74: tree pruning end, 1 roots, 42 extra nodes, 6 pruned nodes, max_depth=5\u001b[0m\n",
      "\u001b[34m[16]#011train-error:0.199343#011validation-error:0.218667\u001b[0m\n",
      "\u001b[34m[01:05:55] src/tree/updater_prune.cc:74: tree pruning end, 1 roots, 34 extra nodes, 0 pruned nodes, max_depth=5\u001b[0m\n",
      "\u001b[34m[17]#011train-error:0.197015#011validation-error:0.214667\u001b[0m\n",
      "\u001b[34m[01:05:56] src/tree/updater_prune.cc:74: tree pruning end, 1 roots, 20 extra nodes, 10 pruned nodes, max_depth=5\u001b[0m\n",
      "\u001b[34m[18]#011train-error:0.192896#011validation-error:0.209939\u001b[0m\n",
      "\u001b[34m[01:05:56] src/tree/updater_prune.cc:74: tree pruning end, 1 roots, 30 extra nodes, 6 pruned nodes, max_depth=5\u001b[0m\n",
      "\u001b[34m[19]#011train-error:0.191701#011validation-error:0.208364\u001b[0m\n",
      "\u001b[34m[01:05:56] src/tree/updater_prune.cc:74: tree pruning end, 1 roots, 26 extra nodes, 10 pruned nodes, max_depth=5\u001b[0m\n",
      "\u001b[34m[20]#011train-error:0.187522#011validation-error:0.206303\u001b[0m\n",
      "\u001b[34m[01:05:56] src/tree/updater_prune.cc:74: tree pruning end, 1 roots, 36 extra nodes, 10 pruned nodes, max_depth=5\u001b[0m\n",
      "\u001b[34m[21]#011train-error:0.184418#011validation-error:0.205455\u001b[0m\n",
      "\u001b[34m[01:05:56] src/tree/updater_prune.cc:74: tree pruning end, 1 roots, 22 extra nodes, 10 pruned nodes, max_depth=5\u001b[0m\n",
      "\u001b[34m[22]#011train-error:0.183343#011validation-error:0.205818\u001b[0m\n",
      "\u001b[34m[01:05:56] src/tree/updater_prune.cc:74: tree pruning end, 1 roots, 36 extra nodes, 6 pruned nodes, max_depth=5\u001b[0m\n",
      "\u001b[34m[23]#011train-error:0.180716#011validation-error:0.205455\u001b[0m\n",
      "\u001b[34m[01:05:56] src/tree/updater_prune.cc:74: tree pruning end, 1 roots, 38 extra nodes, 10 pruned nodes, max_depth=5\u001b[0m\n",
      "\u001b[34m[24]#011train-error:0.177791#011validation-error:0.204485\u001b[0m\n",
      "\u001b[34m[01:05:57] src/tree/updater_prune.cc:74: tree pruning end, 1 roots, 22 extra nodes, 4 pruned nodes, max_depth=5\u001b[0m\n",
      "\u001b[34m[25]#011train-error:0.17606#011validation-error:0.202061\u001b[0m\n",
      "\u001b[34m[01:05:57] src/tree/updater_prune.cc:74: tree pruning end, 1 roots, 26 extra nodes, 8 pruned nodes, max_depth=5\u001b[0m\n",
      "\u001b[34m[26]#011train-error:0.173791#011validation-error:0.200485\u001b[0m\n",
      "\u001b[34m[01:05:57] src/tree/updater_prune.cc:74: tree pruning end, 1 roots, 18 extra nodes, 8 pruned nodes, max_depth=5\u001b[0m\n",
      "\u001b[34m[27]#011train-error:0.172299#011validation-error:0.200606\u001b[0m\n",
      "\u001b[34m[01:05:57] src/tree/updater_prune.cc:74: tree pruning end, 1 roots, 22 extra nodes, 10 pruned nodes, max_depth=5\u001b[0m\n",
      "\u001b[34m[28]#011train-error:0.170448#011validation-error:0.199394\u001b[0m\n",
      "\u001b[34m[01:05:57] src/tree/updater_prune.cc:74: tree pruning end, 1 roots, 24 extra nodes, 4 pruned nodes, max_depth=5\u001b[0m\n",
      "\u001b[34m[29]#011train-error:0.168#011validation-error:0.195515\u001b[0m\n",
      "\u001b[34m[01:05:57] src/tree/updater_prune.cc:74: tree pruning end, 1 roots, 18 extra nodes, 14 pruned nodes, max_depth=5\u001b[0m\n",
      "\u001b[34m[30]#011train-error:0.166209#011validation-error:0.193697\u001b[0m\n",
      "\u001b[34m[01:05:57] src/tree/updater_prune.cc:74: tree pruning end, 1 roots, 22 extra nodes, 12 pruned nodes, max_depth=5\u001b[0m\n",
      "\u001b[34m[31]#011train-error:0.164299#011validation-error:0.193697\u001b[0m\n",
      "\u001b[34m[01:05:57] src/tree/updater_prune.cc:74: tree pruning end, 1 roots, 18 extra nodes, 10 pruned nodes, max_depth=5\u001b[0m\n",
      "\u001b[34m[32]#011train-error:0.163642#011validation-error:0.192727\u001b[0m\n",
      "\u001b[34m[01:05:58] src/tree/updater_prune.cc:74: tree pruning end, 1 roots, 32 extra nodes, 6 pruned nodes, max_depth=5\u001b[0m\n",
      "\u001b[34m[33]#011train-error:0.161731#011validation-error:0.190788\u001b[0m\n",
      "\u001b[34m[01:05:58] src/tree/updater_prune.cc:74: tree pruning end, 1 roots, 24 extra nodes, 8 pruned nodes, max_depth=5\u001b[0m\n",
      "\u001b[34m[34]#011train-error:0.161134#011validation-error:0.19103\u001b[0m\n",
      "\u001b[34m[01:05:58] src/tree/updater_prune.cc:74: tree pruning end, 1 roots, 22 extra nodes, 4 pruned nodes, max_depth=5\u001b[0m\n",
      "\u001b[34m[35]#011train-error:0.159701#011validation-error:0.188485\u001b[0m\n",
      "\u001b[34m[01:05:58] src/tree/updater_prune.cc:74: tree pruning end, 1 roots, 16 extra nodes, 6 pruned nodes, max_depth=5\u001b[0m\n",
      "\u001b[34m[36]#011train-error:0.159522#011validation-error:0.187879\u001b[0m\n",
      "\u001b[34m[01:05:58] src/tree/updater_prune.cc:74: tree pruning end, 1 roots, 32 extra nodes, 4 pruned nodes, max_depth=5\u001b[0m\n",
      "\u001b[34m[37]#011train-error:0.157493#011validation-error:0.187273\u001b[0m\n",
      "\u001b[34m[01:05:58] src/tree/updater_prune.cc:74: tree pruning end, 1 roots, 40 extra nodes, 6 pruned nodes, max_depth=5\u001b[0m\n",
      "\u001b[34m[38]#011train-error:0.154567#011validation-error:0.187273\u001b[0m\n",
      "\u001b[34m[01:05:58] src/tree/updater_prune.cc:74: tree pruning end, 1 roots, 18 extra nodes, 10 pruned nodes, max_depth=5\u001b[0m\n",
      "\u001b[34m[39]#011train-error:0.153313#011validation-error:0.186182\u001b[0m\n",
      "\u001b[34m[01:05:59] src/tree/updater_prune.cc:74: tree pruning end, 1 roots, 14 extra nodes, 8 pruned nodes, max_depth=5\u001b[0m\n",
      "\u001b[34m[40]#011train-error:0.15194#011validation-error:0.186788\u001b[0m\n",
      "\u001b[34m[01:05:59] src/tree/updater_prune.cc:74: tree pruning end, 1 roots, 24 extra nodes, 8 pruned nodes, max_depth=5\u001b[0m\n",
      "\u001b[34m[41]#011train-error:0.151522#011validation-error:0.185212\u001b[0m\n",
      "\u001b[34m[42]#011train-error:0.150567#011validation-error:0.184606\u001b[0m\n",
      "\u001b[34m[01:05:59] src/tree/updater_prune.cc:74: tree pruning end, 1 roots, 26 extra nodes, 8 pruned nodes, max_depth=5\u001b[0m\n",
      "\u001b[34m[01:05:59] src/tree/updater_prune.cc:74: tree pruning end, 1 roots, 24 extra nodes, 8 pruned nodes, max_depth=5\u001b[0m\n",
      "\u001b[34m[43]#011train-error:0.149493#011validation-error:0.183636\u001b[0m\n",
      "\u001b[34m[01:05:59] src/tree/updater_prune.cc:74: tree pruning end, 1 roots, 18 extra nodes, 10 pruned nodes, max_depth=5\u001b[0m\n",
      "\u001b[34m[44]#011train-error:0.148#011validation-error:0.184\u001b[0m\n",
      "\u001b[34m[01:05:59] src/tree/updater_prune.cc:74: tree pruning end, 1 roots, 26 extra nodes, 12 pruned nodes, max_depth=5\u001b[0m\n",
      "\u001b[34m[45]#011train-error:0.147104#011validation-error:0.183152\u001b[0m\n",
      "\u001b[34m[01:05:59] src/tree/updater_prune.cc:74: tree pruning end, 1 roots, 24 extra nodes, 10 pruned nodes, max_depth=5\u001b[0m\n",
      "\u001b[34m[46]#011train-error:0.146985#011validation-error:0.181697\u001b[0m\n",
      "\u001b[34m[01:06:00] src/tree/updater_prune.cc:74: tree pruning end, 1 roots, 18 extra nodes, 12 pruned nodes, max_depth=5\u001b[0m\n",
      "\u001b[34m[47]#011train-error:0.146269#011validation-error:0.180121\u001b[0m\n",
      "\u001b[34m[01:06:00] src/tree/updater_prune.cc:74: tree pruning end, 1 roots, 20 extra nodes, 10 pruned nodes, max_depth=5\u001b[0m\n",
      "\u001b[34m[48]#011train-error:0.144955#011validation-error:0.177939\u001b[0m\n"
     ]
    },
    {
     "name": "stdout",
     "output_type": "stream",
     "text": [
      "\n",
      "2021-04-11 01:05:50 Training - Training image download completed. Training in progress.\u001b[34m[01:06:00] src/tree/updater_prune.cc:74: tree pruning end, 1 roots, 26 extra nodes, 8 pruned nodes, max_depth=5\u001b[0m\n",
      "\u001b[34m[49]#011train-error:0.142985#011validation-error:0.178182\u001b[0m\n",
      "\u001b[34m[01:06:00] src/tree/updater_prune.cc:74: tree pruning end, 1 roots, 22 extra nodes, 10 pruned nodes, max_depth=5\u001b[0m\n",
      "\u001b[34m[50]#011train-error:0.141851#011validation-error:0.178545\u001b[0m\n",
      "\u001b[34m[01:06:00] src/tree/updater_prune.cc:74: tree pruning end, 1 roots, 22 extra nodes, 4 pruned nodes, max_depth=5\u001b[0m\n",
      "\u001b[34m[51]#011train-error:0.14209#011validation-error:0.177576\u001b[0m\n",
      "\u001b[34m[01:06:00] src/tree/updater_prune.cc:74: tree pruning end, 1 roots, 16 extra nodes, 4 pruned nodes, max_depth=5\u001b[0m\n",
      "\u001b[34m[52]#011train-error:0.141612#011validation-error:0.17697\u001b[0m\n",
      "\u001b[34m[01:06:00] src/tree/updater_prune.cc:74: tree pruning end, 1 roots, 34 extra nodes, 8 pruned nodes, max_depth=5\u001b[0m\n",
      "\u001b[34m[53]#011train-error:0.14006#011validation-error:0.175758\u001b[0m\n",
      "\u001b[34m[01:06:00] src/tree/updater_prune.cc:74: tree pruning end, 1 roots, 28 extra nodes, 10 pruned nodes, max_depth=5\u001b[0m\n",
      "\u001b[34m[54]#011train-error:0.138507#011validation-error:0.176\u001b[0m\n",
      "\u001b[34m[01:06:01] src/tree/updater_prune.cc:74: tree pruning end, 1 roots, 16 extra nodes, 12 pruned nodes, max_depth=5\u001b[0m\n",
      "\u001b[34m[55]#011train-error:0.137612#011validation-error:0.174788\u001b[0m\n",
      "\u001b[34m[01:06:01] src/tree/updater_prune.cc:74: tree pruning end, 1 roots, 32 extra nodes, 16 pruned nodes, max_depth=5\u001b[0m\n",
      "\u001b[34m[56]#011train-error:0.136119#011validation-error:0.175636\u001b[0m\n",
      "\u001b[34m[01:06:01] src/tree/updater_prune.cc:74: tree pruning end, 1 roots, 14 extra nodes, 8 pruned nodes, max_depth=5\u001b[0m\n",
      "\u001b[34m[57]#011train-error:0.134806#011validation-error:0.17503\u001b[0m\n",
      "\u001b[34m[58]#011train-error:0.135164#011validation-error:0.172242\u001b[0m\n",
      "\u001b[34m[01:06:01] src/tree/updater_prune.cc:74: tree pruning end, 1 roots, 28 extra nodes, 8 pruned nodes, max_depth=5\u001b[0m\n",
      "\u001b[34m[01:06:01] src/tree/updater_prune.cc:74: tree pruning end, 1 roots, 24 extra nodes, 4 pruned nodes, max_depth=5\u001b[0m\n",
      "\u001b[34m[59]#011train-error:0.134448#011validation-error:0.171394\u001b[0m\n",
      "\u001b[34m[01:06:01] src/tree/updater_prune.cc:74: tree pruning end, 1 roots, 16 extra nodes, 8 pruned nodes, max_depth=5\u001b[0m\n",
      "\u001b[34m[60]#011train-error:0.133493#011validation-error:0.170667\u001b[0m\n",
      "\u001b[34m[01:06:01] src/tree/updater_prune.cc:74: tree pruning end, 1 roots, 20 extra nodes, 6 pruned nodes, max_depth=5\u001b[0m\n",
      "\u001b[34m[61]#011train-error:0.132358#011validation-error:0.170424\u001b[0m\n",
      "\u001b[34m[01:06:02] src/tree/updater_prune.cc:74: tree pruning end, 1 roots, 12 extra nodes, 10 pruned nodes, max_depth=5\u001b[0m\n",
      "\u001b[34m[62]#011train-error:0.131522#011validation-error:0.169818\u001b[0m\n",
      "\u001b[34m[01:06:02] src/tree/updater_prune.cc:74: tree pruning end, 1 roots, 22 extra nodes, 12 pruned nodes, max_depth=5\u001b[0m\n",
      "\u001b[34m[63]#011train-error:0.13003#011validation-error:0.169818\u001b[0m\n",
      "\u001b[34m[01:06:02] src/tree/updater_prune.cc:74: tree pruning end, 1 roots, 30 extra nodes, 14 pruned nodes, max_depth=5\u001b[0m\n",
      "\u001b[34m[64]#011train-error:0.129672#011validation-error:0.168121\u001b[0m\n",
      "\u001b[34m[01:06:02] src/tree/updater_prune.cc:74: tree pruning end, 1 roots, 18 extra nodes, 10 pruned nodes, max_depth=5\u001b[0m\n",
      "\u001b[34m[65]#011train-error:0.129015#011validation-error:0.168606\u001b[0m\n",
      "\u001b[34m[01:06:02] src/tree/updater_prune.cc:74: tree pruning end, 1 roots, 24 extra nodes, 0 pruned nodes, max_depth=5\u001b[0m\n",
      "\u001b[34m[66]#011train-error:0.128179#011validation-error:0.167515\u001b[0m\n",
      "\u001b[34m[01:06:02] src/tree/updater_prune.cc:74: tree pruning end, 1 roots, 18 extra nodes, 14 pruned nodes, max_depth=5\u001b[0m\n",
      "\u001b[34m[67]#011train-error:0.127104#011validation-error:0.167273\u001b[0m\n",
      "\u001b[34m[01:06:02] src/tree/updater_prune.cc:74: tree pruning end, 1 roots, 22 extra nodes, 10 pruned nodes, max_depth=5\u001b[0m\n",
      "\u001b[34m[68]#011train-error:0.126746#011validation-error:0.166909\u001b[0m\n",
      "\u001b[34m[01:06:03] src/tree/updater_prune.cc:74: tree pruning end, 1 roots, 14 extra nodes, 10 pruned nodes, max_depth=5\u001b[0m\n",
      "\u001b[34m[69]#011train-error:0.125851#011validation-error:0.165697\u001b[0m\n",
      "\u001b[34m[01:06:03] src/tree/updater_prune.cc:74: tree pruning end, 1 roots, 26 extra nodes, 10 pruned nodes, max_depth=5\u001b[0m\n",
      "\u001b[34m[70]#011train-error:0.125373#011validation-error:0.165697\u001b[0m\n",
      "\u001b[34m[01:06:03] src/tree/updater_prune.cc:74: tree pruning end, 1 roots, 16 extra nodes, 10 pruned nodes, max_depth=5\u001b[0m\n",
      "\u001b[34m[71]#011train-error:0.124896#011validation-error:0.165818\u001b[0m\n",
      "\u001b[34m[01:06:03] src/tree/updater_prune.cc:74: tree pruning end, 1 roots, 18 extra nodes, 2 pruned nodes, max_depth=5\u001b[0m\n",
      "\u001b[34m[72]#011train-error:0.124955#011validation-error:0.165455\u001b[0m\n",
      "\u001b[34m[01:06:03] src/tree/updater_prune.cc:74: tree pruning end, 1 roots, 14 extra nodes, 16 pruned nodes, max_depth=5\u001b[0m\n",
      "\u001b[34m[73]#011train-error:0.125373#011validation-error:0.163636\u001b[0m\n",
      "\u001b[34m[01:06:03] src/tree/updater_prune.cc:74: tree pruning end, 1 roots, 26 extra nodes, 6 pruned nodes, max_depth=5\u001b[0m\n",
      "\u001b[34m[74]#011train-error:0.124299#011validation-error:0.163636\u001b[0m\n",
      "\u001b[34m[01:06:03] src/tree/updater_prune.cc:74: tree pruning end, 1 roots, 18 extra nodes, 18 pruned nodes, max_depth=5\u001b[0m\n",
      "\u001b[34m[75]#011train-error:0.123522#011validation-error:0.163152\u001b[0m\n",
      "\u001b[34m[01:06:04] src/tree/updater_prune.cc:74: tree pruning end, 1 roots, 14 extra nodes, 10 pruned nodes, max_depth=5\u001b[0m\n",
      "\u001b[34m[76]#011train-error:0.122985#011validation-error:0.162424\u001b[0m\n",
      "\u001b[34m[01:06:04] src/tree/updater_prune.cc:74: tree pruning end, 1 roots, 14 extra nodes, 10 pruned nodes, max_depth=5\u001b[0m\n",
      "\u001b[34m[77]#011train-error:0.122567#011validation-error:0.162788\u001b[0m\n",
      "\u001b[34m[01:06:04] src/tree/updater_prune.cc:74: tree pruning end, 1 roots, 26 extra nodes, 8 pruned nodes, max_depth=5\u001b[0m\n",
      "\u001b[34m[78]#011train-error:0.123104#011validation-error:0.161818\u001b[0m\n",
      "\u001b[34m[01:06:04] src/tree/updater_prune.cc:74: tree pruning end, 1 roots, 14 extra nodes, 10 pruned nodes, max_depth=5\u001b[0m\n",
      "\u001b[34m[79]#011train-error:0.12191#011validation-error:0.162061\u001b[0m\n",
      "\u001b[34m[01:06:04] src/tree/updater_prune.cc:74: tree pruning end, 1 roots, 10 extra nodes, 8 pruned nodes, max_depth=5\u001b[0m\n",
      "\u001b[34m[80]#011train-error:0.12191#011validation-error:0.162182\u001b[0m\n",
      "\u001b[34m[01:06:04] src/tree/updater_prune.cc:74: tree pruning end, 1 roots, 14 extra nodes, 16 pruned nodes, max_depth=5\u001b[0m\n",
      "\u001b[34m[81]#011train-error:0.121552#011validation-error:0.161455\u001b[0m\n",
      "\u001b[34m[01:06:04] src/tree/updater_prune.cc:74: tree pruning end, 1 roots, 18 extra nodes, 4 pruned nodes, max_depth=5\u001b[0m\n",
      "\u001b[34m[82]#011train-error:0.120478#011validation-error:0.161576\u001b[0m\n",
      "\u001b[34m[01:06:05] src/tree/updater_prune.cc:74: tree pruning end, 1 roots, 14 extra nodes, 14 pruned nodes, max_depth=5\u001b[0m\n",
      "\u001b[34m[83]#011train-error:0.120418#011validation-error:0.162182\u001b[0m\n",
      "\u001b[34m[01:06:05] src/tree/updater_prune.cc:74: tree pruning end, 1 roots, 16 extra nodes, 6 pruned nodes, max_depth=5\u001b[0m\n",
      "\u001b[34m[84]#011train-error:0.119343#011validation-error:0.161939\u001b[0m\n",
      "\u001b[34m[01:06:05] src/tree/updater_prune.cc:74: tree pruning end, 1 roots, 16 extra nodes, 10 pruned nodes, max_depth=5\u001b[0m\n",
      "\u001b[34m[85]#011train-error:0.119343#011validation-error:0.161818\u001b[0m\n",
      "\u001b[34m[01:06:05] src/tree/updater_prune.cc:74: tree pruning end, 1 roots, 18 extra nodes, 8 pruned nodes, max_depth=5\u001b[0m\n",
      "\u001b[34m[86]#011train-error:0.118448#011validation-error:0.162303\u001b[0m\n",
      "\u001b[34m[01:06:05] src/tree/updater_prune.cc:74: tree pruning end, 1 roots, 10 extra nodes, 20 pruned nodes, max_depth=5\u001b[0m\n",
      "\u001b[34m[87]#011train-error:0.118209#011validation-error:0.161576\u001b[0m\n",
      "\u001b[34m[01:06:05] src/tree/updater_prune.cc:74: tree pruning end, 1 roots, 22 extra nodes, 12 pruned nodes, max_depth=5\u001b[0m\n",
      "\u001b[34m[88]#011train-error:0.116776#011validation-error:0.162424\u001b[0m\n",
      "\u001b[34m[01:06:05] src/tree/updater_prune.cc:74: tree pruning end, 1 roots, 24 extra nodes, 8 pruned nodes, max_depth=5\u001b[0m\n",
      "\u001b[34m[89]#011train-error:0.116896#011validation-error:0.161455\u001b[0m\n",
      "\u001b[34m[01:06:05] src/tree/updater_prune.cc:74: tree pruning end, 1 roots, 12 extra nodes, 8 pruned nodes, max_depth=5\u001b[0m\n",
      "\u001b[34m[90]#011train-error:0.115582#011validation-error:0.161818\u001b[0m\n",
      "\u001b[34m[01:06:06] src/tree/updater_prune.cc:74: tree pruning end, 1 roots, 22 extra nodes, 8 pruned nodes, max_depth=5\u001b[0m\n",
      "\u001b[34m[91]#011train-error:0.115821#011validation-error:0.160242\u001b[0m\n",
      "\u001b[34m[01:06:06] src/tree/updater_prune.cc:74: tree pruning end, 1 roots, 24 extra nodes, 8 pruned nodes, max_depth=5\u001b[0m\n",
      "\u001b[34m[92]#011train-error:0.114149#011validation-error:0.160606\u001b[0m\n",
      "\u001b[34m[01:06:06] src/tree/updater_prune.cc:74: tree pruning end, 1 roots, 14 extra nodes, 8 pruned nodes, max_depth=5\u001b[0m\n",
      "\u001b[34m[93]#011train-error:0.114328#011validation-error:0.160242\u001b[0m\n",
      "\u001b[34m[01:06:06] src/tree/updater_prune.cc:74: tree pruning end, 1 roots, 18 extra nodes, 2 pruned nodes, max_depth=5\u001b[0m\n",
      "\u001b[34m[94]#011train-error:0.113791#011validation-error:0.16\u001b[0m\n",
      "\u001b[34m[01:06:06] src/tree/updater_prune.cc:74: tree pruning end, 1 roots, 12 extra nodes, 4 pruned nodes, max_depth=5\u001b[0m\n",
      "\u001b[34m[95]#011train-error:0.112896#011validation-error:0.159273\u001b[0m\n",
      "\u001b[34m[01:06:06] src/tree/updater_prune.cc:74: tree pruning end, 1 roots, 38 extra nodes, 8 pruned nodes, max_depth=5\u001b[0m\n",
      "\u001b[34m[96]#011train-error:0.113672#011validation-error:0.159879\u001b[0m\n",
      "\u001b[34m[01:06:06] src/tree/updater_prune.cc:74: tree pruning end, 1 roots, 20 extra nodes, 12 pruned nodes, max_depth=5\u001b[0m\n",
      "\u001b[34m[97]#011train-error:0.113612#011validation-error:0.159758\u001b[0m\n",
      "\u001b[34m[01:06:07] src/tree/updater_prune.cc:74: tree pruning end, 1 roots, 14 extra nodes, 12 pruned nodes, max_depth=5\u001b[0m\n",
      "\u001b[34m[98]#011train-error:0.112776#011validation-error:0.159515\u001b[0m\n",
      "\u001b[34m[01:06:07] src/tree/updater_prune.cc:74: tree pruning end, 1 roots, 14 extra nodes, 8 pruned nodes, max_depth=5\u001b[0m\n",
      "\u001b[34m[99]#011train-error:0.112418#011validation-error:0.16\u001b[0m\n",
      "\u001b[34m[01:06:07] src/tree/updater_prune.cc:74: tree pruning end, 1 roots, 14 extra nodes, 4 pruned nodes, max_depth=5\u001b[0m\n",
      "\u001b[34m[100]#011train-error:0.11194#011validation-error:0.159394\u001b[0m\n",
      "\u001b[34m[01:06:07] src/tree/updater_prune.cc:74: tree pruning end, 1 roots, 10 extra nodes, 8 pruned nodes, max_depth=5\u001b[0m\n",
      "\u001b[34m[101]#011train-error:0.111821#011validation-error:0.158667\u001b[0m\n",
      "\u001b[34m[01:06:07] src/tree/updater_prune.cc:74: tree pruning end, 1 roots, 12 extra nodes, 2 pruned nodes, max_depth=5\u001b[0m\n",
      "\u001b[34m[102]#011train-error:0.111642#011validation-error:0.157697\u001b[0m\n",
      "\u001b[34m[01:06:07] src/tree/updater_prune.cc:74: tree pruning end, 1 roots, 22 extra nodes, 12 pruned nodes, max_depth=5\u001b[0m\n",
      "\u001b[34m[103]#011train-error:0.111224#011validation-error:0.158061\u001b[0m\n",
      "\u001b[34m[01:06:07] src/tree/updater_prune.cc:74: tree pruning end, 1 roots, 12 extra nodes, 4 pruned nodes, max_depth=5\u001b[0m\n",
      "\u001b[34m[104]#011train-error:0.110866#011validation-error:0.158182\u001b[0m\n",
      "\u001b[34m[01:06:08] src/tree/updater_prune.cc:74: tree pruning end, 1 roots, 14 extra nodes, 6 pruned nodes, max_depth=5\u001b[0m\n",
      "\u001b[34m[105]#011train-error:0.110567#011validation-error:0.158061\u001b[0m\n",
      "\u001b[34m[01:06:08] src/tree/updater_prune.cc:74: tree pruning end, 1 roots, 16 extra nodes, 10 pruned nodes, max_depth=5\u001b[0m\n",
      "\u001b[34m[106]#011train-error:0.110328#011validation-error:0.157697\u001b[0m\n",
      "\u001b[34m[01:06:08] src/tree/updater_prune.cc:74: tree pruning end, 1 roots, 12 extra nodes, 14 pruned nodes, max_depth=5\u001b[0m\n",
      "\u001b[34m[107]#011train-error:0.11003#011validation-error:0.158061\u001b[0m\n",
      "\u001b[34m[01:06:08] src/tree/updater_prune.cc:74: tree pruning end, 1 roots, 12 extra nodes, 8 pruned nodes, max_depth=5\u001b[0m\n",
      "\u001b[34m[108]#011train-error:0.109731#011validation-error:0.157091\u001b[0m\n",
      "\u001b[34m[01:06:08] src/tree/updater_prune.cc:74: tree pruning end, 1 roots, 14 extra nodes, 16 pruned nodes, max_depth=5\u001b[0m\n",
      "\u001b[34m[109]#011train-error:0.109433#011validation-error:0.156364\u001b[0m\n",
      "\u001b[34m[01:06:08] src/tree/updater_prune.cc:74: tree pruning end, 1 roots, 22 extra nodes, 16 pruned nodes, max_depth=5\u001b[0m\n",
      "\u001b[34m[110]#011train-error:0.109373#011validation-error:0.156364\u001b[0m\n",
      "\u001b[34m[01:06:08] src/tree/updater_prune.cc:74: tree pruning end, 1 roots, 10 extra nodes, 12 pruned nodes, max_depth=5\u001b[0m\n",
      "\u001b[34m[111]#011train-error:0.108776#011validation-error:0.156242\u001b[0m\n",
      "\u001b[34m[01:06:08] src/tree/updater_prune.cc:74: tree pruning end, 1 roots, 12 extra nodes, 4 pruned nodes, max_depth=5\u001b[0m\n",
      "\u001b[34m[112]#011train-error:0.109015#011validation-error:0.156364\u001b[0m\n",
      "\u001b[34m[01:06:09] src/tree/updater_prune.cc:74: tree pruning end, 1 roots, 14 extra nodes, 10 pruned nodes, max_depth=5\u001b[0m\n",
      "\u001b[34m[113]#011train-error:0.108836#011validation-error:0.156\u001b[0m\n",
      "\u001b[34m[01:06:09] src/tree/updater_prune.cc:74: tree pruning end, 1 roots, 20 extra nodes, 6 pruned nodes, max_depth=5\u001b[0m\n",
      "\u001b[34m[114]#011train-error:0.108299#011validation-error:0.156\u001b[0m\n",
      "\u001b[34m[01:06:09] src/tree/updater_prune.cc:74: tree pruning end, 1 roots, 14 extra nodes, 8 pruned nodes, max_depth=5\u001b[0m\n",
      "\u001b[34m[115]#011train-error:0.107881#011validation-error:0.154667\u001b[0m\n",
      "\u001b[34m[01:06:09] src/tree/updater_prune.cc:74: tree pruning end, 1 roots, 18 extra nodes, 10 pruned nodes, max_depth=5\u001b[0m\n",
      "\u001b[34m[116]#011train-error:0.106627#011validation-error:0.156606\u001b[0m\n",
      "\u001b[34m[01:06:09] src/tree/updater_prune.cc:74: tree pruning end, 1 roots, 12 extra nodes, 2 pruned nodes, max_depth=5\u001b[0m\n",
      "\u001b[34m[117]#011train-error:0.107045#011validation-error:0.156485\u001b[0m\n",
      "\u001b[34m[01:06:09] src/tree/updater_prune.cc:74: tree pruning end, 1 roots, 10 extra nodes, 8 pruned nodes, max_depth=5\u001b[0m\n",
      "\u001b[34m[118]#011train-error:0.106687#011validation-error:0.155636\u001b[0m\n",
      "\u001b[34m[01:06:09] src/tree/updater_prune.cc:74: tree pruning end, 1 roots, 14 extra nodes, 12 pruned nodes, max_depth=5\u001b[0m\n",
      "\u001b[34m[119]#011train-error:0.106687#011validation-error:0.155879\u001b[0m\n",
      "\u001b[34m[01:06:10] src/tree/updater_prune.cc:74: tree pruning end, 1 roots, 14 extra nodes, 12 pruned nodes, max_depth=5\u001b[0m\n",
      "\u001b[34m[120]#011train-error:0.106328#011validation-error:0.15503\u001b[0m\n",
      "\u001b[34m[01:06:10] src/tree/updater_prune.cc:74: tree pruning end, 1 roots, 16 extra nodes, 10 pruned nodes, max_depth=5\u001b[0m\n",
      "\u001b[34m[121]#011train-error:0.105493#011validation-error:0.155636\u001b[0m\n"
     ]
    },
    {
     "name": "stdout",
     "output_type": "stream",
     "text": [
      "\u001b[34m[01:06:10] src/tree/updater_prune.cc:74: tree pruning end, 1 roots, 12 extra nodes, 6 pruned nodes, max_depth=5\u001b[0m\n",
      "\u001b[34m[122]#011train-error:0.105313#011validation-error:0.154788\u001b[0m\n",
      "\u001b[34m[01:06:10] src/tree/updater_prune.cc:74: tree pruning end, 1 roots, 12 extra nodes, 4 pruned nodes, max_depth=5\u001b[0m\n",
      "\u001b[34m[123]#011train-error:0.105672#011validation-error:0.154667\u001b[0m\n",
      "\u001b[34m[01:06:10] src/tree/updater_prune.cc:74: tree pruning end, 1 roots, 20 extra nodes, 14 pruned nodes, max_depth=5\u001b[0m\n",
      "\u001b[34m[124]#011train-error:0.105313#011validation-error:0.153697\u001b[0m\n",
      "\u001b[34m[01:06:10] src/tree/updater_prune.cc:74: tree pruning end, 1 roots, 14 extra nodes, 8 pruned nodes, max_depth=5\u001b[0m\n",
      "\u001b[34m[125]#011train-error:0.105194#011validation-error:0.154303\u001b[0m\n",
      "\u001b[34m[01:06:10] src/tree/updater_prune.cc:74: tree pruning end, 1 roots, 14 extra nodes, 8 pruned nodes, max_depth=5\u001b[0m\n",
      "\u001b[34m[126]#011train-error:0.104358#011validation-error:0.154303\u001b[0m\n",
      "\u001b[34m[01:06:10] src/tree/updater_prune.cc:74: tree pruning end, 1 roots, 12 extra nodes, 8 pruned nodes, max_depth=5\u001b[0m\n",
      "\u001b[34m[127]#011train-error:0.104299#011validation-error:0.153091\u001b[0m\n",
      "\u001b[34m[01:06:11] src/tree/updater_prune.cc:74: tree pruning end, 1 roots, 16 extra nodes, 10 pruned nodes, max_depth=5\u001b[0m\n",
      "\u001b[34m[128]#011train-error:0.103343#011validation-error:0.15297\u001b[0m\n",
      "\u001b[34m[01:06:11] src/tree/updater_prune.cc:74: tree pruning end, 1 roots, 14 extra nodes, 10 pruned nodes, max_depth=5\u001b[0m\n",
      "\u001b[34m[129]#011train-error:0.103343#011validation-error:0.152727\u001b[0m\n",
      "\u001b[34m[01:06:11] src/tree/updater_prune.cc:74: tree pruning end, 1 roots, 10 extra nodes, 8 pruned nodes, max_depth=5\u001b[0m\n",
      "\u001b[34m[130]#011train-error:0.102925#011validation-error:0.151879\u001b[0m\n",
      "\u001b[34m[01:06:11] src/tree/updater_prune.cc:74: tree pruning end, 1 roots, 14 extra nodes, 10 pruned nodes, max_depth=5\u001b[0m\n",
      "\u001b[34m[131]#011train-error:0.102388#011validation-error:0.152364\u001b[0m\n",
      "\u001b[34m[01:06:11] src/tree/updater_prune.cc:74: tree pruning end, 1 roots, 16 extra nodes, 4 pruned nodes, max_depth=5\u001b[0m\n",
      "\u001b[34m[132]#011train-error:0.101791#011validation-error:0.151758\u001b[0m\n",
      "\u001b[34m[01:06:11] src/tree/updater_prune.cc:74: tree pruning end, 1 roots, 20 extra nodes, 8 pruned nodes, max_depth=5\u001b[0m\n",
      "\u001b[34m[133]#011train-error:0.101373#011validation-error:0.151273\u001b[0m\n",
      "\u001b[34m[01:06:11] src/tree/updater_prune.cc:74: tree pruning end, 1 roots, 26 extra nodes, 6 pruned nodes, max_depth=5\u001b[0m\n",
      "\u001b[34m[134]#011train-error:0.100896#011validation-error:0.151879\u001b[0m\n",
      "\u001b[34m[01:06:12] src/tree/updater_prune.cc:74: tree pruning end, 1 roots, 20 extra nodes, 12 pruned nodes, max_depth=5\u001b[0m\n",
      "\u001b[34m[135]#011train-error:0.100657#011validation-error:0.151515\u001b[0m\n",
      "\u001b[34m[01:06:12] src/tree/updater_prune.cc:74: tree pruning end, 1 roots, 16 extra nodes, 4 pruned nodes, max_depth=5\u001b[0m\n",
      "\u001b[34m[136]#011train-error:0.100119#011validation-error:0.150909\u001b[0m\n",
      "\u001b[34m[01:06:12] src/tree/updater_prune.cc:74: tree pruning end, 1 roots, 20 extra nodes, 6 pruned nodes, max_depth=5\u001b[0m\n",
      "\u001b[34m[137]#011train-error:0.099522#011validation-error:0.151152\u001b[0m\n",
      "\u001b[34m[01:06:12] src/tree/updater_prune.cc:74: tree pruning end, 1 roots, 10 extra nodes, 10 pruned nodes, max_depth=5\u001b[0m\n",
      "\u001b[34m[138]#011train-error:0.099284#011validation-error:0.151394\u001b[0m\n",
      "\u001b[34m[01:06:12] src/tree/updater_prune.cc:74: tree pruning end, 1 roots, 10 extra nodes, 4 pruned nodes, max_depth=5\u001b[0m\n",
      "\u001b[34m[139]#011train-error:0.099582#011validation-error:0.150545\u001b[0m\n",
      "\u001b[34m[01:06:12] src/tree/updater_prune.cc:74: tree pruning end, 1 roots, 16 extra nodes, 10 pruned nodes, max_depth=5\u001b[0m\n",
      "\u001b[34m[140]#011train-error:0.099164#011validation-error:0.150545\u001b[0m\n",
      "\u001b[34m[01:06:12] src/tree/updater_prune.cc:74: tree pruning end, 1 roots, 18 extra nodes, 8 pruned nodes, max_depth=5\u001b[0m\n",
      "\u001b[34m[141]#011train-error:0.098806#011validation-error:0.149212\u001b[0m\n",
      "\u001b[34m[01:06:13] src/tree/updater_prune.cc:74: tree pruning end, 1 roots, 10 extra nodes, 4 pruned nodes, max_depth=5\u001b[0m\n",
      "\u001b[34m[142]#011train-error:0.098627#011validation-error:0.149576\u001b[0m\n",
      "\u001b[34m[01:06:13] src/tree/updater_prune.cc:74: tree pruning end, 1 roots, 14 extra nodes, 2 pruned nodes, max_depth=5\u001b[0m\n",
      "\u001b[34m[143]#011train-error:0.097851#011validation-error:0.14897\u001b[0m\n",
      "\u001b[34m[01:06:13] src/tree/updater_prune.cc:74: tree pruning end, 1 roots, 12 extra nodes, 2 pruned nodes, max_depth=5\u001b[0m\n",
      "\u001b[34m[144]#011train-error:0.097851#011validation-error:0.149576\u001b[0m\n",
      "\u001b[34m[01:06:13] src/tree/updater_prune.cc:74: tree pruning end, 1 roots, 12 extra nodes, 12 pruned nodes, max_depth=5\u001b[0m\n",
      "\u001b[34m[145]#011train-error:0.09803#011validation-error:0.149333\u001b[0m\n",
      "\u001b[34m[01:06:13] src/tree/updater_prune.cc:74: tree pruning end, 1 roots, 12 extra nodes, 6 pruned nodes, max_depth=5\u001b[0m\n",
      "\u001b[34m[146]#011train-error:0.098149#011validation-error:0.149091\u001b[0m\n",
      "\u001b[34m[01:06:13] src/tree/updater_prune.cc:74: tree pruning end, 1 roots, 14 extra nodes, 14 pruned nodes, max_depth=5\u001b[0m\n",
      "\u001b[34m[147]#011train-error:0.097731#011validation-error:0.149576\u001b[0m\n",
      "\u001b[34m[01:06:13] src/tree/updater_prune.cc:74: tree pruning end, 1 roots, 14 extra nodes, 16 pruned nodes, max_depth=5\u001b[0m\n",
      "\u001b[34m[148]#011train-error:0.097791#011validation-error:0.14897\u001b[0m\n",
      "\u001b[34m[01:06:13] src/tree/updater_prune.cc:74: tree pruning end, 1 roots, 12 extra nodes, 2 pruned nodes, max_depth=5\u001b[0m\n",
      "\u001b[34m[149]#011train-error:0.097373#011validation-error:0.148121\u001b[0m\n",
      "\u001b[34m[01:06:14] src/tree/updater_prune.cc:74: tree pruning end, 1 roots, 20 extra nodes, 16 pruned nodes, max_depth=5\u001b[0m\n",
      "\u001b[34m[150]#011train-error:0.096955#011validation-error:0.147152\u001b[0m\n",
      "\u001b[34m[01:06:14] src/tree/updater_prune.cc:74: tree pruning end, 1 roots, 14 extra nodes, 2 pruned nodes, max_depth=5\u001b[0m\n",
      "\u001b[34m[151]#011train-error:0.096836#011validation-error:0.146909\u001b[0m\n",
      "\u001b[34m[01:06:14] src/tree/updater_prune.cc:74: tree pruning end, 1 roots, 10 extra nodes, 10 pruned nodes, max_depth=5\u001b[0m\n",
      "\u001b[34m[152]#011train-error:0.097134#011validation-error:0.146909\u001b[0m\n",
      "\u001b[34m[01:06:14] src/tree/updater_prune.cc:74: tree pruning end, 1 roots, 14 extra nodes, 14 pruned nodes, max_depth=5\u001b[0m\n",
      "\u001b[34m[153]#011train-error:0.096896#011validation-error:0.146545\u001b[0m\n",
      "\u001b[34m[01:06:14] src/tree/updater_prune.cc:74: tree pruning end, 1 roots, 10 extra nodes, 12 pruned nodes, max_depth=5\u001b[0m\n",
      "\u001b[34m[154]#011train-error:0.096716#011validation-error:0.146667\u001b[0m\n",
      "\u001b[34m[01:06:14] src/tree/updater_prune.cc:74: tree pruning end, 1 roots, 22 extra nodes, 10 pruned nodes, max_depth=5\u001b[0m\n",
      "\u001b[34m[155]#011train-error:0.096358#011validation-error:0.146061\u001b[0m\n",
      "\u001b[34m[01:06:14] src/tree/updater_prune.cc:74: tree pruning end, 1 roots, 22 extra nodes, 6 pruned nodes, max_depth=5\u001b[0m\n",
      "\u001b[34m[156]#011train-error:0.095701#011validation-error:0.146545\u001b[0m\n",
      "\u001b[34m[01:06:15] src/tree/updater_prune.cc:74: tree pruning end, 1 roots, 14 extra nodes, 6 pruned nodes, max_depth=5\u001b[0m\n",
      "\u001b[34m[157]#011train-error:0.095821#011validation-error:0.145818\u001b[0m\n",
      "\u001b[34m[01:06:15] src/tree/updater_prune.cc:74: tree pruning end, 1 roots, 18 extra nodes, 18 pruned nodes, max_depth=5\u001b[0m\n",
      "\u001b[34m[158]#011train-error:0.095642#011validation-error:0.146303\u001b[0m\n",
      "\u001b[34m[01:06:15] src/tree/updater_prune.cc:74: tree pruning end, 1 roots, 18 extra nodes, 8 pruned nodes, max_depth=5\u001b[0m\n",
      "\u001b[34m[159]#011train-error:0.095403#011validation-error:0.145455\u001b[0m\n",
      "\u001b[34m[01:06:15] src/tree/updater_prune.cc:74: tree pruning end, 1 roots, 16 extra nodes, 2 pruned nodes, max_depth=5\u001b[0m\n",
      "\u001b[34m[160]#011train-error:0.094925#011validation-error:0.145212\u001b[0m\n",
      "\u001b[34m[01:06:15] src/tree/updater_prune.cc:74: tree pruning end, 1 roots, 12 extra nodes, 8 pruned nodes, max_depth=5\u001b[0m\n",
      "\u001b[34m[161]#011train-error:0.094985#011validation-error:0.144727\u001b[0m\n",
      "\u001b[34m[01:06:15] src/tree/updater_prune.cc:74: tree pruning end, 1 roots, 30 extra nodes, 12 pruned nodes, max_depth=5\u001b[0m\n",
      "\u001b[34m[162]#011train-error:0.094209#011validation-error:0.145818\u001b[0m\n",
      "\u001b[34m[01:06:15] src/tree/updater_prune.cc:74: tree pruning end, 1 roots, 16 extra nodes, 18 pruned nodes, max_depth=5\u001b[0m\n",
      "\u001b[34m[163]#011train-error:0.09397#011validation-error:0.145576\u001b[0m\n",
      "\u001b[34m[01:06:15] src/tree/updater_prune.cc:74: tree pruning end, 1 roots, 12 extra nodes, 4 pruned nodes, max_depth=5\u001b[0m\n",
      "\u001b[34m[164]#011train-error:0.093672#011validation-error:0.144\u001b[0m\n",
      "\u001b[34m[01:06:16] src/tree/updater_prune.cc:74: tree pruning end, 1 roots, 18 extra nodes, 8 pruned nodes, max_depth=5\u001b[0m\n",
      "\u001b[34m[165]#011train-error:0.093433#011validation-error:0.144606\u001b[0m\n",
      "\u001b[34m[01:06:16] src/tree/updater_prune.cc:74: tree pruning end, 1 roots, 14 extra nodes, 6 pruned nodes, max_depth=5\u001b[0m\n",
      "\u001b[34m[166]#011train-error:0.093791#011validation-error:0.144364\u001b[0m\n",
      "\u001b[34m[01:06:16] src/tree/updater_prune.cc:74: tree pruning end, 1 roots, 10 extra nodes, 8 pruned nodes, max_depth=5\u001b[0m\n",
      "\u001b[34m[167]#011train-error:0.093552#011validation-error:0.143879\u001b[0m\n",
      "\u001b[34m[01:06:16] src/tree/updater_prune.cc:74: tree pruning end, 1 roots, 14 extra nodes, 6 pruned nodes, max_depth=5\u001b[0m\n",
      "\u001b[34m[168]#011train-error:0.093373#011validation-error:0.144\u001b[0m\n",
      "\u001b[34m[01:06:16] src/tree/updater_prune.cc:74: tree pruning end, 1 roots, 18 extra nodes, 4 pruned nodes, max_depth=5\u001b[0m\n",
      "\u001b[34m[169]#011train-error:0.093194#011validation-error:0.144606\u001b[0m\n",
      "\u001b[34m[01:06:16] src/tree/updater_prune.cc:74: tree pruning end, 1 roots, 14 extra nodes, 10 pruned nodes, max_depth=5\u001b[0m\n",
      "\u001b[34m[170]#011train-error:0.092657#011validation-error:0.144364\u001b[0m\n",
      "\u001b[34m[01:06:16] src/tree/updater_prune.cc:74: tree pruning end, 1 roots, 16 extra nodes, 2 pruned nodes, max_depth=5\u001b[0m\n",
      "\u001b[34m[171]#011train-error:0.091701#011validation-error:0.144242\u001b[0m\n",
      "\u001b[34m[01:06:17] src/tree/updater_prune.cc:74: tree pruning end, 1 roots, 12 extra nodes, 4 pruned nodes, max_depth=5\u001b[0m\n",
      "\u001b[34m[172]#011train-error:0.091403#011validation-error:0.143636\u001b[0m\n",
      "\u001b[34m[01:06:17] src/tree/updater_prune.cc:74: tree pruning end, 1 roots, 12 extra nodes, 8 pruned nodes, max_depth=5\u001b[0m\n",
      "\u001b[34m[173]#011train-error:0.091224#011validation-error:0.144\u001b[0m\n",
      "\u001b[34m[01:06:17] src/tree/updater_prune.cc:74: tree pruning end, 1 roots, 18 extra nodes, 10 pruned nodes, max_depth=5\u001b[0m\n",
      "\u001b[34m[174]#011train-error:0.090866#011validation-error:0.144\u001b[0m\n",
      "\u001b[34m[01:06:17] src/tree/updater_prune.cc:74: tree pruning end, 1 roots, 10 extra nodes, 6 pruned nodes, max_depth=5\u001b[0m\n",
      "\u001b[34m[175]#011train-error:0.090746#011validation-error:0.143273\u001b[0m\n",
      "\u001b[34m[01:06:17] src/tree/updater_prune.cc:74: tree pruning end, 1 roots, 10 extra nodes, 14 pruned nodes, max_depth=5\u001b[0m\n",
      "\u001b[34m[176]#011train-error:0.090507#011validation-error:0.143273\u001b[0m\n",
      "\u001b[34m[01:06:17] src/tree/updater_prune.cc:74: tree pruning end, 1 roots, 12 extra nodes, 4 pruned nodes, max_depth=5\u001b[0m\n",
      "\u001b[34m[177]#011train-error:0.090269#011validation-error:0.143152\u001b[0m\n",
      "\u001b[34m[01:06:17] src/tree/updater_prune.cc:74: tree pruning end, 1 roots, 20 extra nodes, 14 pruned nodes, max_depth=5\u001b[0m\n",
      "\u001b[34m[178]#011train-error:0.090149#011validation-error:0.143152\u001b[0m\n",
      "\u001b[34m[01:06:18] src/tree/updater_prune.cc:74: tree pruning end, 1 roots, 12 extra nodes, 2 pruned nodes, max_depth=5\u001b[0m\n",
      "\u001b[34m[179]#011train-error:0.09009#011validation-error:0.143515\u001b[0m\n",
      "\u001b[34m[01:06:18] src/tree/updater_prune.cc:74: tree pruning end, 1 roots, 10 extra nodes, 2 pruned nodes, max_depth=5\u001b[0m\n",
      "\u001b[34m[180]#011train-error:0.08991#011validation-error:0.143152\u001b[0m\n",
      "\u001b[34m[01:06:18] src/tree/updater_prune.cc:74: tree pruning end, 1 roots, 20 extra nodes, 2 pruned nodes, max_depth=5\u001b[0m\n",
      "\u001b[34m[181]#011train-error:0.08991#011validation-error:0.143879\u001b[0m\n",
      "\u001b[34m[01:06:18] src/tree/updater_prune.cc:74: tree pruning end, 1 roots, 18 extra nodes, 10 pruned nodes, max_depth=5\u001b[0m\n",
      "\u001b[34m[182]#011train-error:0.088836#011validation-error:0.143394\u001b[0m\n",
      "\u001b[34m[01:06:18] src/tree/updater_prune.cc:74: tree pruning end, 1 roots, 10 extra nodes, 14 pruned nodes, max_depth=5\u001b[0m\n",
      "\u001b[34m[183]#011train-error:0.088657#011validation-error:0.143515\u001b[0m\n",
      "\u001b[34m[01:06:18] src/tree/updater_prune.cc:74: tree pruning end, 1 roots, 14 extra nodes, 0 pruned nodes, max_depth=5\u001b[0m\n",
      "\u001b[34m[184]#011train-error:0.088597#011validation-error:0.143758\u001b[0m\n",
      "\u001b[34m[01:06:18] src/tree/updater_prune.cc:74: tree pruning end, 1 roots, 14 extra nodes, 8 pruned nodes, max_depth=5\u001b[0m\n",
      "\u001b[34m[185]#011train-error:0.088478#011validation-error:0.143515\u001b[0m\n",
      "\u001b[34m[01:06:18] src/tree/updater_prune.cc:74: tree pruning end, 1 roots, 16 extra nodes, 22 pruned nodes, max_depth=5\u001b[0m\n",
      "\u001b[34m[186]#011train-error:0.088537#011validation-error:0.143394\u001b[0m\n",
      "\u001b[34m[01:06:19] src/tree/updater_prune.cc:74: tree pruning end, 1 roots, 12 extra nodes, 10 pruned nodes, max_depth=5\u001b[0m\n",
      "\u001b[34m[187]#011train-error:0.088179#011validation-error:0.142667\u001b[0m\n",
      "\u001b[34m[01:06:19] src/tree/updater_prune.cc:74: tree pruning end, 1 roots, 16 extra nodes, 16 pruned nodes, max_depth=5\u001b[0m\n",
      "\u001b[34m[188]#011train-error:0.087343#011validation-error:0.143394\u001b[0m\n",
      "\u001b[34m[01:06:19] src/tree/updater_prune.cc:74: tree pruning end, 1 roots, 18 extra nodes, 14 pruned nodes, max_depth=5\u001b[0m\n",
      "\u001b[34m[189]#011train-error:0.087224#011validation-error:0.144\u001b[0m\n",
      "\u001b[34m[01:06:19] src/tree/updater_prune.cc:74: tree pruning end, 1 roots, 12 extra nodes, 4 pruned nodes, max_depth=5\u001b[0m\n",
      "\u001b[34m[190]#011train-error:0.086687#011validation-error:0.144242\u001b[0m\n",
      "\u001b[34m[01:06:19] src/tree/updater_prune.cc:74: tree pruning end, 1 roots, 12 extra nodes, 4 pruned nodes, max_depth=5\u001b[0m\n",
      "\u001b[34m[191]#011train-error:0.086209#011validation-error:0.144121\u001b[0m\n",
      "\u001b[34m[01:06:19] src/tree/updater_prune.cc:74: tree pruning end, 1 roots, 16 extra nodes, 2 pruned nodes, max_depth=5\u001b[0m\n",
      "\u001b[34m[192]#011train-error:0.086567#011validation-error:0.143758\u001b[0m\n",
      "\u001b[34m[01:06:19] src/tree/updater_prune.cc:74: tree pruning end, 1 roots, 14 extra nodes, 6 pruned nodes, max_depth=5\u001b[0m\n",
      "\u001b[34m[193]#011train-error:0.085791#011validation-error:0.144606\u001b[0m\n",
      "\u001b[34m[01:06:20] src/tree/updater_prune.cc:74: tree pruning end, 1 roots, 16 extra nodes, 8 pruned nodes, max_depth=5\u001b[0m\n",
      "\u001b[34m[194]#011train-error:0.08603#011validation-error:0.144727\u001b[0m\n",
      "\u001b[34m[01:06:20] src/tree/updater_prune.cc:74: tree pruning end, 1 roots, 10 extra nodes, 18 pruned nodes, max_depth=5\u001b[0m\n",
      "\u001b[34m[195]#011train-error:0.085672#011validation-error:0.144727\u001b[0m\n",
      "\u001b[34m[01:06:20] src/tree/updater_prune.cc:74: tree pruning end, 1 roots, 10 extra nodes, 12 pruned nodes, max_depth=5\u001b[0m\n"
     ]
    },
    {
     "name": "stdout",
     "output_type": "stream",
     "text": [
      "\u001b[34m[196]#011train-error:0.08609#011validation-error:0.144364\u001b[0m\n",
      "\u001b[34m[01:06:20] src/tree/updater_prune.cc:74: tree pruning end, 1 roots, 18 extra nodes, 12 pruned nodes, max_depth=5\u001b[0m\n",
      "\u001b[34m[197]#011train-error:0.08609#011validation-error:0.14497\u001b[0m\n",
      "\u001b[34mStopping. Best iteration:\u001b[0m\n",
      "\u001b[34m[187]#011train-error:0.088179#011validation-error:0.142667\n",
      "\u001b[0m\n",
      "\n",
      "2021-04-11 01:06:28 Uploading - Uploading generated training model\n",
      "2021-04-11 01:06:28 Completed - Training job completed\n",
      "Training seconds: 67\n",
      "Billable seconds: 27\n",
      "Managed Spot Training savings: 59.7%\n"
     ]
    }
   ],
   "source": [
    "xgb.fit(\n",
    "    {\n",
    "        'train':sagemaker.s3_input('s3://sagemaker-us-east-1-032934527328/sentimentanalysis/train.csv',content_type='csv'),\n",
    "        'validation':sagemaker.s3_input('s3://sagemaker-us-east-1-032934527328/sentimentanalysis/validation.csv',content_type='csv')\n",
    "    }\n",
    "\n",
    ")"
   ]
  },
  {
   "cell_type": "code",
   "execution_count": 18,
   "id": "global-force",
   "metadata": {},
   "outputs": [
    {
     "name": "stderr",
     "output_type": "stream",
     "text": [
      "Parameter image will be renamed to image_uri in SageMaker Python SDK v2.\n"
     ]
    }
   ],
   "source": [
    "xgb_transformer=xgb.transformer(instance_count=1,instance_type='ml.m5.large')"
   ]
  },
  {
   "cell_type": "code",
   "execution_count": 19,
   "id": "coated-integration",
   "metadata": {},
   "outputs": [],
   "source": [
    "xgb_transformer.transform('s3://sagemaker-us-east-1-032934527328/sentimentanalysis/test.csv',\n",
    "                          content_type='text/csv',\n",
    "                          split_type='Line')"
   ]
  },
  {
   "cell_type": "code",
   "execution_count": 20,
   "id": "expensive-premium",
   "metadata": {},
   "outputs": [
    {
     "name": "stdout",
     "output_type": "stream",
     "text": [
      "..........................\u001b[34mArguments: serve\u001b[0m\n",
      "\u001b[34m[2021-04-11 01:11:58 +0000] [1] [INFO] Starting gunicorn 19.9.0\u001b[0m\n",
      "\u001b[34m[2021-04-11 01:11:58 +0000] [1] [INFO] Listening at: http://0.0.0.0:8080 (1)\u001b[0m\n",
      "\u001b[34m[2021-04-11 01:11:58 +0000] [1] [INFO] Using worker: gevent\u001b[0m\n",
      "\u001b[34m[2021-04-11 01:11:58 +0000] [20] [INFO] Booting worker with pid: 20\u001b[0m\n",
      "\u001b[34m/opt/amazon/lib/python3.7/site-packages/gunicorn/workers/ggevent.py:65: MonkeyPatchWarning: Monkey-patching ssl after ssl has already been imported may lead to errors, including RecursionError on Python 3.6. It may also silently lead to incorrect behaviour on Python 3.7. Please monkey-patch earlier. See https://github.com/gevent/gevent/issues/1016. Modules that had direct imports (NOT patched): ['urllib3.util.ssl_ (/opt/amazon/lib/python3.7/site-packages/urllib3/util/ssl_.py)', 'urllib3.util (/opt/amazon/lib/python3.7/site-packages/urllib3/util/__init__.py)']. \n",
      "  monkey.patch_all(subprocess=True)\u001b[0m\n",
      "\u001b[34m[2021-04-11:01:11:58:INFO] Model loaded successfully for worker : 20\u001b[0m\n",
      "\u001b[34m[2021-04-11 01:11:58 +0000] [21] [INFO] Booting worker with pid: 21\u001b[0m\n",
      "\u001b[34m/opt/amazon/lib/python3.7/site-packages/gunicorn/workers/ggevent.py:65: MonkeyPatchWarning: Monkey-patching ssl after ssl has already been imported may lead to errors, including RecursionError on Python 3.6. It may also silently lead to incorrect behaviour on Python 3.7. Please monkey-patch earlier. See https://github.com/gevent/gevent/issues/1016. Modules that had direct imports (NOT patched): ['urllib3.util.ssl_ (/opt/amazon/lib/python3.7/site-packages/urllib3/util/ssl_.py)', 'urllib3.util (/opt/amazon/lib/python3.7/site-packages/urllib3/util/__init__.py)']. \n",
      "  monkey.patch_all(subprocess=True)\u001b[0m\n",
      "\u001b[34m[2021-04-11:01:11:58:INFO] Model loaded successfully for worker : 21\u001b[0m\n",
      "\u001b[35mArguments: serve\u001b[0m\n",
      "\u001b[35m[2021-04-11 01:11:58 +0000] [1] [INFO] Starting gunicorn 19.9.0\u001b[0m\n",
      "\u001b[35m[2021-04-11 01:11:58 +0000] [1] [INFO] Listening at: http://0.0.0.0:8080 (1)\u001b[0m\n",
      "\u001b[35m[2021-04-11 01:11:58 +0000] [1] [INFO] Using worker: gevent\u001b[0m\n",
      "\u001b[35m[2021-04-11 01:11:58 +0000] [20] [INFO] Booting worker with pid: 20\u001b[0m\n",
      "\u001b[35m/opt/amazon/lib/python3.7/site-packages/gunicorn/workers/ggevent.py:65: MonkeyPatchWarning: Monkey-patching ssl after ssl has already been imported may lead to errors, including RecursionError on Python 3.6. It may also silently lead to incorrect behaviour on Python 3.7. Please monkey-patch earlier. See https://github.com/gevent/gevent/issues/1016. Modules that had direct imports (NOT patched): ['urllib3.util.ssl_ (/opt/amazon/lib/python3.7/site-packages/urllib3/util/ssl_.py)', 'urllib3.util (/opt/amazon/lib/python3.7/site-packages/urllib3/util/__init__.py)']. \n",
      "  monkey.patch_all(subprocess=True)\u001b[0m\n",
      "\u001b[35m[2021-04-11:01:11:58:INFO] Model loaded successfully for worker : 20\u001b[0m\n",
      "\u001b[35m[2021-04-11 01:11:58 +0000] [21] [INFO] Booting worker with pid: 21\u001b[0m\n",
      "\u001b[35m/opt/amazon/lib/python3.7/site-packages/gunicorn/workers/ggevent.py:65: MonkeyPatchWarning: Monkey-patching ssl after ssl has already been imported may lead to errors, including RecursionError on Python 3.6. It may also silently lead to incorrect behaviour on Python 3.7. Please monkey-patch earlier. See https://github.com/gevent/gevent/issues/1016. Modules that had direct imports (NOT patched): ['urllib3.util.ssl_ (/opt/amazon/lib/python3.7/site-packages/urllib3/util/ssl_.py)', 'urllib3.util (/opt/amazon/lib/python3.7/site-packages/urllib3/util/__init__.py)']. \n",
      "  monkey.patch_all(subprocess=True)\u001b[0m\n",
      "\u001b[35m[2021-04-11:01:11:58:INFO] Model loaded successfully for worker : 21\u001b[0m\n",
      "\u001b[32m2021-04-11T01:12:03.112:[sagemaker logs]: MaxConcurrentTransforms=2, MaxPayloadInMB=6, BatchStrategy=MULTI_RECORD\u001b[0m\n",
      "\u001b[34m[2021-04-11:01:12:17:INFO] Sniff delimiter as ','\u001b[0m\n",
      "\u001b[34m[2021-04-11:01:12:17:INFO] Determined delimiter of CSV input is ','\u001b[0m\n",
      "\u001b[35m[2021-04-11:01:12:17:INFO] Sniff delimiter as ','\u001b[0m\n",
      "\u001b[35m[2021-04-11:01:12:17:INFO] Determined delimiter of CSV input is ','\u001b[0m\n",
      "\u001b[34m[2021-04-11:01:12:20:INFO] Sniff delimiter as ','\u001b[0m\n",
      "\u001b[34m[2021-04-11:01:12:20:INFO] Determined delimiter of CSV input is ','\u001b[0m\n",
      "\u001b[35m[2021-04-11:01:12:20:INFO] Sniff delimiter as ','\u001b[0m\n",
      "\u001b[35m[2021-04-11:01:12:20:INFO] Determined delimiter of CSV input is ','\u001b[0m\n",
      "\u001b[34m[2021-04-11:01:12:21:INFO] Sniff delimiter as ','\u001b[0m\n",
      "\u001b[34m[2021-04-11:01:12:21:INFO] Determined delimiter of CSV input is ','\u001b[0m\n",
      "\u001b[35m[2021-04-11:01:12:21:INFO] Sniff delimiter as ','\u001b[0m\n",
      "\u001b[35m[2021-04-11:01:12:21:INFO] Determined delimiter of CSV input is ','\u001b[0m\n",
      "\u001b[34m[2021-04-11:01:12:23:INFO] Sniff delimiter as ','\u001b[0m\n",
      "\u001b[35m[2021-04-11:01:12:23:INFO] Sniff delimiter as ','\u001b[0m\n",
      "\u001b[34m[2021-04-11:01:12:23:INFO] Determined delimiter of CSV input is ','\u001b[0m\n",
      "\u001b[35m[2021-04-11:01:12:23:INFO] Determined delimiter of CSV input is ','\u001b[0m\n",
      "\u001b[34m[2021-04-11:01:12:24:INFO] Sniff delimiter as ','\u001b[0m\n",
      "\u001b[34m[2021-04-11:01:12:24:INFO] Determined delimiter of CSV input is ','\u001b[0m\n",
      "\u001b[35m[2021-04-11:01:12:24:INFO] Sniff delimiter as ','\u001b[0m\n",
      "\u001b[35m[2021-04-11:01:12:24:INFO] Determined delimiter of CSV input is ','\u001b[0m\n",
      "\u001b[34m[2021-04-11:01:12:26:INFO] Sniff delimiter as ','\u001b[0m\n",
      "\u001b[34m[2021-04-11:01:12:26:INFO] Determined delimiter of CSV input is ','\u001b[0m\n",
      "\u001b[35m[2021-04-11:01:12:26:INFO] Sniff delimiter as ','\u001b[0m\n",
      "\u001b[35m[2021-04-11:01:12:26:INFO] Determined delimiter of CSV input is ','\u001b[0m\n",
      "\u001b[34m[2021-04-11:01:12:28:INFO] Sniff delimiter as ','\u001b[0m\n",
      "\u001b[34m[2021-04-11:01:12:28:INFO] Determined delimiter of CSV input is ','\u001b[0m\n",
      "\u001b[35m[2021-04-11:01:12:28:INFO] Sniff delimiter as ','\u001b[0m\n",
      "\u001b[35m[2021-04-11:01:12:28:INFO] Determined delimiter of CSV input is ','\u001b[0m\n",
      "\u001b[34m[2021-04-11:01:12:31:INFO] Sniff delimiter as ','\u001b[0m\n",
      "\u001b[35m[2021-04-11:01:12:31:INFO] Sniff delimiter as ','\u001b[0m\n",
      "\u001b[34m[2021-04-11:01:12:31:INFO] Determined delimiter of CSV input is ','\u001b[0m\n",
      "\u001b[35m[2021-04-11:01:12:31:INFO] Determined delimiter of CSV input is ','\u001b[0m\n",
      "\u001b[34m[2021-04-11:01:12:32:INFO] Sniff delimiter as ','\u001b[0m\n",
      "\u001b[34m[2021-04-11:01:12:32:INFO] Determined delimiter of CSV input is ','\u001b[0m\n",
      "\u001b[35m[2021-04-11:01:12:32:INFO] Sniff delimiter as ','\u001b[0m\n",
      "\u001b[35m[2021-04-11:01:12:32:INFO] Determined delimiter of CSV input is ','\u001b[0m\n",
      "\u001b[34m[2021-04-11:01:12:34:INFO] Sniff delimiter as ','\u001b[0m\n",
      "\u001b[34m[2021-04-11:01:12:34:INFO] Determined delimiter of CSV input is ','\u001b[0m\n",
      "\u001b[35m[2021-04-11:01:12:34:INFO] Sniff delimiter as ','\u001b[0m\n",
      "\u001b[35m[2021-04-11:01:12:34:INFO] Determined delimiter of CSV input is ','\u001b[0m\n",
      "\u001b[34m[2021-04-11:01:12:35:INFO] Sniff delimiter as ','\u001b[0m\n",
      "\u001b[34m[2021-04-11:01:12:35:INFO] Determined delimiter of CSV input is ','\u001b[0m\n",
      "\u001b[35m[2021-04-11:01:12:35:INFO] Sniff delimiter as ','\u001b[0m\n",
      "\u001b[35m[2021-04-11:01:12:35:INFO] Determined delimiter of CSV input is ','\u001b[0m\n",
      "\u001b[34m[2021-04-11:01:12:37:INFO] Sniff delimiter as ','\u001b[0m\n",
      "\u001b[34m[2021-04-11:01:12:37:INFO] Determined delimiter of CSV input is ','\u001b[0m\n",
      "\u001b[35m[2021-04-11:01:12:37:INFO] Sniff delimiter as ','\u001b[0m\n",
      "\u001b[35m[2021-04-11:01:12:37:INFO] Determined delimiter of CSV input is ','\u001b[0m\n",
      "\u001b[34m[2021-04-11:01:12:38:INFO] Sniff delimiter as ','\u001b[0m\n",
      "\u001b[34m[2021-04-11:01:12:38:INFO] Determined delimiter of CSV input is ','\u001b[0m\n",
      "\u001b[35m[2021-04-11:01:12:38:INFO] Sniff delimiter as ','\u001b[0m\n",
      "\u001b[35m[2021-04-11:01:12:38:INFO] Determined delimiter of CSV input is ','\u001b[0m\n",
      "\u001b[34m[2021-04-11:01:12:42:INFO] Sniff delimiter as ','\u001b[0m\n",
      "\u001b[35m[2021-04-11:01:12:42:INFO] Sniff delimiter as ','\u001b[0m\n",
      "\u001b[34m[2021-04-11:01:12:42:INFO] Determined delimiter of CSV input is ','\u001b[0m\n",
      "\u001b[35m[2021-04-11:01:12:42:INFO] Determined delimiter of CSV input is ','\u001b[0m\n",
      "\u001b[34m[2021-04-11:01:12:43:INFO] Sniff delimiter as ','\u001b[0m\n",
      "\u001b[34m[2021-04-11:01:12:43:INFO] Determined delimiter of CSV input is ','\u001b[0m\n",
      "\u001b[35m[2021-04-11:01:12:43:INFO] Sniff delimiter as ','\u001b[0m\n",
      "\u001b[35m[2021-04-11:01:12:43:INFO] Determined delimiter of CSV input is ','\u001b[0m\n",
      "\u001b[34m[2021-04-11:01:12:45:INFO] Sniff delimiter as ','\u001b[0m\n",
      "\u001b[34m[2021-04-11:01:12:45:INFO] Determined delimiter of CSV input is ','\u001b[0m\n",
      "\u001b[35m[2021-04-11:01:12:45:INFO] Sniff delimiter as ','\u001b[0m\n",
      "\u001b[35m[2021-04-11:01:12:45:INFO] Determined delimiter of CSV input is ','\u001b[0m\n",
      "\u001b[34m[2021-04-11:01:12:46:INFO] Sniff delimiter as ','\u001b[0m\n",
      "\u001b[34m[2021-04-11:01:12:46:INFO] Determined delimiter of CSV input is ','\u001b[0m\n",
      "\u001b[35m[2021-04-11:01:12:46:INFO] Sniff delimiter as ','\u001b[0m\n",
      "\u001b[35m[2021-04-11:01:12:46:INFO] Determined delimiter of CSV input is ','\u001b[0m\n",
      "\u001b[34m[2021-04-11:01:12:48:INFO] Sniff delimiter as ','\u001b[0m\n",
      "\u001b[34m[2021-04-11:01:12:48:INFO] Determined delimiter of CSV input is ','\u001b[0m\n",
      "\u001b[35m[2021-04-11:01:12:48:INFO] Sniff delimiter as ','\u001b[0m\n",
      "\u001b[35m[2021-04-11:01:12:48:INFO] Determined delimiter of CSV input is ','\u001b[0m\n",
      "\u001b[34m[2021-04-11:01:12:49:INFO] Sniff delimiter as ','\u001b[0m\n",
      "\u001b[34m[2021-04-11:01:12:49:INFO] Determined delimiter of CSV input is ','\u001b[0m\n",
      "\u001b[35m[2021-04-11:01:12:49:INFO] Sniff delimiter as ','\u001b[0m\n",
      "\u001b[35m[2021-04-11:01:12:49:INFO] Determined delimiter of CSV input is ','\u001b[0m\n",
      "\u001b[34m[2021-04-11:01:12:51:INFO] Sniff delimiter as ','\u001b[0m\n",
      "\u001b[34m[2021-04-11:01:12:51:INFO] Determined delimiter of CSV input is ','\u001b[0m\n",
      "\u001b[35m[2021-04-11:01:12:51:INFO] Sniff delimiter as ','\u001b[0m\n",
      "\u001b[35m[2021-04-11:01:12:51:INFO] Determined delimiter of CSV input is ','\u001b[0m\n"
     ]
    },
    {
     "name": "stdout",
     "output_type": "stream",
     "text": [
      "\u001b[34m[2021-04-11:01:12:54:INFO] Sniff delimiter as ','\u001b[0m\n",
      "\u001b[34m[2021-04-11:01:12:54:INFO] Determined delimiter of CSV input is ','\u001b[0m\n",
      "\u001b[35m[2021-04-11:01:12:54:INFO] Sniff delimiter as ','\u001b[0m\n",
      "\u001b[35m[2021-04-11:01:12:54:INFO] Determined delimiter of CSV input is ','\u001b[0m\n",
      "\u001b[34m[2021-04-11:01:12:55:INFO] Sniff delimiter as ','\u001b[0m\n",
      "\u001b[34m[2021-04-11:01:12:55:INFO] Determined delimiter of CSV input is ','\u001b[0m\n",
      "\u001b[35m[2021-04-11:01:12:55:INFO] Sniff delimiter as ','\u001b[0m\n",
      "\u001b[35m[2021-04-11:01:12:55:INFO] Determined delimiter of CSV input is ','\u001b[0m\n",
      "\u001b[34m[2021-04-11:01:12:57:INFO] Sniff delimiter as ','\u001b[0m\n",
      "\u001b[34m[2021-04-11:01:12:57:INFO] Determined delimiter of CSV input is ','\u001b[0m\n",
      "\u001b[35m[2021-04-11:01:12:57:INFO] Sniff delimiter as ','\u001b[0m\n",
      "\u001b[35m[2021-04-11:01:12:57:INFO] Determined delimiter of CSV input is ','\u001b[0m\n",
      "\u001b[34m[2021-04-11:01:12:59:INFO] Sniff delimiter as ','\u001b[0m\n",
      "\u001b[34m[2021-04-11:01:12:59:INFO] Determined delimiter of CSV input is ','\u001b[0m\n",
      "\u001b[35m[2021-04-11:01:12:59:INFO] Sniff delimiter as ','\u001b[0m\n",
      "\u001b[35m[2021-04-11:01:12:59:INFO] Determined delimiter of CSV input is ','\u001b[0m\n",
      "\u001b[34m[2021-04-11:01:13:00:INFO] Sniff delimiter as ','\u001b[0m\n",
      "\u001b[34m[2021-04-11:01:13:00:INFO] Determined delimiter of CSV input is ','\u001b[0m\n",
      "\u001b[35m[2021-04-11:01:13:00:INFO] Sniff delimiter as ','\u001b[0m\n",
      "\u001b[35m[2021-04-11:01:13:00:INFO] Determined delimiter of CSV input is ','\u001b[0m\n",
      "\u001b[34m[2021-04-11:01:13:02:INFO] Sniff delimiter as ','\u001b[0m\n",
      "\u001b[34m[2021-04-11:01:13:02:INFO] Determined delimiter of CSV input is ','\u001b[0m\n",
      "\u001b[35m[2021-04-11:01:13:02:INFO] Sniff delimiter as ','\u001b[0m\n",
      "\u001b[35m[2021-04-11:01:13:02:INFO] Determined delimiter of CSV input is ','\u001b[0m\n",
      "\u001b[34m[2021-04-11:01:13:05:INFO] Sniff delimiter as ','\u001b[0m\n",
      "\u001b[34m[2021-04-11:01:13:05:INFO] Determined delimiter of CSV input is ','\u001b[0m\n",
      "\u001b[35m[2021-04-11:01:13:05:INFO] Sniff delimiter as ','\u001b[0m\n",
      "\u001b[35m[2021-04-11:01:13:05:INFO] Determined delimiter of CSV input is ','\u001b[0m\n",
      "\u001b[34m[2021-04-11:01:13:06:INFO] Sniff delimiter as ','\u001b[0m\n",
      "\u001b[34m[2021-04-11:01:13:06:INFO] Determined delimiter of CSV input is ','\u001b[0m\n",
      "\u001b[35m[2021-04-11:01:13:06:INFO] Sniff delimiter as ','\u001b[0m\n",
      "\u001b[35m[2021-04-11:01:13:06:INFO] Determined delimiter of CSV input is ','\u001b[0m\n",
      "\u001b[34m[2021-04-11:01:13:08:INFO] Sniff delimiter as ','\u001b[0m\n",
      "\u001b[34m[2021-04-11:01:13:08:INFO] Determined delimiter of CSV input is ','\u001b[0m\n",
      "\u001b[35m[2021-04-11:01:13:08:INFO] Sniff delimiter as ','\u001b[0m\n",
      "\u001b[35m[2021-04-11:01:13:08:INFO] Determined delimiter of CSV input is ','\u001b[0m\n",
      "\n"
     ]
    }
   ],
   "source": [
    "xgb_transformer.wait()"
   ]
  },
  {
   "cell_type": "code",
   "execution_count": 21,
   "id": "nasty-valve",
   "metadata": {},
   "outputs": [
    {
     "name": "stdout",
     "output_type": "stream",
     "text": [
      "download: s3://sagemaker-us-east-1-032934527328/xgboost-2021-04-11-01-07-46-850/test.csv.out to data-sentiment/test.csv.out\n"
     ]
    }
   ],
   "source": [
    "!aws s3 cp --recursive $xgb_transformer.output_path data-sentiment/"
   ]
  },
  {
   "cell_type": "code",
   "execution_count": 22,
   "id": "still-husband",
   "metadata": {},
   "outputs": [
    {
     "ename": "NameError",
     "evalue": "name 'processed_data' is not defined",
     "output_type": "error",
     "traceback": [
      "\u001b[0;31m---------------------------------------------------------------------------\u001b[0m",
      "\u001b[0;31mNameError\u001b[0m                                 Traceback (most recent call last)",
      "\u001b[0;32m<ipython-input-22-bf4d0f018438>\u001b[0m in \u001b[0;36m<module>\u001b[0;34m\u001b[0m\n\u001b[0;32m----> 1\u001b[0;31m \u001b[0my_test\u001b[0m\u001b[0;34m=\u001b[0m \u001b[0mprocessed_data\u001b[0m\u001b[0;34m[\u001b[0m\u001b[0;34m'test'\u001b[0m\u001b[0;34m]\u001b[0m\u001b[0;34m[\u001b[0m\u001b[0;34m'labels'\u001b[0m\u001b[0;34m]\u001b[0m\u001b[0;34m\u001b[0m\u001b[0;34m\u001b[0m\u001b[0m\n\u001b[0m\u001b[1;32m      2\u001b[0m \u001b[0my_pred\u001b[0m\u001b[0;34m=\u001b[0m\u001b[0mnp\u001b[0m\u001b[0;34m.\u001b[0m\u001b[0mloadtxt\u001b[0m\u001b[0;34m(\u001b[0m\u001b[0;34m'data-sentiment/test.csv.out'\u001b[0m\u001b[0;34m,\u001b[0m\u001b[0mdelimiter\u001b[0m\u001b[0;34m=\u001b[0m\u001b[0;34m','\u001b[0m\u001b[0;34m)\u001b[0m\u001b[0;34m\u001b[0m\u001b[0;34m\u001b[0m\u001b[0m\n\u001b[1;32m      3\u001b[0m \u001b[0my_pred\u001b[0m\u001b[0;34m[\u001b[0m\u001b[0my_pred\u001b[0m\u001b[0;34m>\u001b[0m\u001b[0;36m0.5\u001b[0m\u001b[0;34m]\u001b[0m\u001b[0;34m=\u001b[0m\u001b[0;36m1\u001b[0m\u001b[0;34m\u001b[0m\u001b[0;34m\u001b[0m\u001b[0m\n\u001b[1;32m      4\u001b[0m \u001b[0my_pred\u001b[0m\u001b[0;34m[\u001b[0m\u001b[0my_pred\u001b[0m\u001b[0;34m<=\u001b[0m\u001b[0;36m0.5\u001b[0m\u001b[0;34m]\u001b[0m\u001b[0;34m=\u001b[0m\u001b[0;36m0\u001b[0m\u001b[0;34m\u001b[0m\u001b[0;34m\u001b[0m\u001b[0m\n",
      "\u001b[0;31mNameError\u001b[0m: name 'processed_data' is not defined"
     ]
    }
   ],
   "source": [
    "y_test= processed_data['test']['labels']\n",
    "y_pred=np.loadtxt('data-sentiment/test.csv.out',delimiter=',')\n",
    "y_pred[y_pred>0.5]=1\n",
    "y_pred[y_pred<=0.5]=0"
   ]
  },
  {
   "cell_type": "code",
   "execution_count": 4,
   "id": "subtle-penguin",
   "metadata": {},
   "outputs": [],
   "source": [
    "y_test= processed_data['test']['labels']\n",
    "predictions = pd.read_csv(os.path.join('data-sentiment/test.csv.out'), header=None)\n",
    "predictions = [round(num) for num in predictions.squeeze().values]"
   ]
  },
  {
   "cell_type": "code",
   "execution_count": 28,
   "id": "informational-platform",
   "metadata": {},
   "outputs": [
    {
     "data": {
      "text/plain": [
       "0.604"
      ]
     },
     "execution_count": 28,
     "metadata": {},
     "output_type": "execute_result"
    }
   ],
   "source": [
    "np.mean(y_pred==y_test)"
   ]
  },
  {
   "cell_type": "code",
   "execution_count": 6,
   "id": "proved-lighting",
   "metadata": {},
   "outputs": [
    {
     "data": {
      "text/plain": [
       "0.53508"
      ]
     },
     "execution_count": 6,
     "metadata": {},
     "output_type": "execute_result"
    }
   ],
   "source": [
    "from sklearn.metrics import accuracy_score\n",
    "accuracy_score(y_test, predictions)"
   ]
  },
  {
   "cell_type": "code",
   "execution_count": null,
   "id": "lightweight-elements",
   "metadata": {},
   "outputs": [],
   "source": []
  }
 ],
 "metadata": {
  "kernelspec": {
   "display_name": "conda_tensorflow_p36",
   "language": "python",
   "name": "conda_tensorflow_p36"
  },
  "language_info": {
   "codemirror_mode": {
    "name": "ipython",
    "version": 3
   },
   "file_extension": ".py",
   "mimetype": "text/x-python",
   "name": "python",
   "nbconvert_exporter": "python",
   "pygments_lexer": "ipython3",
   "version": "3.6.13"
  }
 },
 "nbformat": 4,
 "nbformat_minor": 5
}
