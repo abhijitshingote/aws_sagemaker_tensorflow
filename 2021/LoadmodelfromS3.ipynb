{
 "cells": [
  {
   "cell_type": "code",
   "execution_count": 37,
   "id": "static-correspondence",
   "metadata": {},
   "outputs": [],
   "source": [
    "import pandas as pd\n",
    "import numpy as np\n",
    "import sagemaker\n",
    "import pickle\n",
    "from sagemaker.predictor import csv_serializer\n",
    "from sagemaker import get_execution_role"
   ]
  },
  {
   "cell_type": "code",
   "execution_count": 2,
   "id": "smooth-snake",
   "metadata": {},
   "outputs": [],
   "source": [
    "session=sagemaker.Session()"
   ]
  },
  {
   "cell_type": "code",
   "execution_count": 5,
   "id": "crucial-trunk",
   "metadata": {},
   "outputs": [],
   "source": []
  },
  {
   "cell_type": "code",
   "execution_count": 7,
   "id": "spare-prior",
   "metadata": {},
   "outputs": [],
   "source": [
    "# Import already trained model using s3 uri of model\n",
    "container=sagemaker.image_uris.retrieve('xgboost', session.boto_region_name,version='1')\n",
    "model_data='s3://sagemaker-us-east-1-032934527328/sentimentanalysis/output/xgboost-2021-04-12-16-38-26-824/output/model.tar.gz'\n",
    "model=sagemaker.model.Model(container,\n",
    "                            model_data=model_data,\n",
    "                            role=get_execution_role()\n",
    "    )"
   ]
  },
  {
   "cell_type": "code",
   "execution_count": 10,
   "id": "banned-parliament",
   "metadata": {
    "scrolled": true
   },
   "outputs": [
    {
     "name": "stdout",
     "output_type": "stream",
     "text": [
      "..........................\u001b[34mArguments: serve\u001b[0m\n",
      "\u001b[34m[2021-04-13 16:45:33 +0000] [1] [INFO] Starting gunicorn 19.9.0\u001b[0m\n",
      "\u001b[34m[2021-04-13 16:45:33 +0000] [1] [INFO] Listening at: http://0.0.0.0:8080 (1)\u001b[0m\n",
      "\u001b[35mArguments: serve\u001b[0m\n",
      "\u001b[35m[2021-04-13 16:45:33 +0000] [1] [INFO] Starting gunicorn 19.9.0\u001b[0m\n",
      "\u001b[35m[2021-04-13 16:45:33 +0000] [1] [INFO] Listening at: http://0.0.0.0:8080 (1)\u001b[0m\n",
      "\u001b[34m[2021-04-13 16:45:33 +0000] [1] [INFO] Using worker: gevent\u001b[0m\n",
      "\u001b[34m[2021-04-13 16:45:33 +0000] [20] [INFO] Booting worker with pid: 20\u001b[0m\n",
      "\u001b[34m[2021-04-13 16:45:33 +0000] [21] [INFO] Booting worker with pid: 21\u001b[0m\n",
      "\u001b[34m/opt/amazon/lib/python3.7/site-packages/gunicorn/workers/ggevent.py:65: MonkeyPatchWarning: Monkey-patching ssl after ssl has already been imported may lead to errors, including RecursionError on Python 3.6. It may also silently lead to incorrect behaviour on Python 3.7. Please monkey-patch earlier. See https://github.com/gevent/gevent/issues/1016. Modules that had direct imports (NOT patched): ['urllib3.util (/opt/amazon/lib/python3.7/site-packages/urllib3/util/__init__.py)', 'urllib3.util.ssl_ (/opt/amazon/lib/python3.7/site-packages/urllib3/util/ssl_.py)']. \n",
      "  monkey.patch_all(subprocess=True)\u001b[0m\n",
      "\u001b[34m[2021-04-13:16:45:33:INFO] Model loaded successfully for worker : 20\u001b[0m\n",
      "\u001b[34m/opt/amazon/lib/python3.7/site-packages/gunicorn/workers/ggevent.py:65: MonkeyPatchWarning: Monkey-patching ssl after ssl has already been imported may lead to errors, including RecursionError on Python 3.6. It may also silently lead to incorrect behaviour on Python 3.7. Please monkey-patch earlier. See https://github.com/gevent/gevent/issues/1016. Modules that had direct imports (NOT patched): ['urllib3.util (/opt/amazon/lib/python3.7/site-packages/urllib3/util/__init__.py)', 'urllib3.util.ssl_ (/opt/amazon/lib/python3.7/site-packages/urllib3/util/ssl_.py)']. \n",
      "  monkey.patch_all(subprocess=True)\u001b[0m\n",
      "\u001b[34m[2021-04-13:16:45:33:INFO] Model loaded successfully for worker : 21\u001b[0m\n",
      "\u001b[35m[2021-04-13 16:45:33 +0000] [1] [INFO] Using worker: gevent\u001b[0m\n",
      "\u001b[35m[2021-04-13 16:45:33 +0000] [20] [INFO] Booting worker with pid: 20\u001b[0m\n",
      "\u001b[35m[2021-04-13 16:45:33 +0000] [21] [INFO] Booting worker with pid: 21\u001b[0m\n",
      "\u001b[35m/opt/amazon/lib/python3.7/site-packages/gunicorn/workers/ggevent.py:65: MonkeyPatchWarning: Monkey-patching ssl after ssl has already been imported may lead to errors, including RecursionError on Python 3.6. It may also silently lead to incorrect behaviour on Python 3.7. Please monkey-patch earlier. See https://github.com/gevent/gevent/issues/1016. Modules that had direct imports (NOT patched): ['urllib3.util (/opt/amazon/lib/python3.7/site-packages/urllib3/util/__init__.py)', 'urllib3.util.ssl_ (/opt/amazon/lib/python3.7/site-packages/urllib3/util/ssl_.py)']. \n",
      "  monkey.patch_all(subprocess=True)\u001b[0m\n",
      "\u001b[35m[2021-04-13:16:45:33:INFO] Model loaded successfully for worker : 20\u001b[0m\n",
      "\u001b[35m/opt/amazon/lib/python3.7/site-packages/gunicorn/workers/ggevent.py:65: MonkeyPatchWarning: Monkey-patching ssl after ssl has already been imported may lead to errors, including RecursionError on Python 3.6. It may also silently lead to incorrect behaviour on Python 3.7. Please monkey-patch earlier. See https://github.com/gevent/gevent/issues/1016. Modules that had direct imports (NOT patched): ['urllib3.util (/opt/amazon/lib/python3.7/site-packages/urllib3/util/__init__.py)', 'urllib3.util.ssl_ (/opt/amazon/lib/python3.7/site-packages/urllib3/util/ssl_.py)']. \n",
      "  monkey.patch_all(subprocess=True)\u001b[0m\n",
      "\u001b[35m[2021-04-13:16:45:33:INFO] Model loaded successfully for worker : 21\u001b[0m\n",
      "\u001b[32m2021-04-13T16:45:38.236:[sagemaker logs]: MaxConcurrentTransforms=2, MaxPayloadInMB=6, BatchStrategy=MULTI_RECORD\u001b[0m\n",
      "\u001b[34m[2021-04-13:16:45:46:INFO] Determined delimiter of CSV input is ','\u001b[0m\n",
      "\u001b[35m[2021-04-13:16:45:46:INFO] Determined delimiter of CSV input is ','\u001b[0m\n",
      "\u001b[34m[2021-04-13:16:45:49:INFO] Sniff delimiter as ','\u001b[0m\n",
      "\u001b[34m[2021-04-13:16:45:49:INFO] Determined delimiter of CSV input is ','\u001b[0m\n",
      "\u001b[34m[2021-04-13:16:45:49:INFO] Sniff delimiter as ','\u001b[0m\n",
      "\u001b[34m[2021-04-13:16:45:49:INFO] Determined delimiter of CSV input is ','\u001b[0m\n",
      "\u001b[35m[2021-04-13:16:45:49:INFO] Sniff delimiter as ','\u001b[0m\n",
      "\u001b[35m[2021-04-13:16:45:49:INFO] Determined delimiter of CSV input is ','\u001b[0m\n",
      "\u001b[35m[2021-04-13:16:45:49:INFO] Sniff delimiter as ','\u001b[0m\n",
      "\u001b[35m[2021-04-13:16:45:49:INFO] Determined delimiter of CSV input is ','\u001b[0m\n",
      "\u001b[34m[2021-04-13:16:45:52:INFO] Sniff delimiter as ','\u001b[0m\n",
      "\u001b[34m[2021-04-13:16:45:52:INFO] Determined delimiter of CSV input is ','\u001b[0m\n",
      "\u001b[34m[2021-04-13:16:45:52:INFO] Sniff delimiter as ','\u001b[0m\n",
      "\u001b[34m[2021-04-13:16:45:52:INFO] Determined delimiter of CSV input is ','\u001b[0m\n",
      "\u001b[35m[2021-04-13:16:45:52:INFO] Sniff delimiter as ','\u001b[0m\n",
      "\u001b[35m[2021-04-13:16:45:52:INFO] Determined delimiter of CSV input is ','\u001b[0m\n",
      "\u001b[35m[2021-04-13:16:45:52:INFO] Sniff delimiter as ','\u001b[0m\n",
      "\u001b[35m[2021-04-13:16:45:52:INFO] Determined delimiter of CSV input is ','\u001b[0m\n",
      "\u001b[34m[2021-04-13:16:45:59:INFO] Sniff delimiter as ','\u001b[0m\n",
      "\u001b[34m[2021-04-13:16:45:59:INFO] Determined delimiter of CSV input is ','\u001b[0m\n",
      "\u001b[35m[2021-04-13:16:45:59:INFO] Sniff delimiter as ','\u001b[0m\n",
      "\u001b[35m[2021-04-13:16:45:59:INFO] Determined delimiter of CSV input is ','\u001b[0m\n",
      "\u001b[34m[2021-04-13:16:45:59:INFO] Sniff delimiter as ','\u001b[0m\n",
      "\u001b[34m[2021-04-13:16:45:59:INFO] Determined delimiter of CSV input is ','\u001b[0m\n",
      "\u001b[35m[2021-04-13:16:45:59:INFO] Sniff delimiter as ','\u001b[0m\n",
      "\u001b[35m[2021-04-13:16:45:59:INFO] Determined delimiter of CSV input is ','\u001b[0m\n",
      "\u001b[34m[2021-04-13:16:46:02:INFO] Sniff delimiter as ','\u001b[0m\n",
      "\u001b[34m[2021-04-13:16:46:02:INFO] Determined delimiter of CSV input is ','\u001b[0m\n",
      "\u001b[35m[2021-04-13:16:46:02:INFO] Sniff delimiter as ','\u001b[0m\n",
      "\u001b[35m[2021-04-13:16:46:02:INFO] Determined delimiter of CSV input is ','\u001b[0m\n",
      "\u001b[34m[2021-04-13:16:46:05:INFO] Sniff delimiter as ','\u001b[0m\n",
      "\u001b[34m[2021-04-13:16:46:05:INFO] Determined delimiter of CSV input is ','\u001b[0m\n",
      "\u001b[34m[2021-04-13:16:46:05:INFO] Sniff delimiter as ','\u001b[0m\n",
      "\u001b[34m[2021-04-13:16:46:05:INFO] Determined delimiter of CSV input is ','\u001b[0m\n",
      "\u001b[35m[2021-04-13:16:46:05:INFO] Sniff delimiter as ','\u001b[0m\n",
      "\u001b[35m[2021-04-13:16:46:05:INFO] Determined delimiter of CSV input is ','\u001b[0m\n",
      "\u001b[35m[2021-04-13:16:46:05:INFO] Sniff delimiter as ','\u001b[0m\n",
      "\u001b[35m[2021-04-13:16:46:05:INFO] Determined delimiter of CSV input is ','\u001b[0m\n",
      "\u001b[34m[2021-04-13:16:46:08:INFO] Sniff delimiter as ','\u001b[0m\n",
      "\u001b[34m[2021-04-13:16:46:08:INFO] Determined delimiter of CSV input is ','\u001b[0m\n",
      "\u001b[34m[2021-04-13:16:46:09:INFO] Sniff delimiter as ','\u001b[0m\n",
      "\u001b[34m[2021-04-13:16:46:09:INFO] Determined delimiter of CSV input is ','\u001b[0m\n",
      "\u001b[35m[2021-04-13:16:46:08:INFO] Sniff delimiter as ','\u001b[0m\n",
      "\u001b[35m[2021-04-13:16:46:08:INFO] Determined delimiter of CSV input is ','\u001b[0m\n",
      "\u001b[35m[2021-04-13:16:46:09:INFO] Sniff delimiter as ','\u001b[0m\n",
      "\u001b[35m[2021-04-13:16:46:09:INFO] Determined delimiter of CSV input is ','\u001b[0m\n",
      "\u001b[34m[2021-04-13:16:46:12:INFO] Sniff delimiter as ','\u001b[0m\n",
      "\u001b[35m[2021-04-13:16:46:12:INFO] Sniff delimiter as ','\u001b[0m\n",
      "\u001b[34m[2021-04-13:16:46:12:INFO] Determined delimiter of CSV input is ','\u001b[0m\n",
      "\u001b[35m[2021-04-13:16:46:12:INFO] Determined delimiter of CSV input is ','\u001b[0m\n",
      "\u001b[34m[2021-04-13:16:46:12:INFO] Sniff delimiter as ','\u001b[0m\n",
      "\u001b[34m[2021-04-13:16:46:12:INFO] Determined delimiter of CSV input is ','\u001b[0m\n",
      "\u001b[35m[2021-04-13:16:46:12:INFO] Sniff delimiter as ','\u001b[0m\n",
      "\u001b[35m[2021-04-13:16:46:12:INFO] Determined delimiter of CSV input is ','\u001b[0m\n",
      "\u001b[34m[2021-04-13:16:46:15:INFO] Sniff delimiter as ','\u001b[0m\n",
      "\u001b[34m[2021-04-13:16:46:15:INFO] Determined delimiter of CSV input is ','\u001b[0m\n",
      "\u001b[35m[2021-04-13:16:46:15:INFO] Sniff delimiter as ','\u001b[0m\n",
      "\u001b[35m[2021-04-13:16:46:15:INFO] Determined delimiter of CSV input is ','\u001b[0m\n",
      "\u001b[34m[2021-04-13:16:46:18:INFO] Sniff delimiter as ','\u001b[0m\n",
      "\u001b[34m[2021-04-13:16:46:18:INFO] Determined delimiter of CSV input is ','\u001b[0m\n",
      "\u001b[34m[2021-04-13:16:46:18:INFO] Sniff delimiter as ','\u001b[0m\n",
      "\u001b[34m[2021-04-13:16:46:18:INFO] Determined delimiter of CSV input is ','\u001b[0m\n",
      "\u001b[35m[2021-04-13:16:46:18:INFO] Sniff delimiter as ','\u001b[0m\n",
      "\u001b[35m[2021-04-13:16:46:18:INFO] Determined delimiter of CSV input is ','\u001b[0m\n",
      "\u001b[35m[2021-04-13:16:46:18:INFO] Sniff delimiter as ','\u001b[0m\n",
      "\u001b[35m[2021-04-13:16:46:18:INFO] Determined delimiter of CSV input is ','\u001b[0m\n",
      "\u001b[34m[2021-04-13:16:46:21:INFO] Sniff delimiter as ','\u001b[0m\n",
      "\u001b[34m[2021-04-13:16:46:21:INFO] Determined delimiter of CSV input is ','\u001b[0m\n",
      "\u001b[34m[2021-04-13:16:46:21:INFO] Sniff delimiter as ','\u001b[0m\n",
      "\u001b[34m[2021-04-13:16:46:21:INFO] Determined delimiter of CSV input is ','\u001b[0m\n",
      "\u001b[35m[2021-04-13:16:46:21:INFO] Sniff delimiter as ','\u001b[0m\n",
      "\u001b[35m[2021-04-13:16:46:21:INFO] Determined delimiter of CSV input is ','\u001b[0m\n",
      "\u001b[35m[2021-04-13:16:46:21:INFO] Sniff delimiter as ','\u001b[0m\n",
      "\u001b[35m[2021-04-13:16:46:21:INFO] Determined delimiter of CSV input is ','\u001b[0m\n",
      "\u001b[34m[2021-04-13:16:46:24:INFO] Sniff delimiter as ','\u001b[0m\n",
      "\u001b[34m[2021-04-13:16:46:24:INFO] Determined delimiter of CSV input is ','\u001b[0m\n",
      "\u001b[35m[2021-04-13:16:46:24:INFO] Sniff delimiter as ','\u001b[0m\n",
      "\u001b[35m[2021-04-13:16:46:24:INFO] Determined delimiter of CSV input is ','\u001b[0m\n",
      "\u001b[34m[2021-04-13:16:46:25:INFO] Sniff delimiter as ','\u001b[0m\n",
      "\u001b[34m[2021-04-13:16:46:25:INFO] Determined delimiter of CSV input is ','\u001b[0m\n",
      "\u001b[35m[2021-04-13:16:46:25:INFO] Sniff delimiter as ','\u001b[0m\n",
      "\u001b[35m[2021-04-13:16:46:25:INFO] Determined delimiter of CSV input is ','\u001b[0m\n"
     ]
    },
    {
     "name": "stdout",
     "output_type": "stream",
     "text": [
      "\u001b[34m[2021-04-13:16:46:28:INFO] Sniff delimiter as ','\u001b[0m\n",
      "\u001b[34m[2021-04-13:16:46:28:INFO] Determined delimiter of CSV input is ','\u001b[0m\n",
      "\u001b[35m[2021-04-13:16:46:28:INFO] Sniff delimiter as ','\u001b[0m\n",
      "\u001b[35m[2021-04-13:16:46:28:INFO] Determined delimiter of CSV input is ','\u001b[0m\n",
      "\u001b[34m[2021-04-13:16:46:31:INFO] Sniff delimiter as ','\u001b[0m\n",
      "\u001b[34m[2021-04-13:16:46:31:INFO] Determined delimiter of CSV input is ','\u001b[0m\n",
      "\u001b[34m[2021-04-13:16:46:31:INFO] Sniff delimiter as ','\u001b[0m\n",
      "\u001b[34m[2021-04-13:16:46:31:INFO] Determined delimiter of CSV input is ','\u001b[0m\n",
      "\u001b[35m[2021-04-13:16:46:31:INFO] Sniff delimiter as ','\u001b[0m\n",
      "\u001b[35m[2021-04-13:16:46:31:INFO] Determined delimiter of CSV input is ','\u001b[0m\n",
      "\u001b[35m[2021-04-13:16:46:31:INFO] Sniff delimiter as ','\u001b[0m\n",
      "\u001b[35m[2021-04-13:16:46:31:INFO] Determined delimiter of CSV input is ','\u001b[0m\n",
      "\u001b[34m[2021-04-13:16:46:38:INFO] Sniff delimiter as ','\u001b[0m\n",
      "\u001b[34m[2021-04-13:16:46:38:INFO] Determined delimiter of CSV input is ','\u001b[0m\n",
      "\u001b[34m[2021-04-13:16:46:38:INFO] Sniff delimiter as ','\u001b[0m\n",
      "\u001b[34m[2021-04-13:16:46:38:INFO] Determined delimiter of CSV input is ','\u001b[0m\n",
      "\u001b[35m[2021-04-13:16:46:38:INFO] Sniff delimiter as ','\u001b[0m\n",
      "\u001b[35m[2021-04-13:16:46:38:INFO] Determined delimiter of CSV input is ','\u001b[0m\n",
      "\u001b[35m[2021-04-13:16:46:38:INFO] Sniff delimiter as ','\u001b[0m\n",
      "\u001b[35m[2021-04-13:16:46:38:INFO] Determined delimiter of CSV input is ','\u001b[0m\n",
      "\u001b[34m[2021-04-13:16:46:41:INFO] Sniff delimiter as ','\u001b[0m\n",
      "\u001b[34m[2021-04-13:16:46:41:INFO] Determined delimiter of CSV input is ','\u001b[0m\n",
      "\u001b[34m[2021-04-13:16:46:41:INFO] Sniff delimiter as ','\u001b[0m\n",
      "\u001b[34m[2021-04-13:16:46:41:INFO] Determined delimiter of CSV input is ','\u001b[0m\n",
      "\u001b[35m[2021-04-13:16:46:41:INFO] Sniff delimiter as ','\u001b[0m\n",
      "\u001b[35m[2021-04-13:16:46:41:INFO] Determined delimiter of CSV input is ','\u001b[0m\n",
      "\u001b[35m[2021-04-13:16:46:41:INFO] Sniff delimiter as ','\u001b[0m\n",
      "\u001b[35m[2021-04-13:16:46:41:INFO] Determined delimiter of CSV input is ','\u001b[0m\n",
      "\u001b[34m[2021-04-13:16:46:44:INFO] Sniff delimiter as ','\u001b[0m\n",
      "\u001b[34m[2021-04-13:16:46:44:INFO] Determined delimiter of CSV input is ','\u001b[0m\n",
      "\u001b[34m[2021-04-13:16:46:44:INFO] Sniff delimiter as ','\u001b[0m\n",
      "\u001b[34m[2021-04-13:16:46:44:INFO] Determined delimiter of CSV input is ','\u001b[0m\n",
      "\u001b[35m[2021-04-13:16:46:44:INFO] Sniff delimiter as ','\u001b[0m\n",
      "\u001b[35m[2021-04-13:16:46:44:INFO] Determined delimiter of CSV input is ','\u001b[0m\n",
      "\u001b[35m[2021-04-13:16:46:44:INFO] Sniff delimiter as ','\u001b[0m\n",
      "\u001b[35m[2021-04-13:16:46:44:INFO] Determined delimiter of CSV input is ','\u001b[0m\n",
      "\n"
     ]
    }
   ],
   "source": [
    "# Batch transform\n",
    "model_transformer=model.transformer(instance_count=1,instance_type='ml.m5.large')\n",
    "model_transformer.transform('s3://sagemaker-us-east-1-032934527328/sentimentanalysis/test.csv',\n",
    "                            content_type='text/csv',split_type='Line')"
   ]
  },
  {
   "cell_type": "code",
   "execution_count": 13,
   "id": "varied-scoop",
   "metadata": {},
   "outputs": [],
   "source": [
    "with open('data-sentiment/data-sentiment-processed.pkl','rb') as f:\n",
    "    processed_data=pickle.load(f)"
   ]
  },
  {
   "cell_type": "code",
   "execution_count": 16,
   "id": "hispanic-business",
   "metadata": {},
   "outputs": [],
   "source": [
    "!aws s3 cp --recursive s3://sagemaker-us-east-1-032934527328/xgboost-2021-04-13-16-41-24-289/test.csv.out data-sentiment/"
   ]
  },
  {
   "cell_type": "code",
   "execution_count": 17,
   "id": "pacific-kidney",
   "metadata": {},
   "outputs": [],
   "source": [
    "y_test= processed_data['test']['labels']\n",
    "y_pred=np.loadtxt('data-sentiment/test.csv.out',delimiter=',')\n",
    "y_pred[y_pred>0.5]=1\n",
    "y_pred[y_pred<=0.5]=0"
   ]
  },
  {
   "cell_type": "code",
   "execution_count": 18,
   "id": "partial-element",
   "metadata": {},
   "outputs": [
    {
     "data": {
      "text/plain": [
       "0.85064"
      ]
     },
     "execution_count": 18,
     "metadata": {},
     "output_type": "execute_result"
    }
   ],
   "source": [
    "np.mean(y_pred==y_test)"
   ]
  },
  {
   "cell_type": "code",
   "execution_count": 19,
   "id": "unknown-washer",
   "metadata": {},
   "outputs": [
    {
     "name": "stdout",
     "output_type": "stream",
     "text": [
      "-------------!"
     ]
    }
   ],
   "source": [
    "# Endpoint deploy\n",
    "model.deploy(initial_instance_count=1,instance_type='ml.m5.large')"
   ]
  },
  {
   "cell_type": "code",
   "execution_count": 41,
   "id": "dressed-values",
   "metadata": {},
   "outputs": [],
   "source": [
    "# import endpoint name from s3 or can also be retrieved on  the model.deploy object using model_predictor.endpoint_name\n",
    "# important to add serializer argument\n",
    "model_predictor=sagemaker.predictor.Predictor(\n",
    "    endpoint_name='xgboost-2021-04-13-17-28-42-331',\n",
    "    sagemaker_session=session,\n",
    "    serializer=sagemaker.serializers.CSVSerializer()\n",
    ")"
   ]
  },
  {
   "cell_type": "code",
   "execution_count": 42,
   "id": "treated-punishment",
   "metadata": {},
   "outputs": [
    {
     "data": {
      "text/plain": [
       "array([0, 0, 0, ..., 0, 0, 0])"
      ]
     },
     "execution_count": 42,
     "metadata": {},
     "output_type": "execute_result"
    }
   ],
   "source": [
    "sample=pd.read_csv('data-sentiment/sagemakerready/data/test.csv',header=None,nrows=1)\n",
    "sample.to_numpy().flatten()"
   ]
  },
  {
   "cell_type": "code",
   "execution_count": 43,
   "id": "printable-symbol",
   "metadata": {},
   "outputs": [
    {
     "data": {
      "text/plain": [
       "b'0.45368263125419617'"
      ]
     },
     "execution_count": 43,
     "metadata": {},
     "output_type": "execute_result"
    }
   ],
   "source": [
    "model_predictor.predict(sample.to_numpy().flatten())"
   ]
  },
  {
   "cell_type": "code",
   "execution_count": 45,
   "id": "worthy-burden",
   "metadata": {},
   "outputs": [
    {
     "data": {
      "text/plain": [
       "b'0.3295152485370636'"
      ]
     },
     "execution_count": 45,
     "metadata": {},
     "output_type": "execute_result"
    }
   ],
   "source": [
    "model_predictor.predict((sample.to_numpy()+1).flatten())"
   ]
  },
  {
   "cell_type": "code",
   "execution_count": 47,
   "id": "controlling-throw",
   "metadata": {},
   "outputs": [],
   "source": [
    "model_predictor.delete_endpoint()"
   ]
  },
  {
   "cell_type": "code",
   "execution_count": null,
   "id": "third-index",
   "metadata": {},
   "outputs": [],
   "source": []
  }
 ],
 "metadata": {
  "kernelspec": {
   "display_name": "conda_tensorflow_p36",
   "language": "python",
   "name": "conda_tensorflow_p36"
  },
  "language_info": {
   "codemirror_mode": {
    "name": "ipython",
    "version": 3
   },
   "file_extension": ".py",
   "mimetype": "text/x-python",
   "name": "python",
   "nbconvert_exporter": "python",
   "pygments_lexer": "ipython3",
   "version": "3.6.13"
  }
 },
 "nbformat": 4,
 "nbformat_minor": 5
}
