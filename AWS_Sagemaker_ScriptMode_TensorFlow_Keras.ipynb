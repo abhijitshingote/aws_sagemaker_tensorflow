{
 "cells": [
  {
   "cell_type": "code",
   "execution_count": null,
   "metadata": {},
   "outputs": [],
   "source": [
    "import sagemaker\n",
    "import numpy as np\n",
    "from sagemaker.tensorflow import TensorFlow\n",
    "sess=sagemaker.Session()\n",
    "role=sagemaker.get_execution_role()\n",
    "import pandas as pd"
   ]
  },
  {
   "cell_type": "code",
   "execution_count": null,
   "metadata": {},
   "outputs": [],
   "source": [
    "hyperparameters={'epochs':25}"
   ]
  },
  {
   "cell_type": "code",
   "execution_count": null,
   "metadata": {},
   "outputs": [],
   "source": [
    "estimator=TensorFlow(\n",
    "    entry_point= \"custom_train.py\",             # Your entry script\n",
    "    role=sagemaker.get_execution_role(),\n",
    "    framework_version=\"2.1.0\",               # TensorFlow's version\n",
    "    py_version='py3',\n",
    "    train_instance_count=1,                   # \"The number of GPUs instances to use\"\n",
    "    train_instance_type='ml.c5.2xlarge',\n",
    "    hyperparameters=hyperparameters)"
   ]
  },
  {
   "cell_type": "code",
   "execution_count": null,
   "metadata": {},
   "outputs": [],
   "source": [
    "df=pd.read_csv('salary.csv')\n",
    "prefix = 'salaryestimator'\n",
    "mynparray=np.array(df)\n",
    "np.savez('training',xtrain=mynparray[:,0].reshape(-1,1),ytrain=mynparray[:,1])\n",
    "training_input_path   = sess.upload_data('training.npz', key_prefix=prefix+'/training_csv')"
   ]
  },
  {
   "cell_type": "code",
   "execution_count": null,
   "metadata": {},
   "outputs": [],
   "source": [
    "training_input_path   = sess.upload_data('salary.csv', key_prefix=prefix+'/training_csv')\n",
    "estimator.fit({'train':training_input_path})"
   ]
  }
 ],
 "metadata": {
  "instance_type": "ml.t3.medium",
  "kernelspec": {
   "display_name": "Python 3 (Data Science)",
   "language": "python",
   "name": "python3__SAGEMAKER_INTERNAL__arn:aws:sagemaker:us-east-1:081325390199:image/datascience-1.0"
  },
  "language_info": {
   "codemirror_mode": {
    "name": "ipython",
    "version": 3
   },
   "file_extension": ".py",
   "mimetype": "text/x-python",
   "name": "python",
   "nbconvert_exporter": "python",
   "pygments_lexer": "ipython3",
   "version": "3.7.6"
  }
 },
 "nbformat": 4,
 "nbformat_minor": 4
}
