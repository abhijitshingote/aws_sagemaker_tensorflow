{
 "cells": [
  {
   "cell_type": "markdown",
   "id": "94f65b49-ac83-4afa-9b80-84a0dfaa19fe",
   "metadata": {},
   "source": [
    "Refer to TextClassificationCNN for preprocessing details"
   ]
  },
  {
   "cell_type": "code",
   "execution_count": 5,
   "id": "3dfce4d7-6255-4ddd-8756-f97e32044010",
   "metadata": {},
   "outputs": [],
   "source": [
    "import tensorflow as tf\n",
    "import numpy as np\n",
    "from tensorflow.keras.preprocessing.text import Tokenizer\n",
    "from tensorflow.keras.preprocessing.sequence import pad_sequences\n",
    "import pandas as pd\n",
    "from sklearn.model_selection import train_test_split"
   ]
  },
  {
   "cell_type": "code",
   "execution_count": 2,
   "id": "2965d56f-d31d-4a0e-b9b3-3de7aab6bc47",
   "metadata": {},
   "outputs": [
    {
     "data": {
      "text/plain": [
       "'2.0.0'"
      ]
     },
     "execution_count": 2,
     "metadata": {},
     "output_type": "execute_result"
    }
   ],
   "source": [
    "tf.__version__"
   ]
  },
  {
   "cell_type": "code",
   "execution_count": 7,
   "id": "727bc0f6-b92b-4149-a9a7-faba1b5f3a76",
   "metadata": {},
   "outputs": [],
   "source": [
    "df=pd.read_csv('spam.csv',error_bad_lines=False)\n",
    "X=df['v2']\n",
    "y=df['v1'].apply(lambda x:0 if x=='spam' else 1)\n",
    "X_train,X_test,y_train,y_test =train_test_split(X,y,test_size=0.25)"
   ]
  },
  {
   "cell_type": "code",
   "execution_count": 8,
   "id": "95e05724-f22c-4cce-9c06-34abbfb11cd8",
   "metadata": {},
   "outputs": [],
   "source": [
    "num_words=None\n",
    "embedding_length=20\n",
    "tok=Tokenizer(num_words=num_words)\n",
    "tok.fit_on_texts(X_train)\n",
    "X_train=tok.texts_to_sequences(X_train)\n",
    "X_test=tok.texts_to_sequences(X_test)\n",
    "X_train=pad_sequences(X_train)\n",
    "X_test=pad_sequences(X_test,maxlen=X_train.shape[1])\n",
    "y_train=y_train.to_numpy()\n",
    "y_test=y_test.to_numpy()"
   ]
  },
  {
   "cell_type": "code",
   "execution_count": 9,
   "id": "be29a986-88fd-4424-952f-8e856d2c9706",
   "metadata": {},
   "outputs": [
    {
     "data": {
      "text/plain": [
       "162"
      ]
     },
     "execution_count": 9,
     "metadata": {},
     "output_type": "execute_result"
    }
   ],
   "source": [
    "maxsequencelength=X_train.shape[1]\n",
    "maxsequencelength"
   ]
  },
  {
   "cell_type": "code",
   "execution_count": 10,
   "id": "1e116999-c84d-4c48-985d-5faadfa50c4f",
   "metadata": {},
   "outputs": [
    {
     "data": {
      "text/plain": [
       "((4179, 162), (4179,))"
      ]
     },
     "execution_count": 10,
     "metadata": {},
     "output_type": "execute_result"
    }
   ],
   "source": [
    "X_train.shape,y_train.shape"
   ]
  },
  {
   "cell_type": "code",
   "execution_count": 11,
   "id": "14e29d89-5be9-41c3-9f34-1dc9885803a3",
   "metadata": {},
   "outputs": [
    {
     "data": {
      "text/plain": [
       "7654"
      ]
     },
     "execution_count": 11,
     "metadata": {},
     "output_type": "execute_result"
    }
   ],
   "source": [
    "input_dim=num_words if num_words else (max(tok.word_index.values())+1)\n",
    "input_dim"
   ]
  },
  {
   "cell_type": "code",
   "execution_count": 13,
   "id": "a67142d5-f1fe-421d-8eca-8906777784db",
   "metadata": {},
   "outputs": [
    {
     "name": "stdout",
     "output_type": "stream",
     "text": [
      "Model: \"sequential_1\"\n",
      "_________________________________________________________________\n",
      "Layer (type)                 Output Shape              Param #   \n",
      "=================================================================\n",
      "embedding_1 (Embedding)      (None, 162, 20)           153080    \n",
      "_________________________________________________________________\n",
      "lstm_1 (LSTM)                (None, 162, 15)           2160      \n",
      "_________________________________________________________________\n",
      "global_max_pooling1d_1 (Glob (None, 15)                0         \n",
      "_________________________________________________________________\n",
      "dense_1 (Dense)              (None, 1)                 16        \n",
      "=================================================================\n",
      "Total params: 155,256\n",
      "Trainable params: 155,256\n",
      "Non-trainable params: 0\n",
      "_________________________________________________________________\n"
     ]
    }
   ],
   "source": [
    "model=tf.keras.Sequential()\n",
    "model.add(tf.keras.layers.Embedding(input_dim=input_dim,output_dim=embedding_length,input_length=maxsequencelength))\n",
    "model.add(tf.keras.layers.LSTM(15, return_sequences=True))\n",
    "model.add(tf.keras.layers.GlobalMaxPooling1D())\n",
    "model.add(tf.keras.layers.Dense(1,activation='sigmoid'))\n",
    "model.summary()"
   ]
  },
  {
   "cell_type": "code",
   "execution_count": 14,
   "id": "f0832397-67e7-4c04-b268-81cecbb1cfb5",
   "metadata": {},
   "outputs": [],
   "source": [
    "model.compile(loss='binary_crossentropy',metrics=['accuracy'])"
   ]
  },
  {
   "cell_type": "code",
   "execution_count": 15,
   "id": "a732a6b5-3147-430b-aed8-7644f6e13764",
   "metadata": {},
   "outputs": [
    {
     "name": "stdout",
     "output_type": "stream",
     "text": [
      "Train on 4179 samples, validate on 1393 samples\n",
      "Epoch 1/5\n",
      "4179/4179 [==============================] - 23s 6ms/sample - loss: 0.4591 - accuracy: 0.8550 - val_loss: 0.3377 - val_accuracy: 0.8715\n",
      "Epoch 2/5\n",
      "4179/4179 [==============================] - 20s 5ms/sample - loss: 0.2633 - accuracy: 0.8641 - val_loss: 0.1999 - val_accuracy: 0.8729\n",
      "Epoch 3/5\n",
      "4179/4179 [==============================] - 21s 5ms/sample - loss: 0.1602 - accuracy: 0.9682 - val_loss: 0.1410 - val_accuracy: 0.9770\n",
      "Epoch 4/5\n",
      "4179/4179 [==============================] - 21s 5ms/sample - loss: 0.1081 - accuracy: 0.9835 - val_loss: 0.0998 - val_accuracy: 0.9785\n",
      "Epoch 5/5\n",
      "4179/4179 [==============================] - 21s 5ms/sample - loss: 0.0687 - accuracy: 0.9902 - val_loss: 0.1129 - val_accuracy: 0.9612\n"
     ]
    }
   ],
   "source": [
    "# Train the model\n",
    "r = model.fit(x=X_train, y=y_train, epochs=5, validation_data=(X_test, y_test))"
   ]
  },
  {
   "cell_type": "code",
   "execution_count": 17,
   "id": "49931989-7c00-4ba2-b346-70ccee5d196c",
   "metadata": {},
   "outputs": [
    {
     "data": {
      "image/png": "[encoded data removed]",
      "text/plain": [
       "<Figure size 432x288 with 1 Axes>"
      ]
     },
     "metadata": {
      "needs_background": "light"
     },
     "output_type": "display_data"
    }
   ],
   "source": [
    "import matplotlib.pyplot as plt\n",
    "plt.plot(r.history['loss'], label='Loss')\n",
    "plt.plot(r.history['val_loss'], label='Validation Loss')\n",
    "plt.legend()\n",
    "plt.show()"
   ]
  },
  {
   "cell_type": "code",
   "execution_count": 18,
   "id": "e40b39a1-a55e-4832-a385-7f76f79b908d",
   "metadata": {},
   "outputs": [
    {
     "data": {
      "image/png": "[encoded data removed]",
      "text/plain": [
       "<Figure size 432x288 with 1 Axes>"
      ]
     },
     "metadata": {
      "needs_background": "light"
     },
     "output_type": "display_data"
    }
   ],
   "source": [
    "plt.plot(r.history['accuracy'], label='Accuracy')\n",
    "plt.plot(r.history['val_accuracy'], label='Validation accuracy')\n",
    "plt.legend()\n",
    "plt.show()"
   ]
  },
  {
   "cell_type": "code",
   "execution_count": null,
   "id": "8a10b1ff-a00d-4188-b25a-314913a64824",
   "metadata": {},
   "outputs": [],
   "source": []
  }
 ],
 "metadata": {
  "kernelspec": {
   "display_name": "Python 3",
   "language": "python",
   "name": "python3"
  },
  "language_info": {
   "codemirror_mode": {
    "name": "ipython",
    "version": 3
   },
   "file_extension": ".py",
   "mimetype": "text/x-python",
   "name": "python",
   "nbconvert_exporter": "python",
   "pygments_lexer": "ipython3",
   "version": "3.9.4"
  }
 },
 "nbformat": 4,
 "nbformat_minor": 5
}
