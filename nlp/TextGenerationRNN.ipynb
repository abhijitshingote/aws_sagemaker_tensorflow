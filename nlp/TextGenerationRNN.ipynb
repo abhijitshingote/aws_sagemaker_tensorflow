{
 "cells": [
  {
   "cell_type": "code",
   "execution_count": 1,
   "id": "79090fc9-a7a6-43f7-880c-30661c3f411c",
   "metadata": {},
   "outputs": [],
   "source": [
    "import tensorflow as tf\n",
    "import pandas as pd\n",
    "import numpy as np\n",
    "import matplotlib.pyplot as plt\n",
    "import requests"
   ]
  },
  {
   "cell_type": "code",
   "execution_count": 2,
   "id": "6cb9146c-1bea-4c00-a3cd-1440e0c56753",
   "metadata": {},
   "outputs": [],
   "source": [
    "from bs4 import BeautifulSoup\n",
    "from string import punctuation"
   ]
  },
  {
   "cell_type": "code",
   "execution_count": 3,
   "id": "1b20c6c8-0af2-491a-910d-5d1336627b6f",
   "metadata": {},
   "outputs": [],
   "source": [
    "response=requests.get('http://shakespeare.mit.edu/winters_tale/full.html')"
   ]
  },
  {
   "cell_type": "code",
   "execution_count": 4,
   "id": "b6731e20-fd03-43ef-a440-043a1e49511f",
   "metadata": {},
   "outputs": [],
   "source": [
    "text=BeautifulSoup(response.text)"
   ]
  },
  {
   "cell_type": "code",
   "execution_count": 5,
   "id": "d00237c1-fc56-453c-9841-b123463e18f6",
   "metadata": {},
   "outputs": [],
   "source": [
    "text=text.get_text()"
   ]
  },
  {
   "cell_type": "code",
   "execution_count": 6,
   "id": "a9217797-f28a-4e3a-a8a6-982abaf1d6c9",
   "metadata": {},
   "outputs": [],
   "source": [
    "def clean_text(text):\n",
    "    text=text.split('\\n')\n",
    "    text=[t.strip() for t in text if t.strip()!='']\n",
    "    text=[''.join([cleanedtext for cleanedtext in t if cleanedtext not in punctuation]) for t in text if text]\n",
    "    text=[t.strip() for t in text]\n",
    "    text=[t for t in text if len(t.split())>7]\n",
    "    return text"
   ]
  },
  {
   "cell_type": "code",
   "execution_count": 7,
   "id": "bc18eb4c-b457-439c-98c1-8a07118c1564",
   "metadata": {},
   "outputs": [],
   "source": [
    "text=clean_text(text)"
   ]
  },
  {
   "cell_type": "code",
   "execution_count": 8,
   "id": "56a5e5b7-baed-47f9-8baf-8f2479f55389",
   "metadata": {},
   "outputs": [],
   "source": [
    "tok=tf.keras.preprocessing.text.Tokenizer()"
   ]
  },
  {
   "cell_type": "code",
   "execution_count": 9,
   "id": "7612e6c3-c278-486f-9daf-41706945b885",
   "metadata": {},
   "outputs": [],
   "source": [
    "tok.fit_on_texts(text)"
   ]
  },
  {
   "cell_type": "code",
   "execution_count": 10,
   "id": "2d478b85-5af5-48bf-9a0c-940387cde5b1",
   "metadata": {},
   "outputs": [],
   "source": [
    "seq=tok.texts_to_sequences(text)"
   ]
  },
  {
   "cell_type": "code",
   "execution_count": 11,
   "id": "feea6224-313f-42c7-8eda-9e00fe6c94b0",
   "metadata": {},
   "outputs": [],
   "source": [
    "seq=tf.keras.preprocessing.sequence.pad_sequences(seq,maxlen=5)"
   ]
  },
  {
   "cell_type": "code",
   "execution_count": 12,
   "id": "f8b17b28-431d-4696-bf65-fecdf1650bef",
   "metadata": {},
   "outputs": [
    {
     "data": {
      "text/plain": [
       "2866"
      ]
     },
     "execution_count": 12,
     "metadata": {},
     "output_type": "execute_result"
    }
   ],
   "source": [
    "max(tok.word_index.values())"
   ]
  },
  {
   "cell_type": "code",
   "execution_count": 13,
   "id": "79f7de85-f0ec-4782-936c-0e5ef8049911",
   "metadata": {},
   "outputs": [
    {
     "data": {
      "text/plain": [
       "array([[ 111,    4,  572,  211,   45],\n",
       "       [   8,  316,   35,   38,   45],\n",
       "       [  15,    2,   12,  212,  126],\n",
       "       ...,\n",
       "       [ 216,  116,   40,   69, 2865],\n",
       "       [  81,  465,    4,   25,  197],\n",
       "       [ 723,    5,  109,  133,  159]], dtype=int32)"
      ]
     },
     "execution_count": 13,
     "metadata": {},
     "output_type": "execute_result"
    }
   ],
   "source": [
    "seq"
   ]
  },
  {
   "cell_type": "code",
   "execution_count": 14,
   "id": "7161ac81-7f66-4e2e-a451-e9a467c9e9b5",
   "metadata": {},
   "outputs": [],
   "source": [
    "X,y=seq[:,:-1],seq[:,-1]"
   ]
  },
  {
   "cell_type": "code",
   "execution_count": 15,
   "id": "8e999617-f8dd-4e81-8484-a451676923c3",
   "metadata": {},
   "outputs": [
    {
     "data": {
      "text/plain": [
       "((1847, 4), (1847,))"
      ]
     },
     "execution_count": 15,
     "metadata": {},
     "output_type": "execute_result"
    }
   ],
   "source": [
    "X.shape,y.shape"
   ]
  },
  {
   "cell_type": "code",
   "execution_count": 20,
   "id": "c393c4ff-619d-4c3c-968f-f22b5e04529c",
   "metadata": {},
   "outputs": [],
   "source": [
    "model=tf.keras.models.Sequential()\n",
    "model.add(tf.keras.layers.Embedding(input_dim=max(tok.word_index.values()),output_dim=5,input_length=4))\n",
    "model.add(tf.keras.layers.LSTM(5))\n",
    "model.add(tf.keras.layers.Dense(max(tok.word_index.values()),activation='softmax'))"
   ]
  },
  {
   "cell_type": "code",
   "execution_count": 21,
   "id": "f48e57c9-4896-461a-a10a-aef6d167fa5f",
   "metadata": {},
   "outputs": [
    {
     "name": "stdout",
     "output_type": "stream",
     "text": [
      "Model: \"sequential_1\"\n",
      "_________________________________________________________________\n",
      "Layer (type)                 Output Shape              Param #   \n",
      "=================================================================\n",
      "embedding_1 (Embedding)      (None, 4, 5)              14330     \n",
      "_________________________________________________________________\n",
      "lstm_1 (LSTM)                (None, 5)                 220       \n",
      "_________________________________________________________________\n",
      "dense_1 (Dense)              (None, 2866)              17196     \n",
      "=================================================================\n",
      "Total params: 31,746\n",
      "Trainable params: 31,746\n",
      "Non-trainable params: 0\n",
      "_________________________________________________________________\n"
     ]
    }
   ],
   "source": [
    "model.summary()"
   ]
  },
  {
   "cell_type": "code",
   "execution_count": 22,
   "id": "5f95a31e-cd87-4656-a60e-02a10f9b8081",
   "metadata": {},
   "outputs": [],
   "source": [
    "model.compile(loss='sparse_categorical_crossentropy',metrics=['accuracy'])"
   ]
  },
  {
   "cell_type": "code",
   "execution_count": null,
   "id": "ad5c0130-1399-4cd2-b5ec-3f07ca1ff61c",
   "metadata": {},
   "outputs": [
    {
     "name": "stdout",
     "output_type": "stream",
     "text": [
      "Train on 1847 samples\n"
     ]
    }
   ],
   "source": [
    "model.fit(X,y)"
   ]
  },
  {
   "cell_type": "code",
   "execution_count": null,
   "id": "69faadac-3257-42f8-9154-7c0fa617daf2",
   "metadata": {},
   "outputs": [],
   "source": []
  }
 ],
 "metadata": {
  "kernelspec": {
   "display_name": "Python 3",
   "language": "python",
   "name": "python3"
  },
  "language_info": {
   "codemirror_mode": {
    "name": "ipython",
    "version": 3
   },
   "file_extension": ".py",
   "mimetype": "text/x-python",
   "name": "python",
   "nbconvert_exporter": "python",
   "pygments_lexer": "ipython3",
   "version": "3.6.13"
  }
 },
 "nbformat": 4,
 "nbformat_minor": 5
}
