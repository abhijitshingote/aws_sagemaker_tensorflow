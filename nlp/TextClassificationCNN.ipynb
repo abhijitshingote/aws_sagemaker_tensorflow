{
 "cells": [
  {
   "cell_type": "markdown",
   "id": "8aa9e30b-3c90-42f4-af23-629e14e3f9df",
   "metadata": {},
   "source": [
    "## CNN Text Classification with Embedding\n",
    "### Important - After tokenizing sequences, they are tokenized as 1 ---- len(vocabulary)\n",
    "## in the keras Embedding layer, the input_dim = len(vocabulary) + 1 (this is if num_words is not provided when initializing Tokenizer)\n",
    "## If num_words is passed to Tokenizer, use that same value as input_dim to Embedding layer(no need to add 1)"
   ]
  },
  {
   "cell_type": "markdown",
   "id": "78c64c2c-a974-4fae-a918-05ed40c49fb7",
   "metadata": {},
   "source": [
    "# Ouput Layer Activation: When using SIGMOID instead of softmax , accuracy jumped from 86% to 99%"
   ]
  },
  {
   "cell_type": "code",
   "execution_count": 1,
   "id": "d7527b59-780e-416c-a170-e22ab922b91d",
   "metadata": {},
   "outputs": [],
   "source": [
    "import tensorflow as tf\n",
    "import numpy as np\n",
    "from tensorflow.keras.preprocessing.text import Tokenizer\n",
    "from tensorflow.keras.preprocessing.sequence import pad_sequences\n",
    "import pandas as pd\n",
    "from sklearn.model_selection import train_test_split"
   ]
  },
  {
   "cell_type": "markdown",
   "id": "ab6ec598-1028-4011-ae24-fb1cf8ef605c",
   "metadata": {},
   "source": [
    "input layer is going to be an indexed representation of the text. So shape will be\n",
    "N*length of sequences\n",
    "After embedding, output shape will be N*length of sequence * length of embedding vector"
   ]
  },
  {
   "cell_type": "code",
   "execution_count": 2,
   "id": "46d12c91-aebe-467e-8302-9b8fcadc2364",
   "metadata": {},
   "outputs": [],
   "source": [
    "df=pd.read_csv('spam.csv')\n",
    "X=df['v2']\n",
    "y=df['v1'].apply(lambda x:0 if x=='spam' else 1)\n",
    "X_train,X_test,y_train,y_test =train_test_split(X,y,test_size=0.25)"
   ]
  },
  {
   "cell_type": "code",
   "execution_count": 3,
   "id": "aa849891-c4b1-4158-826e-d597efbf6869",
   "metadata": {},
   "outputs": [],
   "source": [
    "num_words=None\n",
    "embedding_length=20\n",
    "tok=Tokenizer(num_words=num_words)\n",
    "tok.fit_on_texts(X_train)\n",
    "X_train=tok.texts_to_sequences(X_train)\n",
    "X_test=tok.texts_to_sequences(X_test)\n",
    "X_train=pad_sequences(X_train)\n",
    "X_test=pad_sequences(X_test,maxlen=X_train.shape[1])"
   ]
  },
  {
   "cell_type": "code",
   "execution_count": 4,
   "id": "672545fe-602f-4fd1-8181-823974712e50",
   "metadata": {},
   "outputs": [
    {
     "data": {
      "text/plain": [
       "189"
      ]
     },
     "execution_count": 4,
     "metadata": {},
     "output_type": "execute_result"
    }
   ],
   "source": [
    "maxsequencelength=X_train.shape[1]\n",
    "maxsequencelength"
   ]
  },
  {
   "cell_type": "code",
   "execution_count": 5,
   "id": "10c7559f-fa87-4193-824e-12141055ffa2",
   "metadata": {},
   "outputs": [
    {
     "data": {
      "text/plain": [
       "((4179, 189), (4179,))"
      ]
     },
     "execution_count": 5,
     "metadata": {},
     "output_type": "execute_result"
    }
   ],
   "source": [
    "X_train.shape,y_train.shape"
   ]
  },
  {
   "cell_type": "code",
   "execution_count": 7,
   "id": "d0c45484-0d46-4134-980f-d315ada098f0",
   "metadata": {},
   "outputs": [
    {
     "data": {
      "text/plain": [
       "7718"
      ]
     },
     "execution_count": 7,
     "metadata": {},
     "output_type": "execute_result"
    }
   ],
   "source": [
    "input_dim=num_words if num_words else (max(tok.word_index.values())+1)\n",
    "input_dim"
   ]
  },
  {
   "cell_type": "code",
   "execution_count": 8,
   "id": "4be97bfc-e2e7-44d1-8004-9dc4b05c5215",
   "metadata": {},
   "outputs": [
    {
     "name": "stdout",
     "output_type": "stream",
     "text": [
      "Model: \"sequential\"\n",
      "_________________________________________________________________\n",
      "Layer (type)                 Output Shape              Param #   \n",
      "=================================================================\n",
      "embedding (Embedding)        (None, 189, 20)           154360    \n",
      "_________________________________________________________________\n",
      "conv1d (Conv1D)              (None, 187, 16)           976       \n",
      "_________________________________________________________________\n",
      "max_pooling1d (MaxPooling1D) (None, 62, 16)            0         \n",
      "_________________________________________________________________\n",
      "conv1d_1 (Conv1D)            (None, 60, 32)            1568      \n",
      "_________________________________________________________________\n",
      "max_pooling1d_1 (MaxPooling1 (None, 20, 32)            0         \n",
      "_________________________________________________________________\n",
      "conv1d_2 (Conv1D)            (None, 18, 64)            6208      \n",
      "_________________________________________________________________\n",
      "global_max_pooling1d (Global (None, 64)                0         \n",
      "_________________________________________________________________\n",
      "dense (Dense)                (None, 1)                 65        \n",
      "=================================================================\n",
      "Total params: 163,177\n",
      "Trainable params: 163,177\n",
      "Non-trainable params: 0\n",
      "_________________________________________________________________\n"
     ]
    }
   ],
   "source": [
    "model=tf.keras.Sequential()\n",
    "model.add(tf.keras.layers.Embedding(input_dim=input_dim,output_dim=embedding_length,input_length=maxsequencelength))\n",
    "model.add(tf.keras.layers.Conv1D(16,3,activation='relu'))\n",
    "model.add(tf.keras.layers.MaxPooling1D(3))\n",
    "model.add(tf.keras.layers.Conv1D(32,3,activation='relu'))\n",
    "model.add(tf.keras.layers.MaxPooling1D(3))\n",
    "model.add(tf.keras.layers.Conv1D(64,3,activation='relu'))\n",
    "model.add(tf.keras.layers.GlobalMaxPooling1D())\n",
    "model.add(tf.keras.layers.Dense(1,activation='sigmoid'))\n",
    "model.summary()"
   ]
  },
  {
   "cell_type": "code",
   "execution_count": 9,
   "id": "d170d732-4e8f-4fb9-bcc8-167b9fb0dad6",
   "metadata": {},
   "outputs": [],
   "source": [
    "model.compile(loss='binary_crossentropy',metrics=['accuracy'])"
   ]
  },
  {
   "cell_type": "code",
   "execution_count": 10,
   "id": "5ce82686-0137-4769-ab0f-c82a0c7adf9b",
   "metadata": {},
   "outputs": [
    {
     "name": "stdout",
     "output_type": "stream",
     "text": [
      "Epoch 1/5\n",
      "131/131 [==============================] - 3s 13ms/step - loss: 0.3625 - accuracy: 0.8660 - val_loss: 0.2755 - val_accuracy: 0.8658\n",
      "Epoch 2/5\n",
      "131/131 [==============================] - 1s 10ms/step - loss: 0.1531 - accuracy: 0.9354 - val_loss: 0.1089 - val_accuracy: 0.9591\n",
      "Epoch 3/5\n",
      "131/131 [==============================] - 1s 11ms/step - loss: 0.0620 - accuracy: 0.9775 - val_loss: 0.0829 - val_accuracy: 0.9770\n",
      "Epoch 4/5\n",
      "131/131 [==============================] - 2s 14ms/step - loss: 0.0368 - accuracy: 0.9880 - val_loss: 0.0909 - val_accuracy: 0.9770\n",
      "Epoch 5/5\n",
      "131/131 [==============================] - 1s 10ms/step - loss: 0.0236 - accuracy: 0.9938 - val_loss: 0.0872 - val_accuracy: 0.9785\n"
     ]
    }
   ],
   "source": [
    "# Train the model\n",
    "r = model.fit(x=X_train, y=y_train, epochs=5, validation_data=(X_test, y_test))"
   ]
  },
  {
   "cell_type": "code",
   "execution_count": 11,
   "id": "e4982069-7810-4479-8b22-5e5592cf459f",
   "metadata": {},
   "outputs": [
    {
     "data": {
      "image/png": "[encoded data removed]",
      "text/plain": [
       "<Figure size 432x288 with 1 Axes>"
      ]
     },
     "metadata": {
      "needs_background": "light"
     },
     "output_type": "display_data"
    }
   ],
   "source": [
    "import matplotlib.pyplot as plt\n",
    "plt.plot(r.history['loss'], label='Loss')\n",
    "plt.plot(r.history['val_loss'], label='Validation Loss')\n",
    "plt.legend()\n",
    "plt.show()"
   ]
  },
  {
   "cell_type": "code",
   "execution_count": 12,
   "id": "09a79e7b-ba5d-4cfc-bf27-4356f0f3c609",
   "metadata": {},
   "outputs": [
    {
     "data": {
      "image/png": "[encoded data removed]",
      "text/plain": [
       "<Figure size 432x288 with 1 Axes>"
      ]
     },
     "metadata": {
      "needs_background": "light"
     },
     "output_type": "display_data"
    }
   ],
   "source": [
    "plt.plot(r.history['accuracy'], label='Accuracy')\n",
    "plt.plot(r.history['val_accuracy'], label='Validation accuracy')\n",
    "plt.legend()\n",
    "plt.show()"
   ]
  },
  {
   "cell_type": "code",
   "execution_count": null,
   "id": "30f99f76-d38c-47f6-892f-375c3d1fe762",
   "metadata": {},
   "outputs": [],
   "source": []
  }
 ],
 "metadata": {
  "kernelspec": {
   "display_name": "Python 3",
   "language": "python",
   "name": "python3"
  },
  "language_info": {
   "codemirror_mode": {
    "name": "ipython",
    "version": 3
   },
   "file_extension": ".py",
   "mimetype": "text/x-python",
   "name": "python",
   "nbconvert_exporter": "python",
   "pygments_lexer": "ipython3",
   "version": "3.9.2"
  }
 },
 "nbformat": 4,
 "nbformat_minor": 5
}
