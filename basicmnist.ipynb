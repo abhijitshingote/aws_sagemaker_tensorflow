{
 "cells": [
  {
   "cell_type": "code",
   "execution_count": 1,
   "metadata": {},
   "outputs": [],
   "source": [
    "import tensorflow as tf\n",
    "import collections\n",
    "import matplotlib.pyplot as plt"
   ]
  },
  {
   "cell_type": "code",
   "execution_count": 2,
   "metadata": {},
   "outputs": [],
   "source": [
    "dataset=tf.keras.datasets.mnist.load_data()"
   ]
  },
  {
   "cell_type": "code",
   "execution_count": 3,
   "metadata": {},
   "outputs": [],
   "source": [
    "train,test=dataset"
   ]
  },
  {
   "cell_type": "code",
   "execution_count": 4,
   "metadata": {},
   "outputs": [],
   "source": [
    "(X_train,y_train),(X_test,y_test)=dataset"
   ]
  },
  {
   "cell_type": "code",
   "execution_count": 5,
   "metadata": {},
   "outputs": [
    {
     "data": {
      "text/plain": [
       "Counter({5: 5421,\n",
       "         0: 5923,\n",
       "         4: 5842,\n",
       "         1: 6742,\n",
       "         9: 5949,\n",
       "         2: 5958,\n",
       "         3: 6131,\n",
       "         6: 5918,\n",
       "         7: 6265,\n",
       "         8: 5851})"
      ]
     },
     "execution_count": 5,
     "metadata": {},
     "output_type": "execute_result"
    }
   ],
   "source": [
    "collections.Counter(y_train)"
   ]
  },
  {
   "cell_type": "code",
   "execution_count": 6,
   "metadata": {},
   "outputs": [],
   "source": [
    "model=tf.keras.Sequential()\n",
    "model.add(tf.keras.layers.Flatten(input_shape=(28,28)))\n",
    "model.add(tf.keras.layers.Dense(128,activation='relu'))\n",
    "model.add(tf.keras.layers.Dropout(0.2))\n",
    "model.add(tf.keras.layers.Dense(10,activation='softmax'))"
   ]
  },
  {
   "cell_type": "code",
   "execution_count": 7,
   "metadata": {},
   "outputs": [
    {
     "name": "stdout",
     "output_type": "stream",
     "text": [
      "Model: \"sequential\"\n",
      "_________________________________________________________________\n",
      "Layer (type)                 Output Shape              Param #   \n",
      "=================================================================\n",
      "flatten (Flatten)            (None, 784)               0         \n",
      "_________________________________________________________________\n",
      "dense (Dense)                (None, 128)               100480    \n",
      "_________________________________________________________________\n",
      "dropout (Dropout)            (None, 128)               0         \n",
      "_________________________________________________________________\n",
      "dense_1 (Dense)              (None, 10)                1290      \n",
      "=================================================================\n",
      "Total params: 101,770\n",
      "Trainable params: 101,770\n",
      "Non-trainable params: 0\n",
      "_________________________________________________________________\n"
     ]
    }
   ],
   "source": [
    "model.summary()"
   ]
  },
  {
   "cell_type": "code",
   "execution_count": 8,
   "metadata": {},
   "outputs": [],
   "source": [
    "def scheduler(epoch, lr):\n",
    "  if epoch < 15:\n",
    "    return lr\n",
    "  else:\n",
    "    return lr * tf.math.exp(-0.1)"
   ]
  },
  {
   "cell_type": "code",
   "execution_count": 9,
   "metadata": {},
   "outputs": [],
   "source": [
    "model.compile(optimizer=tf.keras.optimizers.Adam(0.001),loss=['sparse_categorical_crossentropy'],metrics=['accuracy'],)"
   ]
  },
  {
   "cell_type": "code",
   "execution_count": 10,
   "metadata": {},
   "outputs": [
    {
     "name": "stdout",
     "output_type": "stream",
     "text": [
      "Epoch 1/50\n",
      "960/960 [==============================] - 1s 1ms/step - loss: 3.4150 - accuracy: 0.7233 - val_loss: 0.5772 - val_accuracy: 0.8558\n",
      "Epoch 2/50\n",
      "960/960 [==============================] - 1s 966us/step - loss: 0.6556 - accuracy: 0.8254 - val_loss: 0.4027 - val_accuracy: 0.8990\n",
      "Epoch 3/50\n",
      "960/960 [==============================] - 1s 907us/step - loss: 0.5042 - accuracy: 0.8652 - val_loss: 0.3617 - val_accuracy: 0.9148\n",
      "Epoch 4/50\n",
      "960/960 [==============================] - 1s 930us/step - loss: 0.4262 - accuracy: 0.8857 - val_loss: 0.3076 - val_accuracy: 0.9293\n",
      "Epoch 5/50\n",
      "960/960 [==============================] - 1s 887us/step - loss: 0.3991 - accuracy: 0.8939 - val_loss: 0.3040 - val_accuracy: 0.9348\n",
      "Epoch 6/50\n",
      "960/960 [==============================] - 1s 915us/step - loss: 0.3627 - accuracy: 0.9061 - val_loss: 0.2682 - val_accuracy: 0.9352\n",
      "Epoch 7/50\n",
      "960/960 [==============================] - 1s 1ms/step - loss: 0.3393 - accuracy: 0.9083 - val_loss: 0.2595 - val_accuracy: 0.9384\n",
      "Epoch 8/50\n",
      "960/960 [==============================] - 1s 914us/step - loss: 0.3204 - accuracy: 0.9121 - val_loss: 0.2556 - val_accuracy: 0.9467\n",
      "Epoch 9/50\n",
      "960/960 [==============================] - 1s 913us/step - loss: 0.3116 - accuracy: 0.9186 - val_loss: 0.2294 - val_accuracy: 0.9459\n",
      "Epoch 10/50\n",
      "960/960 [==============================] - 1s 1ms/step - loss: 0.2885 - accuracy: 0.9225 - val_loss: 0.2345 - val_accuracy: 0.9502\n",
      "Epoch 11/50\n",
      "960/960 [==============================] - 1s 893us/step - loss: 0.3005 - accuracy: 0.9196 - val_loss: 0.2135 - val_accuracy: 0.9495\n",
      "Epoch 12/50\n",
      "960/960 [==============================] - 1s 854us/step - loss: 0.2867 - accuracy: 0.9241 - val_loss: 0.2441 - val_accuracy: 0.9445\n",
      "Epoch 13/50\n",
      "960/960 [==============================] - 1s 857us/step - loss: 0.2831 - accuracy: 0.9272 - val_loss: 0.2208 - val_accuracy: 0.9528\n",
      "Epoch 14/50\n",
      "960/960 [==============================] - 1s 956us/step - loss: 0.2664 - accuracy: 0.9316 - val_loss: 0.2488 - val_accuracy: 0.9517\n",
      "Epoch 15/50\n",
      "960/960 [==============================] - 1s 841us/step - loss: 0.2607 - accuracy: 0.9321 - val_loss: 0.2317 - val_accuracy: 0.9549\n",
      "Epoch 16/50\n",
      "960/960 [==============================] - 1s 892us/step - loss: 0.2598 - accuracy: 0.9311 - val_loss: 0.2373 - val_accuracy: 0.9464\n",
      "Epoch 17/50\n",
      "960/960 [==============================] - 1s 859us/step - loss: 0.2555 - accuracy: 0.9352 - val_loss: 0.2280 - val_accuracy: 0.9513\n",
      "Epoch 18/50\n",
      "960/960 [==============================] - 1s 851us/step - loss: 0.2468 - accuracy: 0.9356 - val_loss: 0.2419 - val_accuracy: 0.9531\n",
      "Epoch 19/50\n",
      "960/960 [==============================] - 1s 880us/step - loss: 0.2506 - accuracy: 0.9344 - val_loss: 0.2546 - val_accuracy: 0.9517\n",
      "Epoch 20/50\n",
      "960/960 [==============================] - 1s 871us/step - loss: 0.2417 - accuracy: 0.9369 - val_loss: 0.2477 - val_accuracy: 0.9530\n",
      "Epoch 21/50\n",
      "960/960 [==============================] - 1s 865us/step - loss: 0.2628 - accuracy: 0.9341 - val_loss: 0.2568 - val_accuracy: 0.9505\n",
      "Epoch 22/50\n",
      "960/960 [==============================] - 1s 877us/step - loss: 0.2382 - accuracy: 0.9388 - val_loss: 0.2182 - val_accuracy: 0.9554\n",
      "Epoch 23/50\n",
      "960/960 [==============================] - 1s 1ms/step - loss: 0.2275 - accuracy: 0.9416 - val_loss: 0.2746 - val_accuracy: 0.9559\n",
      "Epoch 24/50\n",
      "960/960 [==============================] - 1s 879us/step - loss: 0.2330 - accuracy: 0.9406 - val_loss: 0.2559 - val_accuracy: 0.9533\n",
      "Epoch 25/50\n",
      "960/960 [==============================] - 1s 1ms/step - loss: 0.2395 - accuracy: 0.9394 - val_loss: 0.2673 - val_accuracy: 0.9509\n",
      "Epoch 26/50\n",
      "960/960 [==============================] - 1s 905us/step - loss: 0.2318 - accuracy: 0.9417 - val_loss: 0.2586 - val_accuracy: 0.9558\n",
      "Epoch 27/50\n",
      "960/960 [==============================] - 1s 935us/step - loss: 0.2220 - accuracy: 0.9425 - val_loss: 0.2568 - val_accuracy: 0.9538\n",
      "Epoch 28/50\n",
      "960/960 [==============================] - 1s 920us/step - loss: 0.2244 - accuracy: 0.9433 - val_loss: 0.2814 - val_accuracy: 0.9568\n",
      "Epoch 29/50\n",
      "960/960 [==============================] - 1s 893us/step - loss: 0.2223 - accuracy: 0.9441 - val_loss: 0.2462 - val_accuracy: 0.9567\n",
      "Epoch 30/50\n",
      "960/960 [==============================] - 1s 919us/step - loss: 0.2271 - accuracy: 0.9442 - val_loss: 0.2768 - val_accuracy: 0.9565\n",
      "Epoch 31/50\n",
      "960/960 [==============================] - 1s 943us/step - loss: 0.2207 - accuracy: 0.9440 - val_loss: 0.2930 - val_accuracy: 0.9566\n",
      "Epoch 32/50\n",
      "960/960 [==============================] - 1s 916us/step - loss: 0.2219 - accuracy: 0.9455 - val_loss: 0.3073 - val_accuracy: 0.9502\n",
      "Epoch 33/50\n",
      "960/960 [==============================] - 1s 932us/step - loss: 0.2204 - accuracy: 0.9440 - val_loss: 0.2946 - val_accuracy: 0.9563\n",
      "Epoch 34/50\n",
      "960/960 [==============================] - 1s 1ms/step - loss: 0.2231 - accuracy: 0.9461 - val_loss: 0.2775 - val_accuracy: 0.9548\n",
      "Epoch 35/50\n",
      "960/960 [==============================] - 1s 1ms/step - loss: 0.2301 - accuracy: 0.9436 - val_loss: 0.2869 - val_accuracy: 0.9528\n",
      "Epoch 36/50\n",
      "960/960 [==============================] - 1s 910us/step - loss: 0.2132 - accuracy: 0.9464 - val_loss: 0.2732 - val_accuracy: 0.9543\n",
      "Epoch 37/50\n",
      "960/960 [==============================] - 1s 946us/step - loss: 0.2150 - accuracy: 0.9462 - val_loss: 0.3149 - val_accuracy: 0.9554\n",
      "Epoch 38/50\n",
      "960/960 [==============================] - 1s 1ms/step - loss: 0.2269 - accuracy: 0.9457 - val_loss: 0.2903 - val_accuracy: 0.9571\n",
      "Epoch 39/50\n",
      "960/960 [==============================] - 1s 954us/step - loss: 0.2137 - accuracy: 0.9477 - val_loss: 0.2843 - val_accuracy: 0.9574\n",
      "Epoch 40/50\n",
      "960/960 [==============================] - 1s 956us/step - loss: 0.2051 - accuracy: 0.9485 - val_loss: 0.2990 - val_accuracy: 0.9567\n",
      "Epoch 41/50\n",
      "960/960 [==============================] - 1s 923us/step - loss: 0.2083 - accuracy: 0.9492 - val_loss: 0.2909 - val_accuracy: 0.9553\n",
      "Epoch 42/50\n",
      "960/960 [==============================] - 1s 985us/step - loss: 0.2015 - accuracy: 0.9495 - val_loss: 0.3418 - val_accuracy: 0.9525\n",
      "Epoch 43/50\n",
      "960/960 [==============================] - 1s 927us/step - loss: 0.2075 - accuracy: 0.9491 - val_loss: 0.3463 - val_accuracy: 0.9538\n",
      "Epoch 44/50\n",
      "960/960 [==============================] - 1s 927us/step - loss: 0.1965 - accuracy: 0.9516 - val_loss: 0.3051 - val_accuracy: 0.9578\n",
      "Epoch 45/50\n",
      "960/960 [==============================] - 1s 934us/step - loss: 0.2058 - accuracy: 0.9484 - val_loss: 0.3275 - val_accuracy: 0.9593\n",
      "Epoch 46/50\n",
      "960/960 [==============================] - 1s 927us/step - loss: 0.2111 - accuracy: 0.9499 - val_loss: 0.3468 - val_accuracy: 0.9551\n",
      "Epoch 47/50\n",
      "960/960 [==============================] - 1s 1ms/step - loss: 0.2072 - accuracy: 0.9501 - val_loss: 0.3087 - val_accuracy: 0.9548\n",
      "Epoch 48/50\n",
      "960/960 [==============================] - 1s 933us/step - loss: 0.2000 - accuracy: 0.9498 - val_loss: 0.3537 - val_accuracy: 0.9548\n",
      "Epoch 49/50\n",
      "960/960 [==============================] - 1s 918us/step - loss: 0.2048 - accuracy: 0.9500 - val_loss: 0.3562 - val_accuracy: 0.9563\n",
      "Epoch 50/50\n",
      "960/960 [==============================] - 1s 934us/step - loss: 0.1980 - accuracy: 0.9511 - val_loss: 0.3650 - val_accuracy: 0.9573\n"
     ]
    }
   ],
   "source": [
    "r=model.fit(X_train,y_train,validation_split=0.2,batch_size=50,epochs=50)"
   ]
  },
  {
   "cell_type": "code",
   "execution_count": 11,
   "metadata": {},
   "outputs": [
    {
     "data": {
      "text/plain": [
       "[<matplotlib.lines.Line2D at 0x10476bc10>]"
      ]
     },
     "execution_count": 11,
     "metadata": {},
     "output_type": "execute_result"
    },
    {
     "data": {
      "image/png": "[encoded data removed]",
      "text/plain": [
       "<Figure size 432x288 with 1 Axes>"
      ]
     },
     "metadata": {
      "needs_background": "light"
     },
     "output_type": "display_data"
    }
   ],
   "source": [
    "plt.plot(r.history['loss'])\n",
    "plt.plot(r.history['val_loss'])"
   ]
  },
  {
   "cell_type": "code",
   "execution_count": 12,
   "metadata": {},
   "outputs": [
    {
     "data": {
      "text/plain": [
       "[<matplotlib.lines.Line2D at 0x132418150>]"
      ]
     },
     "execution_count": 12,
     "metadata": {},
     "output_type": "execute_result"
    },
    {
     "data": {
      "image/png": "[encoded data removed]",
      "text/plain": [
       "<Figure size 432x288 with 1 Axes>"
      ]
     },
     "metadata": {
      "needs_background": "light"
     },
     "output_type": "display_data"
    }
   ],
   "source": [
    "plt.plot(r.history['accuracy'])\n",
    "plt.plot(r.history['val_accuracy'])"
   ]
  },
  {
   "cell_type": "code",
   "execution_count": null,
   "metadata": {},
   "outputs": [],
   "source": []
  }
 ],
 "metadata": {
  "kernelspec": {
   "display_name": "Python 3",
   "language": "python",
   "name": "python3"
  },
  "language_info": {
   "codemirror_mode": {
    "name": "ipython",
    "version": 3
   },
   "file_extension": ".py",
   "mimetype": "text/x-python",
   "name": "python",
   "nbconvert_exporter": "python",
   "pygments_lexer": "ipython3",
   "version": "3.7.4"
  }
 },
 "nbformat": 4,
 "nbformat_minor": 4
}
