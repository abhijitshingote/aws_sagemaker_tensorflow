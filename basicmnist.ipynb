{
 "cells": [
  {
   "cell_type": "code",
   "execution_count": 13,
   "metadata": {},
   "outputs": [],
   "source": [
    "import tensorflow as tf\n",
    "import collections\n",
    "import matplotlib.pyplot as plt"
   ]
  },
  {
   "cell_type": "code",
   "execution_count": 14,
   "metadata": {},
   "outputs": [],
   "source": [
    "dataset=tf.keras.datasets.mnist.load_data()"
   ]
  },
  {
   "cell_type": "code",
   "execution_count": 15,
   "metadata": {},
   "outputs": [],
   "source": [
    "train,test=dataset"
   ]
  },
  {
   "cell_type": "code",
   "execution_count": 16,
   "metadata": {},
   "outputs": [],
   "source": [
    "(X_train,y_train),(X_test,y_test)=dataset"
   ]
  },
  {
   "cell_type": "code",
   "execution_count": 17,
   "metadata": {},
   "outputs": [
    {
     "data": {
      "text/plain": [
       "Counter({5: 5421,\n",
       "         0: 5923,\n",
       "         4: 5842,\n",
       "         1: 6742,\n",
       "         9: 5949,\n",
       "         2: 5958,\n",
       "         3: 6131,\n",
       "         6: 5918,\n",
       "         7: 6265,\n",
       "         8: 5851})"
      ]
     },
     "execution_count": 17,
     "metadata": {},
     "output_type": "execute_result"
    }
   ],
   "source": [
    "collections.Counter(y_train)"
   ]
  },
  {
   "cell_type": "code",
   "execution_count": 18,
   "metadata": {},
   "outputs": [],
   "source": [
    "model=tf.keras.Sequential()\n",
    "model.add(tf.keras.layers.Flatten(input_shape=(28,28)))\n",
    "model.add(tf.keras.layers.Dense(128,activation='relu'))\n",
    "model.add(tf.keras.layers.Dropout(0.2))\n",
    "model.add(tf.keras.layers.Dense(10,activation='softmax'))"
   ]
  },
  {
   "cell_type": "code",
   "execution_count": 19,
   "metadata": {},
   "outputs": [
    {
     "name": "stdout",
     "output_type": "stream",
     "text": [
      "Model: \"sequential_1\"\n",
      "_________________________________________________________________\n",
      "Layer (type)                 Output Shape              Param #   \n",
      "=================================================================\n",
      "flatten_1 (Flatten)          (None, 784)               0         \n",
      "_________________________________________________________________\n",
      "dense_2 (Dense)              (None, 128)               100480    \n",
      "_________________________________________________________________\n",
      "dropout_1 (Dropout)          (None, 128)               0         \n",
      "_________________________________________________________________\n",
      "dense_3 (Dense)              (None, 10)                1290      \n",
      "=================================================================\n",
      "Total params: 101,770\n",
      "Trainable params: 101,770\n",
      "Non-trainable params: 0\n",
      "_________________________________________________________________\n"
     ]
    }
   ],
   "source": [
    "model.summary()"
   ]
  },
  {
   "cell_type": "code",
   "execution_count": 20,
   "metadata": {},
   "outputs": [],
   "source": [
    "def scheduler(epoch, lr):\n",
    "  if epoch < 15:\n",
    "    return lr\n",
    "  else:\n",
    "    return lr * tf.math.exp(-0.1)"
   ]
  },
  {
   "cell_type": "code",
   "execution_count": 21,
   "metadata": {},
   "outputs": [],
   "source": [
    "model.compile(optimizer=tf.keras.optimizers.Adam(0.001),loss=['sparse_categorical_crossentropy'],metrics=['accuracy'],)"
   ]
  },
  {
   "cell_type": "code",
   "execution_count": 22,
   "metadata": {
    "collapsed": true,
    "jupyter": {
     "outputs_hidden": true
    }
   },
   "outputs": [
    {
     "name": "stdout",
     "output_type": "stream",
     "text": [
      "Epoch 1/50\n",
      "960/960 [==============================] - 1s 924us/step - loss: 3.7675 - accuracy: 0.7361 - val_loss: 0.6540 - val_accuracy: 0.8465\n",
      "Epoch 2/50\n",
      "960/960 [==============================] - 1s 829us/step - loss: 0.6981 - accuracy: 0.8219 - val_loss: 0.4882 - val_accuracy: 0.8927\n",
      "Epoch 3/50\n",
      "960/960 [==============================] - 1s 844us/step - loss: 0.5454 - accuracy: 0.8585 - val_loss: 0.4412 - val_accuracy: 0.9059\n",
      "Epoch 4/50\n",
      "960/960 [==============================] - 1s 813us/step - loss: 0.4549 - accuracy: 0.8770 - val_loss: 0.3413 - val_accuracy: 0.9211\n",
      "Epoch 5/50\n",
      "960/960 [==============================] - 1s 805us/step - loss: 0.4279 - accuracy: 0.8869 - val_loss: 0.3294 - val_accuracy: 0.9295\n",
      "Epoch 6/50\n",
      "960/960 [==============================] - 1s 809us/step - loss: 0.3889 - accuracy: 0.8987 - val_loss: 0.2711 - val_accuracy: 0.9389\n",
      "Epoch 7/50\n",
      "960/960 [==============================] - 1s 819us/step - loss: 0.3704 - accuracy: 0.9046 - val_loss: 0.2619 - val_accuracy: 0.9423\n",
      "Epoch 8/50\n",
      "960/960 [==============================] - 1s 839us/step - loss: 0.3349 - accuracy: 0.9122 - val_loss: 0.2510 - val_accuracy: 0.9427\n",
      "Epoch 9/50\n",
      "960/960 [==============================] - 1s 825us/step - loss: 0.3294 - accuracy: 0.9160 - val_loss: 0.2408 - val_accuracy: 0.9421\n",
      "Epoch 10/50\n",
      "960/960 [==============================] - 1s 809us/step - loss: 0.3022 - accuracy: 0.9217 - val_loss: 0.2616 - val_accuracy: 0.9417\n",
      "Epoch 11/50\n",
      "960/960 [==============================] - 1s 846us/step - loss: 0.2850 - accuracy: 0.9260 - val_loss: 0.2340 - val_accuracy: 0.9473\n",
      "Epoch 12/50\n",
      "960/960 [==============================] - 1s 828us/step - loss: 0.2779 - accuracy: 0.9280 - val_loss: 0.2357 - val_accuracy: 0.9496\n",
      "Epoch 13/50\n",
      "960/960 [==============================] - 1s 916us/step - loss: 0.2728 - accuracy: 0.9294 - val_loss: 0.2659 - val_accuracy: 0.9468\n",
      "Epoch 14/50\n",
      "960/960 [==============================] - 1s 836us/step - loss: 0.2747 - accuracy: 0.9310 - val_loss: 0.2575 - val_accuracy: 0.9481\n",
      "Epoch 15/50\n",
      "960/960 [==============================] - 1s 899us/step - loss: 0.2590 - accuracy: 0.9346 - val_loss: 0.2402 - val_accuracy: 0.9523\n",
      "Epoch 16/50\n",
      "960/960 [==============================] - 1s 926us/step - loss: 0.2613 - accuracy: 0.9337 - val_loss: 0.2728 - val_accuracy: 0.9477\n",
      "Epoch 17/50\n",
      "960/960 [==============================] - 1s 895us/step - loss: 0.2621 - accuracy: 0.9356 - val_loss: 0.2444 - val_accuracy: 0.9502\n",
      "Epoch 18/50\n",
      "960/960 [==============================] - 1s 814us/step - loss: 0.2523 - accuracy: 0.9364 - val_loss: 0.2493 - val_accuracy: 0.9499\n",
      "Epoch 19/50\n",
      "960/960 [==============================] - 1s 830us/step - loss: 0.2458 - accuracy: 0.9396 - val_loss: 0.2690 - val_accuracy: 0.9503\n",
      "Epoch 20/50\n",
      "960/960 [==============================] - 1s 837us/step - loss: 0.2471 - accuracy: 0.9385 - val_loss: 0.2723 - val_accuracy: 0.9541\n",
      "Epoch 21/50\n",
      "960/960 [==============================] - 1s 807us/step - loss: 0.2372 - accuracy: 0.9408 - val_loss: 0.2518 - val_accuracy: 0.9546\n",
      "Epoch 22/50\n",
      "960/960 [==============================] - 1s 799us/step - loss: 0.2314 - accuracy: 0.9420 - val_loss: 0.2591 - val_accuracy: 0.9548\n",
      "Epoch 23/50\n",
      "960/960 [==============================] - 1s 807us/step - loss: 0.2403 - accuracy: 0.9406 - val_loss: 0.2372 - val_accuracy: 0.9585\n",
      "Epoch 24/50\n",
      "960/960 [==============================] - 1s 818us/step - loss: 0.2249 - accuracy: 0.9430 - val_loss: 0.2847 - val_accuracy: 0.9552\n",
      "Epoch 25/50\n",
      "960/960 [==============================] - 1s 804us/step - loss: 0.2472 - accuracy: 0.9405 - val_loss: 0.2519 - val_accuracy: 0.9597\n",
      "Epoch 26/50\n",
      "960/960 [==============================] - 1s 809us/step - loss: 0.2264 - accuracy: 0.9463 - val_loss: 0.2807 - val_accuracy: 0.9582\n",
      "Epoch 27/50\n",
      "960/960 [==============================] - 1s 805us/step - loss: 0.2185 - accuracy: 0.9461 - val_loss: 0.2661 - val_accuracy: 0.9540\n",
      "Epoch 28/50\n",
      "960/960 [==============================] - 1s 803us/step - loss: 0.2281 - accuracy: 0.9454 - val_loss: 0.2985 - val_accuracy: 0.9531\n",
      "Epoch 29/50\n",
      "960/960 [==============================] - 1s 824us/step - loss: 0.2303 - accuracy: 0.9460 - val_loss: 0.2879 - val_accuracy: 0.9557\n",
      "Epoch 30/50\n",
      "960/960 [==============================] - 1s 798us/step - loss: 0.2233 - accuracy: 0.9465 - val_loss: 0.2840 - val_accuracy: 0.9532\n",
      "Epoch 31/50\n",
      "960/960 [==============================] - 1s 794us/step - loss: 0.2168 - accuracy: 0.9481 - val_loss: 0.2758 - val_accuracy: 0.9551\n",
      "Epoch 32/50\n",
      "960/960 [==============================] - 1s 808us/step - loss: 0.2207 - accuracy: 0.9479 - val_loss: 0.2677 - val_accuracy: 0.9555\n",
      "Epoch 33/50\n",
      "960/960 [==============================] - 1s 807us/step - loss: 0.2208 - accuracy: 0.9465 - val_loss: 0.3108 - val_accuracy: 0.9544\n",
      "Epoch 34/50\n",
      "960/960 [==============================] - 1s 828us/step - loss: 0.2199 - accuracy: 0.9488 - val_loss: 0.3172 - val_accuracy: 0.9573\n",
      "Epoch 35/50\n",
      "960/960 [==============================] - 1s 823us/step - loss: 0.2133 - accuracy: 0.9472 - val_loss: 0.3246 - val_accuracy: 0.9518\n",
      "Epoch 36/50\n",
      "960/960 [==============================] - 1s 819us/step - loss: 0.2071 - accuracy: 0.9490 - val_loss: 0.3172 - val_accuracy: 0.9578\n",
      "Epoch 37/50\n",
      "960/960 [==============================] - 1s 829us/step - loss: 0.2152 - accuracy: 0.9488 - val_loss: 0.3331 - val_accuracy: 0.9552\n",
      "Epoch 38/50\n",
      "960/960 [==============================] - 1s 818us/step - loss: 0.2081 - accuracy: 0.9508 - val_loss: 0.3128 - val_accuracy: 0.9563\n",
      "Epoch 39/50\n",
      "960/960 [==============================] - 1s 801us/step - loss: 0.2065 - accuracy: 0.9517 - val_loss: 0.3279 - val_accuracy: 0.9563\n",
      "Epoch 40/50\n",
      "960/960 [==============================] - 1s 814us/step - loss: 0.2088 - accuracy: 0.9495 - val_loss: 0.3263 - val_accuracy: 0.9556\n",
      "Epoch 41/50\n",
      "960/960 [==============================] - 1s 814us/step - loss: 0.2081 - accuracy: 0.9496 - val_loss: 0.3584 - val_accuracy: 0.9555\n",
      "Epoch 42/50\n",
      "960/960 [==============================] - 1s 836us/step - loss: 0.1991 - accuracy: 0.9526 - val_loss: 0.3312 - val_accuracy: 0.9547\n",
      "Epoch 43/50\n",
      "960/960 [==============================] - 1s 820us/step - loss: 0.2153 - accuracy: 0.9512 - val_loss: 0.3636 - val_accuracy: 0.9536\n",
      "Epoch 44/50\n",
      "960/960 [==============================] - 1s 826us/step - loss: 0.2092 - accuracy: 0.9513 - val_loss: 0.3718 - val_accuracy: 0.9533\n",
      "Epoch 45/50\n",
      "960/960 [==============================] - 1s 835us/step - loss: 0.2016 - accuracy: 0.9512 - val_loss: 0.4440 - val_accuracy: 0.9525\n",
      "Epoch 46/50\n",
      "960/960 [==============================] - 1s 859us/step - loss: 0.2002 - accuracy: 0.9519 - val_loss: 0.3654 - val_accuracy: 0.9537\n",
      "Epoch 47/50\n",
      "960/960 [==============================] - 1s 832us/step - loss: 0.2086 - accuracy: 0.9514 - val_loss: 0.3690 - val_accuracy: 0.9563\n",
      "Epoch 48/50\n",
      "960/960 [==============================] - 1s 821us/step - loss: 0.2021 - accuracy: 0.9528 - val_loss: 0.4144 - val_accuracy: 0.9541\n",
      "Epoch 49/50\n",
      "960/960 [==============================] - 1s 828us/step - loss: 0.2013 - accuracy: 0.9537 - val_loss: 0.3440 - val_accuracy: 0.9538\n",
      "Epoch 50/50\n",
      "960/960 [==============================] - 1s 839us/step - loss: 0.1935 - accuracy: 0.9544 - val_loss: 0.4104 - val_accuracy: 0.9503\n"
     ]
    }
   ],
   "source": [
    "r=model.fit(X_train,y_train,validation_split=0.2,batch_size=50,epochs=50)"
   ]
  },
  {
   "cell_type": "code",
   "execution_count": 23,
   "metadata": {},
   "outputs": [
    {
     "data": {
      "text/plain": [
       "[<matplotlib.lines.Line2D at 0x1324d0210>]"
      ]
     },
     "execution_count": 23,
     "metadata": {},
     "output_type": "execute_result"
    },
    {
     "data": {
      "image/png": "[encoded data removed]",
      "text/plain": [
       "<Figure size 432x288 with 1 Axes>"
      ]
     },
     "metadata": {
      "needs_background": "light"
     },
     "output_type": "display_data"
    }
   ],
   "source": [
    "plt.plot(r.history['loss'])\n",
    "plt.plot(r.history['val_loss'])"
   ]
  },
  {
   "cell_type": "code",
   "execution_count": 24,
   "metadata": {},
   "outputs": [
    {
     "data": {
      "text/plain": [
       "[<matplotlib.lines.Line2D at 0x14b4009d0>]"
      ]
     },
     "execution_count": 24,
     "metadata": {},
     "output_type": "execute_result"
    },
    {
     "data": {
      "image/png": "[encoded data removed]",
      "text/plain": [
       "<Figure size 432x288 with 1 Axes>"
      ]
     },
     "metadata": {
      "needs_background": "light"
     },
     "output_type": "display_data"
    }
   ],
   "source": [
    "plt.plot(r.history['accuracy'])\n",
    "plt.plot(r.history['val_accuracy'])"
   ]
  },
  {
   "cell_type": "code",
   "execution_count": 25,
   "metadata": {},
   "outputs": [
    {
     "name": "stdout",
     "output_type": "stream",
     "text": [
      "313/313 [==============================] - 0s 871us/step - loss: 0.5029 - accuracy: 0.94980s - loss: 0.5036 - accuracy: 0.95\n"
     ]
    },
    {
     "data": {
      "text/plain": [
       "[0.5029155611991882, 0.9498000144958496]"
      ]
     },
     "execution_count": 25,
     "metadata": {},
     "output_type": "execute_result"
    }
   ],
   "source": [
    "model.evaluate(X_test,y_test)"
   ]
  },
  {
   "cell_type": "code",
   "execution_count": null,
   "metadata": {},
   "outputs": [],
   "source": []
  }
 ],
 "metadata": {
  "kernelspec": {
   "display_name": "Python 3",
   "language": "python",
   "name": "python3"
  },
  "language_info": {
   "codemirror_mode": {
    "name": "ipython",
    "version": 3
   },
   "file_extension": ".py",
   "mimetype": "text/x-python",
   "name": "python",
   "nbconvert_exporter": "python",
   "pygments_lexer": "ipython3",
   "version": "3.7.4"
  }
 },
 "nbformat": 4,
 "nbformat_minor": 4
}
